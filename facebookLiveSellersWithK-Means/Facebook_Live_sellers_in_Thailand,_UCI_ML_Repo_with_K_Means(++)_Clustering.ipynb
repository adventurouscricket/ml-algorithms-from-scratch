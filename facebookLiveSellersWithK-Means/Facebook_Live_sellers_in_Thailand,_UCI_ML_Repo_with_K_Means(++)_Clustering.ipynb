{
  "nbformat": 4,
  "nbformat_minor": 0,
  "metadata": {
    "colab": {
      "provenance": [],
      "collapsed_sections": [
        "epifn_wgjJkg",
        "u09ZUg8Z5f4q",
        "gSiUBUzzrAr6",
        "sPfGNOk7DS8f"
      ],
      "mount_file_id": "1I1_ng86XaKWqUFEJxzS899gdY11CBHCV",
      "authorship_tag": "ABX9TyNGI+eISa09Hoh5DjhYUvmL",
      "include_colab_link": true
    },
    "kernelspec": {
      "name": "python3",
      "display_name": "Python 3"
    },
    "language_info": {
      "name": "python"
    }
  },
  "cells": [
    {
      "cell_type": "markdown",
      "metadata": {
        "id": "view-in-github",
        "colab_type": "text"
      },
      "source": [
        "<a href=\"https://colab.research.google.com/github/adventurouscricket/facebookLiveSellersWithK-Means/blob/main/Facebook_Live_sellers_in_Thailand%2C_UCI_ML_Repo_with_K_Means(%2B%2B)_Clustering.ipynb\" target=\"_parent\"><img src=\"https://colab.research.google.com/assets/colab-badge.svg\" alt=\"Open In Colab\"/></a>"
      ]
    },
    {
      "cell_type": "markdown",
      "source": [
        "# **Overall about this kernel**"
      ],
      "metadata": {
        "id": "x2lxoMw6JGyL"
      }
    },
    {
      "cell_type": "markdown",
      "source": [
        "**K-Means clustering** is the most popular unsupervised machine learning algorithm. K-Means clustering is used to find intrinsic groups within the unlabelled dataset and draw inferences from them. In this kernel, I implement **K-Means(++)** clustering to find intrinsic groups within the dataset that display the same status_type behaviour. The status_type behaviour variable consists of posts of a different nature (video, photos, statuses and links)."
      ],
      "metadata": {
        "id": "av8VpVCVFbBn"
      }
    },
    {
      "cell_type": "markdown",
      "source": [
        "I have referenced from this [kernel](https://www.kaggle.com/code/prashant111/k-means-clustering-with-python/notebook) by PRASHANT BANERJEE. PRASHANT BANERJEE. With PRASHANT BANERJEE's kernel, he has directly used the K-Means model from the Scikit Learn library, but my aim is to implement the K-Means algorithm from scratch so I will use his kernel's outline and do it myself Implement the K-Means algorithm. I also use the K-Means model from the Scikit Learn library to compare the accuracy of my model."
      ],
      "metadata": {
        "id": "VRGyzsy_JY1j"
      }
    },
    {
      "cell_type": "markdown",
      "source": [
        "**Contents**"
      ],
      "metadata": {
        "id": "AX0XivFFMEwd"
      }
    },
    {
      "cell_type": "markdown",
      "source": [
        "1. Exploratory data analysis.\n",
        "2. Implement pure K-Means and make some comparisons.\n",
        "3. Use the elbow method to find optimal number of clusters.\n",
        "4. Implement K-Means++ to imporove the model."
      ],
      "metadata": {
        "id": "F6qoHeGCMW8z"
      }
    },
    {
      "cell_type": "markdown",
      "source": [
        "# **Overall about K-Means Clustering algorithm**"
      ],
      "metadata": {
        "id": "2YeRnqwJX_wX"
      }
    },
    {
      "cell_type": "markdown",
      "source": [
        "**K-Means intuition**\n",
        "\n",
        "![kmeans.jpg](data:image/jpeg;base64,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)"
      ],
      "metadata": {
        "id": "FQ09Y4uIF2x5"
      }
    },
    {
      "cell_type": "markdown",
      "source": [
        "Input: Data X and the desired number of clusters K.\n",
        "\n",
        "Output: Centers M and a label vector for each data point Y.\n",
        "\n",
        "1. Choose K arbitrary points as initial centers.\n",
        "2. Assign each data point to the cluster with the nearest center.\n",
        "3. If the data point assignments in step 2 do not change compared to the previous iteration, stop the algorithm.\n",
        "4. Update the center for each cluster by taking the average of all the data points assigned to that cluster in step 2.\n",
        "5. Return to step 2.\n",
        "\n",
        "(It's a bit difference between K-Means and K-Means++ is when initialing the centers)"
      ],
      "metadata": {
        "id": "1U360b0gGegc"
      }
    },
    {
      "cell_type": "markdown",
      "source": [
        "# **Let's get started**"
      ],
      "metadata": {
        "id": "0GSpQ_WIZbR9"
      }
    },
    {
      "cell_type": "markdown",
      "source": [
        "## **Import libraries**"
      ],
      "metadata": {
        "id": "F7A5Rf-eHexf"
      }
    },
    {
      "cell_type": "code",
      "execution_count": 154,
      "metadata": {
        "id": "DZffRlNXFF12"
      },
      "outputs": [],
      "source": [
        "import numpy as np\n",
        "import pandas as pd\n",
        "import matplotlib.pyplot as plt\n",
        "import seaborn as sns\n",
        "\n",
        "# Ignore warnings\n",
        "import warnings\n",
        "warnings.filterwarnings('ignore')"
      ]
    },
    {
      "cell_type": "markdown",
      "source": [
        "## **Import dataset**"
      ],
      "metadata": {
        "id": "B0nQHncHJUno"
      }
    },
    {
      "cell_type": "code",
      "source": [
        "df = pd.read_csv(\"/content/drive/MyDrive/Colab/ml/Live.csv\")"
      ],
      "metadata": {
        "id": "VxZV1VhYHg0Z"
      },
      "execution_count": 155,
      "outputs": []
    },
    {
      "cell_type": "code",
      "source": [
        "df.head()"
      ],
      "metadata": {
        "colab": {
          "base_uri": "https://localhost:8080/",
          "height": 226
        },
        "id": "-SeUbiy8JUUK",
        "outputId": "37b0ff35-4723-4fb2-9f41-214d057fa824"
      },
      "execution_count": 156,
      "outputs": [
        {
          "output_type": "execute_result",
          "data": {
            "text/plain": [
              "                          status_id status_type status_published  \\\n",
              "0  246675545449582_1649696485147474       video   4/22/2018 6:00   \n",
              "1  246675545449582_1649426988507757       photo  4/21/2018 22:45   \n",
              "2  246675545449582_1648730588577397       video   4/21/2018 6:17   \n",
              "3  246675545449582_1648576705259452       photo   4/21/2018 2:29   \n",
              "4  246675545449582_1645700502213739       photo   4/18/2018 3:22   \n",
              "\n",
              "   num_reactions  num_comments  num_shares  num_likes  num_loves  num_wows  \\\n",
              "0            529           512         262        432         92         3   \n",
              "1            150             0           0        150          0         0   \n",
              "2            227           236          57        204         21         1   \n",
              "3            111             0           0        111          0         0   \n",
              "4            213             0           0        204          9         0   \n",
              "\n",
              "   num_hahas  num_sads  num_angrys  Column1  Column2  Column3  Column4  \n",
              "0          1         1           0      NaN      NaN      NaN      NaN  \n",
              "1          0         0           0      NaN      NaN      NaN      NaN  \n",
              "2          1         0           0      NaN      NaN      NaN      NaN  \n",
              "3          0         0           0      NaN      NaN      NaN      NaN  \n",
              "4          0         0           0      NaN      NaN      NaN      NaN  "
            ],
            "text/html": [
              "\n",
              "  <div id=\"df-d19e9c01-a24d-480a-b046-7cea7f1e2fc7\" class=\"colab-df-container\">\n",
              "    <div>\n",
              "<style scoped>\n",
              "    .dataframe tbody tr th:only-of-type {\n",
              "        vertical-align: middle;\n",
              "    }\n",
              "\n",
              "    .dataframe tbody tr th {\n",
              "        vertical-align: top;\n",
              "    }\n",
              "\n",
              "    .dataframe thead th {\n",
              "        text-align: right;\n",
              "    }\n",
              "</style>\n",
              "<table border=\"1\" class=\"dataframe\">\n",
              "  <thead>\n",
              "    <tr style=\"text-align: right;\">\n",
              "      <th></th>\n",
              "      <th>status_id</th>\n",
              "      <th>status_type</th>\n",
              "      <th>status_published</th>\n",
              "      <th>num_reactions</th>\n",
              "      <th>num_comments</th>\n",
              "      <th>num_shares</th>\n",
              "      <th>num_likes</th>\n",
              "      <th>num_loves</th>\n",
              "      <th>num_wows</th>\n",
              "      <th>num_hahas</th>\n",
              "      <th>num_sads</th>\n",
              "      <th>num_angrys</th>\n",
              "      <th>Column1</th>\n",
              "      <th>Column2</th>\n",
              "      <th>Column3</th>\n",
              "      <th>Column4</th>\n",
              "    </tr>\n",
              "  </thead>\n",
              "  <tbody>\n",
              "    <tr>\n",
              "      <th>0</th>\n",
              "      <td>246675545449582_1649696485147474</td>\n",
              "      <td>video</td>\n",
              "      <td>4/22/2018 6:00</td>\n",
              "      <td>529</td>\n",
              "      <td>512</td>\n",
              "      <td>262</td>\n",
              "      <td>432</td>\n",
              "      <td>92</td>\n",
              "      <td>3</td>\n",
              "      <td>1</td>\n",
              "      <td>1</td>\n",
              "      <td>0</td>\n",
              "      <td>NaN</td>\n",
              "      <td>NaN</td>\n",
              "      <td>NaN</td>\n",
              "      <td>NaN</td>\n",
              "    </tr>\n",
              "    <tr>\n",
              "      <th>1</th>\n",
              "      <td>246675545449582_1649426988507757</td>\n",
              "      <td>photo</td>\n",
              "      <td>4/21/2018 22:45</td>\n",
              "      <td>150</td>\n",
              "      <td>0</td>\n",
              "      <td>0</td>\n",
              "      <td>150</td>\n",
              "      <td>0</td>\n",
              "      <td>0</td>\n",
              "      <td>0</td>\n",
              "      <td>0</td>\n",
              "      <td>0</td>\n",
              "      <td>NaN</td>\n",
              "      <td>NaN</td>\n",
              "      <td>NaN</td>\n",
              "      <td>NaN</td>\n",
              "    </tr>\n",
              "    <tr>\n",
              "      <th>2</th>\n",
              "      <td>246675545449582_1648730588577397</td>\n",
              "      <td>video</td>\n",
              "      <td>4/21/2018 6:17</td>\n",
              "      <td>227</td>\n",
              "      <td>236</td>\n",
              "      <td>57</td>\n",
              "      <td>204</td>\n",
              "      <td>21</td>\n",
              "      <td>1</td>\n",
              "      <td>1</td>\n",
              "      <td>0</td>\n",
              "      <td>0</td>\n",
              "      <td>NaN</td>\n",
              "      <td>NaN</td>\n",
              "      <td>NaN</td>\n",
              "      <td>NaN</td>\n",
              "    </tr>\n",
              "    <tr>\n",
              "      <th>3</th>\n",
              "      <td>246675545449582_1648576705259452</td>\n",
              "      <td>photo</td>\n",
              "      <td>4/21/2018 2:29</td>\n",
              "      <td>111</td>\n",
              "      <td>0</td>\n",
              "      <td>0</td>\n",
              "      <td>111</td>\n",
              "      <td>0</td>\n",
              "      <td>0</td>\n",
              "      <td>0</td>\n",
              "      <td>0</td>\n",
              "      <td>0</td>\n",
              "      <td>NaN</td>\n",
              "      <td>NaN</td>\n",
              "      <td>NaN</td>\n",
              "      <td>NaN</td>\n",
              "    </tr>\n",
              "    <tr>\n",
              "      <th>4</th>\n",
              "      <td>246675545449582_1645700502213739</td>\n",
              "      <td>photo</td>\n",
              "      <td>4/18/2018 3:22</td>\n",
              "      <td>213</td>\n",
              "      <td>0</td>\n",
              "      <td>0</td>\n",
              "      <td>204</td>\n",
              "      <td>9</td>\n",
              "      <td>0</td>\n",
              "      <td>0</td>\n",
              "      <td>0</td>\n",
              "      <td>0</td>\n",
              "      <td>NaN</td>\n",
              "      <td>NaN</td>\n",
              "      <td>NaN</td>\n",
              "      <td>NaN</td>\n",
              "    </tr>\n",
              "  </tbody>\n",
              "</table>\n",
              "</div>\n",
              "    <div class=\"colab-df-buttons\">\n",
              "\n",
              "  <div class=\"colab-df-container\">\n",
              "    <button class=\"colab-df-convert\" onclick=\"convertToInteractive('df-d19e9c01-a24d-480a-b046-7cea7f1e2fc7')\"\n",
              "            title=\"Convert this dataframe to an interactive table.\"\n",
              "            style=\"display:none;\">\n",
              "\n",
              "  <svg xmlns=\"http://www.w3.org/2000/svg\" height=\"24px\" viewBox=\"0 -960 960 960\">\n",
              "    <path d=\"M120-120v-720h720v720H120Zm60-500h600v-160H180v160Zm220 220h160v-160H400v160Zm0 220h160v-160H400v160ZM180-400h160v-160H180v160Zm440 0h160v-160H620v160ZM180-180h160v-160H180v160Zm440 0h160v-160H620v160Z\"/>\n",
              "  </svg>\n",
              "    </button>\n",
              "\n",
              "  <style>\n",
              "    .colab-df-container {\n",
              "      display:flex;\n",
              "      gap: 12px;\n",
              "    }\n",
              "\n",
              "    .colab-df-convert {\n",
              "      background-color: #E8F0FE;\n",
              "      border: none;\n",
              "      border-radius: 50%;\n",
              "      cursor: pointer;\n",
              "      display: none;\n",
              "      fill: #1967D2;\n",
              "      height: 32px;\n",
              "      padding: 0 0 0 0;\n",
              "      width: 32px;\n",
              "    }\n",
              "\n",
              "    .colab-df-convert:hover {\n",
              "      background-color: #E2EBFA;\n",
              "      box-shadow: 0px 1px 2px rgba(60, 64, 67, 0.3), 0px 1px 3px 1px rgba(60, 64, 67, 0.15);\n",
              "      fill: #174EA6;\n",
              "    }\n",
              "\n",
              "    .colab-df-buttons div {\n",
              "      margin-bottom: 4px;\n",
              "    }\n",
              "\n",
              "    [theme=dark] .colab-df-convert {\n",
              "      background-color: #3B4455;\n",
              "      fill: #D2E3FC;\n",
              "    }\n",
              "\n",
              "    [theme=dark] .colab-df-convert:hover {\n",
              "      background-color: #434B5C;\n",
              "      box-shadow: 0px 1px 3px 1px rgba(0, 0, 0, 0.15);\n",
              "      filter: drop-shadow(0px 1px 2px rgba(0, 0, 0, 0.3));\n",
              "      fill: #FFFFFF;\n",
              "    }\n",
              "  </style>\n",
              "\n",
              "    <script>\n",
              "      const buttonEl =\n",
              "        document.querySelector('#df-d19e9c01-a24d-480a-b046-7cea7f1e2fc7 button.colab-df-convert');\n",
              "      buttonEl.style.display =\n",
              "        google.colab.kernel.accessAllowed ? 'block' : 'none';\n",
              "\n",
              "      async function convertToInteractive(key) {\n",
              "        const element = document.querySelector('#df-d19e9c01-a24d-480a-b046-7cea7f1e2fc7');\n",
              "        const dataTable =\n",
              "          await google.colab.kernel.invokeFunction('convertToInteractive',\n",
              "                                                    [key], {});\n",
              "        if (!dataTable) return;\n",
              "\n",
              "        const docLinkHtml = 'Like what you see? Visit the ' +\n",
              "          '<a target=\"_blank\" href=https://colab.research.google.com/notebooks/data_table.ipynb>data table notebook</a>'\n",
              "          + ' to learn more about interactive tables.';\n",
              "        element.innerHTML = '';\n",
              "        dataTable['output_type'] = 'display_data';\n",
              "        await google.colab.output.renderOutput(dataTable, element);\n",
              "        const docLink = document.createElement('div');\n",
              "        docLink.innerHTML = docLinkHtml;\n",
              "        element.appendChild(docLink);\n",
              "      }\n",
              "    </script>\n",
              "  </div>\n",
              "\n",
              "\n",
              "<div id=\"df-6b120bf7-bf91-4500-9fb4-7071ab8a5752\">\n",
              "  <button class=\"colab-df-quickchart\" onclick=\"quickchart('df-6b120bf7-bf91-4500-9fb4-7071ab8a5752')\"\n",
              "            title=\"Suggest charts.\"\n",
              "            style=\"display:none;\">\n",
              "\n",
              "<svg xmlns=\"http://www.w3.org/2000/svg\" height=\"24px\"viewBox=\"0 0 24 24\"\n",
              "     width=\"24px\">\n",
              "    <g>\n",
              "        <path d=\"M19 3H5c-1.1 0-2 .9-2 2v14c0 1.1.9 2 2 2h14c1.1 0 2-.9 2-2V5c0-1.1-.9-2-2-2zM9 17H7v-7h2v7zm4 0h-2V7h2v10zm4 0h-2v-4h2v4z\"/>\n",
              "    </g>\n",
              "</svg>\n",
              "  </button>\n",
              "\n",
              "<style>\n",
              "  .colab-df-quickchart {\n",
              "      --bg-color: #E8F0FE;\n",
              "      --fill-color: #1967D2;\n",
              "      --hover-bg-color: #E2EBFA;\n",
              "      --hover-fill-color: #174EA6;\n",
              "      --disabled-fill-color: #AAA;\n",
              "      --disabled-bg-color: #DDD;\n",
              "  }\n",
              "\n",
              "  [theme=dark] .colab-df-quickchart {\n",
              "      --bg-color: #3B4455;\n",
              "      --fill-color: #D2E3FC;\n",
              "      --hover-bg-color: #434B5C;\n",
              "      --hover-fill-color: #FFFFFF;\n",
              "      --disabled-bg-color: #3B4455;\n",
              "      --disabled-fill-color: #666;\n",
              "  }\n",
              "\n",
              "  .colab-df-quickchart {\n",
              "    background-color: var(--bg-color);\n",
              "    border: none;\n",
              "    border-radius: 50%;\n",
              "    cursor: pointer;\n",
              "    display: none;\n",
              "    fill: var(--fill-color);\n",
              "    height: 32px;\n",
              "    padding: 0;\n",
              "    width: 32px;\n",
              "  }\n",
              "\n",
              "  .colab-df-quickchart:hover {\n",
              "    background-color: var(--hover-bg-color);\n",
              "    box-shadow: 0 1px 2px rgba(60, 64, 67, 0.3), 0 1px 3px 1px rgba(60, 64, 67, 0.15);\n",
              "    fill: var(--button-hover-fill-color);\n",
              "  }\n",
              "\n",
              "  .colab-df-quickchart-complete:disabled,\n",
              "  .colab-df-quickchart-complete:disabled:hover {\n",
              "    background-color: var(--disabled-bg-color);\n",
              "    fill: var(--disabled-fill-color);\n",
              "    box-shadow: none;\n",
              "  }\n",
              "\n",
              "  .colab-df-spinner {\n",
              "    border: 2px solid var(--fill-color);\n",
              "    border-color: transparent;\n",
              "    border-bottom-color: var(--fill-color);\n",
              "    animation:\n",
              "      spin 1s steps(1) infinite;\n",
              "  }\n",
              "\n",
              "  @keyframes spin {\n",
              "    0% {\n",
              "      border-color: transparent;\n",
              "      border-bottom-color: var(--fill-color);\n",
              "      border-left-color: var(--fill-color);\n",
              "    }\n",
              "    20% {\n",
              "      border-color: transparent;\n",
              "      border-left-color: var(--fill-color);\n",
              "      border-top-color: var(--fill-color);\n",
              "    }\n",
              "    30% {\n",
              "      border-color: transparent;\n",
              "      border-left-color: var(--fill-color);\n",
              "      border-top-color: var(--fill-color);\n",
              "      border-right-color: var(--fill-color);\n",
              "    }\n",
              "    40% {\n",
              "      border-color: transparent;\n",
              "      border-right-color: var(--fill-color);\n",
              "      border-top-color: var(--fill-color);\n",
              "    }\n",
              "    60% {\n",
              "      border-color: transparent;\n",
              "      border-right-color: var(--fill-color);\n",
              "    }\n",
              "    80% {\n",
              "      border-color: transparent;\n",
              "      border-right-color: var(--fill-color);\n",
              "      border-bottom-color: var(--fill-color);\n",
              "    }\n",
              "    90% {\n",
              "      border-color: transparent;\n",
              "      border-bottom-color: var(--fill-color);\n",
              "    }\n",
              "  }\n",
              "</style>\n",
              "\n",
              "  <script>\n",
              "    async function quickchart(key) {\n",
              "      const quickchartButtonEl =\n",
              "        document.querySelector('#' + key + ' button');\n",
              "      quickchartButtonEl.disabled = true;  // To prevent multiple clicks.\n",
              "      quickchartButtonEl.classList.add('colab-df-spinner');\n",
              "      try {\n",
              "        const charts = await google.colab.kernel.invokeFunction(\n",
              "            'suggestCharts', [key], {});\n",
              "      } catch (error) {\n",
              "        console.error('Error during call to suggestCharts:', error);\n",
              "      }\n",
              "      quickchartButtonEl.classList.remove('colab-df-spinner');\n",
              "      quickchartButtonEl.classList.add('colab-df-quickchart-complete');\n",
              "    }\n",
              "    (() => {\n",
              "      let quickchartButtonEl =\n",
              "        document.querySelector('#df-6b120bf7-bf91-4500-9fb4-7071ab8a5752 button');\n",
              "      quickchartButtonEl.style.display =\n",
              "        google.colab.kernel.accessAllowed ? 'block' : 'none';\n",
              "    })();\n",
              "  </script>\n",
              "</div>\n",
              "    </div>\n",
              "  </div>\n"
            ]
          },
          "metadata": {},
          "execution_count": 156
        }
      ]
    },
    {
      "cell_type": "markdown",
      "source": [
        "## **Exploratory data analysis**"
      ],
      "metadata": {
        "id": "D2XqRwI10zDw"
      }
    },
    {
      "cell_type": "markdown",
      "source": [
        "Check shape of the dataset"
      ],
      "metadata": {
        "id": "gpXSeLvk06Io"
      }
    },
    {
      "cell_type": "code",
      "source": [
        "df.shape"
      ],
      "metadata": {
        "id": "ZpY7zZ4MLnCz",
        "colab": {
          "base_uri": "https://localhost:8080/"
        },
        "outputId": "e26b4799-061f-47b3-f95f-0116ffbd1a94"
      },
      "execution_count": 157,
      "outputs": [
        {
          "output_type": "execute_result",
          "data": {
            "text/plain": [
              "(7050, 16)"
            ]
          },
          "metadata": {},
          "execution_count": 157
        }
      ]
    },
    {
      "cell_type": "markdown",
      "source": [
        "View summary of dataset"
      ],
      "metadata": {
        "id": "fEhzuREN1LSO"
      }
    },
    {
      "cell_type": "code",
      "source": [
        "df.info()"
      ],
      "metadata": {
        "id": "35JH-8nsMjH0",
        "colab": {
          "base_uri": "https://localhost:8080/"
        },
        "outputId": "c1a46298-481f-4787-ca9b-11fd4e787ebc"
      },
      "execution_count": 158,
      "outputs": [
        {
          "output_type": "stream",
          "name": "stdout",
          "text": [
            "<class 'pandas.core.frame.DataFrame'>\n",
            "RangeIndex: 7050 entries, 0 to 7049\n",
            "Data columns (total 16 columns):\n",
            " #   Column            Non-Null Count  Dtype  \n",
            "---  ------            --------------  -----  \n",
            " 0   status_id         7050 non-null   object \n",
            " 1   status_type       7050 non-null   object \n",
            " 2   status_published  7050 non-null   object \n",
            " 3   num_reactions     7050 non-null   int64  \n",
            " 4   num_comments      7050 non-null   int64  \n",
            " 5   num_shares        7050 non-null   int64  \n",
            " 6   num_likes         7050 non-null   int64  \n",
            " 7   num_loves         7050 non-null   int64  \n",
            " 8   num_wows          7050 non-null   int64  \n",
            " 9   num_hahas         7050 non-null   int64  \n",
            " 10  num_sads          7050 non-null   int64  \n",
            " 11  num_angrys        7050 non-null   int64  \n",
            " 12  Column1           0 non-null      float64\n",
            " 13  Column2           0 non-null      float64\n",
            " 14  Column3           0 non-null      float64\n",
            " 15  Column4           0 non-null      float64\n",
            "dtypes: float64(4), int64(9), object(3)\n",
            "memory usage: 881.4+ KB\n"
          ]
        }
      ]
    },
    {
      "cell_type": "markdown",
      "source": [
        "Checking for missing values in dataset"
      ],
      "metadata": {
        "id": "6GY2s_Db1aw3"
      }
    },
    {
      "cell_type": "code",
      "source": [
        "df.isnull().sum()"
      ],
      "metadata": {
        "id": "LShhpcz-MFw8",
        "colab": {
          "base_uri": "https://localhost:8080/"
        },
        "outputId": "b951bdc1-e327-4de4-c154-cbaaa90817f9"
      },
      "execution_count": 159,
      "outputs": [
        {
          "output_type": "execute_result",
          "data": {
            "text/plain": [
              "status_id              0\n",
              "status_type            0\n",
              "status_published       0\n",
              "num_reactions          0\n",
              "num_comments           0\n",
              "num_shares             0\n",
              "num_likes              0\n",
              "num_loves              0\n",
              "num_wows               0\n",
              "num_hahas              0\n",
              "num_sads               0\n",
              "num_angrys             0\n",
              "Column1             7050\n",
              "Column2             7050\n",
              "Column3             7050\n",
              "Column4             7050\n",
              "dtype: int64"
            ]
          },
          "metadata": {},
          "execution_count": 159
        }
      ]
    },
    {
      "cell_type": "markdown",
      "source": [
        "We can see that there are 4 redundant columns in the dataset. We should drop them before proceeding further."
      ],
      "metadata": {
        "id": "0U06AMfJ1urv"
      }
    },
    {
      "cell_type": "code",
      "source": [
        "df = df.drop([\"Column1\", \"Column2\", \"Column3\", \"Column4\"], axis=1)"
      ],
      "metadata": {
        "id": "i18M4BVFKw01"
      },
      "execution_count": 160,
      "outputs": []
    },
    {
      "cell_type": "code",
      "source": [
        "df.info()"
      ],
      "metadata": {
        "id": "BLG9XAjsKf4I",
        "colab": {
          "base_uri": "https://localhost:8080/"
        },
        "outputId": "66ea321d-92c0-4097-ddac-d0d8bc7d4581"
      },
      "execution_count": 161,
      "outputs": [
        {
          "output_type": "stream",
          "name": "stdout",
          "text": [
            "<class 'pandas.core.frame.DataFrame'>\n",
            "RangeIndex: 7050 entries, 0 to 7049\n",
            "Data columns (total 12 columns):\n",
            " #   Column            Non-Null Count  Dtype \n",
            "---  ------            --------------  ----- \n",
            " 0   status_id         7050 non-null   object\n",
            " 1   status_type       7050 non-null   object\n",
            " 2   status_published  7050 non-null   object\n",
            " 3   num_reactions     7050 non-null   int64 \n",
            " 4   num_comments      7050 non-null   int64 \n",
            " 5   num_shares        7050 non-null   int64 \n",
            " 6   num_likes         7050 non-null   int64 \n",
            " 7   num_loves         7050 non-null   int64 \n",
            " 8   num_wows          7050 non-null   int64 \n",
            " 9   num_hahas         7050 non-null   int64 \n",
            " 10  num_sads          7050 non-null   int64 \n",
            " 11  num_angrys        7050 non-null   int64 \n",
            "dtypes: int64(9), object(3)\n",
            "memory usage: 661.1+ KB\n"
          ]
        }
      ]
    },
    {
      "cell_type": "markdown",
      "source": [
        "We can see that, there are 3 character variables (data type = object) and remaining 9 numerical variables (data type = int64)."
      ],
      "metadata": {
        "id": "5XR0Btqw2a0h"
      }
    },
    {
      "cell_type": "markdown",
      "source": [
        "View the statistical summary of numerical variables"
      ],
      "metadata": {
        "id": "BtGeMX9m2siq"
      }
    },
    {
      "cell_type": "code",
      "source": [
        "df.describe()"
      ],
      "metadata": {
        "id": "KLHLLEmMHgxR",
        "colab": {
          "base_uri": "https://localhost:8080/",
          "height": 300
        },
        "outputId": "524e963b-f2f2-4d40-a208-3e807ab2328d"
      },
      "execution_count": 162,
      "outputs": [
        {
          "output_type": "execute_result",
          "data": {
            "text/plain": [
              "       num_reactions  num_comments   num_shares    num_likes    num_loves  \\\n",
              "count    7050.000000   7050.000000  7050.000000  7050.000000  7050.000000   \n",
              "mean      230.117163    224.356028    40.022553   215.043121    12.728652   \n",
              "std       462.625309    889.636820   131.599965   449.472357    39.972930   \n",
              "min         0.000000      0.000000     0.000000     0.000000     0.000000   \n",
              "25%        17.000000      0.000000     0.000000    17.000000     0.000000   \n",
              "50%        59.500000      4.000000     0.000000    58.000000     0.000000   \n",
              "75%       219.000000     23.000000     4.000000   184.750000     3.000000   \n",
              "max      4710.000000  20990.000000  3424.000000  4710.000000   657.000000   \n",
              "\n",
              "          num_wows    num_hahas     num_sads   num_angrys  \n",
              "count  7050.000000  7050.000000  7050.000000  7050.000000  \n",
              "mean      1.289362     0.696454     0.243688     0.113191  \n",
              "std       8.719650     3.957183     1.597156     0.726812  \n",
              "min       0.000000     0.000000     0.000000     0.000000  \n",
              "25%       0.000000     0.000000     0.000000     0.000000  \n",
              "50%       0.000000     0.000000     0.000000     0.000000  \n",
              "75%       0.000000     0.000000     0.000000     0.000000  \n",
              "max     278.000000   157.000000    51.000000    31.000000  "
            ],
            "text/html": [
              "\n",
              "  <div id=\"df-a9928be7-2b43-4441-b4a2-7b9abcdc7507\" class=\"colab-df-container\">\n",
              "    <div>\n",
              "<style scoped>\n",
              "    .dataframe tbody tr th:only-of-type {\n",
              "        vertical-align: middle;\n",
              "    }\n",
              "\n",
              "    .dataframe tbody tr th {\n",
              "        vertical-align: top;\n",
              "    }\n",
              "\n",
              "    .dataframe thead th {\n",
              "        text-align: right;\n",
              "    }\n",
              "</style>\n",
              "<table border=\"1\" class=\"dataframe\">\n",
              "  <thead>\n",
              "    <tr style=\"text-align: right;\">\n",
              "      <th></th>\n",
              "      <th>num_reactions</th>\n",
              "      <th>num_comments</th>\n",
              "      <th>num_shares</th>\n",
              "      <th>num_likes</th>\n",
              "      <th>num_loves</th>\n",
              "      <th>num_wows</th>\n",
              "      <th>num_hahas</th>\n",
              "      <th>num_sads</th>\n",
              "      <th>num_angrys</th>\n",
              "    </tr>\n",
              "  </thead>\n",
              "  <tbody>\n",
              "    <tr>\n",
              "      <th>count</th>\n",
              "      <td>7050.000000</td>\n",
              "      <td>7050.000000</td>\n",
              "      <td>7050.000000</td>\n",
              "      <td>7050.000000</td>\n",
              "      <td>7050.000000</td>\n",
              "      <td>7050.000000</td>\n",
              "      <td>7050.000000</td>\n",
              "      <td>7050.000000</td>\n",
              "      <td>7050.000000</td>\n",
              "    </tr>\n",
              "    <tr>\n",
              "      <th>mean</th>\n",
              "      <td>230.117163</td>\n",
              "      <td>224.356028</td>\n",
              "      <td>40.022553</td>\n",
              "      <td>215.043121</td>\n",
              "      <td>12.728652</td>\n",
              "      <td>1.289362</td>\n",
              "      <td>0.696454</td>\n",
              "      <td>0.243688</td>\n",
              "      <td>0.113191</td>\n",
              "    </tr>\n",
              "    <tr>\n",
              "      <th>std</th>\n",
              "      <td>462.625309</td>\n",
              "      <td>889.636820</td>\n",
              "      <td>131.599965</td>\n",
              "      <td>449.472357</td>\n",
              "      <td>39.972930</td>\n",
              "      <td>8.719650</td>\n",
              "      <td>3.957183</td>\n",
              "      <td>1.597156</td>\n",
              "      <td>0.726812</td>\n",
              "    </tr>\n",
              "    <tr>\n",
              "      <th>min</th>\n",
              "      <td>0.000000</td>\n",
              "      <td>0.000000</td>\n",
              "      <td>0.000000</td>\n",
              "      <td>0.000000</td>\n",
              "      <td>0.000000</td>\n",
              "      <td>0.000000</td>\n",
              "      <td>0.000000</td>\n",
              "      <td>0.000000</td>\n",
              "      <td>0.000000</td>\n",
              "    </tr>\n",
              "    <tr>\n",
              "      <th>25%</th>\n",
              "      <td>17.000000</td>\n",
              "      <td>0.000000</td>\n",
              "      <td>0.000000</td>\n",
              "      <td>17.000000</td>\n",
              "      <td>0.000000</td>\n",
              "      <td>0.000000</td>\n",
              "      <td>0.000000</td>\n",
              "      <td>0.000000</td>\n",
              "      <td>0.000000</td>\n",
              "    </tr>\n",
              "    <tr>\n",
              "      <th>50%</th>\n",
              "      <td>59.500000</td>\n",
              "      <td>4.000000</td>\n",
              "      <td>0.000000</td>\n",
              "      <td>58.000000</td>\n",
              "      <td>0.000000</td>\n",
              "      <td>0.000000</td>\n",
              "      <td>0.000000</td>\n",
              "      <td>0.000000</td>\n",
              "      <td>0.000000</td>\n",
              "    </tr>\n",
              "    <tr>\n",
              "      <th>75%</th>\n",
              "      <td>219.000000</td>\n",
              "      <td>23.000000</td>\n",
              "      <td>4.000000</td>\n",
              "      <td>184.750000</td>\n",
              "      <td>3.000000</td>\n",
              "      <td>0.000000</td>\n",
              "      <td>0.000000</td>\n",
              "      <td>0.000000</td>\n",
              "      <td>0.000000</td>\n",
              "    </tr>\n",
              "    <tr>\n",
              "      <th>max</th>\n",
              "      <td>4710.000000</td>\n",
              "      <td>20990.000000</td>\n",
              "      <td>3424.000000</td>\n",
              "      <td>4710.000000</td>\n",
              "      <td>657.000000</td>\n",
              "      <td>278.000000</td>\n",
              "      <td>157.000000</td>\n",
              "      <td>51.000000</td>\n",
              "      <td>31.000000</td>\n",
              "    </tr>\n",
              "  </tbody>\n",
              "</table>\n",
              "</div>\n",
              "    <div class=\"colab-df-buttons\">\n",
              "\n",
              "  <div class=\"colab-df-container\">\n",
              "    <button class=\"colab-df-convert\" onclick=\"convertToInteractive('df-a9928be7-2b43-4441-b4a2-7b9abcdc7507')\"\n",
              "            title=\"Convert this dataframe to an interactive table.\"\n",
              "            style=\"display:none;\">\n",
              "\n",
              "  <svg xmlns=\"http://www.w3.org/2000/svg\" height=\"24px\" viewBox=\"0 -960 960 960\">\n",
              "    <path d=\"M120-120v-720h720v720H120Zm60-500h600v-160H180v160Zm220 220h160v-160H400v160Zm0 220h160v-160H400v160ZM180-400h160v-160H180v160Zm440 0h160v-160H620v160ZM180-180h160v-160H180v160Zm440 0h160v-160H620v160Z\"/>\n",
              "  </svg>\n",
              "    </button>\n",
              "\n",
              "  <style>\n",
              "    .colab-df-container {\n",
              "      display:flex;\n",
              "      gap: 12px;\n",
              "    }\n",
              "\n",
              "    .colab-df-convert {\n",
              "      background-color: #E8F0FE;\n",
              "      border: none;\n",
              "      border-radius: 50%;\n",
              "      cursor: pointer;\n",
              "      display: none;\n",
              "      fill: #1967D2;\n",
              "      height: 32px;\n",
              "      padding: 0 0 0 0;\n",
              "      width: 32px;\n",
              "    }\n",
              "\n",
              "    .colab-df-convert:hover {\n",
              "      background-color: #E2EBFA;\n",
              "      box-shadow: 0px 1px 2px rgba(60, 64, 67, 0.3), 0px 1px 3px 1px rgba(60, 64, 67, 0.15);\n",
              "      fill: #174EA6;\n",
              "    }\n",
              "\n",
              "    .colab-df-buttons div {\n",
              "      margin-bottom: 4px;\n",
              "    }\n",
              "\n",
              "    [theme=dark] .colab-df-convert {\n",
              "      background-color: #3B4455;\n",
              "      fill: #D2E3FC;\n",
              "    }\n",
              "\n",
              "    [theme=dark] .colab-df-convert:hover {\n",
              "      background-color: #434B5C;\n",
              "      box-shadow: 0px 1px 3px 1px rgba(0, 0, 0, 0.15);\n",
              "      filter: drop-shadow(0px 1px 2px rgba(0, 0, 0, 0.3));\n",
              "      fill: #FFFFFF;\n",
              "    }\n",
              "  </style>\n",
              "\n",
              "    <script>\n",
              "      const buttonEl =\n",
              "        document.querySelector('#df-a9928be7-2b43-4441-b4a2-7b9abcdc7507 button.colab-df-convert');\n",
              "      buttonEl.style.display =\n",
              "        google.colab.kernel.accessAllowed ? 'block' : 'none';\n",
              "\n",
              "      async function convertToInteractive(key) {\n",
              "        const element = document.querySelector('#df-a9928be7-2b43-4441-b4a2-7b9abcdc7507');\n",
              "        const dataTable =\n",
              "          await google.colab.kernel.invokeFunction('convertToInteractive',\n",
              "                                                    [key], {});\n",
              "        if (!dataTable) return;\n",
              "\n",
              "        const docLinkHtml = 'Like what you see? Visit the ' +\n",
              "          '<a target=\"_blank\" href=https://colab.research.google.com/notebooks/data_table.ipynb>data table notebook</a>'\n",
              "          + ' to learn more about interactive tables.';\n",
              "        element.innerHTML = '';\n",
              "        dataTable['output_type'] = 'display_data';\n",
              "        await google.colab.output.renderOutput(dataTable, element);\n",
              "        const docLink = document.createElement('div');\n",
              "        docLink.innerHTML = docLinkHtml;\n",
              "        element.appendChild(docLink);\n",
              "      }\n",
              "    </script>\n",
              "  </div>\n",
              "\n",
              "\n",
              "<div id=\"df-3c1e28c5-14f5-4bef-9f89-925c7ae2e2cf\">\n",
              "  <button class=\"colab-df-quickchart\" onclick=\"quickchart('df-3c1e28c5-14f5-4bef-9f89-925c7ae2e2cf')\"\n",
              "            title=\"Suggest charts.\"\n",
              "            style=\"display:none;\">\n",
              "\n",
              "<svg xmlns=\"http://www.w3.org/2000/svg\" height=\"24px\"viewBox=\"0 0 24 24\"\n",
              "     width=\"24px\">\n",
              "    <g>\n",
              "        <path d=\"M19 3H5c-1.1 0-2 .9-2 2v14c0 1.1.9 2 2 2h14c1.1 0 2-.9 2-2V5c0-1.1-.9-2-2-2zM9 17H7v-7h2v7zm4 0h-2V7h2v10zm4 0h-2v-4h2v4z\"/>\n",
              "    </g>\n",
              "</svg>\n",
              "  </button>\n",
              "\n",
              "<style>\n",
              "  .colab-df-quickchart {\n",
              "      --bg-color: #E8F0FE;\n",
              "      --fill-color: #1967D2;\n",
              "      --hover-bg-color: #E2EBFA;\n",
              "      --hover-fill-color: #174EA6;\n",
              "      --disabled-fill-color: #AAA;\n",
              "      --disabled-bg-color: #DDD;\n",
              "  }\n",
              "\n",
              "  [theme=dark] .colab-df-quickchart {\n",
              "      --bg-color: #3B4455;\n",
              "      --fill-color: #D2E3FC;\n",
              "      --hover-bg-color: #434B5C;\n",
              "      --hover-fill-color: #FFFFFF;\n",
              "      --disabled-bg-color: #3B4455;\n",
              "      --disabled-fill-color: #666;\n",
              "  }\n",
              "\n",
              "  .colab-df-quickchart {\n",
              "    background-color: var(--bg-color);\n",
              "    border: none;\n",
              "    border-radius: 50%;\n",
              "    cursor: pointer;\n",
              "    display: none;\n",
              "    fill: var(--fill-color);\n",
              "    height: 32px;\n",
              "    padding: 0;\n",
              "    width: 32px;\n",
              "  }\n",
              "\n",
              "  .colab-df-quickchart:hover {\n",
              "    background-color: var(--hover-bg-color);\n",
              "    box-shadow: 0 1px 2px rgba(60, 64, 67, 0.3), 0 1px 3px 1px rgba(60, 64, 67, 0.15);\n",
              "    fill: var(--button-hover-fill-color);\n",
              "  }\n",
              "\n",
              "  .colab-df-quickchart-complete:disabled,\n",
              "  .colab-df-quickchart-complete:disabled:hover {\n",
              "    background-color: var(--disabled-bg-color);\n",
              "    fill: var(--disabled-fill-color);\n",
              "    box-shadow: none;\n",
              "  }\n",
              "\n",
              "  .colab-df-spinner {\n",
              "    border: 2px solid var(--fill-color);\n",
              "    border-color: transparent;\n",
              "    border-bottom-color: var(--fill-color);\n",
              "    animation:\n",
              "      spin 1s steps(1) infinite;\n",
              "  }\n",
              "\n",
              "  @keyframes spin {\n",
              "    0% {\n",
              "      border-color: transparent;\n",
              "      border-bottom-color: var(--fill-color);\n",
              "      border-left-color: var(--fill-color);\n",
              "    }\n",
              "    20% {\n",
              "      border-color: transparent;\n",
              "      border-left-color: var(--fill-color);\n",
              "      border-top-color: var(--fill-color);\n",
              "    }\n",
              "    30% {\n",
              "      border-color: transparent;\n",
              "      border-left-color: var(--fill-color);\n",
              "      border-top-color: var(--fill-color);\n",
              "      border-right-color: var(--fill-color);\n",
              "    }\n",
              "    40% {\n",
              "      border-color: transparent;\n",
              "      border-right-color: var(--fill-color);\n",
              "      border-top-color: var(--fill-color);\n",
              "    }\n",
              "    60% {\n",
              "      border-color: transparent;\n",
              "      border-right-color: var(--fill-color);\n",
              "    }\n",
              "    80% {\n",
              "      border-color: transparent;\n",
              "      border-right-color: var(--fill-color);\n",
              "      border-bottom-color: var(--fill-color);\n",
              "    }\n",
              "    90% {\n",
              "      border-color: transparent;\n",
              "      border-bottom-color: var(--fill-color);\n",
              "    }\n",
              "  }\n",
              "</style>\n",
              "\n",
              "  <script>\n",
              "    async function quickchart(key) {\n",
              "      const quickchartButtonEl =\n",
              "        document.querySelector('#' + key + ' button');\n",
              "      quickchartButtonEl.disabled = true;  // To prevent multiple clicks.\n",
              "      quickchartButtonEl.classList.add('colab-df-spinner');\n",
              "      try {\n",
              "        const charts = await google.colab.kernel.invokeFunction(\n",
              "            'suggestCharts', [key], {});\n",
              "      } catch (error) {\n",
              "        console.error('Error during call to suggestCharts:', error);\n",
              "      }\n",
              "      quickchartButtonEl.classList.remove('colab-df-spinner');\n",
              "      quickchartButtonEl.classList.add('colab-df-quickchart-complete');\n",
              "    }\n",
              "    (() => {\n",
              "      let quickchartButtonEl =\n",
              "        document.querySelector('#df-3c1e28c5-14f5-4bef-9f89-925c7ae2e2cf button');\n",
              "      quickchartButtonEl.style.display =\n",
              "        google.colab.kernel.accessAllowed ? 'block' : 'none';\n",
              "    })();\n",
              "  </script>\n",
              "</div>\n",
              "    </div>\n",
              "  </div>\n"
            ]
          },
          "metadata": {},
          "execution_count": 162
        }
      ]
    },
    {
      "cell_type": "markdown",
      "source": [
        "There are 3 categorical variables in the dataset. I will explore them one by one."
      ],
      "metadata": {
        "id": "idZon5zQ26Jn"
      }
    },
    {
      "cell_type": "markdown",
      "source": [
        "1. Explore status_id, status_published variable"
      ],
      "metadata": {
        "id": "TK99D3AQ28Pr"
      }
    },
    {
      "cell_type": "code",
      "source": [
        "status_ids = df[\"status_id\"].unique()"
      ],
      "metadata": {
        "id": "P1zFk_Fz29jN"
      },
      "execution_count": 163,
      "outputs": []
    },
    {
      "cell_type": "code",
      "source": [
        "len(status_ids)"
      ],
      "metadata": {
        "colab": {
          "base_uri": "https://localhost:8080/"
        },
        "id": "h40ZCKSs29gP",
        "outputId": "0c6c24ad-c903-4257-f2f9-6e03f2739f95"
      },
      "execution_count": 164,
      "outputs": [
        {
          "output_type": "execute_result",
          "data": {
            "text/plain": [
              "6997"
            ]
          },
          "metadata": {},
          "execution_count": 164
        }
      ]
    },
    {
      "cell_type": "markdown",
      "source": [
        "> > We can see that there are 6997 unique labels in the status_id variable. The total number of instances in the dataset is 7050. So, it is approximately a unique identifier for each of the instances. Thus this is not a variable that we can use. Hence, I will drop it.\n",
        "\n"
      ],
      "metadata": {
        "id": "nOoG_Ii13YsY"
      }
    },
    {
      "cell_type": "markdown",
      "source": [
        "2. It's same to status_published"
      ],
      "metadata": {
        "id": "OHnRq3C13bnL"
      }
    },
    {
      "cell_type": "code",
      "source": [
        "status_publisheds = df[\"status_published\"].unique()\n",
        "len(status_publisheds)"
      ],
      "metadata": {
        "colab": {
          "base_uri": "https://localhost:8080/"
        },
        "id": "1WBPznam29db",
        "outputId": "ee8c9dba-992d-40d3-bc21-647267408e00"
      },
      "execution_count": 165,
      "outputs": [
        {
          "output_type": "execute_result",
          "data": {
            "text/plain": [
              "6913"
            ]
          },
          "metadata": {},
          "execution_count": 165
        }
      ]
    },
    {
      "cell_type": "markdown",
      "source": [
        ">> Drop status_id and status_published variable from the dataset"
      ],
      "metadata": {
        "id": "XGZ_BzXL30mQ"
      }
    },
    {
      "cell_type": "code",
      "source": [
        "df = df.drop([\"status_id\", \"status_published\"], axis=1)"
      ],
      "metadata": {
        "id": "Y_ftchau29ac"
      },
      "execution_count": 166,
      "outputs": []
    },
    {
      "cell_type": "code",
      "source": [
        "df.info()"
      ],
      "metadata": {
        "colab": {
          "base_uri": "https://localhost:8080/"
        },
        "id": "MskreewH29XZ",
        "outputId": "2d09e4f5-e90b-4bc5-e45f-e05a89eb980f"
      },
      "execution_count": 167,
      "outputs": [
        {
          "output_type": "stream",
          "name": "stdout",
          "text": [
            "<class 'pandas.core.frame.DataFrame'>\n",
            "RangeIndex: 7050 entries, 0 to 7049\n",
            "Data columns (total 10 columns):\n",
            " #   Column         Non-Null Count  Dtype \n",
            "---  ------         --------------  ----- \n",
            " 0   status_type    7050 non-null   object\n",
            " 1   num_reactions  7050 non-null   int64 \n",
            " 2   num_comments   7050 non-null   int64 \n",
            " 3   num_shares     7050 non-null   int64 \n",
            " 4   num_likes      7050 non-null   int64 \n",
            " 5   num_loves      7050 non-null   int64 \n",
            " 6   num_wows       7050 non-null   int64 \n",
            " 7   num_hahas      7050 non-null   int64 \n",
            " 8   num_sads       7050 non-null   int64 \n",
            " 9   num_angrys     7050 non-null   int64 \n",
            "dtypes: int64(9), object(1)\n",
            "memory usage: 550.9+ KB\n"
          ]
        }
      ]
    },
    {
      "cell_type": "markdown",
      "source": [
        "3. Explore status_type variable"
      ],
      "metadata": {
        "id": "f_uV7j_v4T-Q"
      }
    },
    {
      "cell_type": "code",
      "source": [
        "status_types = df[\"status_type\"].unique()\n",
        "status_types"
      ],
      "metadata": {
        "colab": {
          "base_uri": "https://localhost:8080/"
        },
        "id": "5oSb6Aek29UO",
        "outputId": "6b4befa6-f290-4c80-da3d-c2311af593f3"
      },
      "execution_count": 168,
      "outputs": [
        {
          "output_type": "execute_result",
          "data": {
            "text/plain": [
              "array(['video', 'photo', 'link', 'status'], dtype=object)"
            ]
          },
          "metadata": {},
          "execution_count": 168
        }
      ]
    },
    {
      "cell_type": "code",
      "source": [
        "len(status_types)"
      ],
      "metadata": {
        "colab": {
          "base_uri": "https://localhost:8080/"
        },
        "id": "FBbWG-7s4gO-",
        "outputId": "57adf7a9-9d69-40e5-d22e-54b486dbfd5e"
      },
      "execution_count": 169,
      "outputs": [
        {
          "output_type": "execute_result",
          "data": {
            "text/plain": [
              "4"
            ]
          },
          "metadata": {},
          "execution_count": 169
        }
      ]
    },
    {
      "cell_type": "markdown",
      "source": [
        ">> We can see that there are 4 categories of labels in the status_type variable."
      ],
      "metadata": {
        "id": "onhz8WfP4pUB"
      }
    },
    {
      "cell_type": "markdown",
      "source": [
        "**Convert categorical variable into integers**"
      ],
      "metadata": {
        "id": "ixqRvR0-5G9A"
      }
    },
    {
      "cell_type": "code",
      "source": [
        "from sklearn.preprocessing import LabelEncoder\n",
        "\n",
        "X = df\n",
        "\n",
        "lbe = LabelEncoder()\n",
        "X[\"status_type\"] = lbe.fit_transform(X[\"status_type\"])"
      ],
      "metadata": {
        "id": "6n5KDfsq5H15"
      },
      "execution_count": 170,
      "outputs": []
    },
    {
      "cell_type": "markdown",
      "source": [
        "**Declare feature vector and target variable**"
      ],
      "metadata": {
        "id": "8MXhvtdu5Cc4"
      }
    },
    {
      "cell_type": "code",
      "source": [
        "y = X[\"status_type\"]"
      ],
      "metadata": {
        "id": "Aatr612A29RA"
      },
      "execution_count": 171,
      "outputs": []
    },
    {
      "cell_type": "code",
      "source": [
        "y.equals(X[\"status_type\"])"
      ],
      "metadata": {
        "colab": {
          "base_uri": "https://localhost:8080/"
        },
        "id": "JS-D-hhV7TbB",
        "outputId": "4df20042-6477-4cd1-8661-42c6c911f3ed"
      },
      "execution_count": 172,
      "outputs": [
        {
          "output_type": "execute_result",
          "data": {
            "text/plain": [
              "True"
            ]
          },
          "metadata": {},
          "execution_count": 172
        }
      ]
    },
    {
      "cell_type": "code",
      "source": [
        "X.info()"
      ],
      "metadata": {
        "colab": {
          "base_uri": "https://localhost:8080/"
        },
        "id": "7T9a8b2o7TYb",
        "outputId": "d54a3f46-6f87-4532-8be6-3f475c19456e"
      },
      "execution_count": 173,
      "outputs": [
        {
          "output_type": "stream",
          "name": "stdout",
          "text": [
            "<class 'pandas.core.frame.DataFrame'>\n",
            "RangeIndex: 7050 entries, 0 to 7049\n",
            "Data columns (total 10 columns):\n",
            " #   Column         Non-Null Count  Dtype\n",
            "---  ------         --------------  -----\n",
            " 0   status_type    7050 non-null   int64\n",
            " 1   num_reactions  7050 non-null   int64\n",
            " 2   num_comments   7050 non-null   int64\n",
            " 3   num_shares     7050 non-null   int64\n",
            " 4   num_likes      7050 non-null   int64\n",
            " 5   num_loves      7050 non-null   int64\n",
            " 6   num_wows       7050 non-null   int64\n",
            " 7   num_hahas      7050 non-null   int64\n",
            " 8   num_sads       7050 non-null   int64\n",
            " 9   num_angrys     7050 non-null   int64\n",
            "dtypes: int64(10)\n",
            "memory usage: 550.9 KB\n"
          ]
        }
      ]
    },
    {
      "cell_type": "code",
      "source": [
        "X.head()"
      ],
      "metadata": {
        "colab": {
          "base_uri": "https://localhost:8080/",
          "height": 206
        },
        "id": "ky_cxgQf7TVg",
        "outputId": "6d7cdd6c-82d6-45b9-cf0b-2d5c52072bfe"
      },
      "execution_count": 174,
      "outputs": [
        {
          "output_type": "execute_result",
          "data": {
            "text/plain": [
              "   status_type  num_reactions  num_comments  num_shares  num_likes  num_loves  \\\n",
              "0            3            529           512         262        432         92   \n",
              "1            1            150             0           0        150          0   \n",
              "2            3            227           236          57        204         21   \n",
              "3            1            111             0           0        111          0   \n",
              "4            1            213             0           0        204          9   \n",
              "\n",
              "   num_wows  num_hahas  num_sads  num_angrys  \n",
              "0         3          1         1           0  \n",
              "1         0          0         0           0  \n",
              "2         1          1         0           0  \n",
              "3         0          0         0           0  \n",
              "4         0          0         0           0  "
            ],
            "text/html": [
              "\n",
              "  <div id=\"df-98598f1a-c3d3-4dd1-b166-4be0128ba5af\" class=\"colab-df-container\">\n",
              "    <div>\n",
              "<style scoped>\n",
              "    .dataframe tbody tr th:only-of-type {\n",
              "        vertical-align: middle;\n",
              "    }\n",
              "\n",
              "    .dataframe tbody tr th {\n",
              "        vertical-align: top;\n",
              "    }\n",
              "\n",
              "    .dataframe thead th {\n",
              "        text-align: right;\n",
              "    }\n",
              "</style>\n",
              "<table border=\"1\" class=\"dataframe\">\n",
              "  <thead>\n",
              "    <tr style=\"text-align: right;\">\n",
              "      <th></th>\n",
              "      <th>status_type</th>\n",
              "      <th>num_reactions</th>\n",
              "      <th>num_comments</th>\n",
              "      <th>num_shares</th>\n",
              "      <th>num_likes</th>\n",
              "      <th>num_loves</th>\n",
              "      <th>num_wows</th>\n",
              "      <th>num_hahas</th>\n",
              "      <th>num_sads</th>\n",
              "      <th>num_angrys</th>\n",
              "    </tr>\n",
              "  </thead>\n",
              "  <tbody>\n",
              "    <tr>\n",
              "      <th>0</th>\n",
              "      <td>3</td>\n",
              "      <td>529</td>\n",
              "      <td>512</td>\n",
              "      <td>262</td>\n",
              "      <td>432</td>\n",
              "      <td>92</td>\n",
              "      <td>3</td>\n",
              "      <td>1</td>\n",
              "      <td>1</td>\n",
              "      <td>0</td>\n",
              "    </tr>\n",
              "    <tr>\n",
              "      <th>1</th>\n",
              "      <td>1</td>\n",
              "      <td>150</td>\n",
              "      <td>0</td>\n",
              "      <td>0</td>\n",
              "      <td>150</td>\n",
              "      <td>0</td>\n",
              "      <td>0</td>\n",
              "      <td>0</td>\n",
              "      <td>0</td>\n",
              "      <td>0</td>\n",
              "    </tr>\n",
              "    <tr>\n",
              "      <th>2</th>\n",
              "      <td>3</td>\n",
              "      <td>227</td>\n",
              "      <td>236</td>\n",
              "      <td>57</td>\n",
              "      <td>204</td>\n",
              "      <td>21</td>\n",
              "      <td>1</td>\n",
              "      <td>1</td>\n",
              "      <td>0</td>\n",
              "      <td>0</td>\n",
              "    </tr>\n",
              "    <tr>\n",
              "      <th>3</th>\n",
              "      <td>1</td>\n",
              "      <td>111</td>\n",
              "      <td>0</td>\n",
              "      <td>0</td>\n",
              "      <td>111</td>\n",
              "      <td>0</td>\n",
              "      <td>0</td>\n",
              "      <td>0</td>\n",
              "      <td>0</td>\n",
              "      <td>0</td>\n",
              "    </tr>\n",
              "    <tr>\n",
              "      <th>4</th>\n",
              "      <td>1</td>\n",
              "      <td>213</td>\n",
              "      <td>0</td>\n",
              "      <td>0</td>\n",
              "      <td>204</td>\n",
              "      <td>9</td>\n",
              "      <td>0</td>\n",
              "      <td>0</td>\n",
              "      <td>0</td>\n",
              "      <td>0</td>\n",
              "    </tr>\n",
              "  </tbody>\n",
              "</table>\n",
              "</div>\n",
              "    <div class=\"colab-df-buttons\">\n",
              "\n",
              "  <div class=\"colab-df-container\">\n",
              "    <button class=\"colab-df-convert\" onclick=\"convertToInteractive('df-98598f1a-c3d3-4dd1-b166-4be0128ba5af')\"\n",
              "            title=\"Convert this dataframe to an interactive table.\"\n",
              "            style=\"display:none;\">\n",
              "\n",
              "  <svg xmlns=\"http://www.w3.org/2000/svg\" height=\"24px\" viewBox=\"0 -960 960 960\">\n",
              "    <path d=\"M120-120v-720h720v720H120Zm60-500h600v-160H180v160Zm220 220h160v-160H400v160Zm0 220h160v-160H400v160ZM180-400h160v-160H180v160Zm440 0h160v-160H620v160ZM180-180h160v-160H180v160Zm440 0h160v-160H620v160Z\"/>\n",
              "  </svg>\n",
              "    </button>\n",
              "\n",
              "  <style>\n",
              "    .colab-df-container {\n",
              "      display:flex;\n",
              "      gap: 12px;\n",
              "    }\n",
              "\n",
              "    .colab-df-convert {\n",
              "      background-color: #E8F0FE;\n",
              "      border: none;\n",
              "      border-radius: 50%;\n",
              "      cursor: pointer;\n",
              "      display: none;\n",
              "      fill: #1967D2;\n",
              "      height: 32px;\n",
              "      padding: 0 0 0 0;\n",
              "      width: 32px;\n",
              "    }\n",
              "\n",
              "    .colab-df-convert:hover {\n",
              "      background-color: #E2EBFA;\n",
              "      box-shadow: 0px 1px 2px rgba(60, 64, 67, 0.3), 0px 1px 3px 1px rgba(60, 64, 67, 0.15);\n",
              "      fill: #174EA6;\n",
              "    }\n",
              "\n",
              "    .colab-df-buttons div {\n",
              "      margin-bottom: 4px;\n",
              "    }\n",
              "\n",
              "    [theme=dark] .colab-df-convert {\n",
              "      background-color: #3B4455;\n",
              "      fill: #D2E3FC;\n",
              "    }\n",
              "\n",
              "    [theme=dark] .colab-df-convert:hover {\n",
              "      background-color: #434B5C;\n",
              "      box-shadow: 0px 1px 3px 1px rgba(0, 0, 0, 0.15);\n",
              "      filter: drop-shadow(0px 1px 2px rgba(0, 0, 0, 0.3));\n",
              "      fill: #FFFFFF;\n",
              "    }\n",
              "  </style>\n",
              "\n",
              "    <script>\n",
              "      const buttonEl =\n",
              "        document.querySelector('#df-98598f1a-c3d3-4dd1-b166-4be0128ba5af button.colab-df-convert');\n",
              "      buttonEl.style.display =\n",
              "        google.colab.kernel.accessAllowed ? 'block' : 'none';\n",
              "\n",
              "      async function convertToInteractive(key) {\n",
              "        const element = document.querySelector('#df-98598f1a-c3d3-4dd1-b166-4be0128ba5af');\n",
              "        const dataTable =\n",
              "          await google.colab.kernel.invokeFunction('convertToInteractive',\n",
              "                                                    [key], {});\n",
              "        if (!dataTable) return;\n",
              "\n",
              "        const docLinkHtml = 'Like what you see? Visit the ' +\n",
              "          '<a target=\"_blank\" href=https://colab.research.google.com/notebooks/data_table.ipynb>data table notebook</a>'\n",
              "          + ' to learn more about interactive tables.';\n",
              "        element.innerHTML = '';\n",
              "        dataTable['output_type'] = 'display_data';\n",
              "        await google.colab.output.renderOutput(dataTable, element);\n",
              "        const docLink = document.createElement('div');\n",
              "        docLink.innerHTML = docLinkHtml;\n",
              "        element.appendChild(docLink);\n",
              "      }\n",
              "    </script>\n",
              "  </div>\n",
              "\n",
              "\n",
              "<div id=\"df-905f9153-9d27-40d2-b218-0b8f0789363e\">\n",
              "  <button class=\"colab-df-quickchart\" onclick=\"quickchart('df-905f9153-9d27-40d2-b218-0b8f0789363e')\"\n",
              "            title=\"Suggest charts.\"\n",
              "            style=\"display:none;\">\n",
              "\n",
              "<svg xmlns=\"http://www.w3.org/2000/svg\" height=\"24px\"viewBox=\"0 0 24 24\"\n",
              "     width=\"24px\">\n",
              "    <g>\n",
              "        <path d=\"M19 3H5c-1.1 0-2 .9-2 2v14c0 1.1.9 2 2 2h14c1.1 0 2-.9 2-2V5c0-1.1-.9-2-2-2zM9 17H7v-7h2v7zm4 0h-2V7h2v10zm4 0h-2v-4h2v4z\"/>\n",
              "    </g>\n",
              "</svg>\n",
              "  </button>\n",
              "\n",
              "<style>\n",
              "  .colab-df-quickchart {\n",
              "      --bg-color: #E8F0FE;\n",
              "      --fill-color: #1967D2;\n",
              "      --hover-bg-color: #E2EBFA;\n",
              "      --hover-fill-color: #174EA6;\n",
              "      --disabled-fill-color: #AAA;\n",
              "      --disabled-bg-color: #DDD;\n",
              "  }\n",
              "\n",
              "  [theme=dark] .colab-df-quickchart {\n",
              "      --bg-color: #3B4455;\n",
              "      --fill-color: #D2E3FC;\n",
              "      --hover-bg-color: #434B5C;\n",
              "      --hover-fill-color: #FFFFFF;\n",
              "      --disabled-bg-color: #3B4455;\n",
              "      --disabled-fill-color: #666;\n",
              "  }\n",
              "\n",
              "  .colab-df-quickchart {\n",
              "    background-color: var(--bg-color);\n",
              "    border: none;\n",
              "    border-radius: 50%;\n",
              "    cursor: pointer;\n",
              "    display: none;\n",
              "    fill: var(--fill-color);\n",
              "    height: 32px;\n",
              "    padding: 0;\n",
              "    width: 32px;\n",
              "  }\n",
              "\n",
              "  .colab-df-quickchart:hover {\n",
              "    background-color: var(--hover-bg-color);\n",
              "    box-shadow: 0 1px 2px rgba(60, 64, 67, 0.3), 0 1px 3px 1px rgba(60, 64, 67, 0.15);\n",
              "    fill: var(--button-hover-fill-color);\n",
              "  }\n",
              "\n",
              "  .colab-df-quickchart-complete:disabled,\n",
              "  .colab-df-quickchart-complete:disabled:hover {\n",
              "    background-color: var(--disabled-bg-color);\n",
              "    fill: var(--disabled-fill-color);\n",
              "    box-shadow: none;\n",
              "  }\n",
              "\n",
              "  .colab-df-spinner {\n",
              "    border: 2px solid var(--fill-color);\n",
              "    border-color: transparent;\n",
              "    border-bottom-color: var(--fill-color);\n",
              "    animation:\n",
              "      spin 1s steps(1) infinite;\n",
              "  }\n",
              "\n",
              "  @keyframes spin {\n",
              "    0% {\n",
              "      border-color: transparent;\n",
              "      border-bottom-color: var(--fill-color);\n",
              "      border-left-color: var(--fill-color);\n",
              "    }\n",
              "    20% {\n",
              "      border-color: transparent;\n",
              "      border-left-color: var(--fill-color);\n",
              "      border-top-color: var(--fill-color);\n",
              "    }\n",
              "    30% {\n",
              "      border-color: transparent;\n",
              "      border-left-color: var(--fill-color);\n",
              "      border-top-color: var(--fill-color);\n",
              "      border-right-color: var(--fill-color);\n",
              "    }\n",
              "    40% {\n",
              "      border-color: transparent;\n",
              "      border-right-color: var(--fill-color);\n",
              "      border-top-color: var(--fill-color);\n",
              "    }\n",
              "    60% {\n",
              "      border-color: transparent;\n",
              "      border-right-color: var(--fill-color);\n",
              "    }\n",
              "    80% {\n",
              "      border-color: transparent;\n",
              "      border-right-color: var(--fill-color);\n",
              "      border-bottom-color: var(--fill-color);\n",
              "    }\n",
              "    90% {\n",
              "      border-color: transparent;\n",
              "      border-bottom-color: var(--fill-color);\n",
              "    }\n",
              "  }\n",
              "</style>\n",
              "\n",
              "  <script>\n",
              "    async function quickchart(key) {\n",
              "      const quickchartButtonEl =\n",
              "        document.querySelector('#' + key + ' button');\n",
              "      quickchartButtonEl.disabled = true;  // To prevent multiple clicks.\n",
              "      quickchartButtonEl.classList.add('colab-df-spinner');\n",
              "      try {\n",
              "        const charts = await google.colab.kernel.invokeFunction(\n",
              "            'suggestCharts', [key], {});\n",
              "      } catch (error) {\n",
              "        console.error('Error during call to suggestCharts:', error);\n",
              "      }\n",
              "      quickchartButtonEl.classList.remove('colab-df-spinner');\n",
              "      quickchartButtonEl.classList.add('colab-df-quickchart-complete');\n",
              "    }\n",
              "    (() => {\n",
              "      let quickchartButtonEl =\n",
              "        document.querySelector('#df-905f9153-9d27-40d2-b218-0b8f0789363e button');\n",
              "      quickchartButtonEl.style.display =\n",
              "        google.colab.kernel.accessAllowed ? 'block' : 'none';\n",
              "    })();\n",
              "  </script>\n",
              "</div>\n",
              "    </div>\n",
              "  </div>\n"
            ]
          },
          "metadata": {},
          "execution_count": 174
        }
      ]
    },
    {
      "cell_type": "markdown",
      "source": [
        "**Feature Scaling**"
      ],
      "metadata": {
        "id": "gxFiADeR8REu"
      }
    },
    {
      "cell_type": "code",
      "source": [
        "cols = X.columns\n",
        "cols"
      ],
      "metadata": {
        "colab": {
          "base_uri": "https://localhost:8080/"
        },
        "id": "dcRs5UsX8lO1",
        "outputId": "9ea695b4-ec34-42e7-85b0-5125ffc62823"
      },
      "execution_count": 175,
      "outputs": [
        {
          "output_type": "execute_result",
          "data": {
            "text/plain": [
              "Index(['status_type', 'num_reactions', 'num_comments', 'num_shares',\n",
              "       'num_likes', 'num_loves', 'num_wows', 'num_hahas', 'num_sads',\n",
              "       'num_angrys'],\n",
              "      dtype='object')"
            ]
          },
          "metadata": {},
          "execution_count": 175
        }
      ]
    },
    {
      "cell_type": "code",
      "source": [
        "from sklearn.preprocessing import MinMaxScaler\n",
        "\n",
        "ms = MinMaxScaler()\n",
        "X = ms.fit_transform(X)\n",
        "type(X)"
      ],
      "metadata": {
        "colab": {
          "base_uri": "https://localhost:8080/"
        },
        "id": "lb7UjPEe7TSi",
        "outputId": "7006bdf8-4e24-4e98-8e2a-e53b36bb600b"
      },
      "execution_count": 176,
      "outputs": [
        {
          "output_type": "execute_result",
          "data": {
            "text/plain": [
              "numpy.ndarray"
            ]
          },
          "metadata": {},
          "execution_count": 176
        }
      ]
    },
    {
      "cell_type": "code",
      "source": [
        "pd.DataFrame(X, columns = [cols]).head()"
      ],
      "metadata": {
        "colab": {
          "base_uri": "https://localhost:8080/",
          "height": 206
        },
        "id": "-axuxbE78Ssc",
        "outputId": "6d77cad5-87db-4232-b649-ff4fa1569b94"
      },
      "execution_count": 177,
      "outputs": [
        {
          "output_type": "execute_result",
          "data": {
            "text/plain": [
              "  status_type num_reactions num_comments num_shares num_likes num_loves  \\\n",
              "0    1.000000      0.112314     0.024393   0.076519  0.091720  0.140030   \n",
              "1    0.333333      0.031847     0.000000   0.000000  0.031847  0.000000   \n",
              "2    1.000000      0.048195     0.011243   0.016647  0.043312  0.031963   \n",
              "3    0.333333      0.023567     0.000000   0.000000  0.023567  0.000000   \n",
              "4    0.333333      0.045223     0.000000   0.000000  0.043312  0.013699   \n",
              "\n",
              "   num_wows num_hahas  num_sads num_angrys  \n",
              "0  0.010791  0.006369  0.019608        0.0  \n",
              "1  0.000000  0.000000  0.000000        0.0  \n",
              "2  0.003597  0.006369  0.000000        0.0  \n",
              "3  0.000000  0.000000  0.000000        0.0  \n",
              "4  0.000000  0.000000  0.000000        0.0  "
            ],
            "text/html": [
              "\n",
              "  <div id=\"df-f560182a-da2a-4dcf-8e7a-2af60099822d\" class=\"colab-df-container\">\n",
              "    <div>\n",
              "<style scoped>\n",
              "    .dataframe tbody tr th:only-of-type {\n",
              "        vertical-align: middle;\n",
              "    }\n",
              "\n",
              "    .dataframe tbody tr th {\n",
              "        vertical-align: top;\n",
              "    }\n",
              "\n",
              "    .dataframe thead tr th {\n",
              "        text-align: left;\n",
              "    }\n",
              "</style>\n",
              "<table border=\"1\" class=\"dataframe\">\n",
              "  <thead>\n",
              "    <tr>\n",
              "      <th></th>\n",
              "      <th>status_type</th>\n",
              "      <th>num_reactions</th>\n",
              "      <th>num_comments</th>\n",
              "      <th>num_shares</th>\n",
              "      <th>num_likes</th>\n",
              "      <th>num_loves</th>\n",
              "      <th>num_wows</th>\n",
              "      <th>num_hahas</th>\n",
              "      <th>num_sads</th>\n",
              "      <th>num_angrys</th>\n",
              "    </tr>\n",
              "  </thead>\n",
              "  <tbody>\n",
              "    <tr>\n",
              "      <th>0</th>\n",
              "      <td>1.000000</td>\n",
              "      <td>0.112314</td>\n",
              "      <td>0.024393</td>\n",
              "      <td>0.076519</td>\n",
              "      <td>0.091720</td>\n",
              "      <td>0.140030</td>\n",
              "      <td>0.010791</td>\n",
              "      <td>0.006369</td>\n",
              "      <td>0.019608</td>\n",
              "      <td>0.0</td>\n",
              "    </tr>\n",
              "    <tr>\n",
              "      <th>1</th>\n",
              "      <td>0.333333</td>\n",
              "      <td>0.031847</td>\n",
              "      <td>0.000000</td>\n",
              "      <td>0.000000</td>\n",
              "      <td>0.031847</td>\n",
              "      <td>0.000000</td>\n",
              "      <td>0.000000</td>\n",
              "      <td>0.000000</td>\n",
              "      <td>0.000000</td>\n",
              "      <td>0.0</td>\n",
              "    </tr>\n",
              "    <tr>\n",
              "      <th>2</th>\n",
              "      <td>1.000000</td>\n",
              "      <td>0.048195</td>\n",
              "      <td>0.011243</td>\n",
              "      <td>0.016647</td>\n",
              "      <td>0.043312</td>\n",
              "      <td>0.031963</td>\n",
              "      <td>0.003597</td>\n",
              "      <td>0.006369</td>\n",
              "      <td>0.000000</td>\n",
              "      <td>0.0</td>\n",
              "    </tr>\n",
              "    <tr>\n",
              "      <th>3</th>\n",
              "      <td>0.333333</td>\n",
              "      <td>0.023567</td>\n",
              "      <td>0.000000</td>\n",
              "      <td>0.000000</td>\n",
              "      <td>0.023567</td>\n",
              "      <td>0.000000</td>\n",
              "      <td>0.000000</td>\n",
              "      <td>0.000000</td>\n",
              "      <td>0.000000</td>\n",
              "      <td>0.0</td>\n",
              "    </tr>\n",
              "    <tr>\n",
              "      <th>4</th>\n",
              "      <td>0.333333</td>\n",
              "      <td>0.045223</td>\n",
              "      <td>0.000000</td>\n",
              "      <td>0.000000</td>\n",
              "      <td>0.043312</td>\n",
              "      <td>0.013699</td>\n",
              "      <td>0.000000</td>\n",
              "      <td>0.000000</td>\n",
              "      <td>0.000000</td>\n",
              "      <td>0.0</td>\n",
              "    </tr>\n",
              "  </tbody>\n",
              "</table>\n",
              "</div>\n",
              "    <div class=\"colab-df-buttons\">\n",
              "\n",
              "  <div class=\"colab-df-container\">\n",
              "    <button class=\"colab-df-convert\" onclick=\"convertToInteractive('df-f560182a-da2a-4dcf-8e7a-2af60099822d')\"\n",
              "            title=\"Convert this dataframe to an interactive table.\"\n",
              "            style=\"display:none;\">\n",
              "\n",
              "  <svg xmlns=\"http://www.w3.org/2000/svg\" height=\"24px\" viewBox=\"0 -960 960 960\">\n",
              "    <path d=\"M120-120v-720h720v720H120Zm60-500h600v-160H180v160Zm220 220h160v-160H400v160Zm0 220h160v-160H400v160ZM180-400h160v-160H180v160Zm440 0h160v-160H620v160ZM180-180h160v-160H180v160Zm440 0h160v-160H620v160Z\"/>\n",
              "  </svg>\n",
              "    </button>\n",
              "\n",
              "  <style>\n",
              "    .colab-df-container {\n",
              "      display:flex;\n",
              "      gap: 12px;\n",
              "    }\n",
              "\n",
              "    .colab-df-convert {\n",
              "      background-color: #E8F0FE;\n",
              "      border: none;\n",
              "      border-radius: 50%;\n",
              "      cursor: pointer;\n",
              "      display: none;\n",
              "      fill: #1967D2;\n",
              "      height: 32px;\n",
              "      padding: 0 0 0 0;\n",
              "      width: 32px;\n",
              "    }\n",
              "\n",
              "    .colab-df-convert:hover {\n",
              "      background-color: #E2EBFA;\n",
              "      box-shadow: 0px 1px 2px rgba(60, 64, 67, 0.3), 0px 1px 3px 1px rgba(60, 64, 67, 0.15);\n",
              "      fill: #174EA6;\n",
              "    }\n",
              "\n",
              "    .colab-df-buttons div {\n",
              "      margin-bottom: 4px;\n",
              "    }\n",
              "\n",
              "    [theme=dark] .colab-df-convert {\n",
              "      background-color: #3B4455;\n",
              "      fill: #D2E3FC;\n",
              "    }\n",
              "\n",
              "    [theme=dark] .colab-df-convert:hover {\n",
              "      background-color: #434B5C;\n",
              "      box-shadow: 0px 1px 3px 1px rgba(0, 0, 0, 0.15);\n",
              "      filter: drop-shadow(0px 1px 2px rgba(0, 0, 0, 0.3));\n",
              "      fill: #FFFFFF;\n",
              "    }\n",
              "  </style>\n",
              "\n",
              "    <script>\n",
              "      const buttonEl =\n",
              "        document.querySelector('#df-f560182a-da2a-4dcf-8e7a-2af60099822d button.colab-df-convert');\n",
              "      buttonEl.style.display =\n",
              "        google.colab.kernel.accessAllowed ? 'block' : 'none';\n",
              "\n",
              "      async function convertToInteractive(key) {\n",
              "        const element = document.querySelector('#df-f560182a-da2a-4dcf-8e7a-2af60099822d');\n",
              "        const dataTable =\n",
              "          await google.colab.kernel.invokeFunction('convertToInteractive',\n",
              "                                                    [key], {});\n",
              "        if (!dataTable) return;\n",
              "\n",
              "        const docLinkHtml = 'Like what you see? Visit the ' +\n",
              "          '<a target=\"_blank\" href=https://colab.research.google.com/notebooks/data_table.ipynb>data table notebook</a>'\n",
              "          + ' to learn more about interactive tables.';\n",
              "        element.innerHTML = '';\n",
              "        dataTable['output_type'] = 'display_data';\n",
              "        await google.colab.output.renderOutput(dataTable, element);\n",
              "        const docLink = document.createElement('div');\n",
              "        docLink.innerHTML = docLinkHtml;\n",
              "        element.appendChild(docLink);\n",
              "      }\n",
              "    </script>\n",
              "  </div>\n",
              "\n",
              "\n",
              "<div id=\"df-f1b9b723-e108-48ef-9c8e-1f415549d544\">\n",
              "  <button class=\"colab-df-quickchart\" onclick=\"quickchart('df-f1b9b723-e108-48ef-9c8e-1f415549d544')\"\n",
              "            title=\"Suggest charts.\"\n",
              "            style=\"display:none;\">\n",
              "\n",
              "<svg xmlns=\"http://www.w3.org/2000/svg\" height=\"24px\"viewBox=\"0 0 24 24\"\n",
              "     width=\"24px\">\n",
              "    <g>\n",
              "        <path d=\"M19 3H5c-1.1 0-2 .9-2 2v14c0 1.1.9 2 2 2h14c1.1 0 2-.9 2-2V5c0-1.1-.9-2-2-2zM9 17H7v-7h2v7zm4 0h-2V7h2v10zm4 0h-2v-4h2v4z\"/>\n",
              "    </g>\n",
              "</svg>\n",
              "  </button>\n",
              "\n",
              "<style>\n",
              "  .colab-df-quickchart {\n",
              "      --bg-color: #E8F0FE;\n",
              "      --fill-color: #1967D2;\n",
              "      --hover-bg-color: #E2EBFA;\n",
              "      --hover-fill-color: #174EA6;\n",
              "      --disabled-fill-color: #AAA;\n",
              "      --disabled-bg-color: #DDD;\n",
              "  }\n",
              "\n",
              "  [theme=dark] .colab-df-quickchart {\n",
              "      --bg-color: #3B4455;\n",
              "      --fill-color: #D2E3FC;\n",
              "      --hover-bg-color: #434B5C;\n",
              "      --hover-fill-color: #FFFFFF;\n",
              "      --disabled-bg-color: #3B4455;\n",
              "      --disabled-fill-color: #666;\n",
              "  }\n",
              "\n",
              "  .colab-df-quickchart {\n",
              "    background-color: var(--bg-color);\n",
              "    border: none;\n",
              "    border-radius: 50%;\n",
              "    cursor: pointer;\n",
              "    display: none;\n",
              "    fill: var(--fill-color);\n",
              "    height: 32px;\n",
              "    padding: 0;\n",
              "    width: 32px;\n",
              "  }\n",
              "\n",
              "  .colab-df-quickchart:hover {\n",
              "    background-color: var(--hover-bg-color);\n",
              "    box-shadow: 0 1px 2px rgba(60, 64, 67, 0.3), 0 1px 3px 1px rgba(60, 64, 67, 0.15);\n",
              "    fill: var(--button-hover-fill-color);\n",
              "  }\n",
              "\n",
              "  .colab-df-quickchart-complete:disabled,\n",
              "  .colab-df-quickchart-complete:disabled:hover {\n",
              "    background-color: var(--disabled-bg-color);\n",
              "    fill: var(--disabled-fill-color);\n",
              "    box-shadow: none;\n",
              "  }\n",
              "\n",
              "  .colab-df-spinner {\n",
              "    border: 2px solid var(--fill-color);\n",
              "    border-color: transparent;\n",
              "    border-bottom-color: var(--fill-color);\n",
              "    animation:\n",
              "      spin 1s steps(1) infinite;\n",
              "  }\n",
              "\n",
              "  @keyframes spin {\n",
              "    0% {\n",
              "      border-color: transparent;\n",
              "      border-bottom-color: var(--fill-color);\n",
              "      border-left-color: var(--fill-color);\n",
              "    }\n",
              "    20% {\n",
              "      border-color: transparent;\n",
              "      border-left-color: var(--fill-color);\n",
              "      border-top-color: var(--fill-color);\n",
              "    }\n",
              "    30% {\n",
              "      border-color: transparent;\n",
              "      border-left-color: var(--fill-color);\n",
              "      border-top-color: var(--fill-color);\n",
              "      border-right-color: var(--fill-color);\n",
              "    }\n",
              "    40% {\n",
              "      border-color: transparent;\n",
              "      border-right-color: var(--fill-color);\n",
              "      border-top-color: var(--fill-color);\n",
              "    }\n",
              "    60% {\n",
              "      border-color: transparent;\n",
              "      border-right-color: var(--fill-color);\n",
              "    }\n",
              "    80% {\n",
              "      border-color: transparent;\n",
              "      border-right-color: var(--fill-color);\n",
              "      border-bottom-color: var(--fill-color);\n",
              "    }\n",
              "    90% {\n",
              "      border-color: transparent;\n",
              "      border-bottom-color: var(--fill-color);\n",
              "    }\n",
              "  }\n",
              "</style>\n",
              "\n",
              "  <script>\n",
              "    async function quickchart(key) {\n",
              "      const quickchartButtonEl =\n",
              "        document.querySelector('#' + key + ' button');\n",
              "      quickchartButtonEl.disabled = true;  // To prevent multiple clicks.\n",
              "      quickchartButtonEl.classList.add('colab-df-spinner');\n",
              "      try {\n",
              "        const charts = await google.colab.kernel.invokeFunction(\n",
              "            'suggestCharts', [key], {});\n",
              "      } catch (error) {\n",
              "        console.error('Error during call to suggestCharts:', error);\n",
              "      }\n",
              "      quickchartButtonEl.classList.remove('colab-df-spinner');\n",
              "      quickchartButtonEl.classList.add('colab-df-quickchart-complete');\n",
              "    }\n",
              "    (() => {\n",
              "      let quickchartButtonEl =\n",
              "        document.querySelector('#df-f1b9b723-e108-48ef-9c8e-1f415549d544 button');\n",
              "      quickchartButtonEl.style.display =\n",
              "        google.colab.kernel.accessAllowed ? 'block' : 'none';\n",
              "    })();\n",
              "  </script>\n",
              "</div>\n",
              "    </div>\n",
              "  </div>\n"
            ]
          },
          "metadata": {},
          "execution_count": 177
        }
      ]
    },
    {
      "cell_type": "markdown",
      "source": [
        "## **K-Means implement**"
      ],
      "metadata": {
        "id": "I8LaNuDk-HZa"
      }
    },
    {
      "cell_type": "markdown",
      "source": [
        "##### **Overall**"
      ],
      "metadata": {
        "id": "7MhvBTwB1Hf-"
      }
    },
    {
      "cell_type": "markdown",
      "source": [
        "After processing the data, we will implement K-Means(++) to train model.\n",
        "\n",
        "Recall the overview of K-Means algorithm:\n",
        "Input: Data X and the desired number of clusters K.\n",
        "\n",
        "Output: Centers M and a label vector for each data point Y.\n",
        "\n",
        "1. Choose K arbitrary points as initial centers.\n",
        "2. Assign each data point to the cluster with the nearest center.\n",
        "3. If the data point assignments in step 2 do not change compared to the previous iteration, stop the algorithm.\n",
        "4. Update the center for each cluster by taking the average of all the data points assigned to that cluster in step 2.\n",
        "5. Return to step 2.\n",
        "\n",
        "(It's a bit difference between K-Means and K-Means++ is when initialing the centers)"
      ],
      "metadata": {
        "id": "5ZMu6tscbOrK"
      }
    },
    {
      "cell_type": "markdown",
      "source": [
        "##### **How to measure the model performance?**"
      ],
      "metadata": {
        "id": "9zdl2Yfo001g"
      }
    },
    {
      "cell_type": "markdown",
      "source": [
        "The KMeans algorithm clusters data by trying to separate samples in n groups of equal variances, minimizing a criterion known as **inertia**, or **within-cluster sum-of-squares**. **Inertia**, or the **within-cluster sum of squares** criterion, can be recognized as a measure of how internally coherent clusters are.\n",
        "\n",
        "The K-means algorithm divides a set of M samples X into K disjoint clusters C, each described by the mean j of the samples in the cluster. The means are commonly called the cluster centroids.\n",
        "\n",
        "The K-means algorithm aims to choose centroids that minimize the **inertia**, or **within-cluster sum of squared** criterion."
      ],
      "metadata": {
        "id": "9-rLiYIuGnP9"
      }
    },
    {
      "cell_type": "markdown",
      "source": [
        "**Inertia**\n",
        "\n",
        "1. Inertia is not a normalized metric.\n",
        "\n",
        "2. The lower values of inertia are better and zero is optimal.\n",
        "\n",
        "3. But in very high-dimensional spaces, euclidean distances tend to become inflated (this is an instance of **curse of dimensionality**).\n",
        "\n",
        "4. Running a dimensionality reduction algorithm such as PCA prior to k-means clustering can alleviate this problem and speed up the computations."
      ],
      "metadata": {
        "id": "uuQbiA2pIemm"
      }
    },
    {
      "cell_type": "markdown",
      "source": [
        "### **Implement pure K-Means**"
      ],
      "metadata": {
        "id": "ltEHdYG4Ptw1"
      }
    },
    {
      "cell_type": "markdown",
      "source": [
        "#### **Draft code**"
      ],
      "metadata": {
        "id": "epifn_wgjJkg"
      }
    },
    {
      "cell_type": "markdown",
      "source": [
        "The codes below will be used to implement K-Means but these are just draft codes. I do it for the convenience of coding and functional testing. Then I'll move all these functions into a class so it looks concise, clear, and like how it would be implemented in the Scikit Learn library([KMeansClustering class](#scrollTo=V-p9Bd4CoHGp&line=1&uniqifier=1)). I will comment out these draft codes below for convenience later when RUNNING ALL this kernel. If you want to see how these functions work independently when testing, feel free to uncomment the code and run it yourself."
      ],
      "metadata": {
        "id": "H9Rxc5ZQj2tL"
      }
    },
    {
      "cell_type": "code",
      "source": [
        "# def init_centroids(X, K):\n",
        "#   # randomly pick k rows of X as initial centers\n",
        "#   centroids = X[np.random.choice(range(X.shape[0]), K, replace=False)]\n",
        "\n",
        "#   return centroids"
      ],
      "metadata": {
        "id": "Hm2PHT5V8Sje"
      },
      "execution_count": 178,
      "outputs": []
    },
    {
      "cell_type": "code",
      "source": [
        "# init_centroids(X, 4).shape"
      ],
      "metadata": {
        "id": "6JEaMS328SgY"
      },
      "execution_count": 179,
      "outputs": []
    },
    {
      "cell_type": "code",
      "source": [
        "# def assign_clusters(X, centroids):\n",
        "#   cluster_idxs = []\n",
        "#   for x in X:\n",
        "#     # closest centroid using euler distance equation(calculate distance of every point from centroid)\n",
        "#     cluster_idx = np.argmin(\n",
        "#           np.sqrt(np.sum((x - centroids)**2, axis=1))\n",
        "#         )\n",
        "#     cluster_idxs.append(cluster_idx)\n",
        "\n",
        "#   return cluster_idxs"
      ],
      "metadata": {
        "id": "FTj0dgp38SdQ"
      },
      "execution_count": 180,
      "outputs": []
    },
    {
      "cell_type": "code",
      "source": [
        "# #Test assign_clusters\n",
        "# X_test = np.array([[1, 2], [3, 4], [5, 6], [20, 21], [22, 23]])\n",
        "# centroids_test = np.array([[2, 3], [21, 22]])\n",
        "# cluster_assignments = assign_clusters(X_test, centroids_test)\n",
        "# print(\"Cluster Assignments:\", cluster_assignments)"
      ],
      "metadata": {
        "id": "vYGDY278Kmc8"
      },
      "execution_count": 181,
      "outputs": []
    },
    {
      "cell_type": "code",
      "source": [
        "# X_test[np.random.choice(range(X_test.shape[0]), 2, replace=False)]"
      ],
      "metadata": {
        "id": "fYGaR_vtzNqe"
      },
      "execution_count": 182,
      "outputs": []
    },
    {
      "cell_type": "code",
      "source": [
        "# X_test[np.array(cluster_assignments)==0]"
      ],
      "metadata": {
        "id": "zqkcvk8oVlaB"
      },
      "execution_count": 183,
      "outputs": []
    },
    {
      "cell_type": "code",
      "source": [
        "# np.mean(X_test[np.array(cluster_assignments)==0], axis=0)"
      ],
      "metadata": {
        "id": "7L5fbfz1YlfU"
      },
      "execution_count": 184,
      "outputs": []
    },
    {
      "cell_type": "code",
      "source": [
        "# np.sum(X_test[np.array(cluster_assignments)==0], axis=1)"
      ],
      "metadata": {
        "id": "9eLbbgFBZ1my"
      },
      "execution_count": 185,
      "outputs": []
    },
    {
      "cell_type": "code",
      "source": [
        "# def update_centroids(X, labels, K):\n",
        "#   centroids = np.zeros((K, X.shape[1]))\n",
        "\n",
        "#   for k in range(K):\n",
        "#     # Filter all all points that were assigned to k-th cluster\n",
        "#     X_k = X[np.array(labels)==k]\n",
        "\n",
        "#     # The new centroid will be means of these points belong to k-th\n",
        "#     centroids[k, :] = np.mean(X_k, axis=0)\n",
        "#     # print(centroids[k, :])\n",
        "#     # print(np.mean(X_k, axis=0))\n",
        "\n",
        "#   return centroids"
      ],
      "metadata": {
        "id": "qfEVRHWAKmZ_"
      },
      "execution_count": 186,
      "outputs": []
    },
    {
      "cell_type": "code",
      "source": [
        "#Test update_centroids\n",
        "# update_centroids(X_test, cluster_assignments, 2)"
      ],
      "metadata": {
        "id": "pqE4J8t6KmXG"
      },
      "execution_count": 187,
      "outputs": []
    },
    {
      "cell_type": "code",
      "source": [
        "# def has_converged(centroids, new_centroids):\n",
        "#   # return True if two sets of centers are the same\n",
        "#   converged = set([tuple(a) for a in centroids]) == set([tuple(a) for a in new_centroids])\n",
        "\n",
        "#   return converged"
      ],
      "metadata": {
        "id": "UMaWrXyXKmUE"
      },
      "execution_count": 188,
      "outputs": []
    },
    {
      "cell_type": "code",
      "source": [
        "# # def fit(X, K, max_interation=100):\n",
        "# #   labels = []\n",
        "# #   inter = 0\n",
        "\n",
        "# #   #1\n",
        "# #   centroids = [init_centroids(X, K)]\n",
        "\n",
        "# #   for _ in range(max_interation):\n",
        "# #     while True:\n",
        "# #       #2\n",
        "# #       labels.append(assign_clusters(X, centroids[-1]))\n",
        "\n",
        "# #       new_centroids = update_centroids(X, labels[-1], K)\n",
        "\n",
        "# #       #3\n",
        "# #       if has_converged(centroids[-1], new_centroids):\n",
        "# #         break\n",
        "# #       centroids.append(new_centroids)\n",
        "\n",
        "# #       inter +=1\n",
        "\n",
        "# #   return centroids, labels, inter\n",
        "\n",
        "# # Keep this version\n",
        "# def fit(X, K, max_interation = 100, tolerance=1e-4):\n",
        "#     n_samples, n_features = X.shape\n",
        "#     centroids = np.empty((K, n_features), dtype=X.dtype)\n",
        "#     cluster_labels = []\n",
        "#     inter = 0\n",
        "\n",
        "#     # Step 1: Initialize centroids using K-means++\n",
        "#     centroids = init_centroids(X, K)\n",
        "\n",
        "#     for iteration in range(1, max_interation + 1):\n",
        "#         # Step 2: Assign data points to the nearest centroids\n",
        "#         cluster_labels = assign_clusters(X, centroids)\n",
        "\n",
        "#         # Step 3: Update centroids based on the assigned clusters\n",
        "#         new_centroids = update_centroids(X, cluster_labels, K)\n",
        "\n",
        "#         # Step 4: Check for convergence\n",
        "#         if np.all(np.abs(new_centroids - centroids) < tolerance):\n",
        "#           break\n",
        "\n",
        "#         centroids = new_centroids\n",
        "#         inter = iteration\n",
        "\n",
        "#     return centroids, cluster_labels, inter"
      ],
      "metadata": {
        "id": "nFR3ANfTHgsA"
      },
      "execution_count": 189,
      "outputs": []
    },
    {
      "cell_type": "code",
      "source": [
        "# X_test"
      ],
      "metadata": {
        "id": "LHJ05kL1h6_d"
      },
      "execution_count": 190,
      "outputs": []
    },
    {
      "cell_type": "code",
      "source": [
        "# #Test fit\n",
        "# fit(X_test, 2)"
      ],
      "metadata": {
        "id": "qL3inkXxHgiP"
      },
      "execution_count": 191,
      "outputs": []
    },
    {
      "cell_type": "code",
      "source": [
        "# def inertia(X, centroids, labels):\n",
        "#   wcss = 0\n",
        "#   for k in range(centroids.shape[0]):\n",
        "#     X_k = X[np.array(labels) == k]\n",
        "#     if len(X_k) > 0:\n",
        "#       wcss += np.sum((X_k - centroids[k, :])**2)\n",
        "\n",
        "#   return wcss"
      ],
      "metadata": {
        "id": "Ize8ZF6e1jxn"
      },
      "execution_count": 192,
      "outputs": []
    },
    {
      "cell_type": "markdown",
      "source": [
        "#### **KMeans class**"
      ],
      "metadata": {
        "id": "tV8l5aZcwzE1"
      }
    },
    {
      "cell_type": "code",
      "source": [
        "class KMeansBase:\n",
        "  def __init__(self, n_clusters, max_iter = 100, random_state=None, tolerance=1e-4):\n",
        "    '''\n",
        "      Parameters:\n",
        "        - X: Shape (m, n), input data\n",
        "        - num_clusters: Number of clusters\n",
        "        - max_iterations: A specified number of iterations ensure the algorithm\n",
        "          terminates even if convergence is not reached.\n",
        "        - tolerance: Parameter to determine the convergence criterion. The\n",
        "          iteration stops when the change in centroids is smaller than this tolerance.\n",
        "        - random_state: Random state\n",
        "    '''\n",
        "    self.K = n_clusters\n",
        "    self.max_iter = max_iter\n",
        "    self.tol = tolerance\n",
        "    self.random_state = random_state\n",
        "\n",
        "    self.cluster_centers_ = None\n",
        "    self.labels_ = None\n",
        "    self.inertia_ = None\n",
        "    self.n_iter_ = None\n",
        "\n",
        "  def init_centroids(self, X):\n",
        "    '''\n",
        "      1. Choose K arbitrary points as initial centroids.\n",
        "        - Randomly pick K rows of X as initial centroids.\n",
        "    '''\n",
        "    centroids = X[np.random.choice(range(X.shape[0]), self.K, replace=False)]\n",
        "\n",
        "    return centroids\n",
        "\n",
        "  def assign_clusters(self, X, centroids):\n",
        "    cluster_idxs = []\n",
        "    for x in X:\n",
        "      # Closest centroid using euler distance equation(calculate distance of every point from centroid)\n",
        "      cluster_idx = np.argmin(\n",
        "            np.sqrt(np.sum((x - centroids)**2, axis=1))\n",
        "          )\n",
        "      cluster_idxs.append(cluster_idx)\n",
        "\n",
        "    return cluster_idxs\n",
        "\n",
        "  def update_centroids(self, X, labels):\n",
        "    '''\n",
        "      Parameters:\n",
        "        - X: Input data\n",
        "        - labels: (Len = number of examples): A list containing the index of the cluster to which each X belongs.\n",
        "        - K: Number of clusters\n",
        "    '''\n",
        "    centroids = np.zeros((self.K, X.shape[1]))\n",
        "\n",
        "    for k in range(self.K):\n",
        "      # Filter all all points that were assigned to k-th cluster\n",
        "      X_k = X[np.array(labels)==k]\n",
        "\n",
        "      # The new centroid will be means of these points belong to k-th\n",
        "      centroids[k, :] = np.mean(X_k, axis=0)\n",
        "\n",
        "    return centroids\n",
        "\n",
        "  def inertia(self, X, centroids, labels):\n",
        "    wcss = 0\n",
        "    for k in range(self.K):\n",
        "      X_k = X[np.array(labels) == k]\n",
        "      if len(X_k) > 0:\n",
        "        wcss += np.sum((X_k - centroids[k, :])**2)\n",
        "\n",
        "    return wcss\n",
        "\n",
        "  def fit(self, X):\n",
        "\n",
        "    np.random.seed(self.random_state)\n",
        "    n_samples, n_features = X.shape\n",
        "    centroids = np.empty((self.K, n_features), dtype=X.dtype)\n",
        "    cluster_labels = []\n",
        "    iter = 0\n",
        "\n",
        "    # Step 1: Initialize centroids using K-means++\n",
        "    centroids = self.init_centroids(X)\n",
        "\n",
        "    for iteration in range(1, self.max_iter + 1):\n",
        "        # Step 2: Assign data points to the nearest centroids\n",
        "        cluster_labels = self.assign_clusters(X, centroids)\n",
        "\n",
        "        # Step 3: Update centroids based on the assigned clusters\n",
        "        new_centroids = self.update_centroids(X, cluster_labels)\n",
        "\n",
        "        # Step 4: Check for convergence\n",
        "        if np.all(np.abs(new_centroids - centroids) < self.tol):\n",
        "            break\n",
        "\n",
        "        centroids = new_centroids\n",
        "        iter = iteration\n",
        "\n",
        "    self.inertia_ = self.inertia(X, centroids, cluster_labels)\n",
        "    self.labels_ = cluster_labels\n",
        "    self.cluster_centers_ = centroids\n",
        "    self.n_iter_ = iter"
      ],
      "metadata": {
        "id": "Gbwy-XcCb5um"
      },
      "execution_count": 193,
      "outputs": []
    },
    {
      "cell_type": "markdown",
      "source": [
        "### **Aplly K-Means**"
      ],
      "metadata": {
        "id": "yBSkkShkqN9f"
      }
    },
    {
      "cell_type": "code",
      "source": [
        "#Test\n",
        "X_test = np.array([[ 1,  3],\n",
        "                  [ 3,  5],\n",
        "                  [ 5,  7],\n",
        "                  [20, 21],\n",
        "                  [22, 23],\n",
        "                  [30, 35]])"
      ],
      "metadata": {
        "id": "K16jtVUyoBj3"
      },
      "execution_count": 194,
      "outputs": []
    },
    {
      "cell_type": "code",
      "source": [
        "kmeans = KMeansBase(n_clusters=2, random_state=0)\n",
        "kmeans.fit(X_test)"
      ],
      "metadata": {
        "id": "uOUEZ_yth-_X"
      },
      "execution_count": 195,
      "outputs": []
    },
    {
      "cell_type": "code",
      "source": [
        "print(\"Centroids: \", kmeans.cluster_centers_)\n",
        "print(\"Labels: \", kmeans.labels_)\n",
        "print(\"Interation: \", kmeans.n_iter_)\n",
        "print(\"Inertia: \", kmeans.inertia_)"
      ],
      "metadata": {
        "colab": {
          "base_uri": "https://localhost:8080/"
        },
        "id": "EMgt4fFYi5ke",
        "outputId": "195f14b4-bfb4-4eed-8f95-6ef4fe450fe3"
      },
      "execution_count": 196,
      "outputs": [
        {
          "output_type": "stream",
          "name": "stdout",
          "text": [
            "Centroids:  [[24.         26.33333333]\n",
            " [ 3.          5.        ]]\n",
            "Labels:  [1, 1, 1, 0, 0, 0]\n",
            "Interation:  1\n",
            "Inertia:  186.66666666666666\n"
          ]
        }
      ]
    },
    {
      "cell_type": "markdown",
      "source": [
        "### **K-Means model parameters study**"
      ],
      "metadata": {
        "id": "atx4pUrsseoa"
      }
    },
    {
      "cell_type": "markdown",
      "source": [
        "This function for show the results"
      ],
      "metadata": {
        "id": "pajJTLfyGaTk"
      }
    },
    {
      "cell_type": "code",
      "source": [
        "def print_reusult(X, n_clusters, random_state=None, max_iter=100, KModel = KMeansBase):\n",
        "  kmeans = KModel(n_clusters=n_clusters, random_state=0, max_iter = max_iteration)\n",
        "  kmeans.fit(X)\n",
        "  print(\"Centroids: \", kmeans.cluster_centers_)\n",
        "  print(\"Labels: \", kmeans.labels_)\n",
        "  print(\"Interation: \", kmeans.n_iter_)\n",
        "  print(\"Inertia: \", kmeans.inertia_)"
      ],
      "metadata": {
        "id": "IoevLTtuF-j_"
      },
      "execution_count": 197,
      "outputs": []
    },
    {
      "cell_type": "markdown",
      "source": [
        "#### **K-Means model with two clusters**"
      ],
      "metadata": {
        "id": "2i55mD5pk1Jr"
      }
    },
    {
      "cell_type": "code",
      "source": [
        "max_iteration = 100"
      ],
      "metadata": {
        "id": "jsSxHiulfngw"
      },
      "execution_count": 198,
      "outputs": []
    },
    {
      "cell_type": "code",
      "source": [
        "print_reusult(X, KModel = KMeansBase, n_clusters=2, random_state=0, max_iter = max_iteration)"
      ],
      "metadata": {
        "colab": {
          "base_uri": "https://localhost:8080/"
        },
        "id": "95z0hcNqs0t6",
        "outputId": "54497a4d-679f-4953-c96c-485eae2c5d34"
      },
      "execution_count": 199,
      "outputs": [
        {
          "output_type": "stream",
          "name": "stdout",
          "text": [
            "Centroids:  [[3.47851210e-01 3.80950606e-02 7.68637183e-04 7.29728840e-04\n",
            "  3.75728091e-02 2.15002696e-03 2.36638425e-03 1.17727433e-03\n",
            "  3.09306821e-03 1.41893545e-03]\n",
            " [9.86173854e-01 6.92542844e-02 2.94899987e-02 3.24593640e-02\n",
            "  6.09779533e-02 5.20179148e-02 8.94331763e-03 1.06122235e-02\n",
            "  7.97197729e-03 7.88236073e-03]]\n",
            "Labels:  [1, 0, 1, 0, 0, 0, 1, 1, 0, 0, 0, 0, 0, 0, 0, 1, 1, 1, 1, 0, 0, 0, 0, 1, 0, 1, 1, 1, 0, 1, 0, 1, 0, 0, 0, 0, 1, 0, 0, 1, 1, 1, 1, 1, 0, 1, 0, 1, 1, 1, 0, 1, 0, 1, 1, 1, 1, 1, 1, 1, 0, 1, 0, 1, 0, 0, 1, 1, 1, 1, 1, 1, 1, 1, 1, 1, 1, 1, 1, 1, 1, 1, 1, 1, 1, 0, 0, 0, 0, 0, 0, 0, 0, 0, 0, 0, 0, 1, 1, 1, 0, 0, 0, 0, 0, 0, 0, 0, 0, 0, 0, 0, 0, 1, 0, 0, 1, 1, 1, 1, 1, 1, 0, 0, 1, 1, 0, 1, 1, 1, 0, 0, 0, 0, 0, 1, 0, 0, 0, 0, 1, 1, 0, 1, 1, 1, 0, 0, 1, 1, 0, 1, 1, 0, 1, 0, 0, 0, 0, 1, 0, 0, 0, 0, 1, 0, 0, 1, 0, 0, 0, 0, 1, 0, 0, 0, 0, 1, 0, 0, 0, 1, 0, 0, 0, 0, 0, 1, 0, 0, 1, 0, 0, 0, 1, 0, 0, 1, 1, 0, 0, 0, 0, 1, 0, 0, 0, 0, 1, 0, 0, 1, 0, 0, 1, 0, 0, 1, 0, 0, 0, 0, 0, 0, 0, 1, 0, 0, 1, 0, 0, 0, 0, 0, 1, 0, 0, 0, 1, 0, 0, 0, 0, 0, 0, 0, 0, 0, 0, 0, 0, 0, 0, 0, 0, 0, 0, 0, 0, 0, 0, 0, 0, 0, 0, 0, 0, 0, 1, 0, 1, 0, 0, 1, 1, 0, 1, 0, 0, 0, 0, 1, 0, 1, 0, 0, 0, 0, 0, 0, 0, 0, 1, 1, 0, 1, 0, 0, 0, 0, 0, 0, 0, 0, 0, 0, 0, 0, 0, 0, 0, 0, 0, 0, 1, 0, 0, 0, 0, 0, 0, 0, 0, 0, 1, 0, 0, 0, 0, 0, 0, 0, 1, 0, 0, 0, 0, 1, 0, 0, 0, 0, 0, 1, 0, 1, 0, 0, 0, 0, 0, 0, 0, 0, 0, 0, 1, 0, 0, 0, 0, 1, 0, 0, 0, 0, 0, 0, 1, 0, 0, 0, 0, 1, 0, 0, 1, 0, 0, 0, 0, 0, 0, 1, 1, 0, 0, 0, 0, 1, 1, 1, 0, 0, 0, 1, 1, 1, 0, 0, 1, 0, 0, 0, 0, 0, 0, 0, 0, 0, 1, 0, 1, 1, 0, 0, 0, 0, 0, 0, 0, 1, 0, 0, 0, 1, 1, 1, 0, 0, 0, 0, 0, 0, 0, 0, 0, 0, 0, 0, 0, 0, 1, 0, 0, 1, 0, 0, 0, 0, 1, 0, 1, 0, 0, 0, 0, 0, 1, 0, 0, 0, 1, 0, 0, 0, 0, 1, 0, 0, 0, 0, 0, 1, 0, 1, 1, 0, 0, 0, 1, 0, 1, 0, 1, 0, 1, 0, 0, 0, 1, 1, 0, 0, 0, 0, 0, 0, 1, 0, 0, 0, 0, 0, 0, 0, 1, 0, 0, 1, 0, 0, 1, 1, 1, 0, 1, 0, 0, 0, 0, 0, 0, 0, 0, 0, 0, 0, 0, 0, 0, 1, 0, 1, 0, 0, 0, 0, 0, 1, 0, 0, 0, 1, 0, 0, 0, 0, 0, 0, 0, 0, 0, 0, 0, 0, 0, 0, 0, 0, 0, 0, 0, 0, 0, 0, 0, 0, 0, 0, 0, 0, 0, 0, 0, 0, 0, 0, 0, 1, 0, 0, 1, 1, 0, 0, 0, 0, 1, 1, 0, 1, 0, 1, 0, 0, 1, 0, 0, 0, 0, 0, 1, 0, 1, 1, 0, 0, 0, 0, 1, 0, 0, 0, 0, 0, 0, 0, 1, 0, 0, 1, 0, 1, 1, 0, 0, 1, 0, 0, 1, 1, 1, 0, 1, 0, 0, 0, 1, 0, 0, 0, 1, 0, 0, 0, 0, 1, 0, 0, 0, 0, 1, 1, 0, 1, 0, 0, 0, 0, 0, 0, 0, 0, 0, 0, 0, 0, 1, 0, 0, 0, 1, 0, 0, 0, 0, 0, 0, 0, 0, 0, 0, 0, 0, 0, 0, 0, 0, 0, 0, 0, 1, 0, 0, 1, 0, 0, 0, 0, 0, 0, 1, 0, 0, 0, 0, 1, 0, 0, 0, 0, 0, 0, 0, 0, 0, 0, 0, 0, 0, 0, 0, 0, 0, 1, 0, 0, 0, 0, 0, 0, 0, 0, 0, 0, 0, 0, 0, 0, 0, 0, 0, 0, 0, 0, 1, 0, 0, 0, 0, 0, 0, 1, 0, 1, 1, 0, 0, 0, 1, 0, 1, 0, 0, 0, 0, 0, 0, 0, 0, 1, 0, 0, 0, 0, 1, 0, 0, 0, 0, 0, 0, 0, 0, 0, 1, 0, 1, 0, 1, 1, 1, 0, 0, 0, 0, 0, 1, 0, 1, 0, 0, 0, 0, 1, 0, 1, 0, 1, 0, 0, 0, 0, 1, 0, 0, 1, 1, 0, 0, 0, 1, 0, 1, 1, 1, 0, 0, 0, 1, 1, 1, 0, 0, 1, 1, 0, 1, 1, 1, 1, 1, 1, 0, 1, 1, 0, 0, 0, 1, 0, 1, 1, 1, 0, 0, 0, 0, 0, 0, 1, 1, 0, 0, 0, 0, 1, 1, 0, 0, 0, 0, 0, 0, 0, 0, 1, 0, 0, 0, 1, 0, 0, 0, 0, 0, 0, 0, 0, 0, 0, 0, 0, 0, 0, 0, 0, 1, 1, 0, 0, 0, 0, 1, 1, 0, 0, 0, 1, 0, 1, 0, 0, 1, 0, 0, 0, 0, 0, 0, 0, 1, 0, 1, 0, 0, 0, 0, 0, 0, 0, 0, 0, 0, 0, 0, 0, 0, 0, 0, 0, 0, 0, 0, 0, 0, 0, 0, 0, 0, 0, 0, 0, 0, 0, 0, 0, 0, 0, 0, 0, 0, 0, 1, 0, 0, 0, 0, 0, 0, 0, 0, 0, 0, 0, 0, 0, 0, 0, 0, 0, 0, 0, 0, 0, 0, 0, 0, 0, 0, 0, 0, 0, 0, 0, 0, 0, 0, 0, 0, 0, 0, 0, 0, 0, 0, 0, 0, 0, 1, 0, 0, 0, 1, 1, 1, 1, 1, 1, 1, 1, 1, 0, 0, 0, 1, 0, 1, 1, 0, 1, 0, 1, 0, 1, 0, 1, 1, 1, 0, 0, 1, 1, 1, 0, 0, 0, 1, 1, 1, 1, 1, 1, 0, 1, 1, 0, 1, 1, 0, 1, 0, 1, 0, 0, 1, 0, 0, 1, 0, 0, 1, 1, 0, 1, 0, 1, 1, 1, 0, 1, 1, 0, 1, 0, 0, 0, 1, 0, 0, 0, 1, 0, 1, 0, 1, 1, 0, 1, 1, 1, 0, 1, 0, 0, 1, 0, 0, 0, 0, 0, 0, 0, 0, 0, 0, 1, 0, 0, 1, 0, 0, 0, 0, 0, 0, 0, 0, 0, 0, 0, 0, 1, 0, 1, 0, 0, 0, 1, 1, 0, 0, 0, 0, 1, 0, 0, 0, 0, 0, 0, 0, 1, 0, 0, 1, 1, 0, 0, 0, 1, 1, 1, 1, 1, 1, 1, 0, 1, 1, 0, 1, 1, 1, 0, 0, 0, 0, 1, 1, 0, 0, 1, 0, 1, 0, 0, 0, 1, 1, 1, 0, 1, 1, 0, 0, 0, 0, 0, 0, 0, 0, 0, 1, 1, 0, 1, 1, 0, 0, 0, 0, 1, 1, 0, 0, 1, 1, 0, 1, 0, 0, 0, 0, 0, 0, 0, 0, 0, 0, 0, 0, 0, 0, 0, 0, 1, 1, 0, 0, 0, 0, 1, 0, 0, 0, 0, 0, 0, 0, 0, 0, 1, 1, 1, 0, 0, 0, 0, 0, 0, 0, 0, 0, 0, 0, 0, 0, 0, 0, 1, 0, 0, 0, 0, 0, 0, 0, 0, 0, 1, 1, 0, 1, 1, 0, 0, 0, 0, 0, 0, 0, 0, 0, 0, 0, 0, 1, 1, 0, 1, 0, 0, 0, 0, 0, 0, 0, 0, 0, 0, 1, 1, 0, 0, 1, 0, 1, 1, 1, 0, 1, 0, 0, 0, 0, 0, 1, 1, 1, 1, 1, 1, 1, 1, 1, 1, 1, 1, 1, 1, 1, 0, 1, 1, 1, 1, 1, 1, 1, 1, 1, 1, 1, 1, 1, 1, 1, 0, 1, 1, 1, 1, 1, 1, 1, 1, 0, 1, 1, 1, 1, 1, 1, 1, 1, 1, 1, 1, 1, 1, 1, 1, 1, 0, 1, 0, 1, 1, 1, 1, 1, 1, 1, 0, 1, 1, 1, 1, 1, 1, 1, 1, 1, 1, 1, 1, 0, 1, 1, 1, 1, 1, 1, 1, 1, 1, 1, 1, 1, 1, 1, 1, 1, 1, 1, 1, 1, 1, 1, 1, 1, 1, 1, 0, 1, 1, 1, 1, 1, 1, 1, 1, 1, 1, 1, 1, 1, 1, 1, 1, 1, 1, 1, 1, 1, 1, 1, 1, 1, 1, 1, 1, 1, 1, 0, 1, 1, 1, 1, 1, 1, 1, 1, 1, 1, 1, 1, 1, 0, 1, 0, 0, 0, 1, 1, 1, 0, 1, 1, 1, 1, 1, 1, 1, 1, 1, 1, 1, 1, 1, 1, 1, 0, 1, 1, 1, 1, 1, 1, 1, 1, 1, 1, 1, 1, 1, 1, 1, 1, 1, 1, 1, 1, 1, 1, 1, 1, 0, 1, 1, 1, 1, 1, 1, 1, 1, 1, 0, 1, 1, 1, 1, 1, 1, 1, 1, 1, 1, 0, 0, 0, 1, 1, 1, 1, 0, 0, 0, 0, 0, 1, 1, 0, 0, 0, 0, 1, 0, 0, 0, 1, 1, 1, 0, 1, 0, 1, 1, 1, 0, 0, 0, 1, 0, 0, 1, 1, 0, 0, 0, 1, 1, 0, 0, 0, 0, 0, 0, 0, 0, 0, 0, 0, 0, 0, 0, 1, 1, 1, 0, 0, 1, 1, 0, 1, 0, 0, 1, 1, 0, 1, 1, 0, 1, 0, 1, 1, 0, 1, 1, 0, 1, 1, 1, 1, 1, 1, 1, 1, 1, 1, 1, 1, 1, 1, 1, 1, 1, 1, 1, 1, 0, 0, 0, 0, 0, 0, 0, 0, 1, 1, 1, 1, 1, 1, 1, 1, 1, 1, 1, 0, 0, 1, 1, 0, 0, 1, 0, 1, 1, 1, 0, 0, 0, 1, 1, 1, 0, 0, 1, 1, 0, 1, 0, 1, 0, 0, 1, 1, 1, 0, 1, 1, 1, 1, 1, 0, 1, 0, 0, 0, 0, 0, 0, 0, 0, 0, 0, 0, 0, 0, 0, 0, 0, 0, 0, 1, 0, 0, 1, 0, 0, 1, 0, 0, 0, 0, 0, 0, 0, 0, 0, 0, 0, 0, 0, 0, 0, 0, 0, 0, 0, 0, 0, 0, 0, 0, 0, 0, 0, 0, 0, 0, 0, 0, 0, 0, 0, 0, 0, 0, 0, 0, 0, 0, 0, 0, 0, 0, 0, 0, 0, 0, 0, 0, 0, 0, 0, 0, 0, 0, 0, 0, 0, 0, 0, 0, 0, 0, 0, 0, 0, 0, 0, 0, 0, 0, 0, 0, 0, 0, 0, 0, 0, 0, 0, 0, 0, 0, 0, 0, 0, 0, 0, 0, 0, 0, 0, 0, 0, 0, 0, 0, 0, 0, 0, 0, 0, 0, 0, 0, 0, 0, 0, 0, 0, 0, 0, 0, 0, 0, 0, 0, 0, 0, 0, 0, 0, 0, 0, 0, 0, 0, 0, 0, 0, 0, 0, 0, 0, 0, 0, 0, 0, 0, 0, 0, 0, 0, 0, 0, 0, 0, 0, 0, 0, 0, 0, 0, 0, 0, 0, 0, 0, 0, 0, 0, 0, 0, 0, 0, 0, 0, 0, 0, 0, 0, 0, 0, 0, 0, 0, 0, 0, 0, 0, 0, 0, 0, 0, 0, 0, 0, 0, 0, 0, 0, 0, 0, 0, 0, 0, 0, 0, 0, 0, 0, 0, 0, 0, 0, 0, 0, 0, 0, 0, 0, 0, 0, 0, 0, 0, 0, 0, 0, 0, 0, 0, 0, 0, 0, 0, 0, 0, 0, 0, 0, 0, 0, 0, 0, 0, 0, 0, 0, 0, 0, 0, 0, 0, 0, 0, 0, 0, 0, 0, 0, 0, 0, 0, 0, 0, 0, 0, 0, 0, 0, 0, 0, 0, 0, 0, 0, 0, 0, 0, 0, 0, 0, 0, 0, 0, 0, 0, 0, 0, 0, 0, 0, 0, 0, 0, 0, 0, 0, 0, 0, 0, 0, 0, 0, 0, 0, 0, 0, 0, 0, 0, 0, 0, 0, 0, 0, 0, 0, 0, 0, 0, 0, 0, 0, 0, 0, 0, 0, 0, 0, 0, 0, 0, 0, 0, 0, 0, 0, 0, 0, 0, 0, 0, 0, 0, 0, 0, 0, 0, 0, 0, 0, 0, 0, 0, 0, 0, 0, 0, 0, 0, 0, 0, 0, 0, 0, 0, 0, 0, 0, 0, 0, 0, 0, 0, 0, 0, 0, 0, 0, 0, 0, 0, 0, 0, 0, 0, 0, 0, 0, 0, 0, 0, 0, 0, 0, 0, 0, 0, 0, 0, 0, 0, 0, 0, 0, 0, 0, 0, 0, 0, 0, 0, 0, 0, 0, 0, 0, 0, 0, 0, 0, 0, 0, 0, 0, 0, 0, 0, 0, 0, 0, 0, 0, 0, 0, 0, 0, 0, 0, 0, 0, 0, 0, 0, 0, 0, 0, 0, 0, 0, 0, 0, 0, 0, 0, 0, 0, 0, 0, 0, 0, 0, 0, 0, 0, 0, 0, 0, 0, 0, 0, 0, 0, 0, 0, 0, 0, 0, 0, 0, 0, 0, 0, 0, 0, 0, 0, 0, 0, 0, 0, 0, 0, 0, 0, 0, 0, 0, 0, 0, 0, 0, 0, 0, 0, 0, 0, 0, 0, 0, 0, 0, 0, 0, 0, 0, 0, 0, 0, 0, 0, 0, 0, 0, 0, 0, 0, 0, 0, 0, 0, 0, 0, 0, 0, 0, 0, 0, 0, 0, 0, 0, 0, 0, 0, 0, 0, 0, 0, 0, 0, 0, 0, 0, 0, 0, 0, 0, 0, 0, 0, 0, 0, 0, 0, 0, 0, 0, 0, 0, 0, 0, 0, 0, 0, 0, 0, 0, 0, 0, 0, 0, 0, 0, 0, 0, 0, 0, 0, 0, 0, 0, 0, 0, 0, 0, 0, 0, 0, 0, 0, 0, 0, 0, 0, 0, 0, 0, 0, 0, 0, 0, 0, 0, 0, 0, 0, 0, 0, 0, 0, 0, 0, 0, 0, 0, 0, 0, 0, 0, 0, 0, 0, 0, 0, 0, 0, 0, 0, 0, 0, 0, 0, 0, 0, 0, 0, 0, 0, 0, 0, 0, 0, 0, 0, 0, 0, 0, 0, 0, 0, 0, 0, 0, 0, 0, 0, 0, 0, 0, 0, 0, 0, 0, 0, 0, 0, 0, 0, 0, 0, 0, 0, 0, 0, 0, 0, 0, 0, 0, 0, 0, 0, 0, 0, 0, 0, 0, 0, 0, 0, 0, 0, 0, 0, 0, 0, 0, 0, 0, 0, 0, 0, 0, 0, 0, 0, 0, 0, 0, 0, 0, 0, 0, 0, 0, 0, 0, 0, 0, 0, 0, 0, 0, 0, 0, 0, 0, 0, 0, 0, 0, 0, 0, 0, 0, 0, 0, 0, 0, 0, 0, 0, 0, 0, 0, 0, 0, 0, 0, 0, 0, 0, 0, 0, 0, 0, 0, 0, 0, 0, 0, 0, 0, 0, 0, 0, 0, 0, 0, 0, 0, 0, 0, 0, 0, 0, 0, 0, 0, 0, 0, 0, 0, 0, 0, 0, 0, 0, 0, 0, 0, 0, 0, 0, 0, 0, 0, 0, 0, 0, 0, 0, 0, 0, 0, 0, 0, 0, 0, 0, 0, 0, 0, 0, 0, 0, 0, 0, 0, 0, 0, 0, 0, 0, 0, 0, 0, 0, 0, 0, 0, 0, 0, 0, 0, 0, 0, 0, 0, 0, 0, 0, 0, 0, 0, 0, 0, 0, 0, 0, 0, 0, 0, 0, 0, 0, 0, 0, 0, 0, 0, 0, 0, 0, 0, 0, 0, 0, 0, 0, 0, 0, 0, 0, 0, 0, 0, 0, 0, 0, 0, 0, 0, 0, 0, 0, 0, 0, 0, 0, 0, 0, 0, 0, 0, 0, 1, 0, 0, 0, 0, 0, 1, 0, 0, 0, 0, 0, 0, 0, 0, 1, 1, 0, 0, 0, 0, 0, 1, 1, 0, 0, 0, 0, 0, 0, 0, 0, 1, 0, 0, 0, 0, 0, 0, 1, 0, 0, 0, 0, 0, 0, 0, 0, 0, 0, 0, 0, 0, 0, 0, 0, 0, 0, 0, 0, 0, 0, 0, 0, 0, 0, 0, 0, 0, 0, 0, 0, 0, 0, 0, 0, 0, 0, 0, 1, 1, 0, 0, 0, 0, 0, 1, 0, 0, 0, 0, 0, 0, 1, 0, 0, 0, 0, 0, 0, 0, 0, 0, 0, 0, 0, 0, 1, 0, 1, 0, 0, 0, 0, 0, 0, 0, 0, 0, 0, 0, 0, 0, 0, 1, 0, 0, 0, 0, 0, 0, 0, 0, 0, 0, 0, 0, 0, 0, 0, 0, 0, 0, 0, 0, 1, 0, 0, 0, 0, 0, 0, 0, 0, 0, 0, 0, 0, 0, 1, 0, 0, 0, 1, 0, 0, 0, 0, 0, 0, 0, 0, 0, 0, 0, 0, 0, 0, 0, 0, 0, 0, 0, 0, 0, 0, 0, 0, 1, 0, 1, 0, 0, 0, 0, 0, 0, 0, 1, 0, 0, 0, 0, 0, 0, 0, 0, 1, 0, 0, 0, 0, 0, 0, 0, 0, 0, 0, 0, 0, 0, 0, 1, 0, 0, 1, 0, 0, 0, 0, 0, 0, 0, 0, 0, 0, 0, 0, 0, 0, 0, 0, 0, 0, 0, 0, 0, 0, 0, 0, 0, 0, 0, 0, 0, 1, 0, 0, 0, 0, 0, 0, 0, 0, 1, 0, 0, 0, 0, 1, 0, 0, 0, 0, 0, 1, 0, 0, 0, 0, 0, 0, 1, 0, 0, 0, 1, 0, 0, 0, 0, 0, 0, 0, 0, 1, 0, 0, 0, 0, 0, 0, 0, 0, 0, 0, 0, 0, 0, 0, 0, 0, 0, 0, 0, 0, 0, 0, 0, 0, 0, 0, 0, 1, 0, 0, 0, 0, 0, 1, 0, 0, 0, 0, 0, 0, 0, 0, 1, 0, 0, 0, 0, 0, 0, 1, 0, 0, 0, 0, 1, 0, 0, 0, 0, 0, 1, 0, 0, 0, 0, 0, 0, 1, 0, 0, 0, 0, 0, 0, 0, 0, 0, 0, 0, 0, 0, 0, 0, 1, 0, 0, 0, 0, 0, 1, 0, 0, 0, 0, 0, 0, 0, 0, 0, 0, 0, 1, 0, 0, 0, 0, 0, 0, 0, 0, 0, 1, 0, 0, 0, 1, 0, 0, 0, 0, 0, 0, 0, 0, 0, 0, 0, 0, 0, 0, 0, 0, 0, 0, 0, 0, 0, 0, 0, 0, 0, 0, 0, 0, 0, 0, 0, 0, 0, 0, 0, 1, 0, 0, 0, 0, 0, 0, 0, 0, 1, 0, 0, 0, 0, 0, 0, 0, 0, 0, 0, 0, 0, 1, 0, 0, 0, 1, 0, 0, 0, 0, 0, 1, 0, 1, 0, 0, 0, 0, 0, 0, 0, 0, 0, 0, 0, 0, 0, 0, 0, 0, 0, 0, 0, 0, 0, 0, 0, 0, 0, 0, 0, 0, 0, 0, 0, 0, 0, 1, 0, 1, 0, 0, 0, 0, 0, 0, 0, 0, 0, 1, 0, 1, 1, 1, 1, 0, 0, 0, 0, 0, 1, 1, 0, 0, 1, 0, 0, 0, 0, 0, 0, 0, 0, 1, 0, 0, 0, 0, 0, 0, 1, 0, 0, 1, 0, 0, 0, 1, 1, 0, 0, 1, 0, 0, 0, 1, 0, 0, 1, 1, 0, 0, 0, 1, 0, 1, 0, 0, 0, 0, 0, 1, 0, 1, 0, 0, 1, 1, 0, 0, 1, 0, 0, 0, 0, 0, 1, 0, 0, 1, 0, 1, 0, 0, 0, 1, 0, 0, 1, 0, 0, 1, 0, 0, 0, 1, 0, 0, 0, 1, 0, 0, 0, 0, 0, 0, 0, 0, 0, 0, 0, 0, 0, 0, 0, 0, 0, 0, 0, 0, 0, 0, 0, 0, 0, 0, 1, 0, 0, 0, 1, 0, 1, 0, 0, 1, 0, 0, 0, 1, 0, 0, 0, 0, 0, 0, 0, 0, 0, 0, 0, 0, 0, 0, 1, 0, 0, 0, 1, 0, 0, 1, 0, 0, 0, 0, 1, 0, 0, 1, 0, 0, 0, 1, 0, 0, 0, 0, 0, 1, 0, 0, 0, 1, 0, 1, 1, 0, 0, 0, 1, 0, 0, 1, 0, 0, 0, 0, 0, 0, 0, 0, 0, 0, 0, 0, 0, 0, 0, 0, 0, 0, 0, 0, 0, 0, 0, 1, 0, 0, 1, 0, 0, 0, 1, 0, 0, 1, 0, 0, 0, 0, 0, 0, 1, 0, 0, 1, 0, 0, 0, 0, 1, 0, 1, 0, 0, 0, 0, 0, 0, 0, 0, 0, 0, 0, 0, 0, 0, 0, 0, 1, 0, 1, 0, 0, 0, 0, 1, 0, 0, 0, 1, 0, 0, 0, 0, 1, 0, 0, 1, 0, 0, 0, 0, 0, 0, 1, 0, 0, 0, 0, 0, 0, 0, 0, 0, 1, 0, 0, 0, 0, 0, 0, 0, 1, 0, 0, 0, 1, 0, 0, 0, 0, 0, 0, 0, 0, 0, 0, 1, 0, 0, 1, 0, 0, 0, 0, 0, 0, 0, 0, 0, 1, 0, 0, 1, 0, 1, 0, 0, 0, 0, 0, 0, 0, 0, 1, 1, 0, 0, 0, 0, 1, 0, 1, 0, 1, 1, 1, 0, 0, 0, 0, 1, 1, 0, 1, 0, 0, 1, 0, 0, 1, 1, 0, 0, 0, 1, 0, 0, 0, 0, 0, 0, 1, 0, 0, 1, 0, 1, 0, 0, 1, 0, 0, 1, 0, 0, 0, 0, 1, 1, 1, 0, 0, 0, 0, 0, 0, 0, 0, 0, 1, 0, 0, 0, 0, 0, 0, 0, 0, 0, 1, 1, 0, 0, 0, 0, 0, 1, 0, 0, 1, 0, 0, 0, 1, 0, 0, 0, 1, 0, 1, 0, 0, 0, 0, 1, 1, 1, 0, 0, 0, 0, 0, 1, 0, 0, 1, 0, 0, 1, 0, 0, 1, 0, 0, 0, 0, 1, 1, 0, 1, 0, 0, 0, 0, 1, 1, 1, 0, 0, 0, 1, 1, 0, 1, 1, 1, 0, 1, 0, 0, 1, 0, 1, 0, 0, 0, 0, 0, 1, 0, 1, 0, 1, 0, 0, 1, 0, 0, 0, 0, 0, 0, 0, 0, 0, 0, 0, 1, 0, 0, 0, 0, 0, 0, 0, 1, 0, 1, 1, 0, 0, 0, 0, 0, 0, 1, 0, 0, 0, 1, 0, 0, 0, 0, 0, 0, 1, 0, 0, 0, 0, 0, 0, 0, 0, 1, 0, 0, 0, 0, 0, 0, 0, 0, 0, 0, 0, 0, 0, 0, 0, 0, 0, 0, 0, 0, 0, 0, 0, 0, 0, 0, 0, 0, 0, 0, 0, 0, 0, 0, 0, 0, 0, 0, 0, 0, 0, 0, 0, 0, 0, 0, 1, 0, 0, 0, 0, 0, 0, 0, 0, 0, 0, 0, 1, 0, 0, 0, 0, 0, 0, 0, 0, 0, 0, 0, 0, 0, 0, 0, 0, 0, 0, 0, 0, 0, 0, 0, 0, 0, 0, 0, 0, 0, 0, 0, 1, 1, 0, 0, 0, 0, 0, 0, 0, 0, 0, 0, 0, 0, 0, 0, 0, 0, 0, 0, 0, 0, 0, 0, 0, 0, 0, 0, 0, 0, 0, 0, 0, 1, 0, 1, 1, 0, 1, 1, 0, 1, 1, 1, 0, 0, 0, 1, 1, 1, 0, 0, 1, 1, 0, 1, 1, 1, 1, 1, 0, 1, 0, 0, 0, 1, 1, 1, 0, 1, 1, 0, 1, 0, 0, 1, 1, 1, 0, 1, 1, 1, 1, 1, 0, 0, 0, 0, 0, 1, 0, 0, 0, 0, 0, 0, 0, 0, 0, 0, 0, 0, 0, 0, 0, 0, 0, 0, 0, 0, 0, 0, 0, 0, 0, 0, 0, 0, 0, 0, 0, 0, 0, 0, 0, 0, 0, 0, 0, 0, 0, 0, 0, 0, 0, 0, 0, 0, 0, 0, 0, 0, 0, 0, 0, 0, 0, 0, 0, 0, 0, 0, 0, 0, 0, 0, 0, 1, 1, 1, 1, 1, 1, 1, 1, 1, 1, 1, 1, 1, 1, 1, 1, 1, 1, 1, 1, 1, 1, 1, 0, 1, 1, 1, 1, 1, 1, 0, 1, 1, 1, 1, 1, 1, 0, 1, 1, 1, 1, 1, 1, 1, 0, 1, 1, 1, 0, 0, 0, 0, 0, 0, 0, 1, 1, 1, 1, 1, 1, 1, 1, 1, 1, 1, 1, 1, 1, 1, 1, 1, 1, 1, 1, 1, 1, 1, 1, 1, 1, 1, 1, 1, 1, 1, 1, 1, 1, 1, 1, 1, 1, 1, 1, 1, 1, 1, 1, 1, 1, 1, 1, 1, 1, 1, 1, 1, 1, 1, 1, 1, 1, 1, 1, 1, 1, 1, 1, 1, 1, 1, 1, 1, 1, 1, 1, 1, 1, 1, 1, 1, 1, 1, 1, 1, 1, 1, 1, 1, 1, 1, 1, 1, 1, 1, 1, 1, 1, 1, 1, 1, 1, 1, 1, 1, 1, 1, 1, 1, 1, 1, 1, 1, 1, 1, 1, 1, 1, 1, 1, 1, 1, 1, 1, 1, 1, 1, 1, 1, 1, 1, 1, 1, 1, 1, 1, 1, 1, 1, 1, 1, 1, 0, 1, 1, 1, 1, 1, 1, 1, 1, 1, 1, 1, 1, 1, 1, 1, 1, 1, 1, 1, 1, 1, 1, 1, 1, 1, 1, 1, 1, 1, 1, 1, 1, 1, 1, 1, 1, 1, 1, 1, 1, 1, 1, 1, 1, 1, 1, 1, 0, 0, 1, 1, 1, 1, 1, 1, 1, 1, 1, 1, 1, 1, 1, 1, 1, 1, 1, 1, 1, 1, 1, 1, 1, 1, 1, 1, 1, 1, 1, 1, 1, 1, 1, 1, 1, 1, 1, 1, 1, 1, 1, 1, 1, 1, 1, 1, 1, 1, 1, 1, 1, 1, 1, 1, 1, 1, 1, 1, 1, 1, 1, 1, 1, 1, 1, 1, 1, 1, 1, 1, 1, 1, 1, 1, 1, 1, 1, 1, 1, 1, 1, 1, 1, 1, 1, 1, 1, 1, 1, 1, 1, 1, 1, 1, 1, 1, 1, 1, 1, 1, 1, 1, 1, 1, 1, 1, 1, 1, 1, 1, 1, 1, 1, 1, 1, 1, 1, 1, 1, 1, 1, 1, 1, 1, 1, 1, 1, 1, 1, 1, 1, 1, 1, 1, 1, 1, 1, 1, 1, 1, 1, 1, 1, 1, 1, 1, 1, 1, 1, 1, 1, 1, 1, 1, 1, 1, 1, 1, 1, 1, 1, 1, 1, 1, 1, 1, 1, 1, 1, 1, 1, 1, 1, 1, 1, 1, 1, 1, 1, 1, 1, 1, 1, 1, 1, 1, 1, 1, 1, 1, 1, 1, 1, 1, 1, 1, 1, 1, 1, 1, 1, 1, 1, 1, 1, 1, 1, 1, 1, 1, 1, 1, 1, 1, 1, 1, 1, 1, 1, 1, 1, 1, 1, 1, 1, 1, 1, 1, 1, 1, 1, 1, 1, 1, 1, 1, 1, 1, 1, 1, 1, 1, 1, 1, 1, 1, 1, 1, 1, 1, 1, 1, 0, 1, 1, 1, 1, 1, 1, 1, 1, 1, 0, 1, 0, 1, 1, 1, 1, 1, 1, 1, 1, 1, 1, 1, 1, 1, 1, 1, 1, 0, 1, 1, 1, 1, 1, 1, 1, 1, 1, 0, 1, 1, 1, 1, 1, 1, 1, 1, 1, 1, 1, 1, 1, 1, 1, 1, 1, 1, 1, 1, 1, 1, 1, 0, 1, 1, 1, 1, 1, 1, 1, 1, 1, 1, 1, 1, 1, 1, 1, 0, 1, 1, 1, 1, 1, 1, 1, 1, 1, 1, 1, 1, 0, 0, 1, 1, 1, 1, 1, 1, 1, 1, 1, 1, 1, 1, 1, 1, 1, 1, 0, 1, 1, 1, 1, 1, 1, 1, 0, 1, 1, 0, 1, 1, 0, 0, 0, 0, 0, 1, 1, 1, 1, 1, 1, 1, 1, 1, 0, 1, 1, 1, 1, 1, 1, 1, 1, 1, 1, 1, 1, 1, 1, 1, 1, 1, 1, 0, 0, 0, 0, 0, 0, 0, 0, 0, 1, 1, 1, 1, 1, 1, 1, 1, 1, 1, 0, 1, 1, 1, 1, 1, 0, 0, 1, 0, 0, 0, 1, 1, 1, 1, 1, 1, 0, 0, 0, 0, 0, 1, 1, 1, 1, 1, 0, 1, 1, 1, 0, 0, 0, 0, 1, 1, 1, 1, 1, 0, 1, 0, 0, 0, 0, 0, 0, 0, 0, 0, 0, 0, 0, 0, 0, 0, 0, 0, 0, 0, 0, 0, 0, 0, 0, 0, 0, 0, 0, 0, 0, 0, 0, 0, 0, 0, 0, 0, 0, 0, 0, 0, 0, 0, 0, 1, 1, 0, 0, 0, 1, 0, 0, 0, 0, 1, 1, 1, 0, 0, 1, 1, 0, 0, 0, 1, 1, 0, 0, 0, 0, 0, 0, 1, 1, 0, 0, 0, 0, 1, 1, 0, 1, 0, 0, 0, 0, 0, 0, 1, 1, 0, 0, 0, 0, 1, 0, 0, 0, 1, 1, 0, 0, 0, 0, 0, 1, 1, 0, 0, 0, 1, 0, 0, 0, 0, 1, 1, 0, 1, 0, 0, 0, 0, 0, 1, 1, 0, 0, 0, 0, 1, 0, 0, 0, 0, 1, 1, 1, 0, 0, 0, 0, 0, 1, 1, 0, 0, 0, 0, 1, 0, 0, 0, 0, 1, 1, 1, 1, 0, 0, 0, 0, 0, 0, 1, 1, 1, 0, 0, 0, 0, 0, 1, 1, 0, 1, 0, 0, 0, 0, 1, 1, 0, 0, 0, 0, 1, 0, 0, 0, 0, 1, 1, 0, 0, 0, 1, 1, 0, 0, 0, 1, 0, 0, 0, 0, 1, 1, 1, 0, 1, 0, 0, 0, 0, 0, 0, 0, 0, 0, 1, 0, 0, 0, 1, 1, 1, 0, 0, 0, 0, 0, 0, 0, 0, 1, 1, 0, 0, 0, 0, 0, 0, 0, 0, 0, 0, 0, 0, 1, 1, 0, 0, 0, 0, 1, 0, 0, 0, 1, 1, 0, 0, 0, 0, 0, 0, 0, 0, 0, 0, 0, 0, 0, 0, 0, 1, 1, 0, 0, 0, 0, 0, 0, 0, 1, 1, 0, 0, 0, 0, 1, 0, 1, 1, 0, 0, 0, 0, 0, 0, 0, 1, 0, 0, 0, 0, 0, 0, 0, 0, 0, 0, 1, 1, 0, 0, 0, 0, 0, 0, 0, 1, 0, 0, 0, 0, 1, 1, 0, 0, 0, 0, 1, 1, 0, 0, 0, 0, 0, 0, 0, 0, 0, 0, 0, 0, 0, 1, 0, 0, 0, 0, 0, 0, 0, 0, 1, 0, 0, 0, 0, 0, 1, 1, 1, 0, 0, 0, 1, 0, 0, 0, 0, 0, 0, 0, 1, 1, 1, 0, 1, 0, 0, 0, 0, 0, 1, 1, 1, 1, 0, 0, 0, 0, 1, 0, 0, 0, 0, 0, 1, 1, 0, 1, 0, 0, 0, 1, 0, 0, 0, 0, 0, 0, 0, 0, 0, 0, 0, 0, 0, 1, 0, 0, 0, 0, 1, 0, 1, 1, 1, 0, 0, 1, 1, 1, 0, 0, 1, 0, 1, 1, 0, 1, 0, 1, 1, 1, 1, 1, 1, 0, 0, 1, 0, 1, 1, 0, 0, 1, 1, 1, 0, 0, 1, 1, 1, 0, 0, 1, 0, 1, 0, 1, 1, 0, 0, 0, 1, 0, 0, 1, 1, 1, 1, 1, 1, 1, 1, 1, 1, 1, 0, 1, 0, 0, 1, 1, 1, 0, 1, 0, 1, 0, 0, 1, 0, 1, 1, 0, 1, 1, 0, 1, 1, 1, 0, 1, 0, 0, 1, 1, 0, 1, 1, 1, 1, 1, 1, 1, 0, 1, 1, 1, 0, 1, 1, 1, 1, 0, 1, 1, 1, 1, 1, 1, 1, 0, 0, 0, 1, 0, 1, 0, 0, 1, 1, 0, 1, 0, 1, 0, 1, 1, 1, 0, 1, 0, 0, 1, 0, 0, 1, 0, 1, 1, 0, 1, 1, 0, 1, 1, 1, 0, 1, 1, 1, 0, 1, 0, 1, 0, 0, 0, 1, 1, 1, 1, 1, 1, 1, 1, 1, 1, 1, 0, 1, 0, 1, 0, 0, 1, 1, 1, 0, 0, 1, 1, 0, 0, 1, 0, 1, 0, 0, 1, 1, 1, 1, 1, 1, 1, 1, 1, 0, 1, 1, 1, 0, 1, 0, 1, 0, 1, 1, 1, 1, 1, 1, 1, 0, 0, 0, 1, 1, 0, 0, 1, 1, 0, 0, 1, 0, 1, 0, 1, 1, 1, 0, 1, 1, 1, 0, 1, 1, 1, 1, 0, 1, 1, 1, 0, 0, 1, 0, 1, 1, 0, 0, 1, 1, 1, 1, 0, 1, 0, 1, 1, 1, 1, 1, 1, 1, 0, 1, 0, 1, 0, 1, 0, 1, 0, 1, 1, 1, 0, 0, 1, 0, 1, 0, 1, 1, 0, 0, 0, 1, 1, 1, 0, 1, 1, 0, 1, 1, 1, 0, 1, 1, 1, 0, 1, 0, 0, 1, 1, 0, 0, 1, 0, 0, 1, 0, 1, 0, 0, 1, 0, 0, 1, 1, 0, 1, 1, 1, 0, 1, 0, 0, 0, 1, 0, 1, 1, 1, 1, 1, 1, 1, 1, 0, 0, 0, 1, 0, 0, 0, 1, 1, 0, 1, 1, 0, 1, 1, 1, 1, 0, 1, 0, 1, 0, 1, 0, 0, 1, 0, 0, 1, 1, 1, 1, 1, 1, 1, 1, 1, 1, 1, 0, 1, 0, 1, 1, 1, 0, 0, 0, 1, 1, 0, 0, 1, 0, 1, 0, 0, 1, 0, 1, 0, 1, 0, 1, 1, 0, 1, 1, 0, 1, 1, 1, 1, 1, 1, 0, 1, 0, 0, 0, 1, 1, 0, 1, 0, 0, 0, 1, 0, 0, 1, 0, 0, 1, 1, 0, 0, 1, 1, 0, 1, 0, 1, 1, 0, 1, 0, 0, 0, 1, 1, 0, 1, 0, 0, 1, 0, 1, 1, 1, 0, 1, 0, 0, 1, 0, 1, 0, 1, 1, 0, 0, 1, 0, 1, 1, 0, 0, 0, 1, 1, 0, 0, 1, 1, 0, 0, 0, 1, 0, 0, 0, 0, 0, 0, 1, 1, 0, 0, 0, 1, 1, 1, 0, 0, 0, 0, 0, 1, 0, 0, 0, 0, 1, 0, 0, 0, 1, 0, 0, 0, 0, 0, 0, 1, 0, 0, 0, 0, 0, 0, 0, 0, 0, 1, 1, 0, 0, 0, 0, 1, 1, 1, 0, 0, 0, 0, 0, 0, 0, 1, 0, 0, 0, 1, 1, 0, 0, 0, 0, 0, 0, 0, 1, 0, 0, 1, 0, 0, 0, 1, 1, 0, 0, 0, 0, 1, 1, 0, 0, 1, 1, 0, 0, 1, 1, 0, 0, 1, 0, 0, 0, 1, 1, 1, 0, 0, 1, 1, 1, 0, 0, 1, 0, 0, 1, 0, 0, 0, 0, 0, 0, 1, 0, 0, 0, 1, 1, 0, 0, 0, 0, 0, 0, 1, 1, 0, 0, 0, 0, 1, 0, 0, 0, 1, 1, 0, 0, 0, 0, 0, 1, 1, 0, 0, 0, 0, 0, 1, 0, 0, 0, 0, 1, 1, 1, 1, 0, 1, 0, 1, 1, 0, 0, 0, 1, 1, 0, 0, 1, 1, 0, 1, 1, 1, 0, 0, 0, 1, 1, 0, 1, 1, 0, 0, 0, 1, 0, 0, 0, 1, 1, 1, 0, 0, 1, 0, 1, 1, 0, 0, 0, 0, 1, 1, 0, 0, 1, 1, 0, 0, 1, 1, 0, 0, 1, 0, 1, 1, 0, 0, 1, 1, 0, 0, 0, 0, 1, 1, 0, 0, 1, 1, 0, 1, 0, 0, 1, 1, 1, 0, 0, 1, 1, 0, 1, 1, 0, 0, 1, 1, 1, 0, 0, 1, 0, 1, 0, 0, 1, 0, 0, 0, 1, 1, 0, 1, 1, 1, 0, 0, 0, 1, 1, 1, 1, 1, 0, 1, 1, 1, 1, 0, 1, 1, 1, 0, 0, 1, 0, 0, 1, 0, 1, 0, 1, 1, 1, 1, 0, 0, 1, 1, 0, 1, 1, 0, 0, 1, 0, 0, 1, 0, 0, 0, 1, 1, 0, 0, 0, 1, 1, 1, 0, 0, 0, 1, 1, 0, 1, 0, 0, 1, 0, 0, 0, 0, 0, 1, 1, 0, 0, 1, 1, 0, 0, 0, 0, 1, 1, 1, 1, 0, 1, 1, 0, 1, 1, 0, 0, 1, 1, 0, 0, 0, 0, 1, 1, 0, 0, 0, 1, 1, 1, 1, 0, 0, 0, 1, 1, 0, 0, 1, 1, 0, 0, 1, 1, 0, 0, 1, 0, 1, 1, 1, 0, 0, 1, 0, 0, 1, 0, 1, 1, 0, 0, 1, 1, 0, 0, 1, 1, 1, 0, 1, 1, 0, 0, 1, 1, 1, 0, 1, 0, 0, 0, 1, 1, 0, 1, 0, 0, 1, 1, 1, 0, 0, 1, 0, 0, 0, 1, 0, 0, 1, 1, 0, 1, 0, 0, 0, 0, 1, 0, 0, 1, 1, 1, 1, 1, 1, 0, 1, 0, 1, 1, 0, 0, 1, 0, 1, 0, 1, 1, 0, 0, 0, 1, 0, 1, 1, 1, 0, 0, 1, 1, 0, 1, 1, 0, 1, 0, 1, 1, 1, 0, 1, 1, 0, 0, 1, 0, 0, 0, 1, 0, 0, 0, 1, 1, 1, 0, 0, 0, 1, 1, 0, 0, 1, 0, 0, 1, 1, 0, 0, 1, 1, 0, 1, 0, 0, 0, 1, 1, 0, 0, 0, 1, 1, 1, 1, 0, 1, 0, 0, 0, 0, 0, 0, 0, 0, 0, 0, 0, 0, 0, 0, 0, 0, 0, 0, 0, 0, 0, 0, 0, 0, 0, 0, 0, 0, 0, 0, 0, 0, 0, 0, 0, 0, 0, 0, 0, 0, 0, 0, 0, 0, 0, 0, 0, 0, 0, 0, 1, 0, 0, 0, 0, 0, 0, 0, 0, 0, 0, 0, 0, 0, 0, 0, 0, 0, 0, 0, 0, 0, 0, 0, 0, 0, 0, 0, 0, 0, 0, 0, 0, 0, 0, 0, 0, 0, 0, 0, 0, 0, 0, 0, 0, 0, 0, 0, 0, 0, 0, 0, 1, 0, 1, 1, 0, 0, 1, 0, 1, 1, 1, 0, 0, 1, 1, 1, 0, 0, 1, 0, 0, 0, 1, 1, 1, 0, 1, 1, 1, 0, 1, 1, 1, 0, 1, 1, 0, 0, 1, 1, 0, 0, 0, 1, 1, 0, 0, 0, 1, 1, 0, 0, 0, 1, 1, 1, 0, 0, 0, 0, 0, 0, 1, 0, 1, 0, 0, 0, 0, 1, 0, 1, 0, 0, 0, 0, 0, 1, 0, 0, 0, 0, 1, 0, 1, 1, 0, 0, 0, 0, 0, 1, 0, 1, 1, 0, 1, 1, 1, 0, 0, 1, 0, 0, 1, 0, 1, 1, 1, 0, 0, 0, 1, 1, 0, 1, 0, 0, 0, 1, 0, 0, 0, 0, 1, 1, 0, 0, 0, 1, 0, 1, 0, 0, 0, 0, 0, 1, 1, 0, 0, 1, 0, 0, 1, 0, 0, 0, 0, 1, 1, 0, 0, 1, 0, 1, 1, 0, 0, 1, 1, 0, 0, 0, 0, 0, 0, 0, 0, 0, 0, 0, 0, 0, 0, 1, 0, 0, 0, 0, 0, 0, 0, 0, 0, 0, 0, 0, 0, 0, 1, 0, 0, 0, 0, 0, 0, 0, 0, 0, 0, 0, 0, 0, 0, 0, 0, 0, 0, 0, 0, 0, 0, 0, 0, 0, 0, 0, 0, 0, 0, 1, 1, 0, 1, 1, 1, 0, 1, 1, 0, 0, 1, 0, 1, 0, 1, 0, 0, 0, 1, 0, 0, 0, 0, 0, 0, 0, 0, 0, 0, 0, 0, 0, 0, 0, 0, 0, 1, 0, 1, 0, 0, 0, 0, 0, 0, 0, 0, 0, 0, 0, 0, 0, 0, 0, 0, 0, 1, 0, 0, 0, 0, 0, 0, 0, 1, 0, 1, 0, 0, 0, 0, 1, 0, 0, 0, 1, 0, 0, 1, 0, 0, 0, 1, 0, 1, 1, 0, 0, 0, 0, 0, 1, 1, 1, 0, 1, 1, 1, 1, 1, 1, 0, 0, 0, 0, 1, 1, 1, 0, 1, 0, 0, 0, 0, 0, 1, 0, 0, 0, 0, 1, 1, 0, 0, 0, 0, 1, 0, 0, 1, 1, 0, 0, 0, 0, 0, 1, 1, 0, 1, 1, 1, 1, 1, 0, 0, 1, 0, 0, 1, 0, 0, 0, 1, 0, 1, 0, 0, 0, 0, 0, 0, 0, 0, 0, 0, 0, 0, 0, 0, 0, 0, 0, 0, 0, 0, 0, 0, 0, 0, 0, 0, 0, 0, 0, 0, 0, 0, 0, 0, 0, 0, 0, 0, 0, 0, 0, 0, 0, 0, 0, 0, 0, 0, 0, 0, 1, 0, 0, 0, 1, 1, 0, 0, 0, 1, 0, 0, 0, 1, 1, 0, 1, 0, 0, 1, 0, 1, 0, 0, 0, 0, 1, 0, 1, 0, 0, 0, 0, 1, 1, 1, 1, 0, 1, 0, 0, 0, 0, 1, 1, 0, 0, 0, 1, 0, 1, 1, 0, 1, 0, 0, 1, 0, 0, 0, 1, 1, 0, 1, 0, 0, 1, 0, 1, 1, 0, 0, 1, 1, 1, 0, 0, 0, 0, 1, 0, 0, 0, 0, 1, 1, 1, 0, 1, 0, 0, 0, 0, 1, 1, 1, 0, 0, 1, 1, 0, 0, 0, 0, 0, 0, 0, 1, 0, 1, 1, 0, 0, 1, 0, 0, 0, 0, 1, 0, 1, 1, 0, 0, 0, 1, 1, 0, 0, 0, 0, 0, 1, 1, 1, 0, 1, 0, 1, 0, 0, 0, 1, 1, 0, 0, 0, 1, 0, 1, 1, 0, 1, 1, 0, 0, 0, 0, 0, 0, 1, 0, 0, 1, 1, 0, 1, 1, 1, 0, 0, 0, 1, 0, 0, 0, 0, 0, 0, 1, 0, 0, 1, 1, 1, 0, 1, 1, 0, 0, 0, 1, 0, 1, 0, 0, 0, 0, 0, 0, 0, 0, 0, 0, 0, 1, 1, 0, 1, 1, 0, 1, 0, 1, 1, 0, 0, 1, 1, 0, 1, 1, 1, 1, 0, 1, 1, 0, 0, 0, 1, 1, 0, 1, 1, 0, 1, 1, 1, 0, 0, 0, 0, 1, 0, 0, 1, 1, 1, 0, 0, 0, 0, 0, 1, 0, 0, 1, 1, 0, 0, 1, 0, 1, 0, 0, 0, 0, 0, 0, 0, 0, 1, 1, 0, 0, 1, 1, 0, 0, 0, 0, 0, 0, 0, 0, 0, 0, 0, 0, 0, 1, 0, 0, 0, 0, 0, 0, 0, 0, 0, 0, 0, 0, 0, 0, 0, 0, 0, 0, 0, 0, 0, 0, 0, 0, 0, 0, 0, 0, 0, 0, 0, 0, 0, 0, 0, 0, 0, 0, 0, 0, 0, 1, 0, 0, 0, 0, 0, 0, 0, 0, 0, 0, 0, 0, 0, 0, 0]\n",
            "Interation:  7\n",
            "Inertia:  240.06679523988913\n"
          ]
        }
      ]
    },
    {
      "cell_type": "markdown",
      "source": [
        "**Check with ScikitLearn**"
      ],
      "metadata": {
        "id": "F03HW_UF5BXI"
      }
    },
    {
      "cell_type": "code",
      "source": [
        "from sklearn.cluster import KMeans"
      ],
      "metadata": {
        "id": "yf7ZcNyG5HvL"
      },
      "execution_count": 200,
      "outputs": []
    },
    {
      "cell_type": "code",
      "source": [
        "print_reusult(X, KModel = KMeans, n_clusters=2, random_state=0, max_iter = max_iteration)"
      ],
      "metadata": {
        "colab": {
          "base_uri": "https://localhost:8080/"
        },
        "id": "j0LO25a85GVq",
        "outputId": "61627f3d-12a4-4f7f-a727-e4f9d477600c"
      },
      "execution_count": 201,
      "outputs": [
        {
          "output_type": "stream",
          "name": "stdout",
          "text": [
            "Centroids:  [[3.28506857e-01 3.90710874e-02 7.54854864e-04 7.53667113e-04\n",
            "  3.85438884e-02 2.17448568e-03 2.43721364e-03 1.20039760e-03\n",
            "  2.75348016e-03 1.45313276e-03]\n",
            " [9.54921576e-01 6.46330441e-02 2.67028654e-02 2.93171709e-02\n",
            "  5.71231462e-02 4.71007076e-02 8.18581889e-03 9.65207685e-03\n",
            "  8.04219428e-03 7.19501847e-03]]\n",
            "Labels:  [1 0 1 ... 0 0 0]\n",
            "Interation:  3\n",
            "Inertia:  237.75726404419646\n"
          ]
        }
      ]
    },
    {
      "cell_type": "markdown",
      "source": [
        "**Compare**"
      ],
      "metadata": {
        "id": "IQbWo47W6wyI"
      }
    },
    {
      "cell_type": "markdown",
      "source": [
        "It seems similar between our model and the model from Sklearn."
      ],
      "metadata": {
        "id": "P5a_l0XK60pw"
      }
    },
    {
      "cell_type": "markdown",
      "source": [
        "The lesser the model inertia, the better the model fit.\n",
        "\n",
        "We can see that the model has very high inertia. So, this is not a good model fit to the data."
      ],
      "metadata": {
        "id": "pjPG8I0FN0DO"
      }
    },
    {
      "cell_type": "markdown",
      "source": [
        "#### **Check quality of weak classification by the model**"
      ],
      "metadata": {
        "id": "66GAEWmMN4wF"
      }
    },
    {
      "cell_type": "code",
      "source": [
        "def check_labeling(y, labels):\n",
        "  # check how many of the samples were correctly labeled\n",
        "  correct_labels = sum(y == labels)\n",
        "\n",
        "  print('Result: {0} out of {1} samples were correctly labeled.'.format(correct_labels, len(labels)))\n",
        "  print('Accuracy score: {0:0.2f}'. format(correct_labels/float(y.size)))"
      ],
      "metadata": {
        "id": "172rwc0Zkv-A"
      },
      "execution_count": 202,
      "outputs": []
    },
    {
      "cell_type": "markdown",
      "source": [
        "**Our model**"
      ],
      "metadata": {
        "id": "xoZHqBQD7Mw5"
      }
    },
    {
      "cell_type": "code",
      "source": [
        "kmeansBase =  KMeansBase(n_clusters=2, random_state=0, max_iter = max_iteration)\n",
        "kmeansBase.fit(X)\n",
        "check_labeling(y, kmeansBase.labels_)"
      ],
      "metadata": {
        "colab": {
          "base_uri": "https://localhost:8080/"
        },
        "id": "V9dzYYCMwZ7C",
        "outputId": "813cb51f-d21d-4de7-9770-ed988c625869"
      },
      "execution_count": 203,
      "outputs": [
        {
          "output_type": "stream",
          "name": "stdout",
          "text": [
            "Result: 63 out of 7050 samples were correctly labeled.\n",
            "Accuracy score: 0.01\n"
          ]
        }
      ]
    },
    {
      "cell_type": "markdown",
      "source": [
        "**Sklearn Model**"
      ],
      "metadata": {
        "id": "7OcUMpUL7Pcc"
      }
    },
    {
      "cell_type": "code",
      "source": [
        "kmeansSK =  KMeans(n_clusters=2, random_state=0, max_iter = max_iteration)\n",
        "kmeansSK.fit(X)\n",
        "check_labeling(y, kmeansSK.labels_)"
      ],
      "metadata": {
        "colab": {
          "base_uri": "https://localhost:8080/"
        },
        "id": "zLjIxJdb7VND",
        "outputId": "1c2c960e-157c-454e-9f0b-950251d31ea6"
      },
      "execution_count": 204,
      "outputs": [
        {
          "output_type": "stream",
          "name": "stdout",
          "text": [
            "Result: 63 out of 7050 samples were correctly labeled.\n",
            "Accuracy score: 0.01\n"
          ]
        }
      ]
    },
    {
      "cell_type": "markdown",
      "source": [
        "We have achieved a weak classification accuracy of 1% by our unsupervised model. It's same to the SkLearn Model."
      ],
      "metadata": {
        "id": "r5HcUhPUOSrA"
      }
    },
    {
      "cell_type": "markdown",
      "source": [
        "#### **Use elbow method to find optimal number of clusters**"
      ],
      "metadata": {
        "id": "ukCEHuL8O8O9"
      }
    },
    {
      "cell_type": "code",
      "source": [
        "def plot_elbow(X, K_list, KMeansModel=KMeansBase, random_state=0,  max_iteration=100):\n",
        "  cs = []\n",
        "  for k in range(1, K_list):\n",
        "    kmeans = KMeansModel(n_clusters=k, max_iter = max_iteration, random_state=random_state)\n",
        "    kmeans.fit(X)\n",
        "    cs.append(kmeans.inertia_)\n",
        "\n",
        "  plt.plot(range(1, K_list), cs)\n",
        "  plt.title('The Elbow Method')\n",
        "  plt.xlabel('Number of clusters')\n",
        "  plt.ylabel('CS')\n",
        "  plt.show()"
      ],
      "metadata": {
        "id": "2pJ48FDNkv7k"
      },
      "execution_count": 205,
      "outputs": []
    },
    {
      "cell_type": "markdown",
      "source": [
        "**Plot with our model**"
      ],
      "metadata": {
        "id": "LzG2-hTSDVI2"
      }
    },
    {
      "cell_type": "code",
      "source": [
        "plot_elbow(X, 11, KMeansModel=KMeansBase)"
      ],
      "metadata": {
        "id": "RBseJhkvkv4y",
        "colab": {
          "base_uri": "https://localhost:8080/",
          "height": 472
        },
        "outputId": "f180607c-12d4-41a6-c25f-2e400c019e2e"
      },
      "execution_count": 206,
      "outputs": [
        {
          "output_type": "display_data",
          "data": {
            "text/plain": [
              "<Figure size 640x480 with 1 Axes>"
            ],
            "image/png": "[encoded data removed]"
          },
          "metadata": {}
        }
      ]
    },
    {
      "cell_type": "markdown",
      "source": [
        "**Plot with SkLearn model**"
      ],
      "metadata": {
        "id": "LGFnlqfkDZPk"
      }
    },
    {
      "cell_type": "code",
      "source": [
        "plot_elbow(X, 11, KMeansModel=KMeans)"
      ],
      "metadata": {
        "colab": {
          "base_uri": "https://localhost:8080/",
          "height": 472
        },
        "id": "JYYae0w5Dcl-",
        "outputId": "ccac82a8-3db6-4198-85a9-eba3d4c2928a"
      },
      "execution_count": 207,
      "outputs": [
        {
          "output_type": "display_data",
          "data": {
            "text/plain": [
              "<Figure size 640x480 with 1 Axes>"
            ],
            "image/png": "[encoded data removed]"
          },
          "metadata": {}
        }
      ]
    },
    {
      "cell_type": "markdown",
      "source": [
        "By the above plot, we can see that there is a kink at k=2.\n",
        "\n",
        "Hence k=2 can be considered a good number of the cluster to cluster this data.\n",
        "\n",
        "But, we have seen that I have achieved a weak classification accuracy of 1% with k=2."
      ],
      "metadata": {
        "id": "_hKhsoLjaii_"
      }
    },
    {
      "cell_type": "markdown",
      "source": [
        "I will check the model accuracy with different number of clusters."
      ],
      "metadata": {
        "id": "Cu1DhpWYapsq"
      }
    },
    {
      "cell_type": "markdown",
      "source": [
        "#### **K-Means model with different clusters**"
      ],
      "metadata": {
        "id": "n7yZA9l-arpI"
      }
    },
    {
      "cell_type": "markdown",
      "source": [
        "##### **K-Means model with 3 clusters**"
      ],
      "metadata": {
        "id": "hCLbexFSa3_Y"
      }
    },
    {
      "cell_type": "markdown",
      "source": [
        "**Our model**"
      ],
      "metadata": {
        "id": "NSDom0zsy0aV"
      }
    },
    {
      "cell_type": "code",
      "source": [
        "kmeansBase3 =  KMeansBase(n_clusters=3, random_state=0, max_iter = max_iteration)\n",
        "kmeansBase3.fit(X)\n",
        "check_labeling(y, kmeansBase3.labels_)\n",
        "print('Inertia: {0}'. format(kmeansBase3.inertia_))"
      ],
      "metadata": {
        "colab": {
          "base_uri": "https://localhost:8080/"
        },
        "id": "4IcHsWp1H8lB",
        "outputId": "9611d753-13e9-436a-e73f-5f8a36b18098"
      },
      "execution_count": 208,
      "outputs": [
        {
          "output_type": "stream",
          "name": "stdout",
          "text": [
            "Result: 486 out of 7050 samples were correctly labeled.\n",
            "Accuracy score: 0.07\n",
            "Inertia: 162.38511670264387\n"
          ]
        }
      ]
    },
    {
      "cell_type": "markdown",
      "source": [
        "**Scikit Learn model**"
      ],
      "metadata": {
        "id": "fScry7bJy208"
      }
    },
    {
      "cell_type": "code",
      "source": [
        "kmeansSK3 =  KMeans(n_clusters=3, random_state=0, max_iter = max_iteration)\n",
        "kmeansSK3.fit(X)\n",
        "check_labeling(y, kmeansSK3.labels_)\n",
        "print('Inertia: {0}'. format(kmeansSK3.inertia_))"
      ],
      "metadata": {
        "colab": {
          "base_uri": "https://localhost:8080/"
        },
        "id": "1g3ZPVnuIcKY",
        "outputId": "ec9486bc-4b50-4a69-9aa9-9d57340464a3"
      },
      "execution_count": 209,
      "outputs": [
        {
          "output_type": "stream",
          "name": "stdout",
          "text": [
            "Result: 138 out of 7050 samples were correctly labeled.\n",
            "Accuracy score: 0.02\n",
            "Inertia: 161.5963340003362\n"
          ]
        }
      ]
    },
    {
      "cell_type": "markdown",
      "source": [
        "##### **K-Means model with 4 clusters**"
      ],
      "metadata": {
        "id": "B47fRnnSbyOu"
      }
    },
    {
      "cell_type": "markdown",
      "source": [
        "**Our model**"
      ],
      "metadata": {
        "id": "apQqUdYQy_T9"
      }
    },
    {
      "cell_type": "code",
      "source": [
        "kmeansBase4 =  KMeansBase(n_clusters=4, random_state=0, max_iter = max_iteration)\n",
        "kmeansBase4.fit(X)\n",
        "check_labeling(y, kmeansBase4.labels_)\n",
        "print('Inertia: {0}'. format(kmeansBase4.inertia_))"
      ],
      "metadata": {
        "id": "OBw4nqUCkvza",
        "colab": {
          "base_uri": "https://localhost:8080/"
        },
        "outputId": "fd245bf4-44e9-4bdf-b7b2-81794313167a"
      },
      "execution_count": 210,
      "outputs": [
        {
          "output_type": "stream",
          "name": "stdout",
          "text": [
            "Result: 365 out of 7050 samples were correctly labeled.\n",
            "Accuracy score: 0.05\n",
            "Inertia: 143.48282155823824\n"
          ]
        }
      ]
    },
    {
      "cell_type": "markdown",
      "source": [
        "**Scikit Learn model**"
      ],
      "metadata": {
        "id": "zouUbAWazBC1"
      }
    },
    {
      "cell_type": "code",
      "source": [
        "kmeansSK4 =  KMeans(n_clusters=4, random_state=0, max_iter = max_iteration)\n",
        "kmeansSK4.fit(X)\n",
        "check_labeling(y, kmeansSK4.labels_)\n",
        "print('Inertia: {0}'. format(kmeansSK4.inertia_))"
      ],
      "metadata": {
        "colab": {
          "base_uri": "https://localhost:8080/"
        },
        "id": "zcWH19y_JIfa",
        "outputId": "94fd1ba7-c3f8-459a-bac8-8fec55c21af2"
      },
      "execution_count": 211,
      "outputs": [
        {
          "output_type": "stream",
          "name": "stdout",
          "text": [
            "Result: 4340 out of 7050 samples were correctly labeled.\n",
            "Accuracy score: 0.62\n",
            "Inertia: 127.31313212987737\n"
          ]
        }
      ]
    },
    {
      "cell_type": "markdown",
      "source": [
        "With k=4, our model achieved a relatively low accuracy of 6% while the Scikit Learn model achieved 62%, which is much better than our model.\n",
        "\n",
        "The reason is because the Scikit Learn model uses \"K-Means++\" when initializing the focus, while our model still uses pure \"K-Means\".\n",
        "So in the next section, we will implement \"K-Means++\""
      ],
      "metadata": {
        "id": "9nwYITkWb6z_"
      }
    },
    {
      "cell_type": "markdown",
      "source": [
        "## **K-Means++ implement**"
      ],
      "metadata": {
        "id": "vcrYtluSQ3VH"
      }
    },
    {
      "cell_type": "markdown",
      "source": [
        "### **Intuition**"
      ],
      "metadata": {
        "id": "S8WBb0A0-SDG"
      }
    },
    {
      "cell_type": "markdown",
      "source": [
        "Suppose we want to init ***K = 3*** clusters, and we have the following points:\n",
        "\n",
        "![image.png](data:image/png;base64,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)\n",
        "\n",
        "\n",
        "1. The initial step is to choose a data point at random to serve as the cluster centroid (K1):\n",
        "![image.png](data:image/png;base64,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)\n",
        "\n",
        "\n",
        "2. Assume the red point is chosen as the initial centroid. Now compute the distance between each data point and this centroid:\n",
        "![image.png](data:image/png;base64,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)\n",
        "\n",
        "3. The next centroid (K2) is the one with the greatest squared distance from the present centroid:\n",
        "![image.png](data:image/png;base64,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)\n",
        "\n",
        "\n",
        "4. Now compute the distance between each data point and its nearest centroid:\n",
        "\n",
        "![image.png](data:image/png;base64,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)\n",
        "\n",
        "\n",
        "5. Choose the next centroid (K3) from the remaining data points, but select it with a probability that is proportional to the squared distance of each data point from the nearest centroid already chosen. In other words, data points that are farther away from the existing centroids have a higher chance of being chosen as the next centroid.\n",
        "\n",
        "![image.png](data:image/png;base64,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)"
      ],
      "metadata": {
        "id": "bKMPlc7N-Uwf"
      }
    },
    {
      "cell_type": "markdown",
      "source": [
        "### **Implement**"
      ],
      "metadata": {
        "id": "NnChZdJ15Wp4"
      }
    },
    {
      "cell_type": "markdown",
      "source": [
        "#### **Draft code**"
      ],
      "metadata": {
        "id": "u09ZUg8Z5f4q"
      }
    },
    {
      "cell_type": "code",
      "source": [
        "#This function for testing\n",
        "# def init_centroids_kmeansPlus(X, K):\n",
        "#   # np.random.seed(11)\n",
        "#   centroids = []\n",
        "#   first_centroid = X[np.random.choice(range(X.shape[0]), replace = False)]\n",
        "#   centroids.append(first_centroid)\n",
        "#   print(\"First centroid:\", first_centroid)\n",
        "\n",
        "#   for i in range(1, K):\n",
        "#     euclidean_distances = []\n",
        "#     print(\"--------------\")\n",
        "#     print(\"K:\", i)\n",
        "#     print(\"Centroid:\", centroids)\n",
        "\n",
        "#     for j in range(X.shape[0]):\n",
        "#       print(\"####\")\n",
        "#       print(\"X:\", X[j])\n",
        "#       print(\"Distance:\",(X[j] - np.array(centroids))**2)\n",
        "#       print(\"Sum:\", np.sum((X[j] - np.array(centroids))**2, axis=1))\n",
        "#       print(\"Min:\", np.min(np.sum((X[j] - np.array(centroids))**2)))\n",
        "#       euclidean_distances.append(np.min(np.sum((X[j] - np.array(centroids))**2, axis=1)))\n",
        "\n",
        "#     euclidean_distances = np.array(euclidean_distances)\n",
        "#     print(\"Euclidean_distances array:\", euclidean_distances)\n",
        "#     print(\"Max distance:\", np.max(euclidean_distances))\n",
        "#     print(\"Arg Max distance:\", np.argmax(euclidean_distances))\n",
        "\n",
        "#     probabilities = euclidean_distances/np.sum(euclidean_distances)\n",
        "#     print(\"Probabilities:\", probabilities)\n",
        "\n",
        "#     #next_centroid = X[np.random.choice(range(X.shape[0]), replace = False, p=probabilities)]\n",
        "#     next_centroid = X[np.argmax(euclidean_distances)]\n",
        "#     print(\"Next centroid:\", next_centroid)\n",
        "\n",
        "#     centroids.append(next_centroid)\n",
        "\n",
        "#   return np.array(centroids)"
      ],
      "metadata": {
        "id": "CpxSVl2D-MJl"
      },
      "execution_count": 212,
      "outputs": []
    },
    {
      "cell_type": "code",
      "source": [
        "# def init_centroids_kmeansPlus(X, K):\n",
        "#   centroids = []\n",
        "#   first_centroid = X[np.random.choice(range(X.shape[0]), replace = False)]\n",
        "#   centroids.append(first_centroid)\n",
        "\n",
        "#   for _ in range(1, K):\n",
        "#     euclidean_distances = []\n",
        "\n",
        "#     for i in range(X.shape[0]):\n",
        "#       euclidean_distances.append(np.min(np.sum((X[i] - np.array(centroids))**2, axis=1)))\n",
        "\n",
        "#     euclidean_distances = np.array(euclidean_distances)\n",
        "#     next_centroid = X[np.argmax(euclidean_distances)]\n",
        "\n",
        "#     centroids.append(next_centroid)\n",
        "\n",
        "#   return np.array(centroids)"
      ],
      "metadata": {
        "id": "0ZNiyFQaf_6l"
      },
      "execution_count": 213,
      "outputs": []
    },
    {
      "cell_type": "code",
      "source": [
        "# X_test"
      ],
      "metadata": {
        "id": "j4NOPtoj44wz"
      },
      "execution_count": 214,
      "outputs": []
    },
    {
      "cell_type": "code",
      "source": [
        "# #Test init_centroids_kmeansPlus\n",
        "# init_centroids_kmeansPlus(X_test, 3)"
      ],
      "metadata": {
        "id": "VcUoANM13i8u"
      },
      "execution_count": 215,
      "outputs": []
    },
    {
      "cell_type": "code",
      "source": [
        "# def fit_Plus(X, K, max_interation=100):\n",
        "#   labels = []\n",
        "#   inter = 0\n",
        "\n",
        "#   #1\n",
        "#   centroids = [init_centroids_kmeansPlus(X, K)]\n",
        "\n",
        "#   for _ in range(max_interation):\n",
        "#     while True:\n",
        "#       #2\n",
        "#       labels.append(assign_clusters(X, centroids[-1]))\n",
        "\n",
        "#       new_centroids = update_centroids(X, labels[-1], K)\n",
        "\n",
        "#       #3\n",
        "#       if has_converged(centroids[-1], new_centroids):\n",
        "#         break\n",
        "#       centroids.append(new_centroids)\n",
        "\n",
        "#       inter +=1\n",
        "\n",
        "#   return (centroids, labels, inter)"
      ],
      "metadata": {
        "id": "t8-p561M57UZ"
      },
      "execution_count": 216,
      "outputs": []
    },
    {
      "cell_type": "markdown",
      "source": [
        "#### **K-Means++ Class**"
      ],
      "metadata": {
        "id": "R_lRPSPh5raq"
      }
    },
    {
      "cell_type": "code",
      "source": [
        "class KMeansClustering(KMeansBase):\n",
        "  def __init__(self, n_clusters, init=\"k-means++\", max_iter = 100, random_state=None, tolerance=1e-4):\n",
        "    super().__init__(n_clusters, max_iter, random_state, tolerance)\n",
        "    self.init = init\n",
        "\n",
        "  def init_centroids_kmeansPlus(self, X):\n",
        "    centroids = []\n",
        "    first_centroid = X[np.random.choice(range(X.shape[0]), replace = False)]\n",
        "    centroids.append(first_centroid)\n",
        "\n",
        "    for _ in range(1, self.K):\n",
        "      euclidean_distances = []\n",
        "\n",
        "      for i in range(X.shape[0]):\n",
        "        euclidean_distances.append(np.min(np.sum((X[i] - np.array(centroids))**2, axis=1)))\n",
        "\n",
        "      euclidean_distances = np.array(euclidean_distances)\n",
        "      next_centroid = X[np.argmax(euclidean_distances)]\n",
        "\n",
        "      centroids.append(next_centroid)\n",
        "\n",
        "    return np.array(centroids)\n",
        "\n",
        "  def fit(self, X):\n",
        "    np.random.seed(self.random_state)\n",
        "    n_samples, n_features = X.shape\n",
        "    centroids = np.empty((self.K, n_features), dtype=X.dtype)\n",
        "    cluster_labels = []\n",
        "    iter = 0\n",
        "\n",
        "    # Step 1: Initialize centroids using K-means++\n",
        "    if self.init==\"k-means++\":\n",
        "      centroids = self.init_centroids_kmeansPlus(X)\n",
        "    else:\n",
        "      centroids = self.init_centroids(X)\n",
        "\n",
        "    for iteration in range(1, self.max_iter + 1):\n",
        "        # Step 2: Assign data points to the nearest centroids\n",
        "        cluster_labels = self.assign_clusters(X, centroids)\n",
        "\n",
        "        # Step 3: Update centroids based on the assigned clusters\n",
        "        new_centroids = self.update_centroids(X, cluster_labels)\n",
        "\n",
        "        # Step 4: Check for convergence\n",
        "        if np.all(np.abs(new_centroids - centroids) < self.tol):\n",
        "            break\n",
        "\n",
        "        centroids = new_centroids\n",
        "        iter = iteration\n",
        "\n",
        "    self.inertia_ = self.inertia(X, centroids, cluster_labels)\n",
        "    self.labels_ = cluster_labels\n",
        "    self.cluster_centers_ = centroids\n",
        "    self.n_iter_ = iter"
      ],
      "metadata": {
        "id": "DPgcOsCPjoKK"
      },
      "execution_count": 217,
      "outputs": []
    },
    {
      "cell_type": "markdown",
      "source": [
        "#### **Apply K-means++**"
      ],
      "metadata": {
        "id": "eFvJTbXGjijh"
      }
    },
    {
      "cell_type": "code",
      "source": [
        "def kmeans_print_reusult(X, n_clusters, init, random_state=None, max_iter=100, KModel = KMeansClustering):\n",
        "  kmeans = KModel(n_clusters=n_clusters, init=init, random_state=0, max_iter = max_iteration)\n",
        "  kmeans.fit(X)\n",
        "  print(\"Centroids: \", kmeans.cluster_centers_)\n",
        "  print(\"Labels: \", kmeans.labels_)\n",
        "  print(\"Interation: \", kmeans.n_iter_)\n",
        "  print(\"Inertia: \", kmeans.inertia_)\n",
        "\n",
        "  return kmeans.labels_"
      ],
      "metadata": {
        "id": "UnaZSIYrAFlG"
      },
      "execution_count": 218,
      "outputs": []
    },
    {
      "cell_type": "markdown",
      "source": [
        "##### **With 2 clusters**"
      ],
      "metadata": {
        "id": "gSiUBUzzrAr6"
      }
    },
    {
      "cell_type": "markdown",
      "source": [
        "**Our model**"
      ],
      "metadata": {
        "id": "bn0JqLqdBs33"
      }
    },
    {
      "cell_type": "code",
      "source": [
        "labels2 = kmeans_print_reusult(X, KModel = KMeansClustering, init=\"k-means++\", n_clusters=2, random_state=0, max_iter = max_iteration)\n",
        "check_labeling(y, labels2)"
      ],
      "metadata": {
        "colab": {
          "base_uri": "https://localhost:8080/"
        },
        "id": "URm6yWVa_rfR",
        "outputId": "a76d8aaf-bf72-4c48-f785-d0baceb73d2a"
      },
      "execution_count": 219,
      "outputs": [
        {
          "output_type": "stream",
          "name": "stdout",
          "text": [
            "Centroids:  [[3.47851210e-01 3.80950606e-02 7.68637183e-04 7.29728840e-04\n",
            "  3.75728091e-02 2.15002696e-03 2.36638425e-03 1.17727433e-03\n",
            "  3.09306821e-03 1.41893545e-03]\n",
            " [9.86173854e-01 6.92542844e-02 2.94899987e-02 3.24593640e-02\n",
            "  6.09779533e-02 5.20179148e-02 8.94331763e-03 1.06122235e-02\n",
            "  7.97197729e-03 7.88236073e-03]]\n",
            "Labels:  [1, 0, 1, 0, 0, 0, 1, 1, 0, 0, 0, 0, 0, 0, 0, 1, 1, 1, 1, 0, 0, 0, 0, 1, 0, 1, 1, 1, 0, 1, 0, 1, 0, 0, 0, 0, 1, 0, 0, 1, 1, 1, 1, 1, 0, 1, 0, 1, 1, 1, 0, 1, 0, 1, 1, 1, 1, 1, 1, 1, 0, 1, 0, 1, 0, 0, 1, 1, 1, 1, 1, 1, 1, 1, 1, 1, 1, 1, 1, 1, 1, 1, 1, 1, 1, 0, 0, 0, 0, 0, 0, 0, 0, 0, 0, 0, 0, 1, 1, 1, 0, 0, 0, 0, 0, 0, 0, 0, 0, 0, 0, 0, 0, 1, 0, 0, 1, 1, 1, 1, 1, 1, 0, 0, 1, 1, 0, 1, 1, 1, 0, 0, 0, 0, 0, 1, 0, 0, 0, 0, 1, 1, 0, 1, 1, 1, 0, 0, 1, 1, 0, 1, 1, 0, 1, 0, 0, 0, 0, 1, 0, 0, 0, 0, 1, 0, 0, 1, 0, 0, 0, 0, 1, 0, 0, 0, 0, 1, 0, 0, 0, 1, 0, 0, 0, 0, 0, 1, 0, 0, 1, 0, 0, 0, 1, 0, 0, 1, 1, 0, 0, 0, 0, 1, 0, 0, 0, 0, 1, 0, 0, 1, 0, 0, 1, 0, 0, 1, 0, 0, 0, 0, 0, 0, 0, 1, 0, 0, 1, 0, 0, 0, 0, 0, 1, 0, 0, 0, 1, 0, 0, 0, 0, 0, 0, 0, 0, 0, 0, 0, 0, 0, 0, 0, 0, 0, 0, 0, 0, 0, 0, 0, 0, 0, 0, 0, 0, 0, 1, 0, 1, 0, 0, 1, 1, 0, 1, 0, 0, 0, 0, 1, 0, 1, 0, 0, 0, 0, 0, 0, 0, 0, 1, 1, 0, 1, 0, 0, 0, 0, 0, 0, 0, 0, 0, 0, 0, 0, 0, 0, 0, 0, 0, 0, 1, 0, 0, 0, 0, 0, 0, 0, 0, 0, 1, 0, 0, 0, 0, 0, 0, 0, 1, 0, 0, 0, 0, 1, 0, 0, 0, 0, 0, 1, 0, 1, 0, 0, 0, 0, 0, 0, 0, 0, 0, 0, 1, 0, 0, 0, 0, 1, 0, 0, 0, 0, 0, 0, 1, 0, 0, 0, 0, 1, 0, 0, 1, 0, 0, 0, 0, 0, 0, 1, 1, 0, 0, 0, 0, 1, 1, 1, 0, 0, 0, 1, 1, 1, 0, 0, 1, 0, 0, 0, 0, 0, 0, 0, 0, 0, 1, 0, 1, 1, 0, 0, 0, 0, 0, 0, 0, 1, 0, 0, 0, 1, 1, 1, 0, 0, 0, 0, 0, 0, 0, 0, 0, 0, 0, 0, 0, 0, 1, 0, 0, 1, 0, 0, 0, 0, 1, 0, 1, 0, 0, 0, 0, 0, 1, 0, 0, 0, 1, 0, 0, 0, 0, 1, 0, 0, 0, 0, 0, 1, 0, 1, 1, 0, 0, 0, 1, 0, 1, 0, 1, 0, 1, 0, 0, 0, 1, 1, 0, 0, 0, 0, 0, 0, 1, 0, 0, 0, 0, 0, 0, 0, 1, 0, 0, 1, 0, 0, 1, 1, 1, 0, 1, 0, 0, 0, 0, 0, 0, 0, 0, 0, 0, 0, 0, 0, 0, 1, 0, 1, 0, 0, 0, 0, 0, 1, 0, 0, 0, 1, 0, 0, 0, 0, 0, 0, 0, 0, 0, 0, 0, 0, 0, 0, 0, 0, 0, 0, 0, 0, 0, 0, 0, 0, 0, 0, 0, 0, 0, 0, 0, 0, 0, 0, 0, 1, 0, 0, 1, 1, 0, 0, 0, 0, 1, 1, 0, 1, 0, 1, 0, 0, 1, 0, 0, 0, 0, 0, 1, 0, 1, 1, 0, 0, 0, 0, 1, 0, 0, 0, 0, 0, 0, 0, 1, 0, 0, 1, 0, 1, 1, 0, 0, 1, 0, 0, 1, 1, 1, 0, 1, 0, 0, 0, 1, 0, 0, 0, 1, 0, 0, 0, 0, 1, 0, 0, 0, 0, 1, 1, 0, 1, 0, 0, 0, 0, 0, 0, 0, 0, 0, 0, 0, 0, 1, 0, 0, 0, 1, 0, 0, 0, 0, 0, 0, 0, 0, 0, 0, 0, 0, 0, 0, 0, 0, 0, 0, 0, 1, 0, 0, 1, 0, 0, 0, 0, 0, 0, 1, 0, 0, 0, 0, 1, 0, 0, 0, 0, 0, 0, 0, 0, 0, 0, 0, 0, 0, 0, 0, 0, 0, 1, 0, 0, 0, 0, 0, 0, 0, 0, 0, 0, 0, 0, 0, 0, 0, 0, 0, 0, 0, 0, 1, 0, 0, 0, 0, 0, 0, 1, 0, 1, 1, 0, 0, 0, 1, 0, 1, 0, 0, 0, 0, 0, 0, 0, 0, 1, 0, 0, 0, 0, 1, 0, 0, 0, 0, 0, 0, 0, 0, 0, 1, 0, 1, 0, 1, 1, 1, 0, 0, 0, 0, 0, 1, 0, 1, 0, 0, 0, 0, 1, 0, 1, 0, 1, 0, 0, 0, 0, 1, 0, 0, 1, 1, 0, 0, 0, 1, 0, 1, 1, 1, 0, 0, 0, 1, 1, 1, 0, 0, 1, 1, 0, 1, 1, 1, 1, 1, 1, 0, 1, 1, 0, 0, 0, 1, 0, 1, 1, 1, 0, 0, 0, 0, 0, 0, 1, 1, 0, 0, 0, 0, 1, 1, 0, 0, 0, 0, 0, 0, 0, 0, 1, 0, 0, 0, 1, 0, 0, 0, 0, 0, 0, 0, 0, 0, 0, 0, 0, 0, 0, 0, 0, 1, 1, 0, 0, 0, 0, 1, 1, 0, 0, 0, 1, 0, 1, 0, 0, 1, 0, 0, 0, 0, 0, 0, 0, 1, 0, 1, 0, 0, 0, 0, 0, 0, 0, 0, 0, 0, 0, 0, 0, 0, 0, 0, 0, 0, 0, 0, 0, 0, 0, 0, 0, 0, 0, 0, 0, 0, 0, 0, 0, 0, 0, 0, 0, 0, 0, 1, 0, 0, 0, 0, 0, 0, 0, 0, 0, 0, 0, 0, 0, 0, 0, 0, 0, 0, 0, 0, 0, 0, 0, 0, 0, 0, 0, 0, 0, 0, 0, 0, 0, 0, 0, 0, 0, 0, 0, 0, 0, 0, 0, 0, 0, 1, 0, 0, 0, 1, 1, 1, 1, 1, 1, 1, 1, 1, 0, 0, 0, 1, 0, 1, 1, 0, 1, 0, 1, 0, 1, 0, 1, 1, 1, 0, 0, 1, 1, 1, 0, 0, 0, 1, 1, 1, 1, 1, 1, 0, 1, 1, 0, 1, 1, 0, 1, 0, 1, 0, 0, 1, 0, 0, 1, 0, 0, 1, 1, 0, 1, 0, 1, 1, 1, 0, 1, 1, 0, 1, 0, 0, 0, 1, 0, 0, 0, 1, 0, 1, 0, 1, 1, 0, 1, 1, 1, 0, 1, 0, 0, 1, 0, 0, 0, 0, 0, 0, 0, 0, 0, 0, 1, 0, 0, 1, 0, 0, 0, 0, 0, 0, 0, 0, 0, 0, 0, 0, 1, 0, 1, 0, 0, 0, 1, 1, 0, 0, 0, 0, 1, 0, 0, 0, 0, 0, 0, 0, 1, 0, 0, 1, 1, 0, 0, 0, 1, 1, 1, 1, 1, 1, 1, 0, 1, 1, 0, 1, 1, 1, 0, 0, 0, 0, 1, 1, 0, 0, 1, 0, 1, 0, 0, 0, 1, 1, 1, 0, 1, 1, 0, 0, 0, 0, 0, 0, 0, 0, 0, 1, 1, 0, 1, 1, 0, 0, 0, 0, 1, 1, 0, 0, 1, 1, 0, 1, 0, 0, 0, 0, 0, 0, 0, 0, 0, 0, 0, 0, 0, 0, 0, 0, 1, 1, 0, 0, 0, 0, 1, 0, 0, 0, 0, 0, 0, 0, 0, 0, 1, 1, 1, 0, 0, 0, 0, 0, 0, 0, 0, 0, 0, 0, 0, 0, 0, 0, 1, 0, 0, 0, 0, 0, 0, 0, 0, 0, 1, 1, 0, 1, 1, 0, 0, 0, 0, 0, 0, 0, 0, 0, 0, 0, 0, 1, 1, 0, 1, 0, 0, 0, 0, 0, 0, 0, 0, 0, 0, 1, 1, 0, 0, 1, 0, 1, 1, 1, 0, 1, 0, 0, 0, 0, 0, 1, 1, 1, 1, 1, 1, 1, 1, 1, 1, 1, 1, 1, 1, 1, 0, 1, 1, 1, 1, 1, 1, 1, 1, 1, 1, 1, 1, 1, 1, 1, 0, 1, 1, 1, 1, 1, 1, 1, 1, 0, 1, 1, 1, 1, 1, 1, 1, 1, 1, 1, 1, 1, 1, 1, 1, 1, 0, 1, 0, 1, 1, 1, 1, 1, 1, 1, 0, 1, 1, 1, 1, 1, 1, 1, 1, 1, 1, 1, 1, 0, 1, 1, 1, 1, 1, 1, 1, 1, 1, 1, 1, 1, 1, 1, 1, 1, 1, 1, 1, 1, 1, 1, 1, 1, 1, 1, 0, 1, 1, 1, 1, 1, 1, 1, 1, 1, 1, 1, 1, 1, 1, 1, 1, 1, 1, 1, 1, 1, 1, 1, 1, 1, 1, 1, 1, 1, 1, 0, 1, 1, 1, 1, 1, 1, 1, 1, 1, 1, 1, 1, 1, 0, 1, 0, 0, 0, 1, 1, 1, 0, 1, 1, 1, 1, 1, 1, 1, 1, 1, 1, 1, 1, 1, 1, 1, 0, 1, 1, 1, 1, 1, 1, 1, 1, 1, 1, 1, 1, 1, 1, 1, 1, 1, 1, 1, 1, 1, 1, 1, 1, 0, 1, 1, 1, 1, 1, 1, 1, 1, 1, 0, 1, 1, 1, 1, 1, 1, 1, 1, 1, 1, 0, 0, 0, 1, 1, 1, 1, 0, 0, 0, 0, 0, 1, 1, 0, 0, 0, 0, 1, 0, 0, 0, 1, 1, 1, 0, 1, 0, 1, 1, 1, 0, 0, 0, 1, 0, 0, 1, 1, 0, 0, 0, 1, 1, 0, 0, 0, 0, 0, 0, 0, 0, 0, 0, 0, 0, 0, 0, 1, 1, 1, 0, 0, 1, 1, 0, 1, 0, 0, 1, 1, 0, 1, 1, 0, 1, 0, 1, 1, 0, 1, 1, 0, 1, 1, 1, 1, 1, 1, 1, 1, 1, 1, 1, 1, 1, 1, 1, 1, 1, 1, 1, 1, 0, 0, 0, 0, 0, 0, 0, 0, 1, 1, 1, 1, 1, 1, 1, 1, 1, 1, 1, 0, 0, 1, 1, 0, 0, 1, 0, 1, 1, 1, 0, 0, 0, 1, 1, 1, 0, 0, 1, 1, 0, 1, 0, 1, 0, 0, 1, 1, 1, 0, 1, 1, 1, 1, 1, 0, 1, 0, 0, 0, 0, 0, 0, 0, 0, 0, 0, 0, 0, 0, 0, 0, 0, 0, 0, 1, 0, 0, 1, 0, 0, 1, 0, 0, 0, 0, 0, 0, 0, 0, 0, 0, 0, 0, 0, 0, 0, 0, 0, 0, 0, 0, 0, 0, 0, 0, 0, 0, 0, 0, 0, 0, 0, 0, 0, 0, 0, 0, 0, 0, 0, 0, 0, 0, 0, 0, 0, 0, 0, 0, 0, 0, 0, 0, 0, 0, 0, 0, 0, 0, 0, 0, 0, 0, 0, 0, 0, 0, 0, 0, 0, 0, 0, 0, 0, 0, 0, 0, 0, 0, 0, 0, 0, 0, 0, 0, 0, 0, 0, 0, 0, 0, 0, 0, 0, 0, 0, 0, 0, 0, 0, 0, 0, 0, 0, 0, 0, 0, 0, 0, 0, 0, 0, 0, 0, 0, 0, 0, 0, 0, 0, 0, 0, 0, 0, 0, 0, 0, 0, 0, 0, 0, 0, 0, 0, 0, 0, 0, 0, 0, 0, 0, 0, 0, 0, 0, 0, 0, 0, 0, 0, 0, 0, 0, 0, 0, 0, 0, 0, 0, 0, 0, 0, 0, 0, 0, 0, 0, 0, 0, 0, 0, 0, 0, 0, 0, 0, 0, 0, 0, 0, 0, 0, 0, 0, 0, 0, 0, 0, 0, 0, 0, 0, 0, 0, 0, 0, 0, 0, 0, 0, 0, 0, 0, 0, 0, 0, 0, 0, 0, 0, 0, 0, 0, 0, 0, 0, 0, 0, 0, 0, 0, 0, 0, 0, 0, 0, 0, 0, 0, 0, 0, 0, 0, 0, 0, 0, 0, 0, 0, 0, 0, 0, 0, 0, 0, 0, 0, 0, 0, 0, 0, 0, 0, 0, 0, 0, 0, 0, 0, 0, 0, 0, 0, 0, 0, 0, 0, 0, 0, 0, 0, 0, 0, 0, 0, 0, 0, 0, 0, 0, 0, 0, 0, 0, 0, 0, 0, 0, 0, 0, 0, 0, 0, 0, 0, 0, 0, 0, 0, 0, 0, 0, 0, 0, 0, 0, 0, 0, 0, 0, 0, 0, 0, 0, 0, 0, 0, 0, 0, 0, 0, 0, 0, 0, 0, 0, 0, 0, 0, 0, 0, 0, 0, 0, 0, 0, 0, 0, 0, 0, 0, 0, 0, 0, 0, 0, 0, 0, 0, 0, 0, 0, 0, 0, 0, 0, 0, 0, 0, 0, 0, 0, 0, 0, 0, 0, 0, 0, 0, 0, 0, 0, 0, 0, 0, 0, 0, 0, 0, 0, 0, 0, 0, 0, 0, 0, 0, 0, 0, 0, 0, 0, 0, 0, 0, 0, 0, 0, 0, 0, 0, 0, 0, 0, 0, 0, 0, 0, 0, 0, 0, 0, 0, 0, 0, 0, 0, 0, 0, 0, 0, 0, 0, 0, 0, 0, 0, 0, 0, 0, 0, 0, 0, 0, 0, 0, 0, 0, 0, 0, 0, 0, 0, 0, 0, 0, 0, 0, 0, 0, 0, 0, 0, 0, 0, 0, 0, 0, 0, 0, 0, 0, 0, 0, 0, 0, 0, 0, 0, 0, 0, 0, 0, 0, 0, 0, 0, 0, 0, 0, 0, 0, 0, 0, 0, 0, 0, 0, 0, 0, 0, 0, 0, 0, 0, 0, 0, 0, 0, 0, 0, 0, 0, 0, 0, 0, 0, 0, 0, 0, 0, 0, 0, 0, 0, 0, 0, 0, 0, 0, 0, 0, 0, 0, 0, 0, 0, 0, 0, 0, 0, 0, 0, 0, 0, 0, 0, 0, 0, 0, 0, 0, 0, 0, 0, 0, 0, 0, 0, 0, 0, 0, 0, 0, 0, 0, 0, 0, 0, 0, 0, 0, 0, 0, 0, 0, 0, 0, 0, 0, 0, 0, 0, 0, 0, 0, 0, 0, 0, 0, 0, 0, 0, 0, 0, 0, 0, 0, 0, 0, 0, 0, 0, 0, 0, 0, 0, 0, 0, 0, 0, 0, 0, 0, 0, 0, 0, 0, 0, 0, 0, 0, 0, 0, 0, 0, 0, 0, 0, 0, 0, 0, 0, 0, 0, 0, 0, 0, 0, 0, 0, 0, 0, 0, 0, 0, 0, 0, 0, 0, 0, 0, 0, 0, 0, 0, 0, 0, 0, 0, 0, 0, 0, 0, 0, 0, 0, 0, 0, 0, 0, 0, 0, 0, 0, 0, 0, 0, 0, 0, 0, 0, 0, 0, 0, 0, 0, 0, 0, 0, 0, 0, 0, 0, 0, 0, 0, 0, 0, 0, 0, 0, 0, 0, 0, 0, 0, 0, 0, 0, 0, 0, 0, 0, 0, 0, 0, 0, 0, 0, 0, 0, 0, 0, 0, 0, 0, 0, 0, 0, 0, 0, 0, 0, 0, 0, 0, 0, 0, 0, 0, 0, 0, 0, 0, 0, 0, 0, 0, 0, 0, 0, 0, 0, 0, 0, 0, 0, 0, 0, 0, 0, 0, 0, 0, 0, 0, 0, 0, 0, 0, 0, 0, 0, 0, 0, 0, 0, 0, 0, 0, 0, 0, 0, 0, 0, 0, 0, 0, 0, 0, 0, 0, 0, 0, 0, 0, 0, 0, 0, 0, 0, 0, 0, 0, 0, 0, 0, 0, 0, 0, 0, 0, 0, 0, 0, 0, 0, 0, 0, 0, 0, 0, 0, 0, 0, 0, 0, 0, 0, 0, 0, 0, 0, 0, 0, 0, 0, 0, 0, 0, 0, 0, 0, 0, 0, 0, 0, 0, 0, 0, 0, 0, 0, 0, 0, 0, 0, 0, 0, 0, 0, 0, 0, 0, 0, 0, 0, 0, 0, 0, 0, 0, 0, 0, 0, 0, 0, 0, 0, 0, 0, 0, 0, 0, 0, 0, 0, 0, 0, 0, 0, 0, 0, 0, 0, 0, 0, 0, 0, 0, 0, 0, 0, 0, 0, 0, 0, 0, 0, 0, 0, 0, 1, 0, 0, 0, 0, 0, 1, 0, 0, 0, 0, 0, 0, 0, 0, 1, 1, 0, 0, 0, 0, 0, 1, 1, 0, 0, 0, 0, 0, 0, 0, 0, 1, 0, 0, 0, 0, 0, 0, 1, 0, 0, 0, 0, 0, 0, 0, 0, 0, 0, 0, 0, 0, 0, 0, 0, 0, 0, 0, 0, 0, 0, 0, 0, 0, 0, 0, 0, 0, 0, 0, 0, 0, 0, 0, 0, 0, 0, 0, 1, 1, 0, 0, 0, 0, 0, 1, 0, 0, 0, 0, 0, 0, 1, 0, 0, 0, 0, 0, 0, 0, 0, 0, 0, 0, 0, 0, 1, 0, 1, 0, 0, 0, 0, 0, 0, 0, 0, 0, 0, 0, 0, 0, 0, 1, 0, 0, 0, 0, 0, 0, 0, 0, 0, 0, 0, 0, 0, 0, 0, 0, 0, 0, 0, 0, 1, 0, 0, 0, 0, 0, 0, 0, 0, 0, 0, 0, 0, 0, 1, 0, 0, 0, 1, 0, 0, 0, 0, 0, 0, 0, 0, 0, 0, 0, 0, 0, 0, 0, 0, 0, 0, 0, 0, 0, 0, 0, 0, 1, 0, 1, 0, 0, 0, 0, 0, 0, 0, 1, 0, 0, 0, 0, 0, 0, 0, 0, 1, 0, 0, 0, 0, 0, 0, 0, 0, 0, 0, 0, 0, 0, 0, 1, 0, 0, 1, 0, 0, 0, 0, 0, 0, 0, 0, 0, 0, 0, 0, 0, 0, 0, 0, 0, 0, 0, 0, 0, 0, 0, 0, 0, 0, 0, 0, 0, 1, 0, 0, 0, 0, 0, 0, 0, 0, 1, 0, 0, 0, 0, 1, 0, 0, 0, 0, 0, 1, 0, 0, 0, 0, 0, 0, 1, 0, 0, 0, 1, 0, 0, 0, 0, 0, 0, 0, 0, 1, 0, 0, 0, 0, 0, 0, 0, 0, 0, 0, 0, 0, 0, 0, 0, 0, 0, 0, 0, 0, 0, 0, 0, 0, 0, 0, 0, 1, 0, 0, 0, 0, 0, 1, 0, 0, 0, 0, 0, 0, 0, 0, 1, 0, 0, 0, 0, 0, 0, 1, 0, 0, 0, 0, 1, 0, 0, 0, 0, 0, 1, 0, 0, 0, 0, 0, 0, 1, 0, 0, 0, 0, 0, 0, 0, 0, 0, 0, 0, 0, 0, 0, 0, 1, 0, 0, 0, 0, 0, 1, 0, 0, 0, 0, 0, 0, 0, 0, 0, 0, 0, 1, 0, 0, 0, 0, 0, 0, 0, 0, 0, 1, 0, 0, 0, 1, 0, 0, 0, 0, 0, 0, 0, 0, 0, 0, 0, 0, 0, 0, 0, 0, 0, 0, 0, 0, 0, 0, 0, 0, 0, 0, 0, 0, 0, 0, 0, 0, 0, 0, 0, 1, 0, 0, 0, 0, 0, 0, 0, 0, 1, 0, 0, 0, 0, 0, 0, 0, 0, 0, 0, 0, 0, 1, 0, 0, 0, 1, 0, 0, 0, 0, 0, 1, 0, 1, 0, 0, 0, 0, 0, 0, 0, 0, 0, 0, 0, 0, 0, 0, 0, 0, 0, 0, 0, 0, 0, 0, 0, 0, 0, 0, 0, 0, 0, 0, 0, 0, 0, 1, 0, 1, 0, 0, 0, 0, 0, 0, 0, 0, 0, 1, 0, 1, 1, 1, 1, 0, 0, 0, 0, 0, 1, 1, 0, 0, 1, 0, 0, 0, 0, 0, 0, 0, 0, 1, 0, 0, 0, 0, 0, 0, 1, 0, 0, 1, 0, 0, 0, 1, 1, 0, 0, 1, 0, 0, 0, 1, 0, 0, 1, 1, 0, 0, 0, 1, 0, 1, 0, 0, 0, 0, 0, 1, 0, 1, 0, 0, 1, 1, 0, 0, 1, 0, 0, 0, 0, 0, 1, 0, 0, 1, 0, 1, 0, 0, 0, 1, 0, 0, 1, 0, 0, 1, 0, 0, 0, 1, 0, 0, 0, 1, 0, 0, 0, 0, 0, 0, 0, 0, 0, 0, 0, 0, 0, 0, 0, 0, 0, 0, 0, 0, 0, 0, 0, 0, 0, 0, 1, 0, 0, 0, 1, 0, 1, 0, 0, 1, 0, 0, 0, 1, 0, 0, 0, 0, 0, 0, 0, 0, 0, 0, 0, 0, 0, 0, 1, 0, 0, 0, 1, 0, 0, 1, 0, 0, 0, 0, 1, 0, 0, 1, 0, 0, 0, 1, 0, 0, 0, 0, 0, 1, 0, 0, 0, 1, 0, 1, 1, 0, 0, 0, 1, 0, 0, 1, 0, 0, 0, 0, 0, 0, 0, 0, 0, 0, 0, 0, 0, 0, 0, 0, 0, 0, 0, 0, 0, 0, 0, 1, 0, 0, 1, 0, 0, 0, 1, 0, 0, 1, 0, 0, 0, 0, 0, 0, 1, 0, 0, 1, 0, 0, 0, 0, 1, 0, 1, 0, 0, 0, 0, 0, 0, 0, 0, 0, 0, 0, 0, 0, 0, 0, 0, 1, 0, 1, 0, 0, 0, 0, 1, 0, 0, 0, 1, 0, 0, 0, 0, 1, 0, 0, 1, 0, 0, 0, 0, 0, 0, 1, 0, 0, 0, 0, 0, 0, 0, 0, 0, 1, 0, 0, 0, 0, 0, 0, 0, 1, 0, 0, 0, 1, 0, 0, 0, 0, 0, 0, 0, 0, 0, 0, 1, 0, 0, 1, 0, 0, 0, 0, 0, 0, 0, 0, 0, 1, 0, 0, 1, 0, 1, 0, 0, 0, 0, 0, 0, 0, 0, 1, 1, 0, 0, 0, 0, 1, 0, 1, 0, 1, 1, 1, 0, 0, 0, 0, 1, 1, 0, 1, 0, 0, 1, 0, 0, 1, 1, 0, 0, 0, 1, 0, 0, 0, 0, 0, 0, 1, 0, 0, 1, 0, 1, 0, 0, 1, 0, 0, 1, 0, 0, 0, 0, 1, 1, 1, 0, 0, 0, 0, 0, 0, 0, 0, 0, 1, 0, 0, 0, 0, 0, 0, 0, 0, 0, 1, 1, 0, 0, 0, 0, 0, 1, 0, 0, 1, 0, 0, 0, 1, 0, 0, 0, 1, 0, 1, 0, 0, 0, 0, 1, 1, 1, 0, 0, 0, 0, 0, 1, 0, 0, 1, 0, 0, 1, 0, 0, 1, 0, 0, 0, 0, 1, 1, 0, 1, 0, 0, 0, 0, 1, 1, 1, 0, 0, 0, 1, 1, 0, 1, 1, 1, 0, 1, 0, 0, 1, 0, 1, 0, 0, 0, 0, 0, 1, 0, 1, 0, 1, 0, 0, 1, 0, 0, 0, 0, 0, 0, 0, 0, 0, 0, 0, 1, 0, 0, 0, 0, 0, 0, 0, 1, 0, 1, 1, 0, 0, 0, 0, 0, 0, 1, 0, 0, 0, 1, 0, 0, 0, 0, 0, 0, 1, 0, 0, 0, 0, 0, 0, 0, 0, 1, 0, 0, 0, 0, 0, 0, 0, 0, 0, 0, 0, 0, 0, 0, 0, 0, 0, 0, 0, 0, 0, 0, 0, 0, 0, 0, 0, 0, 0, 0, 0, 0, 0, 0, 0, 0, 0, 0, 0, 0, 0, 0, 0, 0, 0, 0, 1, 0, 0, 0, 0, 0, 0, 0, 0, 0, 0, 0, 1, 0, 0, 0, 0, 0, 0, 0, 0, 0, 0, 0, 0, 0, 0, 0, 0, 0, 0, 0, 0, 0, 0, 0, 0, 0, 0, 0, 0, 0, 0, 0, 1, 1, 0, 0, 0, 0, 0, 0, 0, 0, 0, 0, 0, 0, 0, 0, 0, 0, 0, 0, 0, 0, 0, 0, 0, 0, 0, 0, 0, 0, 0, 0, 0, 1, 0, 1, 1, 0, 1, 1, 0, 1, 1, 1, 0, 0, 0, 1, 1, 1, 0, 0, 1, 1, 0, 1, 1, 1, 1, 1, 0, 1, 0, 0, 0, 1, 1, 1, 0, 1, 1, 0, 1, 0, 0, 1, 1, 1, 0, 1, 1, 1, 1, 1, 0, 0, 0, 0, 0, 1, 0, 0, 0, 0, 0, 0, 0, 0, 0, 0, 0, 0, 0, 0, 0, 0, 0, 0, 0, 0, 0, 0, 0, 0, 0, 0, 0, 0, 0, 0, 0, 0, 0, 0, 0, 0, 0, 0, 0, 0, 0, 0, 0, 0, 0, 0, 0, 0, 0, 0, 0, 0, 0, 0, 0, 0, 0, 0, 0, 0, 0, 0, 0, 0, 0, 0, 0, 1, 1, 1, 1, 1, 1, 1, 1, 1, 1, 1, 1, 1, 1, 1, 1, 1, 1, 1, 1, 1, 1, 1, 0, 1, 1, 1, 1, 1, 1, 0, 1, 1, 1, 1, 1, 1, 0, 1, 1, 1, 1, 1, 1, 1, 0, 1, 1, 1, 0, 0, 0, 0, 0, 0, 0, 1, 1, 1, 1, 1, 1, 1, 1, 1, 1, 1, 1, 1, 1, 1, 1, 1, 1, 1, 1, 1, 1, 1, 1, 1, 1, 1, 1, 1, 1, 1, 1, 1, 1, 1, 1, 1, 1, 1, 1, 1, 1, 1, 1, 1, 1, 1, 1, 1, 1, 1, 1, 1, 1, 1, 1, 1, 1, 1, 1, 1, 1, 1, 1, 1, 1, 1, 1, 1, 1, 1, 1, 1, 1, 1, 1, 1, 1, 1, 1, 1, 1, 1, 1, 1, 1, 1, 1, 1, 1, 1, 1, 1, 1, 1, 1, 1, 1, 1, 1, 1, 1, 1, 1, 1, 1, 1, 1, 1, 1, 1, 1, 1, 1, 1, 1, 1, 1, 1, 1, 1, 1, 1, 1, 1, 1, 1, 1, 1, 1, 1, 1, 1, 1, 1, 1, 1, 1, 0, 1, 1, 1, 1, 1, 1, 1, 1, 1, 1, 1, 1, 1, 1, 1, 1, 1, 1, 1, 1, 1, 1, 1, 1, 1, 1, 1, 1, 1, 1, 1, 1, 1, 1, 1, 1, 1, 1, 1, 1, 1, 1, 1, 1, 1, 1, 1, 0, 0, 1, 1, 1, 1, 1, 1, 1, 1, 1, 1, 1, 1, 1, 1, 1, 1, 1, 1, 1, 1, 1, 1, 1, 1, 1, 1, 1, 1, 1, 1, 1, 1, 1, 1, 1, 1, 1, 1, 1, 1, 1, 1, 1, 1, 1, 1, 1, 1, 1, 1, 1, 1, 1, 1, 1, 1, 1, 1, 1, 1, 1, 1, 1, 1, 1, 1, 1, 1, 1, 1, 1, 1, 1, 1, 1, 1, 1, 1, 1, 1, 1, 1, 1, 1, 1, 1, 1, 1, 1, 1, 1, 1, 1, 1, 1, 1, 1, 1, 1, 1, 1, 1, 1, 1, 1, 1, 1, 1, 1, 1, 1, 1, 1, 1, 1, 1, 1, 1, 1, 1, 1, 1, 1, 1, 1, 1, 1, 1, 1, 1, 1, 1, 1, 1, 1, 1, 1, 1, 1, 1, 1, 1, 1, 1, 1, 1, 1, 1, 1, 1, 1, 1, 1, 1, 1, 1, 1, 1, 1, 1, 1, 1, 1, 1, 1, 1, 1, 1, 1, 1, 1, 1, 1, 1, 1, 1, 1, 1, 1, 1, 1, 1, 1, 1, 1, 1, 1, 1, 1, 1, 1, 1, 1, 1, 1, 1, 1, 1, 1, 1, 1, 1, 1, 1, 1, 1, 1, 1, 1, 1, 1, 1, 1, 1, 1, 1, 1, 1, 1, 1, 1, 1, 1, 1, 1, 1, 1, 1, 1, 1, 1, 1, 1, 1, 1, 1, 1, 1, 1, 1, 1, 1, 1, 1, 1, 1, 1, 1, 1, 1, 1, 1, 0, 1, 1, 1, 1, 1, 1, 1, 1, 1, 0, 1, 0, 1, 1, 1, 1, 1, 1, 1, 1, 1, 1, 1, 1, 1, 1, 1, 1, 0, 1, 1, 1, 1, 1, 1, 1, 1, 1, 0, 1, 1, 1, 1, 1, 1, 1, 1, 1, 1, 1, 1, 1, 1, 1, 1, 1, 1, 1, 1, 1, 1, 1, 0, 1, 1, 1, 1, 1, 1, 1, 1, 1, 1, 1, 1, 1, 1, 1, 0, 1, 1, 1, 1, 1, 1, 1, 1, 1, 1, 1, 1, 0, 0, 1, 1, 1, 1, 1, 1, 1, 1, 1, 1, 1, 1, 1, 1, 1, 1, 0, 1, 1, 1, 1, 1, 1, 1, 0, 1, 1, 0, 1, 1, 0, 0, 0, 0, 0, 1, 1, 1, 1, 1, 1, 1, 1, 1, 0, 1, 1, 1, 1, 1, 1, 1, 1, 1, 1, 1, 1, 1, 1, 1, 1, 1, 1, 0, 0, 0, 0, 0, 0, 0, 0, 0, 1, 1, 1, 1, 1, 1, 1, 1, 1, 1, 0, 1, 1, 1, 1, 1, 0, 0, 1, 0, 0, 0, 1, 1, 1, 1, 1, 1, 0, 0, 0, 0, 0, 1, 1, 1, 1, 1, 0, 1, 1, 1, 0, 0, 0, 0, 1, 1, 1, 1, 1, 0, 1, 0, 0, 0, 0, 0, 0, 0, 0, 0, 0, 0, 0, 0, 0, 0, 0, 0, 0, 0, 0, 0, 0, 0, 0, 0, 0, 0, 0, 0, 0, 0, 0, 0, 0, 0, 0, 0, 0, 0, 0, 0, 0, 0, 0, 1, 1, 0, 0, 0, 1, 0, 0, 0, 0, 1, 1, 1, 0, 0, 1, 1, 0, 0, 0, 1, 1, 0, 0, 0, 0, 0, 0, 1, 1, 0, 0, 0, 0, 1, 1, 0, 1, 0, 0, 0, 0, 0, 0, 1, 1, 0, 0, 0, 0, 1, 0, 0, 0, 1, 1, 0, 0, 0, 0, 0, 1, 1, 0, 0, 0, 1, 0, 0, 0, 0, 1, 1, 0, 1, 0, 0, 0, 0, 0, 1, 1, 0, 0, 0, 0, 1, 0, 0, 0, 0, 1, 1, 1, 0, 0, 0, 0, 0, 1, 1, 0, 0, 0, 0, 1, 0, 0, 0, 0, 1, 1, 1, 1, 0, 0, 0, 0, 0, 0, 1, 1, 1, 0, 0, 0, 0, 0, 1, 1, 0, 1, 0, 0, 0, 0, 1, 1, 0, 0, 0, 0, 1, 0, 0, 0, 0, 1, 1, 0, 0, 0, 1, 1, 0, 0, 0, 1, 0, 0, 0, 0, 1, 1, 1, 0, 1, 0, 0, 0, 0, 0, 0, 0, 0, 0, 1, 0, 0, 0, 1, 1, 1, 0, 0, 0, 0, 0, 0, 0, 0, 1, 1, 0, 0, 0, 0, 0, 0, 0, 0, 0, 0, 0, 0, 1, 1, 0, 0, 0, 0, 1, 0, 0, 0, 1, 1, 0, 0, 0, 0, 0, 0, 0, 0, 0, 0, 0, 0, 0, 0, 0, 1, 1, 0, 0, 0, 0, 0, 0, 0, 1, 1, 0, 0, 0, 0, 1, 0, 1, 1, 0, 0, 0, 0, 0, 0, 0, 1, 0, 0, 0, 0, 0, 0, 0, 0, 0, 0, 1, 1, 0, 0, 0, 0, 0, 0, 0, 1, 0, 0, 0, 0, 1, 1, 0, 0, 0, 0, 1, 1, 0, 0, 0, 0, 0, 0, 0, 0, 0, 0, 0, 0, 0, 1, 0, 0, 0, 0, 0, 0, 0, 0, 1, 0, 0, 0, 0, 0, 1, 1, 1, 0, 0, 0, 1, 0, 0, 0, 0, 0, 0, 0, 1, 1, 1, 0, 1, 0, 0, 0, 0, 0, 1, 1, 1, 1, 0, 0, 0, 0, 1, 0, 0, 0, 0, 0, 1, 1, 0, 1, 0, 0, 0, 1, 0, 0, 0, 0, 0, 0, 0, 0, 0, 0, 0, 0, 0, 1, 0, 0, 0, 0, 1, 0, 1, 1, 1, 0, 0, 1, 1, 1, 0, 0, 1, 0, 1, 1, 0, 1, 0, 1, 1, 1, 1, 1, 1, 0, 0, 1, 0, 1, 1, 0, 0, 1, 1, 1, 0, 0, 1, 1, 1, 0, 0, 1, 0, 1, 0, 1, 1, 0, 0, 0, 1, 0, 0, 1, 1, 1, 1, 1, 1, 1, 1, 1, 1, 1, 0, 1, 0, 0, 1, 1, 1, 0, 1, 0, 1, 0, 0, 1, 0, 1, 1, 0, 1, 1, 0, 1, 1, 1, 0, 1, 0, 0, 1, 1, 0, 1, 1, 1, 1, 1, 1, 1, 0, 1, 1, 1, 0, 1, 1, 1, 1, 0, 1, 1, 1, 1, 1, 1, 1, 0, 0, 0, 1, 0, 1, 0, 0, 1, 1, 0, 1, 0, 1, 0, 1, 1, 1, 0, 1, 0, 0, 1, 0, 0, 1, 0, 1, 1, 0, 1, 1, 0, 1, 1, 1, 0, 1, 1, 1, 0, 1, 0, 1, 0, 0, 0, 1, 1, 1, 1, 1, 1, 1, 1, 1, 1, 1, 0, 1, 0, 1, 0, 0, 1, 1, 1, 0, 0, 1, 1, 0, 0, 1, 0, 1, 0, 0, 1, 1, 1, 1, 1, 1, 1, 1, 1, 0, 1, 1, 1, 0, 1, 0, 1, 0, 1, 1, 1, 1, 1, 1, 1, 0, 0, 0, 1, 1, 0, 0, 1, 1, 0, 0, 1, 0, 1, 0, 1, 1, 1, 0, 1, 1, 1, 0, 1, 1, 1, 1, 0, 1, 1, 1, 0, 0, 1, 0, 1, 1, 0, 0, 1, 1, 1, 1, 0, 1, 0, 1, 1, 1, 1, 1, 1, 1, 0, 1, 0, 1, 0, 1, 0, 1, 0, 1, 1, 1, 0, 0, 1, 0, 1, 0, 1, 1, 0, 0, 0, 1, 1, 1, 0, 1, 1, 0, 1, 1, 1, 0, 1, 1, 1, 0, 1, 0, 0, 1, 1, 0, 0, 1, 0, 0, 1, 0, 1, 0, 0, 1, 0, 0, 1, 1, 0, 1, 1, 1, 0, 1, 0, 0, 0, 1, 0, 1, 1, 1, 1, 1, 1, 1, 1, 0, 0, 0, 1, 0, 0, 0, 1, 1, 0, 1, 1, 0, 1, 1, 1, 1, 0, 1, 0, 1, 0, 1, 0, 0, 1, 0, 0, 1, 1, 1, 1, 1, 1, 1, 1, 1, 1, 1, 0, 1, 0, 1, 1, 1, 0, 0, 0, 1, 1, 0, 0, 1, 0, 1, 0, 0, 1, 0, 1, 0, 1, 0, 1, 1, 0, 1, 1, 0, 1, 1, 1, 1, 1, 1, 0, 1, 0, 0, 0, 1, 1, 0, 1, 0, 0, 0, 1, 0, 0, 1, 0, 0, 1, 1, 0, 0, 1, 1, 0, 1, 0, 1, 1, 0, 1, 0, 0, 0, 1, 1, 0, 1, 0, 0, 1, 0, 1, 1, 1, 0, 1, 0, 0, 1, 0, 1, 0, 1, 1, 0, 0, 1, 0, 1, 1, 0, 0, 0, 1, 1, 0, 0, 1, 1, 0, 0, 0, 1, 0, 0, 0, 0, 0, 0, 1, 1, 0, 0, 0, 1, 1, 1, 0, 0, 0, 0, 0, 1, 0, 0, 0, 0, 1, 0, 0, 0, 1, 0, 0, 0, 0, 0, 0, 1, 0, 0, 0, 0, 0, 0, 0, 0, 0, 1, 1, 0, 0, 0, 0, 1, 1, 1, 0, 0, 0, 0, 0, 0, 0, 1, 0, 0, 0, 1, 1, 0, 0, 0, 0, 0, 0, 0, 1, 0, 0, 1, 0, 0, 0, 1, 1, 0, 0, 0, 0, 1, 1, 0, 0, 1, 1, 0, 0, 1, 1, 0, 0, 1, 0, 0, 0, 1, 1, 1, 0, 0, 1, 1, 1, 0, 0, 1, 0, 0, 1, 0, 0, 0, 0, 0, 0, 1, 0, 0, 0, 1, 1, 0, 0, 0, 0, 0, 0, 1, 1, 0, 0, 0, 0, 1, 0, 0, 0, 1, 1, 0, 0, 0, 0, 0, 1, 1, 0, 0, 0, 0, 0, 1, 0, 0, 0, 0, 1, 1, 1, 1, 0, 1, 0, 1, 1, 0, 0, 0, 1, 1, 0, 0, 1, 1, 0, 1, 1, 1, 0, 0, 0, 1, 1, 0, 1, 1, 0, 0, 0, 1, 0, 0, 0, 1, 1, 1, 0, 0, 1, 0, 1, 1, 0, 0, 0, 0, 1, 1, 0, 0, 1, 1, 0, 0, 1, 1, 0, 0, 1, 0, 1, 1, 0, 0, 1, 1, 0, 0, 0, 0, 1, 1, 0, 0, 1, 1, 0, 1, 0, 0, 1, 1, 1, 0, 0, 1, 1, 0, 1, 1, 0, 0, 1, 1, 1, 0, 0, 1, 0, 1, 0, 0, 1, 0, 0, 0, 1, 1, 0, 1, 1, 1, 0, 0, 0, 1, 1, 1, 1, 1, 0, 1, 1, 1, 1, 0, 1, 1, 1, 0, 0, 1, 0, 0, 1, 0, 1, 0, 1, 1, 1, 1, 0, 0, 1, 1, 0, 1, 1, 0, 0, 1, 0, 0, 1, 0, 0, 0, 1, 1, 0, 0, 0, 1, 1, 1, 0, 0, 0, 1, 1, 0, 1, 0, 0, 1, 0, 0, 0, 0, 0, 1, 1, 0, 0, 1, 1, 0, 0, 0, 0, 1, 1, 1, 1, 0, 1, 1, 0, 1, 1, 0, 0, 1, 1, 0, 0, 0, 0, 1, 1, 0, 0, 0, 1, 1, 1, 1, 0, 0, 0, 1, 1, 0, 0, 1, 1, 0, 0, 1, 1, 0, 0, 1, 0, 1, 1, 1, 0, 0, 1, 0, 0, 1, 0, 1, 1, 0, 0, 1, 1, 0, 0, 1, 1, 1, 0, 1, 1, 0, 0, 1, 1, 1, 0, 1, 0, 0, 0, 1, 1, 0, 1, 0, 0, 1, 1, 1, 0, 0, 1, 0, 0, 0, 1, 0, 0, 1, 1, 0, 1, 0, 0, 0, 0, 1, 0, 0, 1, 1, 1, 1, 1, 1, 0, 1, 0, 1, 1, 0, 0, 1, 0, 1, 0, 1, 1, 0, 0, 0, 1, 0, 1, 1, 1, 0, 0, 1, 1, 0, 1, 1, 0, 1, 0, 1, 1, 1, 0, 1, 1, 0, 0, 1, 0, 0, 0, 1, 0, 0, 0, 1, 1, 1, 0, 0, 0, 1, 1, 0, 0, 1, 0, 0, 1, 1, 0, 0, 1, 1, 0, 1, 0, 0, 0, 1, 1, 0, 0, 0, 1, 1, 1, 1, 0, 1, 0, 0, 0, 0, 0, 0, 0, 0, 0, 0, 0, 0, 0, 0, 0, 0, 0, 0, 0, 0, 0, 0, 0, 0, 0, 0, 0, 0, 0, 0, 0, 0, 0, 0, 0, 0, 0, 0, 0, 0, 0, 0, 0, 0, 0, 0, 0, 0, 0, 0, 1, 0, 0, 0, 0, 0, 0, 0, 0, 0, 0, 0, 0, 0, 0, 0, 0, 0, 0, 0, 0, 0, 0, 0, 0, 0, 0, 0, 0, 0, 0, 0, 0, 0, 0, 0, 0, 0, 0, 0, 0, 0, 0, 0, 0, 0, 0, 0, 0, 0, 0, 0, 1, 0, 1, 1, 0, 0, 1, 0, 1, 1, 1, 0, 0, 1, 1, 1, 0, 0, 1, 0, 0, 0, 1, 1, 1, 0, 1, 1, 1, 0, 1, 1, 1, 0, 1, 1, 0, 0, 1, 1, 0, 0, 0, 1, 1, 0, 0, 0, 1, 1, 0, 0, 0, 1, 1, 1, 0, 0, 0, 0, 0, 0, 1, 0, 1, 0, 0, 0, 0, 1, 0, 1, 0, 0, 0, 0, 0, 1, 0, 0, 0, 0, 1, 0, 1, 1, 0, 0, 0, 0, 0, 1, 0, 1, 1, 0, 1, 1, 1, 0, 0, 1, 0, 0, 1, 0, 1, 1, 1, 0, 0, 0, 1, 1, 0, 1, 0, 0, 0, 1, 0, 0, 0, 0, 1, 1, 0, 0, 0, 1, 0, 1, 0, 0, 0, 0, 0, 1, 1, 0, 0, 1, 0, 0, 1, 0, 0, 0, 0, 1, 1, 0, 0, 1, 0, 1, 1, 0, 0, 1, 1, 0, 0, 0, 0, 0, 0, 0, 0, 0, 0, 0, 0, 0, 0, 1, 0, 0, 0, 0, 0, 0, 0, 0, 0, 0, 0, 0, 0, 0, 1, 0, 0, 0, 0, 0, 0, 0, 0, 0, 0, 0, 0, 0, 0, 0, 0, 0, 0, 0, 0, 0, 0, 0, 0, 0, 0, 0, 0, 0, 0, 1, 1, 0, 1, 1, 1, 0, 1, 1, 0, 0, 1, 0, 1, 0, 1, 0, 0, 0, 1, 0, 0, 0, 0, 0, 0, 0, 0, 0, 0, 0, 0, 0, 0, 0, 0, 0, 1, 0, 1, 0, 0, 0, 0, 0, 0, 0, 0, 0, 0, 0, 0, 0, 0, 0, 0, 0, 1, 0, 0, 0, 0, 0, 0, 0, 1, 0, 1, 0, 0, 0, 0, 1, 0, 0, 0, 1, 0, 0, 1, 0, 0, 0, 1, 0, 1, 1, 0, 0, 0, 0, 0, 1, 1, 1, 0, 1, 1, 1, 1, 1, 1, 0, 0, 0, 0, 1, 1, 1, 0, 1, 0, 0, 0, 0, 0, 1, 0, 0, 0, 0, 1, 1, 0, 0, 0, 0, 1, 0, 0, 1, 1, 0, 0, 0, 0, 0, 1, 1, 0, 1, 1, 1, 1, 1, 0, 0, 1, 0, 0, 1, 0, 0, 0, 1, 0, 1, 0, 0, 0, 0, 0, 0, 0, 0, 0, 0, 0, 0, 0, 0, 0, 0, 0, 0, 0, 0, 0, 0, 0, 0, 0, 0, 0, 0, 0, 0, 0, 0, 0, 0, 0, 0, 0, 0, 0, 0, 0, 0, 0, 0, 0, 0, 0, 0, 0, 0, 1, 0, 0, 0, 1, 1, 0, 0, 0, 1, 0, 0, 0, 1, 1, 0, 1, 0, 0, 1, 0, 1, 0, 0, 0, 0, 1, 0, 1, 0, 0, 0, 0, 1, 1, 1, 1, 0, 1, 0, 0, 0, 0, 1, 1, 0, 0, 0, 1, 0, 1, 1, 0, 1, 0, 0, 1, 0, 0, 0, 1, 1, 0, 1, 0, 0, 1, 0, 1, 1, 0, 0, 1, 1, 1, 0, 0, 0, 0, 1, 0, 0, 0, 0, 1, 1, 1, 0, 1, 0, 0, 0, 0, 1, 1, 1, 0, 0, 1, 1, 0, 0, 0, 0, 0, 0, 0, 1, 0, 1, 1, 0, 0, 1, 0, 0, 0, 0, 1, 0, 1, 1, 0, 0, 0, 1, 1, 0, 0, 0, 0, 0, 1, 1, 1, 0, 1, 0, 1, 0, 0, 0, 1, 1, 0, 0, 0, 1, 0, 1, 1, 0, 1, 1, 0, 0, 0, 0, 0, 0, 1, 0, 0, 1, 1, 0, 1, 1, 1, 0, 0, 0, 1, 0, 0, 0, 0, 0, 0, 1, 0, 0, 1, 1, 1, 0, 1, 1, 0, 0, 0, 1, 0, 1, 0, 0, 0, 0, 0, 0, 0, 0, 0, 0, 0, 1, 1, 0, 1, 1, 0, 1, 0, 1, 1, 0, 0, 1, 1, 0, 1, 1, 1, 1, 0, 1, 1, 0, 0, 0, 1, 1, 0, 1, 1, 0, 1, 1, 1, 0, 0, 0, 0, 1, 0, 0, 1, 1, 1, 0, 0, 0, 0, 0, 1, 0, 0, 1, 1, 0, 0, 1, 0, 1, 0, 0, 0, 0, 0, 0, 0, 0, 1, 1, 0, 0, 1, 1, 0, 0, 0, 0, 0, 0, 0, 0, 0, 0, 0, 0, 0, 1, 0, 0, 0, 0, 0, 0, 0, 0, 0, 0, 0, 0, 0, 0, 0, 0, 0, 0, 0, 0, 0, 0, 0, 0, 0, 0, 0, 0, 0, 0, 0, 0, 0, 0, 0, 0, 0, 0, 0, 0, 0, 1, 0, 0, 0, 0, 0, 0, 0, 0, 0, 0, 0, 0, 0, 0, 0]\n",
            "Interation:  10\n",
            "Inertia:  240.06679523988913\n",
            "Result: 63 out of 7050 samples were correctly labeled.\n",
            "Accuracy score: 0.01\n"
          ]
        }
      ]
    },
    {
      "cell_type": "markdown",
      "source": [
        "**Scikit Learn model**"
      ],
      "metadata": {
        "id": "eIPAnzlyCUP3"
      }
    },
    {
      "cell_type": "code",
      "source": [
        "labelsSK2 = kmeans_print_reusult(X, KModel = KMeans, init=\"k-means++\", n_clusters=2, random_state=0, max_iter = max_iteration)\n",
        "check_labeling(y, labelsSK2)"
      ],
      "metadata": {
        "colab": {
          "base_uri": "https://localhost:8080/"
        },
        "id": "Eiochvw3CW9m",
        "outputId": "53541e8a-9fe2-42da-eb15-10f6c0e40ff9"
      },
      "execution_count": 220,
      "outputs": [
        {
          "output_type": "stream",
          "name": "stdout",
          "text": [
            "Centroids:  [[3.28506857e-01 3.90710874e-02 7.54854864e-04 7.53667113e-04\n",
            "  3.85438884e-02 2.17448568e-03 2.43721364e-03 1.20039760e-03\n",
            "  2.75348016e-03 1.45313276e-03]\n",
            " [9.54921576e-01 6.46330441e-02 2.67028654e-02 2.93171709e-02\n",
            "  5.71231462e-02 4.71007076e-02 8.18581889e-03 9.65207685e-03\n",
            "  8.04219428e-03 7.19501847e-03]]\n",
            "Labels:  [1 0 1 ... 0 0 0]\n",
            "Interation:  3\n",
            "Inertia:  237.75726404419646\n",
            "Result: 63 out of 7050 samples were correctly labeled.\n",
            "Accuracy score: 0.01\n"
          ]
        }
      ]
    },
    {
      "cell_type": "markdown",
      "source": [
        "##### **With 3 clusters**"
      ],
      "metadata": {
        "id": "sPfGNOk7DS8f"
      }
    },
    {
      "cell_type": "markdown",
      "source": [
        "**Our model**"
      ],
      "metadata": {
        "id": "dfKHq7YADS8g"
      }
    },
    {
      "cell_type": "code",
      "source": [
        "labels3 = kmeans_print_reusult(X, KModel = KMeansClustering, init=\"k-means++\", n_clusters=3, random_state=0, max_iter = max_iteration)\n",
        "check_labeling(y, labels3)"
      ],
      "metadata": {
        "colab": {
          "base_uri": "https://localhost:8080/"
        },
        "outputId": "781e71a0-ffdc-4159-e5dc-9c5007988e3d",
        "id": "h91O7PW-DS8h"
      },
      "execution_count": 221,
      "outputs": [
        {
          "output_type": "stream",
          "name": "stdout",
          "text": [
            "Centroids:  [[3.50233892e-01 2.04001388e-02 6.74716085e-04 5.26401658e-04\n",
            "  1.99265406e-02 1.94272359e-03 2.01025237e-03 1.14615081e-03\n",
            "  3.26649447e-03 1.48220622e-03]\n",
            " [1.00000000e+00 5.32074218e-02 3.10281501e-02 3.41969728e-02\n",
            "  4.45043848e-02 5.48944478e-02 8.93650297e-03 1.12157297e-02\n",
            "  8.23529412e-03 8.31697055e-03]\n",
            " [4.79919679e-01 3.97403627e-01 3.04146553e-03 4.29990992e-03\n",
            "  3.96037014e-01 5.25847683e-03 9.82707810e-03 1.24702632e-03\n",
            "  9.44956296e-04 1.94325690e-04]]\n",
            "Labels:  [1, 0, 1, 0, 0, 0, 1, 1, 0, 0, 0, 0, 0, 0, 0, 1, 1, 1, 1, 0, 0, 0, 0, 1, 0, 1, 1, 1, 0, 1, 0, 1, 0, 0, 0, 0, 1, 0, 0, 1, 1, 1, 1, 1, 0, 1, 0, 1, 1, 1, 0, 1, 0, 1, 1, 1, 1, 1, 1, 1, 0, 1, 0, 1, 0, 0, 1, 1, 1, 1, 1, 1, 1, 1, 1, 1, 1, 1, 1, 1, 1, 1, 1, 1, 1, 0, 0, 0, 0, 0, 0, 0, 0, 0, 0, 0, 0, 1, 1, 1, 0, 0, 0, 0, 0, 0, 0, 0, 0, 0, 0, 0, 0, 1, 0, 0, 1, 1, 1, 1, 1, 1, 0, 0, 1, 1, 0, 1, 1, 1, 0, 0, 0, 0, 0, 1, 0, 0, 0, 0, 1, 1, 0, 1, 1, 1, 0, 0, 1, 1, 0, 1, 1, 0, 1, 0, 0, 0, 0, 1, 0, 0, 0, 0, 1, 0, 2, 1, 0, 0, 0, 0, 1, 0, 0, 0, 0, 1, 0, 0, 0, 1, 0, 0, 0, 0, 0, 1, 0, 0, 1, 0, 0, 0, 1, 0, 0, 1, 1, 0, 0, 0, 0, 1, 0, 0, 0, 0, 1, 0, 0, 1, 0, 0, 1, 0, 0, 1, 0, 0, 0, 0, 0, 0, 0, 1, 0, 0, 1, 0, 0, 0, 0, 0, 1, 0, 0, 0, 1, 0, 0, 0, 0, 0, 0, 0, 0, 0, 0, 0, 0, 0, 0, 0, 0, 0, 0, 0, 0, 0, 0, 0, 0, 0, 0, 0, 0, 0, 1, 0, 1, 0, 0, 1, 1, 0, 1, 0, 0, 0, 0, 1, 0, 1, 0, 0, 0, 0, 0, 0, 0, 0, 1, 1, 0, 1, 0, 0, 0, 0, 0, 0, 0, 0, 0, 0, 0, 0, 0, 0, 0, 0, 0, 0, 1, 0, 0, 0, 0, 0, 0, 0, 0, 0, 1, 0, 0, 0, 0, 0, 0, 0, 1, 0, 0, 0, 0, 1, 0, 0, 0, 0, 0, 1, 0, 1, 0, 0, 0, 0, 0, 0, 0, 0, 0, 2, 1, 0, 0, 0, 0, 2, 0, 0, 0, 0, 0, 0, 1, 0, 0, 0, 0, 1, 0, 0, 1, 0, 0, 0, 0, 0, 0, 1, 1, 0, 0, 0, 0, 1, 1, 1, 0, 0, 0, 1, 1, 1, 0, 0, 1, 0, 0, 0, 0, 0, 0, 0, 0, 0, 1, 0, 1, 1, 0, 0, 0, 0, 0, 0, 0, 1, 0, 0, 0, 1, 1, 1, 0, 0, 0, 0, 0, 0, 0, 0, 0, 0, 0, 0, 0, 0, 1, 0, 0, 1, 0, 0, 0, 0, 1, 0, 1, 0, 0, 0, 0, 0, 1, 0, 0, 0, 1, 0, 0, 0, 0, 1, 0, 0, 0, 0, 0, 1, 0, 1, 1, 0, 0, 0, 1, 0, 1, 0, 1, 0, 1, 0, 0, 0, 1, 1, 0, 0, 0, 0, 0, 0, 1, 0, 0, 0, 0, 0, 0, 0, 1, 0, 0, 1, 0, 0, 1, 1, 1, 0, 1, 0, 0, 0, 0, 0, 0, 0, 0, 0, 0, 0, 0, 0, 0, 1, 0, 1, 0, 0, 0, 0, 0, 1, 0, 0, 0, 1, 0, 0, 0, 0, 0, 0, 0, 0, 0, 0, 0, 0, 0, 0, 0, 0, 0, 0, 0, 0, 0, 0, 0, 0, 0, 0, 0, 0, 0, 0, 0, 0, 0, 0, 0, 1, 0, 0, 1, 1, 0, 0, 0, 0, 1, 1, 0, 1, 0, 1, 0, 0, 1, 0, 0, 0, 0, 0, 1, 0, 1, 1, 0, 0, 0, 0, 1, 0, 0, 0, 0, 0, 0, 0, 1, 0, 0, 1, 0, 1, 1, 0, 0, 1, 0, 0, 1, 1, 1, 0, 1, 0, 0, 0, 1, 0, 0, 0, 1, 0, 0, 0, 0, 1, 0, 0, 0, 0, 1, 1, 0, 1, 0, 0, 0, 0, 0, 0, 0, 0, 0, 0, 0, 0, 1, 0, 0, 0, 1, 0, 0, 0, 0, 0, 0, 0, 0, 0, 0, 0, 0, 0, 0, 0, 0, 0, 0, 0, 1, 0, 0, 1, 0, 0, 0, 0, 0, 0, 1, 0, 0, 0, 0, 1, 0, 0, 0, 0, 0, 0, 0, 0, 0, 0, 0, 0, 0, 0, 0, 0, 0, 1, 2, 0, 0, 0, 0, 0, 0, 0, 0, 0, 0, 0, 0, 0, 0, 0, 0, 0, 0, 0, 1, 0, 0, 0, 0, 0, 0, 1, 0, 1, 1, 0, 0, 0, 1, 0, 1, 0, 0, 0, 0, 0, 0, 0, 0, 1, 0, 0, 0, 0, 1, 0, 0, 0, 0, 0, 0, 0, 0, 0, 1, 0, 1, 0, 1, 1, 1, 0, 0, 0, 0, 0, 1, 0, 1, 0, 0, 0, 0, 1, 0, 1, 0, 1, 0, 0, 0, 0, 1, 0, 0, 1, 1, 0, 0, 0, 1, 0, 1, 1, 1, 0, 0, 0, 1, 1, 1, 0, 0, 1, 1, 0, 1, 1, 1, 1, 1, 1, 0, 1, 1, 0, 0, 0, 1, 0, 1, 1, 1, 0, 0, 0, 0, 0, 0, 1, 1, 0, 0, 0, 0, 1, 1, 0, 0, 0, 0, 0, 0, 0, 0, 1, 0, 0, 0, 1, 0, 0, 0, 0, 0, 0, 0, 0, 0, 0, 0, 0, 0, 0, 0, 0, 1, 1, 0, 0, 0, 0, 1, 1, 0, 0, 0, 1, 0, 1, 0, 0, 1, 0, 0, 0, 0, 0, 0, 0, 1, 0, 1, 0, 0, 0, 0, 0, 0, 0, 0, 0, 0, 0, 0, 0, 0, 0, 0, 0, 0, 0, 0, 0, 0, 0, 0, 0, 0, 0, 0, 0, 0, 0, 0, 0, 0, 0, 0, 0, 0, 0, 1, 0, 0, 0, 0, 0, 0, 0, 0, 0, 0, 0, 0, 0, 0, 0, 0, 0, 0, 0, 0, 0, 0, 0, 0, 0, 0, 0, 0, 0, 0, 0, 0, 0, 0, 0, 0, 0, 0, 0, 0, 0, 0, 0, 0, 0, 2, 0, 2, 2, 2, 2, 2, 2, 2, 2, 2, 2, 2, 0, 0, 2, 2, 2, 2, 2, 2, 2, 2, 2, 0, 2, 2, 2, 2, 2, 0, 2, 2, 2, 2, 0, 0, 2, 2, 2, 2, 2, 2, 2, 2, 2, 2, 0, 0, 0, 2, 2, 2, 2, 2, 2, 2, 2, 2, 2, 2, 2, 2, 2, 2, 2, 0, 1, 1, 1, 0, 2, 1, 2, 2, 2, 2, 2, 2, 2, 0, 2, 2, 2, 2, 2, 1, 1, 2, 2, 2, 1, 2, 2, 2, 2, 2, 2, 2, 2, 2, 2, 2, 2, 2, 2, 2, 2, 2, 2, 1, 2, 2, 2, 2, 2, 2, 2, 2, 2, 2, 2, 2, 2, 2, 1, 2, 2, 2, 2, 2, 2, 2, 2, 2, 2, 2, 2, 2, 2, 2, 2, 2, 2, 2, 2, 2, 2, 0, 0, 0, 2, 1, 2, 2, 2, 2, 2, 2, 2, 2, 2, 2, 2, 2, 2, 2, 2, 2, 2, 1, 2, 2, 2, 0, 2, 2, 2, 2, 2, 2, 2, 2, 2, 2, 2, 2, 2, 2, 2, 2, 2, 2, 2, 2, 1, 2, 2, 1, 0, 0, 2, 2, 2, 1, 2, 2, 2, 2, 2, 2, 2, 2, 2, 2, 2, 2, 2, 2, 2, 2, 2, 2, 2, 2, 2, 2, 2, 2, 2, 2, 2, 2, 2, 2, 2, 2, 2, 0, 2, 0, 2, 2, 2, 1, 2, 2, 0, 2, 2, 2, 2, 2, 0, 2, 0, 2, 2, 2, 2, 2, 2, 2, 2, 2, 2, 2, 2, 2, 0, 2, 1, 2, 2, 2, 1, 0, 0, 2, 2, 2, 2, 2, 2, 2, 2, 2, 2, 2, 1, 2, 2, 2, 0, 0, 2, 2, 2, 2, 0, 0, 2, 1, 1, 0, 0, 1, 0, 1, 1, 1, 0, 1, 0, 0, 0, 0, 0, 1, 1, 1, 1, 1, 1, 2, 2, 1, 1, 1, 1, 1, 2, 1, 0, 1, 1, 1, 1, 1, 1, 1, 1, 1, 1, 1, 1, 1, 1, 1, 0, 1, 1, 1, 1, 1, 1, 1, 1, 0, 1, 1, 1, 1, 1, 1, 1, 1, 1, 1, 1, 1, 1, 1, 1, 1, 0, 1, 0, 1, 1, 1, 1, 1, 1, 1, 0, 1, 1, 1, 1, 1, 1, 1, 1, 1, 1, 1, 1, 0, 1, 1, 1, 1, 1, 1, 1, 1, 1, 1, 1, 2, 1, 1, 1, 2, 1, 2, 2, 1, 2, 2, 2, 1, 1, 1, 0, 1, 1, 1, 1, 1, 1, 1, 1, 2, 1, 1, 1, 1, 1, 1, 1, 1, 1, 1, 1, 1, 1, 1, 1, 1, 1, 1, 1, 1, 1, 0, 1, 1, 1, 1, 1, 1, 1, 1, 1, 1, 1, 1, 1, 0, 1, 0, 0, 0, 1, 1, 1, 0, 1, 1, 1, 1, 1, 1, 1, 1, 1, 1, 1, 1, 1, 1, 1, 0, 1, 1, 1, 1, 1, 1, 1, 1, 1, 1, 1, 1, 1, 1, 1, 1, 1, 1, 1, 1, 1, 1, 1, 1, 0, 1, 1, 1, 1, 1, 1, 1, 1, 1, 0, 1, 1, 1, 1, 1, 1, 1, 1, 1, 1, 0, 0, 0, 1, 1, 1, 1, 0, 0, 0, 0, 0, 1, 1, 0, 0, 0, 0, 1, 0, 0, 0, 1, 1, 1, 0, 1, 0, 1, 1, 1, 0, 0, 0, 1, 0, 0, 1, 1, 0, 0, 0, 1, 1, 0, 0, 0, 0, 0, 0, 0, 0, 0, 0, 0, 0, 0, 0, 1, 1, 1, 0, 0, 1, 1, 0, 1, 0, 0, 1, 1, 0, 1, 1, 0, 1, 0, 1, 1, 0, 1, 1, 0, 1, 1, 1, 1, 1, 1, 1, 1, 1, 1, 1, 1, 1, 1, 1, 1, 1, 1, 1, 1, 0, 0, 0, 0, 0, 0, 0, 0, 1, 1, 1, 1, 1, 1, 1, 1, 1, 1, 1, 0, 0, 1, 1, 0, 0, 1, 0, 1, 1, 1, 0, 0, 0, 1, 1, 1, 0, 0, 1, 1, 0, 1, 0, 1, 0, 0, 1, 1, 1, 0, 1, 1, 1, 1, 1, 0, 1, 0, 0, 0, 0, 0, 0, 0, 0, 0, 0, 0, 0, 0, 0, 0, 0, 0, 0, 1, 0, 0, 1, 0, 0, 1, 0, 0, 0, 0, 0, 0, 0, 0, 0, 0, 0, 0, 0, 0, 0, 0, 0, 0, 0, 0, 0, 0, 0, 0, 0, 0, 0, 0, 0, 0, 0, 0, 0, 0, 0, 0, 0, 0, 0, 0, 0, 0, 0, 0, 0, 0, 0, 0, 0, 0, 0, 0, 0, 0, 0, 0, 0, 0, 0, 0, 0, 0, 0, 0, 0, 0, 0, 0, 0, 0, 0, 0, 0, 0, 0, 0, 0, 0, 0, 0, 0, 0, 0, 0, 0, 0, 0, 0, 0, 0, 0, 0, 0, 0, 0, 0, 0, 0, 0, 0, 0, 0, 0, 0, 0, 0, 0, 0, 0, 0, 0, 0, 0, 0, 0, 0, 0, 0, 0, 0, 0, 0, 0, 0, 0, 0, 0, 0, 0, 0, 0, 0, 0, 0, 0, 0, 0, 0, 0, 0, 0, 0, 0, 0, 0, 0, 0, 0, 0, 0, 0, 0, 0, 0, 0, 0, 0, 0, 0, 0, 0, 0, 0, 0, 0, 0, 0, 0, 0, 0, 0, 0, 0, 0, 0, 0, 0, 0, 0, 0, 0, 0, 0, 0, 0, 0, 0, 0, 0, 0, 0, 0, 0, 0, 0, 0, 0, 0, 0, 0, 0, 0, 0, 0, 0, 0, 0, 0, 0, 0, 0, 0, 0, 0, 0, 0, 0, 0, 0, 0, 0, 0, 0, 0, 0, 0, 0, 0, 0, 0, 0, 0, 0, 0, 0, 0, 0, 0, 0, 0, 0, 0, 0, 0, 0, 0, 0, 0, 0, 0, 0, 0, 0, 0, 0, 0, 0, 0, 0, 0, 0, 0, 0, 0, 0, 0, 0, 0, 0, 0, 0, 0, 0, 0, 0, 0, 0, 0, 0, 0, 0, 0, 0, 0, 0, 0, 0, 0, 0, 0, 0, 0, 0, 0, 0, 0, 0, 0, 0, 0, 0, 0, 0, 0, 0, 0, 0, 0, 0, 0, 0, 0, 0, 0, 0, 0, 0, 0, 0, 0, 0, 0, 0, 0, 0, 0, 0, 0, 0, 0, 0, 0, 0, 0, 0, 0, 0, 0, 0, 0, 0, 0, 0, 0, 0, 0, 0, 0, 0, 0, 0, 0, 0, 0, 0, 0, 0, 0, 0, 0, 0, 0, 0, 0, 0, 0, 0, 0, 0, 0, 0, 0, 0, 0, 0, 0, 0, 0, 0, 0, 0, 0, 0, 0, 0, 0, 0, 0, 0, 0, 0, 0, 0, 0, 0, 0, 0, 0, 0, 0, 0, 0, 0, 0, 0, 0, 0, 0, 0, 0, 0, 0, 0, 0, 0, 0, 0, 0, 0, 0, 0, 0, 0, 0, 0, 0, 0, 0, 0, 0, 0, 0, 0, 0, 0, 0, 0, 0, 0, 0, 0, 0, 0, 0, 0, 0, 0, 0, 0, 0, 0, 0, 0, 0, 0, 0, 0, 0, 0, 0, 0, 0, 0, 0, 0, 0, 0, 0, 0, 0, 0, 0, 0, 0, 0, 0, 0, 0, 0, 0, 0, 0, 0, 0, 0, 0, 0, 0, 0, 0, 0, 0, 0, 0, 0, 0, 0, 0, 0, 0, 0, 0, 0, 0, 0, 0, 0, 0, 0, 0, 0, 0, 0, 0, 0, 0, 0, 0, 0, 0, 0, 0, 0, 0, 0, 0, 0, 0, 0, 0, 0, 0, 0, 0, 0, 0, 0, 0, 0, 0, 0, 0, 0, 0, 0, 0, 0, 0, 0, 0, 0, 0, 0, 0, 0, 0, 0, 0, 0, 0, 0, 0, 0, 0, 0, 0, 0, 0, 0, 0, 0, 0, 0, 0, 0, 0, 0, 0, 0, 0, 0, 0, 0, 0, 0, 0, 0, 0, 0, 0, 0, 0, 0, 0, 0, 0, 0, 0, 0, 0, 0, 0, 0, 0, 0, 0, 0, 0, 0, 0, 0, 0, 0, 0, 0, 0, 0, 0, 0, 0, 0, 0, 0, 0, 0, 0, 0, 0, 0, 0, 0, 0, 0, 0, 0, 0, 0, 0, 0, 0, 0, 0, 0, 0, 0, 0, 0, 0, 0, 0, 0, 0, 0, 0, 0, 0, 0, 0, 0, 0, 0, 0, 0, 0, 0, 0, 0, 0, 0, 0, 0, 0, 0, 0, 0, 0, 0, 0, 0, 0, 0, 0, 0, 0, 0, 0, 0, 0, 0, 0, 0, 0, 0, 0, 0, 0, 0, 0, 0, 0, 0, 0, 0, 0, 0, 0, 0, 0, 0, 0, 0, 0, 0, 0, 0, 0, 0, 0, 0, 0, 0, 0, 0, 0, 0, 0, 0, 0, 0, 0, 0, 0, 0, 0, 0, 0, 0, 0, 0, 0, 0, 0, 0, 0, 0, 0, 0, 0, 0, 0, 0, 0, 0, 0, 0, 0, 0, 0, 0, 0, 0, 0, 0, 0, 0, 0, 0, 0, 0, 0, 0, 0, 0, 0, 0, 0, 0, 0, 0, 0, 0, 0, 0, 0, 0, 0, 0, 0, 0, 0, 0, 0, 0, 0, 0, 0, 0, 0, 0, 0, 0, 0, 0, 0, 0, 0, 0, 0, 0, 0, 0, 0, 0, 0, 0, 0, 0, 0, 0, 0, 0, 0, 0, 0, 0, 0, 0, 0, 0, 0, 0, 0, 0, 0, 0, 0, 0, 0, 0, 0, 0, 0, 0, 0, 0, 0, 0, 0, 0, 0, 0, 0, 0, 0, 0, 0, 0, 0, 0, 0, 0, 0, 0, 0, 0, 0, 0, 0, 0, 0, 0, 0, 0, 0, 0, 0, 0, 0, 0, 0, 0, 0, 0, 0, 0, 0, 0, 0, 0, 0, 0, 0, 0, 0, 0, 0, 0, 0, 0, 0, 0, 0, 1, 0, 0, 0, 0, 0, 1, 0, 0, 0, 0, 0, 0, 0, 0, 1, 1, 0, 0, 0, 0, 0, 1, 1, 0, 0, 0, 0, 0, 0, 0, 0, 1, 0, 0, 0, 0, 0, 0, 1, 0, 0, 0, 0, 0, 0, 0, 0, 0, 0, 0, 0, 0, 0, 0, 0, 0, 0, 0, 0, 0, 0, 0, 0, 0, 0, 0, 0, 0, 0, 0, 0, 0, 0, 0, 0, 0, 0, 0, 1, 1, 0, 0, 0, 0, 0, 1, 0, 0, 0, 0, 0, 0, 1, 0, 0, 0, 0, 0, 0, 0, 0, 0, 0, 0, 0, 0, 1, 0, 1, 0, 0, 0, 0, 0, 0, 0, 0, 0, 0, 0, 0, 0, 0, 1, 0, 0, 0, 0, 0, 0, 0, 0, 0, 0, 0, 0, 0, 0, 0, 0, 0, 0, 0, 0, 1, 0, 0, 0, 0, 0, 0, 0, 0, 0, 0, 0, 0, 0, 1, 0, 0, 0, 1, 0, 0, 0, 0, 0, 0, 0, 0, 0, 0, 0, 0, 0, 0, 0, 0, 0, 0, 0, 0, 0, 0, 0, 0, 1, 0, 1, 0, 0, 0, 0, 0, 0, 0, 1, 0, 0, 0, 0, 0, 0, 0, 0, 1, 0, 0, 0, 0, 0, 0, 0, 0, 0, 0, 0, 0, 0, 0, 1, 0, 0, 1, 0, 0, 0, 0, 0, 0, 0, 0, 0, 0, 0, 0, 0, 2, 0, 0, 0, 0, 0, 0, 0, 0, 0, 0, 0, 0, 0, 0, 0, 2, 0, 0, 0, 0, 0, 0, 0, 0, 1, 0, 0, 0, 0, 1, 0, 0, 0, 0, 0, 1, 0, 0, 0, 0, 0, 0, 1, 0, 0, 0, 1, 0, 0, 0, 0, 0, 0, 0, 0, 1, 0, 0, 0, 0, 0, 0, 0, 0, 0, 0, 0, 0, 0, 0, 0, 0, 0, 0, 0, 0, 0, 0, 0, 0, 0, 0, 0, 1, 0, 0, 0, 0, 0, 1, 0, 0, 0, 0, 0, 0, 0, 0, 1, 0, 0, 0, 0, 0, 0, 1, 0, 0, 0, 0, 1, 0, 0, 0, 0, 0, 1, 0, 0, 0, 0, 0, 0, 1, 2, 0, 0, 0, 0, 0, 0, 0, 0, 0, 0, 0, 0, 0, 0, 1, 0, 0, 0, 0, 0, 1, 0, 0, 0, 0, 0, 0, 0, 0, 0, 0, 0, 1, 0, 0, 0, 0, 0, 0, 0, 0, 0, 1, 0, 0, 2, 1, 0, 0, 0, 0, 0, 0, 0, 0, 0, 0, 0, 0, 0, 0, 0, 0, 0, 0, 0, 0, 0, 0, 0, 0, 0, 0, 0, 0, 0, 2, 0, 0, 0, 0, 0, 1, 0, 0, 0, 0, 0, 0, 0, 0, 1, 0, 0, 0, 0, 0, 0, 0, 0, 0, 0, 0, 0, 0, 0, 0, 0, 1, 0, 0, 0, 0, 0, 1, 0, 1, 0, 0, 0, 0, 0, 0, 0, 0, 0, 0, 0, 0, 0, 0, 0, 0, 0, 0, 0, 0, 0, 0, 0, 0, 0, 0, 0, 0, 0, 0, 0, 0, 0, 1, 0, 1, 0, 0, 0, 0, 0, 0, 0, 0, 0, 1, 0, 1, 1, 1, 1, 0, 0, 0, 0, 0, 1, 1, 0, 0, 1, 0, 0, 0, 0, 0, 0, 0, 0, 1, 0, 0, 0, 0, 0, 0, 1, 0, 0, 1, 0, 0, 0, 1, 1, 0, 0, 1, 0, 0, 0, 1, 0, 0, 1, 1, 0, 0, 0, 1, 0, 1, 0, 0, 0, 0, 0, 1, 0, 1, 0, 0, 1, 1, 0, 0, 1, 0, 0, 0, 0, 0, 1, 0, 0, 1, 0, 1, 0, 0, 0, 1, 0, 0, 1, 0, 0, 1, 0, 0, 0, 1, 0, 0, 0, 1, 0, 0, 0, 0, 0, 0, 0, 0, 0, 0, 0, 0, 0, 0, 0, 0, 0, 0, 0, 0, 0, 0, 0, 0, 0, 0, 1, 0, 0, 0, 1, 0, 1, 0, 0, 1, 0, 0, 0, 1, 0, 0, 0, 0, 0, 0, 0, 0, 0, 0, 0, 0, 0, 0, 1, 0, 0, 0, 1, 0, 0, 1, 0, 0, 0, 0, 1, 0, 0, 1, 0, 0, 0, 1, 0, 0, 0, 0, 0, 1, 0, 0, 0, 1, 0, 1, 1, 0, 0, 0, 1, 0, 0, 1, 0, 0, 0, 0, 0, 0, 0, 0, 0, 0, 0, 0, 0, 0, 0, 0, 0, 0, 0, 0, 0, 0, 0, 1, 0, 0, 1, 0, 0, 0, 1, 0, 0, 1, 0, 0, 0, 0, 0, 0, 1, 0, 0, 1, 0, 0, 0, 0, 1, 0, 1, 0, 0, 0, 0, 0, 0, 0, 0, 0, 0, 0, 0, 0, 0, 0, 0, 1, 0, 1, 0, 0, 0, 0, 1, 0, 0, 0, 1, 0, 0, 0, 0, 1, 0, 0, 1, 0, 0, 0, 0, 0, 0, 1, 0, 0, 0, 0, 0, 0, 0, 0, 0, 1, 0, 0, 0, 0, 0, 0, 0, 1, 0, 0, 0, 1, 0, 0, 0, 0, 0, 0, 0, 0, 0, 0, 1, 0, 0, 1, 0, 0, 0, 0, 0, 0, 0, 0, 0, 1, 0, 0, 1, 0, 1, 0, 0, 0, 0, 0, 0, 0, 0, 1, 1, 0, 0, 0, 0, 1, 0, 1, 0, 1, 1, 1, 0, 0, 0, 0, 1, 1, 0, 1, 0, 0, 1, 0, 0, 1, 1, 0, 0, 0, 1, 0, 0, 0, 0, 0, 0, 1, 0, 0, 1, 0, 1, 0, 0, 1, 0, 0, 1, 0, 0, 0, 0, 1, 1, 1, 0, 0, 0, 0, 0, 0, 0, 0, 0, 1, 0, 0, 0, 0, 0, 0, 0, 0, 0, 1, 1, 0, 0, 0, 0, 0, 1, 0, 0, 1, 0, 0, 0, 1, 0, 0, 0, 1, 0, 1, 0, 0, 0, 0, 1, 1, 1, 0, 0, 0, 0, 0, 1, 0, 0, 1, 0, 0, 1, 0, 0, 1, 0, 0, 0, 0, 1, 1, 0, 1, 0, 0, 0, 0, 1, 1, 1, 0, 0, 0, 1, 1, 0, 1, 1, 1, 0, 1, 0, 0, 1, 0, 1, 0, 0, 0, 0, 0, 1, 0, 1, 0, 1, 0, 0, 1, 0, 0, 0, 0, 0, 0, 0, 0, 0, 0, 0, 1, 0, 0, 0, 0, 0, 0, 0, 1, 0, 1, 1, 0, 0, 0, 0, 0, 0, 1, 0, 0, 0, 1, 0, 0, 0, 0, 0, 0, 1, 0, 0, 0, 0, 0, 0, 0, 0, 1, 0, 0, 0, 0, 0, 0, 0, 0, 0, 0, 0, 0, 0, 0, 0, 0, 0, 0, 0, 0, 0, 0, 0, 0, 0, 0, 0, 0, 0, 0, 0, 0, 0, 0, 0, 0, 0, 0, 0, 0, 0, 0, 0, 0, 0, 0, 1, 0, 0, 0, 0, 0, 0, 0, 0, 0, 0, 0, 1, 0, 0, 0, 0, 0, 0, 0, 0, 0, 0, 0, 0, 0, 0, 0, 0, 0, 0, 0, 0, 0, 0, 0, 0, 0, 0, 0, 0, 0, 0, 0, 1, 1, 0, 0, 0, 0, 0, 0, 0, 0, 0, 0, 0, 0, 0, 0, 0, 0, 0, 0, 0, 0, 0, 0, 0, 0, 0, 0, 0, 0, 0, 0, 0, 1, 0, 1, 1, 0, 1, 1, 0, 1, 1, 1, 2, 0, 0, 1, 1, 1, 0, 0, 1, 1, 0, 1, 1, 1, 1, 1, 0, 1, 0, 2, 0, 1, 1, 1, 0, 1, 1, 0, 1, 0, 0, 1, 1, 1, 0, 1, 1, 1, 1, 1, 0, 0, 0, 0, 0, 0, 2, 0, 0, 0, 0, 0, 0, 0, 0, 0, 0, 0, 0, 0, 0, 0, 0, 0, 0, 0, 0, 0, 0, 0, 0, 0, 0, 0, 0, 0, 0, 0, 0, 0, 0, 0, 0, 0, 0, 0, 0, 0, 0, 0, 0, 0, 0, 0, 0, 0, 0, 0, 0, 0, 0, 0, 0, 0, 0, 0, 0, 0, 0, 0, 0, 0, 0, 1, 1, 1, 1, 1, 1, 1, 1, 1, 1, 1, 1, 1, 1, 1, 1, 1, 1, 1, 1, 1, 1, 1, 0, 1, 1, 1, 1, 1, 1, 0, 1, 1, 1, 1, 1, 1, 0, 1, 1, 1, 1, 1, 1, 1, 0, 1, 1, 1, 0, 0, 0, 0, 0, 0, 0, 1, 1, 1, 1, 1, 1, 1, 1, 1, 1, 1, 1, 1, 1, 1, 1, 1, 1, 1, 1, 1, 1, 1, 1, 1, 1, 1, 1, 1, 1, 1, 1, 1, 1, 1, 1, 1, 1, 1, 1, 1, 1, 1, 1, 1, 1, 1, 1, 1, 1, 1, 1, 1, 1, 1, 1, 1, 1, 1, 1, 1, 1, 1, 1, 1, 1, 1, 1, 1, 1, 1, 1, 1, 1, 1, 1, 1, 1, 1, 1, 1, 1, 1, 1, 1, 1, 1, 1, 1, 1, 1, 1, 1, 1, 1, 1, 1, 1, 1, 1, 1, 1, 1, 1, 1, 1, 1, 1, 1, 1, 1, 1, 1, 1, 1, 1, 1, 1, 1, 1, 1, 1, 1, 1, 1, 1, 1, 1, 1, 1, 1, 1, 1, 1, 1, 1, 1, 1, 0, 1, 1, 1, 1, 1, 1, 1, 1, 1, 1, 1, 1, 1, 1, 1, 1, 1, 1, 1, 1, 1, 1, 1, 1, 1, 1, 1, 1, 1, 1, 1, 1, 1, 1, 1, 1, 1, 1, 1, 1, 1, 1, 1, 1, 1, 1, 1, 0, 0, 1, 1, 1, 1, 1, 1, 1, 1, 1, 1, 1, 1, 1, 1, 1, 1, 1, 1, 1, 1, 1, 1, 1, 1, 1, 1, 1, 1, 1, 1, 1, 1, 1, 1, 1, 1, 1, 1, 1, 1, 1, 1, 1, 1, 1, 1, 1, 1, 1, 1, 1, 1, 1, 1, 1, 1, 1, 1, 1, 1, 1, 1, 1, 1, 1, 1, 1, 1, 1, 1, 1, 1, 1, 1, 1, 1, 1, 1, 1, 1, 1, 1, 1, 1, 1, 1, 1, 1, 1, 1, 1, 1, 1, 1, 1, 1, 1, 1, 1, 1, 1, 1, 1, 1, 1, 1, 1, 1, 1, 1, 1, 1, 1, 1, 1, 1, 1, 1, 1, 1, 1, 1, 1, 1, 1, 1, 1, 1, 1, 1, 1, 1, 1, 1, 1, 1, 1, 1, 1, 1, 1, 1, 1, 1, 1, 1, 1, 1, 1, 1, 1, 1, 1, 1, 1, 1, 1, 1, 1, 1, 1, 1, 1, 1, 1, 1, 1, 1, 1, 1, 1, 1, 1, 1, 1, 1, 1, 1, 1, 1, 1, 1, 1, 1, 1, 1, 1, 1, 1, 1, 1, 1, 1, 1, 1, 1, 1, 1, 1, 1, 1, 1, 1, 1, 1, 1, 1, 1, 1, 1, 1, 1, 1, 1, 1, 1, 1, 1, 1, 1, 1, 1, 1, 1, 1, 1, 1, 1, 1, 1, 1, 1, 1, 1, 1, 1, 1, 1, 1, 1, 1, 1, 1, 1, 1, 1, 1, 1, 1, 1, 1, 1, 0, 1, 1, 1, 1, 1, 1, 1, 1, 1, 0, 2, 0, 1, 1, 1, 1, 1, 1, 1, 1, 1, 1, 1, 1, 1, 1, 1, 1, 2, 1, 1, 2, 1, 1, 1, 1, 1, 1, 2, 1, 1, 1, 1, 2, 1, 1, 1, 1, 1, 1, 1, 1, 1, 1, 1, 1, 1, 1, 1, 1, 1, 1, 0, 1, 1, 1, 1, 1, 1, 1, 2, 1, 1, 1, 1, 2, 1, 1, 0, 1, 1, 1, 1, 1, 1, 0, 1, 1, 1, 1, 1, 0, 0, 1, 0, 1, 1, 0, 1, 1, 1, 1, 1, 1, 1, 1, 1, 1, 1, 0, 2, 1, 1, 1, 1, 1, 1, 0, 1, 1, 0, 1, 0, 0, 0, 0, 0, 0, 1, 1, 1, 1, 1, 1, 1, 1, 1, 0, 1, 1, 2, 1, 1, 2, 1, 1, 1, 1, 1, 1, 1, 1, 1, 1, 1, 1, 0, 0, 0, 0, 0, 0, 0, 0, 0, 1, 1, 1, 1, 1, 1, 1, 0, 1, 1, 2, 1, 1, 1, 1, 1, 0, 0, 0, 0, 0, 0, 1, 1, 1, 1, 1, 0, 2, 0, 0, 0, 0, 0, 2, 2, 2, 2, 0, 0, 0, 2, 0, 0, 2, 2, 2, 0, 0, 2, 2, 0, 2, 0, 0, 0, 0, 0, 0, 0, 0, 0, 0, 0, 0, 0, 0, 0, 0, 0, 0, 0, 0, 0, 0, 0, 0, 0, 0, 0, 0, 0, 0, 0, 0, 0, 0, 0, 0, 0, 0, 0, 0, 0, 0, 0, 0, 1, 1, 0, 0, 0, 1, 0, 0, 0, 0, 1, 1, 1, 0, 0, 1, 1, 0, 0, 0, 1, 1, 0, 0, 0, 0, 0, 0, 1, 1, 0, 0, 0, 0, 1, 1, 0, 1, 0, 0, 0, 0, 0, 0, 1, 1, 0, 0, 0, 0, 1, 0, 0, 0, 1, 1, 0, 0, 0, 0, 0, 1, 1, 0, 0, 0, 1, 0, 0, 0, 0, 1, 1, 0, 1, 0, 0, 0, 0, 0, 1, 1, 0, 0, 0, 0, 1, 0, 0, 0, 0, 1, 1, 1, 0, 0, 0, 0, 0, 1, 1, 0, 0, 0, 0, 1, 0, 0, 0, 0, 1, 1, 1, 1, 0, 0, 0, 0, 0, 0, 1, 1, 1, 0, 0, 0, 0, 0, 1, 1, 0, 1, 0, 0, 0, 0, 1, 1, 0, 0, 0, 0, 1, 0, 0, 0, 0, 1, 1, 0, 0, 0, 1, 1, 0, 0, 0, 1, 0, 0, 0, 0, 1, 1, 1, 0, 1, 0, 0, 0, 0, 0, 0, 0, 0, 0, 1, 0, 0, 0, 1, 1, 1, 0, 0, 0, 0, 0, 0, 0, 0, 1, 1, 0, 0, 0, 0, 0, 0, 0, 0, 0, 0, 0, 0, 1, 1, 0, 0, 0, 0, 1, 0, 0, 0, 1, 1, 0, 0, 0, 0, 0, 0, 0, 0, 0, 0, 0, 0, 0, 0, 0, 1, 1, 0, 0, 0, 0, 0, 0, 0, 1, 1, 0, 0, 0, 0, 1, 0, 1, 1, 0, 0, 0, 0, 0, 0, 0, 1, 0, 0, 0, 0, 0, 0, 0, 0, 0, 0, 1, 1, 0, 0, 0, 0, 0, 0, 0, 1, 0, 0, 0, 0, 1, 1, 0, 0, 0, 0, 1, 1, 0, 0, 0, 0, 0, 0, 0, 0, 0, 0, 0, 0, 0, 1, 0, 0, 0, 0, 0, 0, 0, 0, 1, 0, 0, 0, 0, 0, 1, 1, 1, 0, 0, 0, 1, 0, 0, 0, 0, 0, 0, 0, 1, 1, 1, 0, 1, 0, 0, 0, 0, 0, 1, 1, 1, 1, 0, 0, 0, 0, 1, 0, 0, 0, 0, 0, 1, 1, 0, 1, 0, 0, 0, 1, 0, 0, 0, 0, 0, 0, 0, 0, 0, 0, 0, 0, 0, 1, 0, 0, 0, 0, 1, 0, 1, 1, 1, 0, 0, 1, 1, 1, 0, 0, 1, 0, 1, 1, 0, 1, 0, 1, 1, 1, 1, 1, 1, 0, 0, 1, 0, 1, 1, 0, 0, 1, 1, 1, 0, 0, 1, 1, 1, 0, 0, 1, 0, 1, 0, 1, 1, 0, 0, 0, 1, 0, 0, 1, 1, 1, 1, 1, 1, 1, 1, 1, 1, 1, 0, 1, 0, 0, 1, 1, 1, 0, 1, 0, 1, 0, 0, 1, 0, 1, 1, 0, 1, 1, 0, 1, 1, 1, 0, 1, 0, 0, 1, 1, 0, 1, 1, 1, 1, 1, 1, 1, 0, 1, 1, 1, 0, 1, 1, 1, 1, 0, 1, 1, 1, 1, 1, 1, 1, 0, 0, 0, 1, 0, 1, 0, 0, 1, 1, 0, 1, 0, 1, 0, 1, 1, 1, 0, 1, 0, 0, 1, 0, 0, 1, 0, 1, 1, 0, 1, 1, 0, 1, 1, 1, 0, 1, 1, 1, 0, 1, 0, 1, 0, 0, 0, 1, 1, 1, 1, 1, 1, 1, 1, 1, 1, 1, 0, 1, 0, 1, 0, 0, 1, 1, 1, 0, 0, 1, 1, 0, 0, 1, 0, 1, 0, 0, 1, 1, 1, 1, 1, 1, 1, 1, 1, 0, 1, 1, 1, 0, 1, 0, 1, 0, 1, 1, 1, 1, 1, 1, 1, 0, 0, 0, 1, 1, 0, 0, 1, 1, 0, 0, 1, 0, 1, 0, 1, 1, 1, 0, 1, 1, 1, 0, 1, 1, 1, 1, 0, 1, 1, 1, 0, 0, 1, 0, 1, 1, 0, 0, 1, 1, 1, 1, 0, 1, 0, 1, 1, 1, 1, 1, 1, 1, 0, 1, 0, 1, 0, 1, 0, 1, 0, 1, 1, 1, 0, 0, 1, 0, 1, 0, 1, 1, 0, 0, 0, 1, 1, 1, 0, 1, 1, 0, 1, 1, 1, 0, 1, 1, 1, 0, 1, 0, 0, 1, 1, 0, 0, 1, 0, 0, 1, 0, 1, 0, 0, 1, 0, 0, 1, 1, 0, 1, 1, 1, 0, 1, 0, 0, 0, 1, 0, 1, 1, 1, 1, 1, 1, 1, 1, 0, 0, 0, 1, 0, 0, 0, 1, 1, 0, 1, 1, 0, 1, 1, 1, 1, 0, 1, 0, 1, 0, 1, 0, 0, 1, 0, 0, 1, 1, 1, 1, 1, 1, 1, 1, 1, 1, 1, 0, 1, 0, 1, 1, 1, 0, 0, 0, 1, 1, 0, 0, 1, 0, 1, 0, 0, 1, 0, 1, 0, 1, 0, 1, 1, 0, 1, 1, 0, 1, 1, 1, 1, 1, 1, 0, 1, 0, 0, 0, 1, 1, 0, 1, 0, 0, 0, 1, 0, 0, 1, 0, 0, 1, 1, 0, 0, 1, 1, 0, 1, 0, 1, 1, 0, 1, 0, 0, 0, 1, 1, 0, 1, 0, 0, 1, 0, 1, 1, 1, 0, 1, 0, 0, 1, 0, 1, 0, 1, 1, 0, 0, 1, 0, 1, 1, 0, 0, 0, 1, 1, 0, 0, 1, 1, 0, 0, 0, 1, 0, 0, 0, 0, 0, 0, 1, 1, 0, 0, 0, 1, 1, 1, 0, 0, 0, 0, 0, 1, 0, 0, 0, 0, 1, 0, 0, 0, 1, 0, 0, 0, 0, 0, 0, 1, 0, 0, 0, 0, 0, 0, 0, 0, 0, 1, 1, 0, 0, 0, 0, 1, 1, 1, 0, 0, 0, 0, 0, 0, 0, 1, 0, 0, 0, 1, 1, 0, 0, 0, 0, 0, 0, 0, 1, 0, 0, 1, 0, 0, 0, 1, 1, 0, 0, 0, 0, 1, 1, 0, 0, 1, 1, 0, 0, 1, 1, 0, 0, 1, 0, 0, 0, 1, 1, 1, 0, 0, 1, 1, 1, 0, 0, 1, 0, 0, 1, 0, 0, 0, 0, 0, 0, 1, 0, 0, 0, 1, 1, 0, 0, 0, 0, 0, 0, 1, 1, 0, 0, 0, 0, 1, 0, 0, 0, 1, 1, 0, 0, 0, 0, 0, 1, 1, 0, 0, 0, 0, 0, 1, 0, 0, 0, 0, 1, 1, 1, 1, 0, 1, 0, 1, 1, 0, 0, 0, 1, 1, 0, 0, 1, 1, 0, 1, 1, 1, 0, 0, 0, 1, 1, 0, 1, 1, 0, 0, 0, 1, 0, 0, 0, 1, 1, 1, 0, 0, 1, 0, 1, 1, 0, 0, 0, 0, 1, 1, 0, 0, 1, 1, 0, 0, 1, 1, 0, 0, 1, 0, 1, 1, 0, 0, 1, 1, 0, 0, 0, 0, 1, 1, 0, 0, 1, 1, 0, 1, 0, 0, 1, 1, 1, 0, 0, 1, 1, 0, 1, 1, 0, 0, 1, 1, 1, 0, 0, 1, 0, 1, 0, 0, 1, 0, 0, 0, 1, 1, 0, 1, 1, 1, 0, 0, 0, 1, 1, 1, 1, 1, 0, 1, 1, 1, 1, 0, 1, 1, 1, 0, 0, 1, 0, 0, 1, 0, 1, 0, 1, 1, 1, 1, 0, 0, 1, 1, 0, 1, 1, 0, 0, 1, 0, 0, 1, 0, 0, 0, 1, 1, 0, 0, 0, 1, 1, 1, 0, 0, 0, 1, 1, 0, 1, 0, 0, 1, 0, 0, 0, 0, 0, 1, 1, 0, 0, 1, 1, 0, 0, 0, 0, 1, 1, 1, 1, 0, 1, 1, 0, 1, 1, 0, 0, 1, 1, 0, 0, 0, 0, 1, 1, 0, 0, 0, 1, 1, 1, 1, 0, 0, 0, 1, 1, 0, 0, 1, 1, 0, 0, 1, 1, 0, 0, 1, 0, 1, 1, 1, 0, 0, 1, 0, 0, 1, 0, 1, 1, 0, 0, 1, 1, 0, 0, 1, 1, 1, 0, 1, 1, 0, 0, 1, 1, 1, 0, 1, 0, 0, 0, 1, 1, 0, 1, 0, 0, 1, 1, 1, 0, 0, 1, 0, 0, 0, 1, 0, 0, 1, 1, 0, 1, 0, 0, 0, 0, 1, 0, 0, 1, 1, 1, 1, 1, 1, 0, 1, 0, 1, 1, 0, 0, 1, 0, 1, 0, 1, 1, 0, 0, 0, 1, 0, 1, 1, 1, 0, 0, 1, 1, 0, 1, 1, 0, 1, 0, 1, 1, 1, 0, 1, 1, 0, 0, 1, 0, 0, 0, 1, 0, 0, 0, 1, 1, 1, 0, 0, 0, 1, 1, 0, 0, 1, 0, 0, 1, 1, 0, 0, 1, 1, 0, 1, 0, 0, 0, 1, 1, 0, 0, 0, 1, 1, 1, 1, 0, 1, 0, 2, 0, 0, 0, 0, 0, 0, 0, 0, 0, 2, 0, 2, 0, 0, 2, 2, 2, 0, 0, 2, 0, 2, 0, 2, 2, 2, 0, 0, 0, 0, 2, 0, 2, 0, 0, 0, 0, 2, 0, 0, 0, 0, 2, 0, 0, 0, 2, 0, 1, 0, 2, 0, 0, 0, 0, 0, 0, 0, 0, 0, 2, 0, 2, 0, 0, 2, 2, 2, 0, 0, 2, 0, 2, 0, 2, 2, 2, 0, 0, 0, 0, 2, 0, 2, 0, 0, 0, 0, 2, 0, 0, 0, 0, 2, 0, 0, 0, 2, 0, 2, 1, 0, 1, 1, 0, 0, 1, 0, 1, 1, 1, 0, 0, 1, 1, 1, 0, 0, 1, 0, 0, 0, 1, 1, 1, 0, 1, 1, 1, 0, 1, 1, 1, 0, 1, 1, 0, 0, 1, 1, 0, 0, 0, 1, 1, 0, 0, 0, 1, 1, 0, 0, 0, 1, 1, 1, 0, 0, 0, 0, 0, 0, 1, 0, 1, 0, 0, 0, 0, 1, 0, 1, 0, 0, 0, 0, 0, 1, 0, 0, 0, 0, 1, 0, 1, 1, 0, 0, 0, 0, 0, 1, 0, 1, 1, 0, 1, 1, 1, 0, 0, 1, 0, 0, 1, 0, 1, 1, 1, 0, 0, 0, 1, 1, 0, 1, 0, 0, 0, 1, 0, 0, 0, 0, 1, 1, 0, 0, 0, 1, 0, 1, 0, 0, 0, 0, 0, 1, 1, 0, 0, 1, 0, 0, 1, 0, 0, 0, 0, 1, 1, 0, 0, 1, 0, 1, 1, 0, 0, 1, 1, 0, 0, 0, 0, 0, 0, 0, 0, 0, 0, 0, 0, 0, 0, 1, 0, 0, 0, 0, 0, 0, 0, 0, 0, 0, 0, 0, 0, 0, 1, 0, 0, 0, 0, 0, 0, 0, 0, 0, 0, 0, 0, 0, 0, 0, 0, 0, 0, 0, 0, 0, 0, 0, 0, 0, 0, 0, 0, 0, 0, 1, 1, 0, 1, 1, 1, 0, 1, 1, 0, 0, 1, 0, 1, 0, 1, 0, 0, 0, 1, 0, 0, 0, 0, 0, 0, 0, 0, 0, 0, 0, 0, 0, 0, 0, 0, 0, 1, 0, 1, 0, 0, 0, 0, 0, 0, 0, 0, 0, 0, 0, 0, 0, 0, 0, 0, 0, 1, 0, 0, 0, 0, 0, 0, 0, 1, 0, 1, 0, 0, 0, 0, 1, 0, 0, 0, 1, 0, 0, 1, 0, 0, 0, 1, 0, 1, 1, 0, 0, 0, 0, 0, 1, 1, 1, 0, 1, 1, 1, 1, 1, 1, 0, 0, 0, 0, 1, 1, 1, 0, 1, 0, 0, 0, 0, 0, 1, 0, 0, 0, 0, 1, 1, 0, 0, 0, 0, 1, 0, 0, 1, 1, 0, 0, 0, 0, 0, 1, 1, 0, 1, 1, 1, 1, 1, 0, 0, 1, 0, 0, 1, 0, 0, 0, 1, 0, 1, 0, 0, 0, 0, 0, 0, 0, 0, 0, 0, 0, 0, 0, 0, 0, 0, 0, 0, 0, 0, 0, 0, 0, 0, 0, 0, 0, 0, 0, 0, 0, 0, 0, 0, 0, 0, 0, 0, 0, 0, 0, 0, 0, 0, 0, 0, 0, 0, 0, 0, 1, 0, 0, 0, 1, 1, 0, 0, 0, 1, 0, 0, 0, 1, 1, 0, 1, 0, 0, 1, 0, 1, 0, 0, 0, 0, 1, 0, 1, 0, 0, 0, 0, 1, 1, 1, 1, 0, 1, 0, 0, 0, 0, 1, 1, 0, 0, 0, 1, 0, 1, 1, 0, 1, 0, 0, 1, 0, 0, 0, 1, 1, 0, 1, 0, 0, 1, 0, 1, 1, 0, 0, 1, 1, 1, 0, 0, 0, 0, 1, 0, 0, 0, 0, 1, 1, 1, 0, 1, 0, 0, 0, 0, 1, 1, 1, 0, 0, 1, 1, 0, 0, 0, 0, 0, 0, 0, 1, 0, 1, 1, 0, 0, 1, 0, 0, 0, 0, 1, 0, 1, 1, 0, 0, 0, 1, 1, 0, 0, 0, 0, 0, 1, 1, 1, 0, 1, 0, 1, 0, 0, 0, 1, 1, 0, 0, 0, 1, 0, 1, 1, 0, 1, 1, 0, 0, 0, 0, 0, 0, 1, 0, 0, 1, 1, 0, 1, 1, 1, 0, 0, 0, 1, 0, 0, 0, 0, 0, 0, 1, 0, 0, 1, 1, 1, 0, 1, 1, 0, 0, 0, 1, 0, 1, 0, 0, 0, 0, 0, 0, 0, 0, 0, 0, 0, 1, 1, 0, 1, 1, 0, 1, 0, 1, 1, 0, 0, 1, 1, 0, 1, 1, 1, 1, 0, 1, 1, 0, 0, 0, 1, 1, 0, 1, 1, 0, 1, 1, 1, 0, 0, 0, 0, 1, 0, 0, 1, 1, 1, 0, 0, 0, 0, 0, 1, 0, 0, 1, 1, 0, 0, 1, 0, 1, 0, 0, 0, 0, 0, 0, 0, 0, 1, 1, 0, 0, 1, 1, 0, 0, 0, 0, 0, 0, 0, 0, 0, 0, 0, 0, 0, 1, 0, 0, 0, 0, 0, 0, 0, 0, 0, 0, 0, 0, 0, 0, 0, 0, 0, 0, 0, 0, 0, 0, 0, 0, 0, 0, 0, 0, 0, 0, 0, 0, 0, 0, 0, 0, 0, 0, 0, 0, 0, 1, 0, 0, 0, 0, 0, 0, 0, 0, 0, 0, 0, 0, 0, 0, 0]\n",
            "Interation:  9\n",
            "Inertia:  162.38511670264384\n",
            "Result: 141 out of 7050 samples were correctly labeled.\n",
            "Accuracy score: 0.02\n"
          ]
        }
      ]
    },
    {
      "cell_type": "markdown",
      "source": [
        "**Scikit Learn model**"
      ],
      "metadata": {
        "id": "nqhg63tpDS8j"
      }
    },
    {
      "cell_type": "code",
      "source": [
        "labelsSK3 = kmeans_print_reusult(X, KModel = KMeans, init=\"k-means++\", n_clusters=3, random_state=0, max_iter = max_iteration)\n",
        "check_labeling(y, labelsSK3)"
      ],
      "metadata": {
        "colab": {
          "base_uri": "https://localhost:8080/"
        },
        "outputId": "5e256ca4-41b5-4518-d3df-0ff200de2b84",
        "id": "V366KiU-DS8j"
      },
      "execution_count": 222,
      "outputs": [
        {
          "output_type": "stream",
          "name": "stdout",
          "text": [
            "Centroids:  [[3.28742853e-01 1.99588196e-02 6.50282622e-04 5.37894046e-04\n",
            "  1.94880247e-02 1.93982105e-03 2.03104006e-03 1.16647149e-03\n",
            "  2.84240297e-03 1.51976868e-03]\n",
            " [9.63364293e-01 5.06532935e-02 2.77360441e-02 3.04804142e-02\n",
            "  4.28478700e-02 4.90844018e-02 8.17287347e-03 1.00742442e-02\n",
            "  8.36216840e-03 7.50274643e-03]\n",
            " [4.79102956e-01 4.00444107e-01 3.03960092e-03 4.33797051e-03\n",
            "  3.99082569e-01 5.26906195e-03 9.70232988e-03 1.26609400e-03\n",
            "  9.59405169e-04 1.97297031e-04]]\n",
            "Labels:  [1 0 1 ... 0 0 0]\n",
            "Interation:  6\n",
            "Inertia:  161.5963340003362\n",
            "Result: 138 out of 7050 samples were correctly labeled.\n",
            "Accuracy score: 0.02\n"
          ]
        }
      ]
    },
    {
      "cell_type": "markdown",
      "source": [
        "##### **With 4 clusters**"
      ],
      "metadata": {
        "id": "9tZ4PMmgDepc"
      }
    },
    {
      "cell_type": "markdown",
      "source": [
        "**Our model**"
      ],
      "metadata": {
        "id": "w3ZQBeR_Depm"
      }
    },
    {
      "cell_type": "markdown",
      "source": [
        "With K-Means++"
      ],
      "metadata": {
        "id": "8awBzg1eExhT"
      }
    },
    {
      "cell_type": "code",
      "source": [
        "labels4 = kmeans_print_reusult(X, KModel = KMeansClustering, init=\"k-means++\", n_clusters=4, random_state=0, max_iter = max_iteration)\n",
        "check_labeling(y, labels4)"
      ],
      "metadata": {
        "colab": {
          "base_uri": "https://localhost:8080/"
        },
        "outputId": "c207d466-6bd2-4402-d1c3-bbced2da6c22",
        "id": "H_awXkmvDepn"
      },
      "execution_count": 223,
      "outputs": [
        {
          "output_type": "stream",
          "name": "stdout",
          "text": [
            "Centroids:  [[3.50154635e-01 2.04599997e-02 6.74606524e-04 5.26282535e-04\n",
            "  1.99865087e-02 1.94228396e-03 2.00979746e-03 1.14589144e-03\n",
            "  3.26575527e-03 1.48187081e-03]\n",
            " [1.00000000e+00 2.57933888e-01 1.64178980e-01 1.93081042e-01\n",
            "  2.00664838e-01 3.38288393e-01 1.12009662e-01 7.67585662e-02\n",
            "  4.79461858e-02 5.86296209e-02]\n",
            " [4.90603363e-01 3.97888828e-01 3.03380301e-03 4.27164508e-03\n",
            "  3.96542491e-01 5.18045789e-03 9.68127575e-03 1.22852445e-03\n",
            "  9.30936173e-04 1.91442519e-04]\n",
            " [1.00000000e+00 3.92233059e-02 2.26515574e-02 2.41951601e-02\n",
            "  3.35806888e-02 3.70476217e-02 2.41475804e-03 7.08403096e-03\n",
            "  5.73599862e-03 5.14454066e-03]]\n",
            "Labels:  [3, 0, 3, 0, 0, 0, 3, 3, 0, 0, 0, 0, 0, 0, 0, 3, 3, 3, 3, 0, 0, 0, 0, 3, 0, 3, 3, 3, 0, 3, 0, 3, 0, 0, 0, 0, 3, 0, 0, 3, 3, 3, 3, 3, 0, 3, 0, 3, 3, 3, 0, 3, 0, 3, 3, 3, 3, 3, 3, 3, 0, 3, 0, 3, 0, 0, 3, 3, 3, 3, 3, 3, 3, 3, 3, 3, 3, 3, 3, 3, 3, 3, 3, 3, 3, 0, 0, 0, 0, 0, 0, 0, 0, 0, 0, 0, 0, 3, 3, 1, 0, 0, 0, 0, 0, 0, 0, 0, 0, 0, 0, 0, 0, 3, 0, 0, 3, 3, 3, 3, 3, 3, 0, 0, 3, 3, 0, 3, 3, 3, 0, 0, 0, 0, 0, 3, 0, 0, 0, 0, 3, 3, 0, 3, 3, 3, 0, 0, 3, 3, 0, 3, 3, 0, 3, 0, 0, 0, 0, 3, 0, 0, 0, 0, 3, 0, 2, 3, 0, 0, 0, 0, 3, 0, 0, 0, 0, 3, 0, 0, 0, 3, 0, 0, 0, 0, 0, 3, 0, 0, 3, 0, 0, 0, 3, 0, 0, 3, 3, 0, 0, 0, 0, 3, 0, 0, 0, 0, 3, 0, 0, 3, 0, 0, 3, 0, 0, 3, 0, 0, 0, 0, 0, 0, 0, 3, 0, 0, 3, 0, 0, 0, 0, 0, 3, 0, 0, 0, 1, 0, 0, 0, 0, 0, 0, 0, 0, 0, 0, 0, 0, 0, 0, 0, 0, 0, 0, 0, 0, 0, 0, 0, 0, 0, 0, 0, 0, 0, 3, 0, 3, 0, 0, 3, 3, 0, 3, 0, 0, 0, 0, 3, 0, 3, 0, 0, 0, 0, 0, 0, 0, 0, 3, 3, 0, 3, 0, 0, 0, 0, 0, 0, 0, 0, 0, 0, 0, 0, 0, 0, 0, 0, 0, 0, 3, 0, 0, 0, 0, 0, 0, 0, 0, 0, 3, 0, 0, 0, 0, 0, 0, 0, 3, 0, 0, 0, 0, 3, 0, 0, 0, 0, 0, 1, 0, 3, 0, 0, 0, 0, 0, 0, 0, 0, 0, 2, 3, 0, 0, 0, 0, 2, 0, 0, 0, 0, 0, 0, 3, 0, 0, 0, 0, 3, 0, 0, 3, 0, 0, 0, 0, 0, 0, 3, 3, 0, 0, 0, 0, 3, 3, 3, 0, 0, 0, 3, 3, 3, 0, 0, 3, 0, 0, 0, 0, 0, 0, 0, 0, 0, 3, 0, 3, 3, 0, 0, 0, 0, 0, 0, 0, 3, 0, 0, 0, 3, 3, 3, 0, 0, 0, 0, 0, 0, 0, 0, 0, 0, 0, 0, 0, 0, 3, 0, 0, 3, 0, 0, 0, 0, 3, 0, 3, 0, 0, 0, 0, 0, 3, 0, 0, 0, 3, 0, 0, 0, 0, 3, 0, 0, 0, 0, 0, 3, 0, 3, 3, 0, 0, 0, 1, 0, 3, 0, 3, 0, 3, 0, 0, 0, 3, 3, 0, 0, 0, 0, 0, 0, 1, 0, 0, 0, 0, 0, 0, 0, 3, 0, 0, 3, 0, 0, 3, 3, 3, 0, 3, 0, 0, 0, 0, 0, 0, 0, 0, 0, 0, 0, 0, 0, 0, 3, 0, 3, 0, 0, 0, 0, 0, 3, 0, 0, 0, 3, 0, 0, 0, 0, 0, 0, 0, 0, 0, 0, 0, 0, 0, 0, 0, 0, 0, 0, 0, 0, 0, 0, 0, 0, 0, 0, 0, 0, 0, 0, 0, 0, 0, 0, 0, 3, 0, 0, 3, 3, 0, 0, 0, 0, 3, 3, 0, 3, 0, 3, 0, 0, 3, 0, 0, 0, 0, 0, 3, 0, 3, 3, 0, 0, 0, 0, 3, 0, 0, 0, 0, 0, 0, 0, 3, 0, 0, 3, 0, 3, 3, 0, 0, 3, 0, 0, 3, 3, 3, 0, 3, 0, 0, 0, 3, 0, 0, 0, 3, 0, 0, 0, 0, 3, 0, 0, 0, 0, 3, 3, 0, 3, 0, 0, 0, 0, 0, 0, 0, 0, 0, 0, 0, 0, 3, 0, 0, 0, 3, 0, 0, 0, 0, 0, 0, 0, 0, 0, 0, 0, 0, 0, 0, 0, 0, 0, 0, 0, 3, 0, 0, 3, 0, 0, 0, 0, 0, 0, 3, 0, 0, 0, 0, 3, 0, 0, 0, 0, 0, 0, 0, 0, 0, 0, 0, 0, 0, 0, 0, 0, 0, 3, 2, 0, 0, 0, 0, 0, 0, 0, 0, 0, 0, 0, 0, 0, 0, 0, 0, 0, 0, 0, 3, 0, 0, 0, 0, 0, 0, 3, 0, 3, 3, 0, 0, 0, 3, 0, 3, 0, 0, 0, 0, 0, 0, 0, 0, 3, 0, 0, 0, 0, 3, 0, 0, 0, 0, 0, 0, 0, 0, 0, 3, 0, 3, 0, 3, 3, 3, 0, 0, 0, 0, 0, 3, 0, 3, 0, 0, 0, 0, 3, 0, 3, 0, 3, 0, 0, 0, 0, 3, 0, 0, 3, 3, 0, 0, 0, 3, 0, 3, 3, 3, 0, 0, 0, 3, 3, 3, 0, 0, 3, 3, 0, 3, 3, 3, 3, 3, 3, 0, 3, 3, 0, 0, 0, 3, 0, 3, 3, 3, 0, 0, 0, 0, 0, 0, 3, 3, 0, 0, 0, 0, 3, 3, 0, 0, 0, 0, 0, 0, 0, 0, 3, 0, 0, 0, 3, 0, 0, 0, 0, 0, 0, 0, 0, 0, 0, 0, 0, 0, 0, 0, 0, 3, 3, 0, 0, 0, 0, 3, 3, 0, 0, 0, 3, 0, 3, 0, 0, 3, 0, 0, 0, 0, 0, 0, 0, 3, 0, 3, 0, 0, 0, 0, 0, 0, 0, 0, 0, 0, 0, 0, 0, 0, 0, 0, 0, 0, 0, 0, 0, 0, 0, 0, 0, 0, 0, 0, 0, 0, 0, 0, 0, 0, 0, 0, 0, 0, 0, 3, 0, 0, 0, 0, 0, 0, 0, 0, 0, 0, 0, 0, 0, 0, 0, 0, 0, 0, 0, 0, 0, 0, 0, 0, 0, 0, 0, 0, 0, 0, 0, 0, 0, 0, 0, 0, 0, 0, 0, 0, 0, 0, 0, 0, 0, 2, 0, 2, 2, 2, 2, 2, 2, 2, 2, 2, 2, 2, 0, 0, 2, 2, 2, 2, 2, 2, 2, 2, 2, 0, 2, 2, 2, 2, 2, 0, 2, 2, 2, 2, 0, 0, 2, 2, 2, 2, 2, 2, 2, 2, 2, 2, 0, 0, 0, 2, 2, 2, 2, 2, 2, 2, 2, 2, 2, 2, 2, 2, 2, 2, 2, 0, 3, 3, 3, 0, 2, 2, 2, 2, 2, 2, 2, 2, 2, 0, 2, 2, 2, 2, 2, 2, 3, 2, 2, 2, 3, 2, 2, 2, 2, 2, 2, 2, 2, 2, 2, 2, 2, 2, 2, 2, 2, 2, 2, 1, 2, 2, 2, 2, 2, 2, 2, 2, 2, 2, 2, 2, 2, 2, 3, 2, 2, 2, 2, 2, 2, 2, 2, 2, 2, 2, 2, 2, 2, 2, 2, 2, 2, 2, 2, 2, 2, 0, 0, 0, 2, 2, 2, 2, 2, 2, 2, 2, 2, 2, 2, 2, 2, 2, 2, 2, 2, 2, 2, 3, 2, 2, 2, 0, 2, 2, 2, 2, 2, 2, 2, 2, 2, 2, 2, 2, 2, 2, 2, 2, 2, 2, 2, 2, 2, 2, 2, 3, 0, 0, 2, 2, 2, 2, 2, 2, 2, 2, 2, 2, 2, 2, 2, 2, 2, 2, 2, 2, 2, 2, 2, 2, 2, 2, 2, 2, 2, 2, 2, 2, 2, 2, 2, 2, 2, 2, 2, 0, 2, 0, 2, 2, 2, 3, 2, 2, 0, 2, 2, 2, 2, 2, 0, 2, 0, 2, 2, 2, 2, 2, 2, 2, 2, 2, 2, 2, 2, 2, 0, 2, 3, 2, 2, 2, 3, 0, 0, 2, 2, 2, 2, 2, 2, 0, 2, 2, 2, 2, 3, 2, 2, 2, 0, 0, 2, 2, 2, 2, 0, 0, 2, 3, 3, 0, 0, 3, 0, 3, 3, 3, 0, 3, 0, 0, 0, 0, 0, 3, 3, 3, 3, 3, 3, 2, 2, 3, 3, 3, 3, 3, 2, 3, 0, 3, 3, 3, 3, 3, 3, 3, 3, 3, 3, 3, 3, 3, 3, 3, 0, 3, 3, 3, 3, 3, 3, 3, 3, 0, 3, 3, 3, 3, 3, 3, 3, 3, 3, 3, 3, 3, 3, 3, 3, 3, 0, 3, 0, 3, 3, 3, 3, 3, 3, 3, 0, 3, 3, 3, 3, 3, 3, 3, 3, 3, 3, 3, 3, 0, 3, 3, 3, 3, 3, 3, 3, 3, 3, 2, 3, 2, 3, 3, 3, 2, 3, 2, 2, 3, 2, 2, 2, 3, 3, 3, 0, 3, 3, 3, 3, 3, 3, 3, 3, 2, 3, 3, 3, 3, 3, 3, 3, 3, 3, 3, 3, 3, 3, 3, 3, 3, 3, 3, 3, 3, 3, 0, 3, 3, 3, 3, 3, 3, 3, 3, 3, 3, 3, 3, 3, 0, 3, 0, 0, 0, 3, 3, 3, 0, 3, 3, 3, 3, 3, 3, 3, 3, 3, 3, 3, 3, 3, 3, 3, 0, 3, 3, 3, 3, 3, 3, 3, 3, 3, 3, 3, 3, 3, 3, 3, 3, 3, 3, 3, 3, 3, 3, 3, 3, 0, 3, 3, 3, 3, 3, 3, 3, 3, 3, 0, 3, 3, 3, 3, 3, 3, 3, 3, 3, 3, 0, 0, 0, 3, 3, 3, 3, 0, 0, 0, 0, 0, 3, 3, 0, 0, 0, 0, 3, 0, 0, 0, 3, 3, 3, 0, 3, 0, 3, 3, 3, 0, 0, 0, 3, 0, 0, 3, 3, 0, 0, 0, 3, 3, 0, 0, 0, 0, 0, 0, 0, 0, 0, 0, 0, 0, 0, 0, 3, 3, 3, 0, 0, 3, 3, 0, 3, 0, 0, 3, 3, 0, 3, 3, 0, 3, 0, 3, 3, 0, 3, 3, 0, 3, 3, 3, 3, 3, 3, 3, 3, 3, 3, 3, 3, 3, 3, 3, 3, 3, 3, 3, 3, 0, 0, 0, 0, 0, 0, 0, 0, 3, 3, 3, 3, 3, 3, 3, 3, 3, 3, 3, 0, 0, 3, 3, 0, 0, 3, 0, 3, 3, 3, 0, 0, 0, 3, 3, 3, 0, 0, 3, 3, 0, 3, 0, 3, 0, 0, 3, 3, 3, 0, 3, 3, 3, 3, 3, 0, 3, 0, 0, 0, 0, 0, 0, 0, 0, 0, 0, 0, 0, 0, 0, 0, 0, 0, 0, 3, 0, 0, 3, 0, 0, 3, 0, 0, 0, 0, 0, 0, 0, 0, 0, 0, 0, 0, 0, 0, 0, 0, 0, 0, 0, 0, 0, 0, 0, 0, 0, 0, 0, 0, 0, 0, 0, 0, 0, 0, 0, 0, 0, 0, 0, 0, 0, 0, 0, 0, 0, 0, 0, 0, 0, 0, 0, 0, 0, 0, 0, 0, 0, 0, 0, 0, 0, 0, 0, 0, 0, 0, 0, 0, 0, 0, 0, 0, 0, 0, 0, 0, 0, 0, 0, 0, 0, 0, 0, 0, 0, 0, 0, 0, 0, 0, 0, 0, 0, 0, 0, 0, 0, 0, 0, 0, 0, 0, 0, 0, 0, 0, 0, 0, 0, 0, 0, 0, 0, 0, 0, 0, 0, 0, 0, 0, 0, 0, 0, 0, 0, 0, 0, 0, 0, 0, 0, 0, 0, 0, 0, 0, 0, 0, 0, 0, 0, 0, 0, 0, 0, 0, 0, 0, 0, 0, 0, 0, 0, 0, 0, 0, 0, 0, 0, 0, 0, 0, 0, 0, 0, 0, 0, 0, 0, 0, 0, 0, 0, 0, 0, 0, 0, 0, 0, 0, 0, 0, 0, 0, 0, 0, 0, 0, 0, 0, 0, 0, 0, 0, 0, 0, 0, 0, 0, 0, 0, 0, 0, 0, 0, 0, 0, 0, 0, 0, 0, 0, 0, 0, 0, 0, 0, 0, 0, 0, 0, 0, 0, 0, 0, 0, 0, 0, 0, 0, 0, 0, 0, 0, 0, 0, 0, 0, 0, 0, 0, 0, 0, 0, 0, 0, 0, 0, 0, 0, 0, 0, 0, 0, 0, 0, 0, 0, 0, 0, 0, 0, 0, 0, 0, 0, 0, 0, 0, 0, 0, 0, 0, 0, 0, 0, 0, 0, 0, 0, 0, 0, 0, 0, 0, 0, 0, 0, 0, 0, 0, 0, 0, 0, 0, 0, 0, 0, 0, 0, 0, 0, 0, 0, 0, 0, 0, 0, 0, 0, 0, 0, 0, 0, 0, 0, 0, 0, 0, 0, 0, 0, 0, 0, 0, 0, 0, 0, 0, 0, 0, 0, 0, 0, 0, 0, 0, 0, 0, 0, 0, 0, 0, 0, 0, 0, 0, 0, 0, 0, 0, 0, 0, 0, 0, 0, 0, 0, 0, 0, 0, 0, 0, 0, 0, 0, 0, 0, 0, 0, 0, 0, 0, 0, 0, 0, 0, 0, 0, 0, 0, 0, 0, 0, 0, 0, 0, 0, 0, 0, 0, 0, 0, 0, 0, 0, 0, 0, 0, 0, 0, 0, 0, 0, 0, 0, 0, 0, 0, 0, 0, 0, 0, 0, 0, 0, 0, 0, 0, 0, 0, 0, 0, 0, 0, 0, 0, 0, 0, 0, 0, 0, 0, 0, 0, 0, 0, 0, 0, 0, 0, 0, 0, 0, 0, 0, 0, 0, 0, 0, 0, 0, 0, 0, 0, 0, 0, 0, 0, 0, 0, 0, 0, 0, 0, 0, 0, 0, 0, 0, 0, 0, 0, 0, 0, 0, 0, 0, 0, 0, 0, 0, 0, 0, 0, 0, 0, 0, 0, 0, 0, 0, 0, 0, 0, 0, 0, 0, 0, 0, 0, 0, 0, 0, 0, 0, 0, 0, 0, 0, 0, 0, 0, 0, 0, 0, 0, 0, 0, 0, 0, 0, 0, 0, 0, 0, 0, 0, 0, 0, 0, 0, 0, 0, 0, 0, 0, 0, 0, 0, 0, 0, 0, 0, 0, 0, 0, 0, 0, 0, 0, 0, 0, 0, 0, 0, 0, 0, 0, 0, 0, 0, 0, 0, 0, 0, 0, 0, 0, 0, 0, 0, 0, 0, 0, 0, 0, 0, 0, 0, 0, 0, 0, 0, 0, 0, 0, 0, 0, 0, 0, 0, 0, 0, 0, 0, 0, 0, 0, 0, 0, 0, 0, 0, 0, 0, 0, 0, 0, 0, 0, 0, 0, 0, 0, 0, 0, 0, 0, 0, 0, 0, 0, 0, 0, 0, 0, 0, 0, 0, 0, 0, 0, 0, 0, 0, 0, 0, 0, 0, 0, 0, 0, 0, 0, 0, 0, 0, 0, 0, 0, 0, 0, 0, 0, 0, 0, 0, 0, 0, 0, 0, 0, 0, 0, 0, 0, 0, 0, 0, 0, 0, 0, 0, 0, 0, 0, 0, 0, 0, 0, 0, 0, 0, 0, 0, 0, 0, 0, 0, 0, 0, 0, 0, 0, 0, 0, 0, 0, 0, 0, 0, 0, 0, 0, 0, 0, 0, 0, 0, 0, 0, 0, 0, 0, 0, 0, 0, 0, 0, 0, 0, 0, 0, 0, 0, 0, 0, 0, 0, 0, 0, 0, 0, 0, 0, 0, 0, 0, 0, 0, 0, 0, 0, 0, 0, 0, 0, 0, 0, 0, 0, 0, 0, 0, 0, 0, 0, 0, 0, 0, 0, 0, 0, 0, 0, 0, 0, 0, 0, 0, 0, 0, 0, 0, 0, 0, 0, 0, 0, 0, 0, 0, 0, 0, 0, 0, 0, 0, 0, 0, 0, 0, 0, 0, 0, 0, 0, 0, 0, 0, 0, 0, 0, 0, 0, 0, 0, 0, 0, 0, 0, 0, 0, 0, 0, 0, 0, 0, 0, 0, 0, 0, 0, 0, 0, 0, 0, 0, 0, 0, 0, 0, 0, 0, 0, 0, 0, 0, 0, 0, 0, 0, 0, 0, 0, 0, 0, 0, 0, 0, 0, 0, 0, 0, 0, 0, 0, 0, 0, 0, 0, 0, 0, 0, 0, 0, 0, 0, 0, 0, 0, 0, 0, 0, 0, 0, 0, 0, 0, 0, 0, 0, 0, 0, 0, 0, 0, 0, 0, 0, 0, 0, 0, 0, 0, 0, 0, 0, 0, 0, 0, 3, 0, 0, 0, 0, 0, 3, 0, 0, 0, 0, 0, 0, 0, 0, 3, 3, 0, 0, 0, 0, 0, 3, 3, 0, 0, 0, 0, 0, 0, 0, 0, 3, 0, 0, 0, 0, 0, 0, 3, 0, 0, 0, 0, 0, 0, 0, 0, 0, 0, 0, 0, 0, 0, 0, 0, 0, 0, 0, 0, 0, 0, 0, 0, 0, 0, 0, 0, 0, 0, 0, 0, 0, 0, 0, 0, 0, 0, 0, 3, 3, 0, 0, 0, 0, 0, 3, 0, 0, 0, 0, 0, 0, 3, 0, 0, 0, 0, 0, 0, 0, 0, 0, 0, 0, 0, 0, 3, 0, 3, 0, 0, 0, 0, 0, 0, 0, 0, 0, 0, 0, 0, 0, 0, 3, 0, 0, 0, 0, 0, 0, 0, 0, 0, 0, 0, 0, 0, 0, 0, 0, 0, 0, 0, 0, 3, 0, 0, 0, 0, 0, 0, 0, 0, 0, 0, 0, 0, 0, 3, 0, 0, 0, 3, 0, 0, 0, 0, 0, 0, 0, 0, 0, 0, 0, 0, 0, 0, 0, 0, 0, 0, 0, 0, 0, 0, 0, 0, 3, 0, 3, 0, 0, 0, 0, 0, 0, 0, 3, 0, 0, 0, 0, 0, 0, 0, 0, 3, 0, 0, 0, 0, 0, 0, 0, 0, 0, 0, 0, 0, 0, 0, 3, 0, 0, 3, 0, 0, 0, 0, 0, 0, 0, 0, 0, 0, 0, 0, 0, 2, 0, 0, 0, 0, 0, 0, 0, 0, 0, 0, 0, 0, 0, 0, 0, 2, 0, 0, 0, 0, 0, 0, 0, 0, 3, 0, 0, 0, 0, 3, 0, 0, 0, 0, 0, 3, 0, 0, 0, 0, 0, 0, 3, 0, 0, 0, 3, 0, 0, 0, 0, 0, 0, 0, 0, 3, 0, 0, 0, 0, 0, 0, 0, 0, 0, 0, 0, 0, 0, 0, 0, 0, 0, 0, 0, 0, 0, 0, 0, 0, 0, 0, 0, 3, 0, 0, 0, 0, 0, 3, 0, 0, 0, 0, 0, 0, 0, 0, 1, 0, 0, 0, 0, 0, 0, 3, 0, 0, 0, 0, 3, 0, 0, 0, 0, 0, 3, 0, 0, 0, 0, 0, 0, 3, 2, 0, 0, 0, 0, 0, 0, 0, 0, 0, 0, 0, 0, 0, 0, 3, 0, 0, 0, 0, 0, 3, 0, 0, 0, 0, 0, 0, 0, 0, 0, 0, 0, 3, 0, 0, 0, 0, 0, 0, 0, 0, 0, 3, 0, 0, 2, 3, 0, 0, 0, 0, 0, 0, 0, 0, 0, 0, 0, 0, 0, 0, 0, 0, 0, 0, 0, 0, 0, 0, 0, 0, 0, 0, 0, 0, 0, 2, 0, 0, 0, 0, 0, 3, 0, 0, 0, 0, 0, 0, 0, 0, 3, 0, 0, 0, 0, 0, 0, 0, 0, 0, 0, 0, 0, 0, 0, 0, 0, 3, 0, 0, 0, 0, 0, 3, 0, 3, 0, 0, 0, 0, 0, 0, 0, 0, 0, 0, 0, 0, 0, 0, 0, 0, 0, 0, 0, 0, 0, 0, 0, 0, 0, 0, 0, 0, 0, 0, 0, 0, 0, 3, 0, 1, 0, 0, 0, 0, 0, 0, 0, 0, 0, 3, 0, 3, 3, 3, 3, 0, 0, 0, 0, 0, 3, 3, 0, 0, 3, 0, 0, 0, 0, 0, 0, 0, 0, 3, 0, 0, 0, 0, 0, 0, 3, 0, 0, 3, 0, 0, 0, 3, 3, 0, 0, 3, 0, 0, 0, 3, 0, 0, 3, 3, 0, 0, 0, 3, 0, 3, 0, 0, 0, 0, 0, 3, 0, 3, 0, 0, 3, 3, 0, 0, 3, 0, 0, 0, 0, 0, 3, 0, 0, 3, 0, 1, 0, 0, 0, 1, 0, 0, 3, 0, 0, 3, 0, 0, 0, 3, 0, 0, 0, 3, 0, 0, 0, 0, 0, 0, 0, 0, 0, 0, 0, 0, 0, 0, 0, 0, 0, 0, 0, 0, 0, 0, 0, 0, 0, 0, 3, 0, 0, 0, 3, 0, 3, 0, 0, 3, 0, 0, 0, 3, 0, 0, 0, 0, 0, 0, 0, 0, 0, 0, 0, 0, 0, 0, 3, 0, 0, 0, 3, 0, 0, 3, 0, 0, 0, 0, 3, 0, 0, 1, 0, 0, 0, 3, 0, 0, 0, 0, 0, 3, 0, 0, 0, 3, 0, 3, 3, 0, 0, 0, 1, 0, 0, 3, 0, 0, 0, 0, 0, 0, 0, 0, 0, 0, 0, 0, 0, 0, 0, 0, 0, 0, 0, 0, 0, 0, 0, 3, 0, 0, 3, 0, 0, 0, 3, 0, 0, 3, 0, 0, 0, 0, 0, 0, 3, 0, 0, 3, 0, 0, 0, 0, 3, 0, 3, 0, 0, 0, 0, 0, 0, 0, 0, 0, 0, 0, 0, 0, 0, 0, 0, 3, 0, 3, 0, 0, 0, 0, 3, 0, 0, 0, 3, 0, 0, 0, 0, 3, 0, 0, 3, 0, 0, 0, 0, 0, 0, 3, 0, 0, 0, 0, 0, 0, 0, 0, 0, 3, 0, 0, 0, 0, 0, 0, 0, 3, 0, 0, 0, 3, 0, 0, 0, 0, 0, 0, 0, 0, 0, 0, 3, 0, 0, 3, 0, 0, 0, 0, 0, 0, 0, 0, 0, 3, 0, 0, 3, 0, 3, 0, 0, 0, 0, 0, 0, 0, 0, 3, 3, 0, 0, 0, 0, 3, 0, 3, 0, 3, 3, 3, 0, 0, 0, 0, 3, 1, 0, 3, 0, 0, 3, 0, 0, 3, 3, 0, 0, 0, 3, 0, 0, 0, 0, 0, 0, 3, 0, 0, 3, 0, 3, 0, 0, 3, 0, 0, 3, 0, 0, 0, 0, 3, 3, 3, 0, 0, 0, 0, 0, 0, 0, 0, 0, 3, 0, 0, 0, 0, 0, 0, 0, 0, 0, 3, 3, 0, 0, 0, 0, 0, 3, 0, 0, 3, 0, 0, 0, 3, 0, 0, 0, 3, 0, 3, 0, 0, 0, 0, 3, 3, 3, 0, 0, 0, 0, 0, 3, 0, 0, 3, 0, 0, 3, 0, 0, 3, 0, 0, 0, 0, 3, 3, 0, 3, 0, 0, 0, 0, 3, 3, 3, 0, 0, 0, 3, 3, 0, 3, 3, 3, 0, 3, 0, 0, 3, 0, 3, 0, 0, 0, 0, 0, 3, 0, 3, 0, 3, 0, 0, 3, 0, 0, 0, 0, 0, 0, 0, 0, 0, 0, 0, 3, 0, 0, 0, 0, 0, 0, 0, 3, 0, 3, 3, 0, 0, 0, 0, 0, 0, 3, 0, 0, 0, 3, 0, 0, 0, 0, 0, 0, 3, 0, 0, 0, 0, 0, 0, 0, 0, 3, 0, 0, 0, 0, 0, 0, 0, 0, 0, 0, 0, 0, 0, 0, 0, 0, 0, 0, 0, 0, 0, 0, 0, 0, 0, 0, 0, 0, 0, 0, 0, 0, 0, 0, 0, 0, 0, 0, 0, 0, 0, 0, 0, 0, 0, 0, 3, 0, 0, 0, 0, 0, 0, 0, 0, 0, 0, 0, 3, 0, 0, 0, 0, 0, 0, 0, 0, 0, 0, 0, 0, 0, 0, 0, 0, 0, 0, 0, 0, 0, 0, 0, 0, 0, 0, 0, 0, 0, 0, 0, 3, 3, 0, 0, 0, 0, 0, 0, 0, 0, 0, 0, 0, 0, 0, 0, 0, 0, 0, 0, 0, 0, 0, 0, 0, 0, 0, 0, 0, 0, 0, 0, 0, 1, 0, 3, 1, 0, 3, 1, 0, 3, 3, 1, 2, 0, 0, 1, 3, 1, 0, 0, 1, 3, 0, 1, 1, 1, 3, 1, 0, 1, 0, 2, 0, 3, 1, 1, 0, 1, 1, 0, 1, 0, 0, 3, 1, 1, 0, 3, 3, 3, 1, 1, 0, 0, 0, 0, 0, 0, 2, 0, 0, 0, 0, 0, 0, 0, 0, 0, 0, 0, 0, 0, 0, 0, 0, 0, 0, 0, 0, 0, 0, 0, 0, 0, 0, 0, 0, 0, 0, 0, 0, 0, 0, 0, 0, 0, 0, 0, 0, 0, 0, 0, 0, 0, 0, 0, 0, 0, 0, 0, 0, 0, 0, 0, 0, 0, 0, 0, 0, 0, 0, 0, 0, 0, 0, 3, 3, 3, 3, 3, 3, 3, 3, 3, 3, 3, 3, 3, 3, 3, 3, 3, 3, 3, 3, 3, 3, 3, 0, 3, 3, 3, 3, 3, 3, 0, 3, 3, 3, 3, 3, 3, 0, 3, 3, 3, 3, 3, 3, 3, 0, 3, 3, 3, 0, 0, 0, 0, 0, 0, 0, 3, 3, 3, 3, 3, 3, 3, 3, 3, 3, 3, 3, 3, 3, 3, 3, 3, 3, 3, 3, 3, 3, 3, 3, 3, 3, 3, 3, 3, 3, 3, 3, 3, 3, 3, 3, 3, 3, 3, 3, 3, 3, 3, 3, 3, 3, 3, 3, 3, 3, 3, 3, 3, 3, 3, 3, 3, 3, 3, 3, 3, 3, 3, 3, 3, 3, 3, 3, 3, 3, 3, 3, 3, 3, 3, 3, 3, 3, 3, 3, 3, 3, 3, 3, 3, 3, 3, 3, 3, 3, 3, 3, 3, 3, 3, 3, 3, 3, 3, 3, 3, 3, 3, 3, 3, 3, 3, 3, 3, 3, 3, 3, 3, 3, 3, 3, 3, 3, 3, 3, 3, 3, 3, 3, 3, 3, 3, 3, 3, 3, 3, 3, 3, 3, 3, 3, 3, 3, 0, 3, 3, 3, 3, 3, 3, 3, 3, 3, 3, 3, 3, 3, 3, 3, 3, 3, 3, 3, 3, 3, 3, 3, 3, 3, 3, 3, 3, 3, 3, 3, 3, 3, 3, 3, 3, 3, 3, 3, 3, 3, 3, 3, 3, 3, 3, 3, 0, 0, 3, 3, 3, 3, 3, 3, 3, 3, 3, 3, 3, 3, 3, 3, 3, 3, 3, 3, 3, 3, 3, 3, 3, 3, 3, 3, 3, 3, 3, 3, 3, 3, 3, 3, 3, 3, 3, 3, 3, 3, 3, 3, 3, 3, 3, 3, 3, 3, 3, 3, 3, 3, 3, 3, 3, 3, 3, 3, 3, 3, 3, 3, 3, 3, 3, 3, 3, 3, 3, 3, 3, 3, 3, 3, 3, 3, 3, 3, 3, 3, 3, 3, 3, 3, 3, 3, 3, 3, 3, 3, 3, 3, 3, 3, 3, 3, 3, 3, 3, 3, 3, 3, 3, 3, 3, 3, 3, 3, 3, 3, 3, 3, 3, 3, 3, 3, 3, 3, 3, 3, 3, 3, 3, 3, 3, 3, 3, 3, 3, 3, 3, 3, 3, 3, 3, 3, 3, 3, 3, 3, 3, 3, 3, 3, 3, 3, 3, 3, 3, 3, 3, 3, 3, 3, 3, 3, 3, 3, 3, 3, 3, 3, 3, 3, 3, 3, 3, 3, 3, 3, 3, 3, 3, 3, 3, 3, 3, 3, 3, 3, 3, 3, 3, 3, 3, 3, 3, 3, 3, 3, 3, 3, 3, 3, 3, 3, 3, 3, 3, 3, 3, 3, 3, 3, 3, 3, 3, 3, 3, 3, 3, 3, 3, 3, 3, 3, 3, 3, 3, 3, 3, 3, 3, 3, 3, 3, 3, 3, 3, 3, 3, 3, 3, 3, 3, 3, 3, 3, 3, 3, 3, 3, 3, 3, 3, 3, 3, 3, 3, 3, 3, 3, 0, 3, 3, 3, 3, 3, 3, 3, 3, 3, 0, 2, 0, 3, 1, 1, 3, 1, 3, 1, 1, 1, 1, 1, 3, 3, 1, 1, 1, 2, 1, 1, 2, 1, 1, 1, 1, 1, 1, 2, 1, 1, 1, 1, 2, 1, 1, 1, 3, 1, 1, 1, 3, 1, 3, 1, 1, 1, 1, 1, 1, 1, 1, 0, 1, 1, 1, 1, 3, 1, 1, 2, 3, 1, 1, 1, 2, 3, 1, 0, 1, 1, 3, 1, 3, 1, 0, 1, 3, 1, 1, 1, 0, 0, 1, 0, 1, 1, 0, 3, 1, 3, 1, 1, 3, 1, 3, 1, 3, 1, 0, 2, 3, 3, 3, 1, 3, 1, 0, 3, 1, 0, 1, 0, 0, 0, 0, 0, 0, 3, 3, 3, 1, 1, 3, 3, 1, 1, 0, 3, 1, 2, 3, 1, 2, 1, 3, 3, 3, 3, 3, 1, 3, 3, 1, 3, 1, 0, 0, 0, 0, 0, 0, 0, 0, 0, 3, 3, 1, 3, 3, 3, 1, 0, 3, 1, 2, 1, 3, 1, 3, 1, 0, 0, 0, 0, 0, 0, 3, 3, 3, 3, 1, 0, 2, 0, 0, 0, 0, 0, 2, 2, 2, 2, 0, 0, 0, 2, 0, 0, 2, 2, 2, 0, 0, 2, 2, 0, 2, 0, 0, 0, 0, 0, 0, 0, 0, 0, 0, 0, 0, 0, 0, 0, 0, 0, 0, 0, 0, 0, 0, 0, 0, 0, 0, 0, 0, 0, 0, 0, 0, 0, 0, 0, 0, 0, 0, 0, 0, 0, 0, 0, 0, 3, 3, 0, 0, 0, 3, 0, 0, 0, 0, 3, 3, 3, 0, 0, 3, 3, 0, 0, 0, 3, 3, 0, 0, 0, 0, 0, 0, 3, 3, 0, 0, 0, 0, 3, 3, 0, 3, 0, 0, 0, 0, 0, 0, 3, 3, 0, 0, 0, 0, 3, 0, 0, 0, 3, 3, 0, 0, 0, 0, 0, 3, 3, 0, 0, 0, 3, 0, 0, 0, 0, 3, 3, 0, 3, 0, 0, 0, 0, 0, 3, 3, 0, 0, 0, 0, 3, 0, 0, 0, 0, 3, 3, 3, 0, 0, 0, 0, 0, 3, 3, 0, 0, 0, 0, 3, 0, 0, 0, 0, 3, 3, 3, 3, 0, 0, 0, 0, 0, 0, 3, 3, 3, 0, 0, 0, 0, 0, 3, 3, 0, 3, 0, 0, 0, 0, 3, 3, 0, 0, 0, 0, 3, 0, 0, 0, 0, 3, 3, 0, 0, 0, 3, 3, 0, 0, 0, 3, 0, 0, 0, 0, 3, 3, 3, 0, 3, 0, 0, 0, 0, 0, 0, 0, 0, 0, 3, 0, 0, 0, 3, 3, 3, 0, 0, 0, 0, 0, 0, 0, 0, 3, 3, 0, 0, 0, 0, 0, 0, 0, 0, 0, 0, 0, 0, 3, 3, 0, 0, 0, 0, 3, 0, 0, 0, 3, 3, 0, 0, 0, 0, 0, 0, 0, 0, 0, 0, 0, 0, 0, 0, 0, 3, 3, 0, 0, 0, 0, 0, 0, 0, 3, 3, 0, 0, 0, 0, 3, 0, 3, 3, 0, 0, 0, 0, 0, 0, 0, 3, 0, 0, 0, 0, 0, 0, 0, 0, 0, 0, 3, 3, 0, 0, 0, 0, 0, 0, 0, 3, 0, 0, 0, 0, 3, 3, 0, 0, 0, 0, 3, 3, 0, 0, 0, 0, 0, 0, 0, 0, 0, 0, 0, 0, 0, 3, 0, 0, 0, 0, 0, 0, 0, 0, 3, 0, 0, 0, 0, 0, 3, 3, 3, 0, 0, 0, 3, 0, 0, 0, 0, 0, 0, 0, 3, 3, 3, 0, 3, 0, 0, 0, 0, 0, 3, 3, 3, 3, 0, 0, 0, 0, 3, 0, 0, 0, 0, 0, 3, 3, 0, 3, 0, 0, 0, 3, 0, 0, 0, 0, 0, 0, 0, 0, 0, 0, 0, 0, 0, 3, 0, 0, 0, 0, 3, 0, 3, 3, 3, 0, 0, 3, 3, 3, 0, 0, 3, 0, 3, 3, 0, 3, 0, 3, 3, 3, 3, 3, 3, 0, 0, 3, 0, 3, 3, 0, 0, 3, 3, 3, 0, 0, 3, 3, 3, 0, 0, 3, 0, 3, 0, 3, 3, 0, 0, 0, 3, 0, 0, 3, 3, 3, 3, 3, 3, 3, 3, 3, 3, 3, 0, 3, 0, 0, 3, 3, 3, 0, 3, 0, 3, 0, 0, 3, 0, 3, 3, 0, 3, 3, 0, 3, 3, 3, 0, 3, 0, 0, 3, 3, 0, 3, 3, 3, 3, 3, 3, 3, 0, 3, 3, 3, 0, 3, 3, 3, 3, 0, 3, 3, 3, 3, 3, 3, 3, 0, 0, 0, 3, 0, 3, 0, 0, 3, 3, 0, 3, 0, 3, 0, 3, 3, 3, 0, 3, 0, 0, 3, 0, 0, 3, 0, 3, 3, 0, 3, 3, 0, 3, 3, 3, 0, 3, 3, 3, 0, 3, 0, 3, 0, 0, 0, 3, 3, 3, 3, 3, 3, 3, 3, 3, 3, 3, 0, 3, 0, 3, 0, 0, 3, 3, 3, 0, 0, 3, 3, 0, 0, 3, 0, 3, 0, 0, 3, 3, 3, 3, 3, 3, 3, 3, 3, 0, 3, 3, 3, 0, 3, 0, 3, 0, 3, 3, 3, 3, 3, 3, 3, 0, 0, 0, 3, 3, 0, 0, 3, 3, 0, 0, 3, 0, 3, 0, 3, 3, 3, 0, 3, 3, 3, 0, 3, 3, 3, 3, 0, 3, 3, 3, 0, 0, 3, 0, 3, 3, 0, 0, 3, 3, 3, 3, 0, 3, 0, 3, 3, 3, 3, 3, 3, 3, 0, 3, 0, 3, 0, 3, 0, 3, 0, 3, 3, 3, 0, 0, 3, 0, 3, 0, 3, 3, 0, 0, 0, 3, 3, 3, 0, 3, 3, 0, 3, 3, 3, 0, 3, 3, 3, 0, 3, 0, 0, 3, 3, 0, 0, 3, 0, 0, 3, 0, 3, 0, 0, 3, 0, 0, 3, 3, 0, 3, 3, 3, 0, 3, 0, 0, 0, 3, 0, 3, 3, 3, 3, 3, 3, 3, 3, 0, 0, 0, 3, 0, 0, 0, 3, 3, 0, 3, 3, 0, 3, 3, 3, 3, 0, 3, 0, 3, 0, 3, 0, 0, 3, 0, 0, 3, 3, 3, 3, 3, 3, 3, 3, 3, 3, 3, 0, 3, 0, 3, 3, 3, 0, 0, 0, 3, 3, 0, 0, 3, 0, 3, 0, 0, 3, 0, 3, 0, 3, 0, 3, 3, 0, 3, 3, 0, 3, 3, 3, 3, 3, 3, 0, 3, 0, 0, 0, 3, 3, 0, 3, 0, 0, 0, 3, 0, 0, 3, 0, 0, 3, 3, 0, 0, 3, 3, 0, 3, 0, 3, 3, 0, 3, 0, 0, 0, 3, 3, 0, 3, 0, 0, 3, 0, 3, 3, 3, 0, 3, 0, 0, 3, 0, 3, 0, 3, 3, 0, 0, 3, 0, 3, 3, 0, 0, 0, 3, 3, 0, 0, 3, 3, 0, 0, 0, 3, 0, 0, 0, 0, 0, 0, 3, 3, 0, 0, 0, 3, 3, 3, 0, 0, 0, 0, 0, 3, 0, 0, 0, 0, 3, 0, 0, 0, 3, 0, 0, 0, 0, 0, 0, 3, 0, 0, 0, 0, 0, 0, 0, 0, 0, 3, 3, 0, 0, 0, 0, 3, 3, 3, 0, 0, 0, 0, 0, 0, 0, 3, 0, 0, 0, 3, 3, 0, 0, 0, 0, 0, 0, 0, 3, 0, 0, 3, 0, 0, 0, 3, 3, 0, 0, 0, 0, 3, 3, 0, 0, 3, 3, 0, 0, 3, 3, 0, 0, 3, 0, 0, 0, 3, 3, 3, 0, 0, 3, 3, 3, 0, 0, 3, 0, 0, 3, 0, 0, 0, 0, 0, 0, 3, 0, 0, 0, 3, 3, 0, 0, 0, 0, 0, 0, 3, 3, 0, 0, 0, 0, 3, 0, 0, 0, 3, 3, 0, 0, 0, 0, 0, 3, 3, 0, 0, 0, 0, 0, 3, 0, 0, 0, 0, 3, 3, 3, 3, 0, 3, 0, 3, 3, 0, 0, 0, 3, 3, 0, 0, 3, 3, 0, 3, 3, 3, 0, 0, 0, 3, 3, 0, 3, 3, 0, 0, 0, 3, 0, 0, 0, 3, 3, 3, 0, 0, 3, 0, 3, 3, 0, 0, 0, 0, 3, 3, 0, 0, 3, 3, 0, 0, 3, 3, 0, 0, 3, 0, 3, 3, 0, 0, 3, 3, 0, 0, 0, 0, 3, 3, 0, 0, 3, 3, 0, 3, 0, 0, 3, 3, 3, 0, 0, 3, 3, 0, 3, 3, 0, 0, 3, 3, 3, 0, 0, 3, 0, 3, 0, 0, 3, 0, 0, 0, 1, 3, 0, 3, 3, 3, 0, 0, 0, 3, 3, 3, 3, 3, 0, 3, 3, 3, 3, 0, 3, 3, 3, 0, 0, 3, 0, 0, 3, 0, 3, 0, 3, 3, 3, 3, 0, 0, 3, 3, 0, 3, 3, 0, 0, 3, 0, 0, 3, 0, 0, 0, 3, 3, 0, 0, 0, 3, 3, 3, 0, 0, 0, 3, 3, 0, 3, 0, 0, 3, 0, 0, 0, 0, 0, 3, 3, 0, 0, 3, 3, 0, 0, 0, 0, 3, 3, 3, 3, 0, 3, 3, 0, 3, 3, 0, 0, 3, 3, 0, 0, 0, 0, 3, 3, 0, 0, 0, 3, 3, 3, 3, 0, 0, 0, 3, 3, 0, 0, 3, 3, 0, 0, 3, 3, 0, 0, 3, 0, 3, 3, 3, 0, 0, 3, 0, 0, 3, 0, 3, 3, 0, 0, 3, 3, 0, 0, 3, 3, 3, 0, 3, 3, 0, 0, 3, 3, 3, 0, 3, 0, 0, 0, 3, 3, 0, 3, 0, 0, 3, 3, 3, 0, 0, 3, 0, 0, 0, 3, 0, 0, 3, 3, 0, 3, 0, 0, 0, 0, 3, 0, 0, 3, 3, 3, 3, 3, 3, 0, 3, 0, 3, 3, 0, 0, 3, 0, 3, 0, 3, 3, 0, 0, 0, 3, 0, 3, 3, 3, 0, 0, 3, 3, 0, 3, 3, 0, 3, 0, 3, 3, 3, 0, 3, 3, 0, 0, 3, 0, 0, 0, 3, 0, 0, 0, 3, 3, 3, 0, 0, 0, 3, 3, 0, 0, 3, 0, 0, 3, 3, 0, 0, 3, 3, 0, 3, 0, 0, 0, 3, 3, 0, 0, 0, 3, 3, 3, 3, 0, 3, 0, 2, 0, 0, 0, 0, 0, 0, 0, 0, 0, 2, 0, 2, 0, 0, 2, 2, 2, 0, 0, 2, 0, 2, 0, 2, 2, 2, 0, 0, 0, 0, 2, 0, 2, 0, 0, 0, 0, 2, 0, 0, 0, 0, 2, 0, 0, 0, 2, 0, 3, 0, 2, 0, 0, 0, 0, 0, 0, 0, 0, 0, 2, 0, 2, 0, 0, 2, 2, 2, 0, 0, 2, 0, 2, 0, 2, 2, 2, 0, 0, 0, 0, 2, 0, 2, 0, 0, 0, 0, 2, 0, 0, 0, 0, 2, 0, 0, 0, 2, 0, 2, 3, 0, 3, 3, 0, 0, 3, 0, 3, 3, 3, 0, 0, 3, 3, 3, 0, 0, 1, 0, 0, 0, 1, 1, 3, 0, 3, 3, 3, 0, 3, 3, 3, 0, 3, 1, 0, 0, 1, 3, 0, 0, 0, 3, 3, 0, 0, 0, 3, 3, 0, 0, 0, 3, 3, 3, 0, 0, 0, 0, 0, 0, 3, 0, 3, 0, 0, 0, 0, 3, 0, 3, 0, 0, 0, 0, 0, 3, 0, 0, 0, 0, 3, 0, 3, 3, 0, 0, 0, 0, 0, 3, 0, 3, 3, 0, 3, 3, 3, 0, 0, 3, 0, 0, 3, 0, 3, 3, 3, 0, 0, 0, 3, 3, 0, 3, 0, 0, 0, 3, 0, 0, 0, 0, 3, 3, 0, 0, 0, 3, 0, 3, 0, 0, 0, 0, 0, 3, 3, 0, 0, 3, 0, 0, 1, 0, 0, 0, 0, 3, 3, 0, 0, 3, 0, 3, 3, 0, 0, 3, 3, 0, 0, 0, 0, 0, 0, 0, 0, 0, 0, 0, 0, 0, 0, 1, 0, 0, 0, 0, 0, 0, 0, 0, 0, 0, 0, 0, 0, 0, 3, 0, 0, 0, 0, 0, 0, 0, 0, 0, 0, 0, 0, 0, 0, 0, 0, 0, 0, 0, 0, 0, 0, 0, 0, 0, 0, 0, 0, 0, 0, 3, 3, 0, 3, 3, 3, 0, 3, 3, 0, 0, 3, 0, 3, 0, 3, 0, 0, 0, 3, 0, 0, 0, 0, 0, 0, 0, 0, 0, 0, 0, 0, 0, 0, 0, 0, 0, 3, 0, 3, 0, 0, 0, 0, 0, 0, 0, 0, 0, 0, 0, 0, 0, 0, 0, 0, 0, 3, 0, 0, 0, 0, 0, 0, 0, 3, 0, 3, 0, 0, 0, 0, 3, 0, 0, 0, 3, 0, 0, 3, 0, 0, 0, 3, 0, 3, 3, 0, 0, 0, 0, 0, 3, 3, 3, 0, 3, 3, 3, 3, 3, 3, 0, 0, 0, 0, 3, 3, 3, 0, 3, 0, 0, 0, 0, 0, 3, 0, 0, 0, 0, 3, 3, 0, 0, 0, 0, 3, 0, 0, 3, 3, 0, 0, 0, 0, 0, 3, 3, 0, 3, 3, 3, 3, 3, 0, 0, 1, 0, 0, 3, 0, 0, 0, 3, 0, 3, 0, 0, 0, 0, 0, 0, 0, 0, 0, 0, 0, 0, 0, 0, 0, 0, 0, 0, 0, 0, 0, 0, 0, 0, 0, 0, 0, 0, 0, 0, 0, 0, 0, 0, 0, 0, 0, 0, 0, 0, 0, 0, 0, 0, 0, 0, 0, 0, 0, 0, 1, 0, 0, 0, 3, 3, 0, 0, 0, 3, 0, 0, 0, 3, 3, 0, 3, 0, 0, 3, 0, 3, 0, 0, 0, 0, 3, 0, 3, 0, 0, 0, 0, 3, 3, 3, 3, 0, 3, 0, 0, 0, 0, 3, 3, 0, 0, 0, 3, 0, 3, 3, 0, 3, 0, 0, 1, 0, 0, 0, 3, 1, 0, 3, 0, 0, 3, 0, 3, 3, 0, 0, 3, 3, 1, 0, 0, 0, 0, 3, 0, 0, 0, 0, 3, 3, 3, 0, 3, 0, 0, 0, 0, 3, 3, 1, 0, 0, 1, 3, 0, 0, 0, 0, 0, 0, 0, 3, 0, 1, 3, 0, 0, 1, 0, 0, 0, 0, 3, 0, 3, 3, 0, 0, 0, 3, 3, 0, 0, 0, 0, 0, 3, 3, 3, 0, 3, 0, 3, 0, 0, 0, 3, 3, 0, 0, 0, 3, 0, 3, 3, 0, 3, 3, 0, 0, 0, 0, 0, 0, 3, 0, 0, 3, 3, 0, 3, 3, 3, 0, 0, 0, 3, 0, 0, 0, 0, 0, 0, 3, 0, 0, 3, 3, 3, 0, 3, 3, 0, 0, 0, 3, 0, 3, 0, 0, 0, 0, 0, 0, 0, 0, 0, 0, 0, 3, 3, 0, 3, 3, 0, 3, 0, 3, 3, 0, 0, 3, 3, 0, 3, 3, 3, 3, 0, 3, 3, 0, 0, 0, 3, 3, 0, 3, 3, 0, 3, 3, 3, 0, 0, 0, 0, 3, 0, 0, 3, 3, 3, 0, 0, 0, 0, 0, 3, 0, 0, 3, 3, 0, 0, 3, 0, 3, 0, 0, 0, 0, 0, 0, 0, 0, 3, 3, 0, 0, 3, 3, 0, 0, 0, 0, 0, 0, 0, 0, 0, 0, 0, 0, 0, 3, 0, 0, 0, 0, 0, 0, 0, 0, 0, 0, 0, 0, 0, 0, 0, 0, 0, 0, 0, 0, 0, 0, 0, 0, 0, 0, 0, 0, 0, 0, 0, 0, 0, 0, 0, 0, 0, 0, 0, 0, 0, 3, 0, 0, 0, 0, 0, 0, 0, 0, 0, 0, 0, 0, 0, 0, 0]\n",
            "Interation:  11\n",
            "Inertia:  131.940062762996\n",
            "Result: 2299 out of 7050 samples were correctly labeled.\n",
            "Accuracy score: 0.33\n"
          ]
        }
      ]
    },
    {
      "cell_type": "markdown",
      "source": [
        "Without K-Means++"
      ],
      "metadata": {
        "id": "j6WbY05jE1Xj"
      }
    },
    {
      "cell_type": "code",
      "source": [
        "labelsBase4 = kmeans_print_reusult(X, KModel = KMeansClustering, init=\"random\", n_clusters=4, random_state=0, max_iter = max_iteration)\n",
        "check_labeling(y, labelsBase4)"
      ],
      "metadata": {
        "colab": {
          "base_uri": "https://localhost:8080/"
        },
        "id": "DzfU7DHdE37y",
        "outputId": "4c9eeb8f-7d56-4715-e3f8-e8472f5a56bc"
      },
      "execution_count": 224,
      "outputs": [
        {
          "output_type": "stream",
          "name": "stdout",
          "text": [
            "Centroids:  [[1.00000000e+00 3.70762995e-02 2.38485859e-02 2.47674444e-02\n",
            "  3.13111517e-02 3.78268104e-02 2.46348376e-03 7.32261369e-03\n",
            "  5.97833539e-03 5.20339875e-03]\n",
            " [1.00000000e+00 3.22288500e-01 1.07331534e-01 1.36127491e-01\n",
            "  2.81808378e-01 2.38723394e-01 8.07925089e-02 5.33818623e-02\n",
            "  3.23685030e-02 4.21573647e-02]\n",
            " [5.27822798e-01 2.08915477e-01 2.15924385e-03 2.33976204e-03\n",
            "  2.07685981e-01 4.87457107e-03 7.49740564e-03 1.47622046e-03\n",
            "  4.92579528e-03 6.79667486e-04]\n",
            " [3.28616736e-01 1.83217490e-02 6.29977379e-04 5.14357844e-04\n",
            "  1.78856735e-02 1.78608362e-03 1.83410237e-03 1.11414466e-03\n",
            "  2.85578979e-03 1.51099009e-03]]\n",
            "Labels:  [0, 3, 0, 3, 3, 3, 0, 0, 3, 3, 3, 3, 3, 3, 3, 0, 0, 0, 0, 3, 3, 3, 3, 0, 3, 0, 0, 0, 3, 0, 3, 0, 3, 3, 3, 3, 0, 3, 3, 0, 0, 0, 0, 0, 3, 0, 3, 0, 0, 0, 3, 0, 3, 0, 0, 0, 0, 0, 0, 0, 3, 0, 3, 0, 3, 3, 0, 0, 0, 0, 0, 0, 0, 0, 0, 0, 0, 0, 0, 0, 0, 0, 0, 0, 0, 3, 3, 3, 3, 3, 3, 3, 3, 3, 3, 3, 3, 0, 0, 1, 3, 3, 3, 3, 3, 3, 3, 3, 3, 3, 3, 3, 2, 0, 3, 3, 0, 0, 0, 0, 0, 0, 3, 3, 0, 0, 3, 0, 0, 0, 3, 3, 3, 3, 3, 0, 3, 3, 3, 3, 0, 0, 3, 0, 0, 0, 3, 3, 0, 0, 3, 0, 0, 3, 0, 3, 3, 3, 3, 0, 3, 3, 3, 2, 0, 3, 2, 0, 3, 3, 3, 3, 0, 3, 3, 3, 3, 0, 3, 3, 3, 0, 3, 3, 3, 3, 3, 0, 3, 3, 0, 3, 3, 3, 0, 3, 3, 0, 0, 3, 3, 3, 3, 0, 3, 3, 3, 3, 0, 2, 2, 0, 3, 3, 0, 3, 3, 0, 3, 3, 3, 3, 3, 3, 3, 0, 3, 3, 0, 3, 3, 3, 3, 3, 0, 3, 3, 3, 1, 3, 3, 3, 3, 3, 3, 3, 3, 3, 3, 3, 3, 3, 3, 3, 3, 3, 3, 3, 3, 3, 3, 3, 3, 3, 3, 3, 2, 3, 0, 3, 0, 3, 3, 0, 0, 3, 0, 3, 3, 3, 3, 0, 3, 0, 3, 3, 3, 3, 3, 3, 3, 3, 0, 0, 3, 0, 3, 3, 3, 3, 3, 3, 3, 3, 3, 3, 3, 3, 3, 3, 3, 3, 3, 3, 0, 3, 3, 3, 3, 3, 3, 3, 3, 3, 0, 3, 3, 3, 3, 3, 3, 3, 0, 3, 3, 3, 3, 0, 3, 3, 3, 3, 3, 1, 3, 0, 3, 3, 3, 3, 3, 3, 3, 3, 3, 2, 0, 3, 3, 3, 3, 2, 3, 2, 3, 3, 3, 3, 0, 3, 3, 3, 3, 0, 3, 3, 0, 3, 3, 3, 3, 3, 3, 0, 0, 3, 3, 3, 3, 0, 0, 0, 3, 3, 3, 0, 0, 0, 3, 3, 0, 3, 3, 3, 3, 3, 3, 3, 3, 3, 0, 3, 0, 0, 2, 3, 3, 3, 3, 3, 3, 0, 3, 3, 3, 0, 0, 0, 3, 3, 3, 3, 3, 3, 3, 3, 3, 3, 3, 3, 3, 2, 0, 3, 3, 0, 3, 3, 3, 3, 0, 3, 0, 3, 3, 3, 3, 3, 0, 3, 3, 3, 0, 3, 3, 3, 3, 0, 3, 3, 3, 3, 3, 0, 3, 0, 0, 3, 3, 3, 1, 2, 0, 3, 0, 3, 0, 3, 3, 2, 0, 0, 2, 3, 3, 3, 3, 3, 1, 3, 3, 3, 3, 3, 3, 3, 0, 3, 3, 0, 3, 3, 0, 0, 0, 3, 0, 3, 3, 3, 3, 3, 3, 3, 3, 3, 3, 3, 3, 3, 3, 0, 3, 0, 3, 3, 3, 3, 3, 0, 3, 3, 3, 0, 3, 3, 3, 3, 3, 3, 3, 3, 3, 2, 3, 3, 3, 3, 3, 3, 3, 3, 3, 3, 3, 3, 3, 2, 3, 2, 3, 3, 3, 3, 3, 3, 3, 3, 3, 0, 3, 3, 0, 0, 3, 3, 3, 3, 0, 0, 3, 0, 2, 0, 3, 3, 0, 3, 3, 3, 3, 3, 0, 3, 0, 0, 3, 3, 3, 3, 0, 3, 3, 2, 3, 3, 3, 3, 0, 3, 3, 0, 3, 0, 0, 3, 3, 0, 3, 3, 0, 0, 0, 3, 0, 3, 3, 3, 0, 3, 3, 3, 0, 3, 3, 3, 3, 0, 2, 2, 3, 3, 0, 0, 3, 0, 3, 3, 3, 3, 3, 3, 3, 3, 3, 3, 3, 3, 0, 3, 2, 2, 0, 2, 3, 3, 3, 3, 3, 3, 3, 2, 3, 2, 3, 3, 3, 3, 3, 2, 3, 3, 0, 3, 2, 0, 2, 3, 3, 3, 3, 3, 0, 3, 3, 3, 3, 0, 2, 3, 3, 3, 3, 2, 2, 3, 3, 3, 3, 3, 2, 2, 3, 3, 3, 0, 2, 3, 3, 3, 3, 3, 3, 3, 3, 3, 3, 2, 3, 3, 3, 3, 3, 3, 3, 3, 0, 3, 3, 3, 3, 3, 3, 0, 3, 0, 0, 3, 3, 3, 0, 3, 0, 3, 2, 3, 3, 3, 3, 3, 3, 0, 3, 3, 3, 3, 0, 3, 3, 3, 3, 3, 3, 3, 2, 3, 0, 3, 0, 3, 0, 0, 0, 3, 3, 3, 3, 3, 0, 3, 0, 3, 3, 3, 3, 0, 2, 0, 3, 0, 3, 3, 3, 3, 0, 3, 3, 0, 0, 3, 3, 3, 0, 3, 0, 0, 0, 2, 3, 3, 0, 0, 0, 3, 3, 0, 0, 3, 0, 0, 0, 0, 0, 0, 3, 0, 0, 3, 3, 3, 0, 3, 0, 0, 0, 2, 2, 2, 3, 3, 3, 0, 0, 2, 2, 2, 2, 0, 0, 2, 3, 3, 2, 3, 3, 3, 3, 0, 3, 3, 3, 0, 3, 2, 2, 3, 2, 3, 3, 3, 3, 3, 3, 3, 3, 2, 2, 2, 0, 0, 2, 3, 3, 3, 0, 0, 3, 3, 3, 0, 3, 0, 3, 3, 0, 3, 2, 2, 2, 2, 3, 3, 0, 3, 0, 3, 3, 3, 3, 3, 3, 3, 3, 3, 3, 2, 3, 3, 3, 3, 3, 3, 3, 3, 3, 3, 3, 3, 3, 3, 3, 3, 3, 3, 3, 3, 2, 3, 3, 3, 3, 2, 3, 3, 0, 3, 3, 3, 3, 3, 3, 3, 3, 2, 3, 3, 3, 3, 3, 3, 3, 3, 3, 3, 3, 3, 3, 3, 3, 3, 3, 3, 3, 3, 3, 3, 3, 3, 2, 3, 3, 3, 2, 3, 2, 2, 2, 2, 3, 2, 2, 2, 2, 2, 2, 2, 2, 2, 2, 2, 2, 2, 2, 3, 3, 2, 2, 2, 2, 2, 2, 2, 2, 2, 2, 2, 2, 2, 2, 2, 2, 2, 2, 2, 2, 2, 3, 2, 2, 2, 2, 2, 2, 2, 2, 2, 2, 2, 2, 2, 2, 2, 2, 2, 2, 2, 2, 2, 2, 2, 2, 2, 2, 2, 2, 2, 2, 0, 0, 0, 2, 1, 1, 2, 2, 2, 2, 2, 2, 2, 2, 2, 2, 2, 2, 2, 1, 0, 2, 2, 2, 1, 2, 1, 2, 2, 2, 2, 2, 2, 2, 2, 2, 2, 2, 2, 2, 2, 2, 2, 1, 2, 2, 2, 2, 2, 2, 2, 2, 2, 2, 2, 2, 2, 2, 1, 2, 2, 2, 1, 2, 2, 2, 2, 2, 2, 2, 2, 2, 2, 2, 2, 2, 2, 2, 2, 1, 2, 3, 3, 3, 2, 1, 1, 2, 2, 2, 1, 2, 1, 2, 2, 2, 1, 1, 2, 2, 2, 2, 1, 0, 2, 2, 1, 3, 1, 2, 2, 2, 2, 1, 1, 2, 1, 1, 2, 2, 2, 2, 2, 2, 2, 2, 2, 1, 1, 2, 1, 0, 3, 2, 2, 2, 1, 1, 2, 2, 2, 1, 2, 2, 2, 2, 2, 2, 2, 2, 2, 2, 2, 2, 2, 2, 2, 2, 2, 2, 1, 2, 2, 2, 2, 2, 2, 2, 2, 2, 2, 3, 2, 2, 2, 2, 2, 0, 2, 2, 3, 2, 2, 2, 2, 2, 3, 2, 3, 2, 2, 2, 2, 2, 2, 2, 2, 2, 2, 2, 2, 2, 3, 2, 1, 1, 2, 2, 0, 3, 3, 2, 2, 2, 2, 2, 2, 3, 2, 2, 2, 1, 1, 2, 2, 2, 2, 2, 2, 2, 2, 3, 3, 3, 2, 1, 1, 3, 3, 0, 3, 0, 0, 0, 3, 0, 3, 3, 3, 3, 3, 0, 1, 1, 0, 0, 1, 1, 1, 1, 0, 0, 1, 0, 1, 0, 3, 0, 0, 0, 0, 0, 0, 0, 0, 0, 0, 0, 0, 0, 0, 0, 3, 0, 0, 0, 0, 0, 0, 0, 0, 3, 0, 0, 0, 0, 0, 0, 0, 0, 0, 0, 0, 0, 0, 0, 0, 0, 3, 0, 3, 0, 0, 0, 0, 0, 0, 0, 3, 0, 0, 0, 0, 0, 0, 0, 0, 1, 0, 0, 0, 3, 0, 0, 0, 0, 1, 0, 0, 0, 1, 1, 1, 1, 0, 0, 0, 1, 0, 1, 1, 0, 1, 1, 1, 0, 0, 0, 3, 0, 1, 0, 0, 0, 0, 0, 0, 1, 0, 0, 0, 0, 0, 0, 0, 0, 0, 0, 0, 0, 0, 0, 0, 0, 0, 0, 0, 0, 0, 3, 0, 0, 0, 0, 0, 0, 0, 0, 0, 0, 0, 0, 0, 3, 0, 3, 3, 3, 0, 0, 0, 3, 0, 0, 0, 0, 0, 0, 0, 0, 0, 0, 0, 0, 0, 0, 0, 3, 0, 0, 0, 0, 0, 0, 0, 0, 0, 0, 0, 0, 0, 0, 0, 0, 0, 0, 0, 0, 0, 0, 0, 0, 3, 0, 0, 0, 0, 0, 0, 0, 0, 0, 3, 0, 0, 0, 0, 0, 0, 0, 0, 0, 0, 3, 3, 3, 0, 0, 0, 0, 3, 3, 3, 3, 3, 0, 0, 3, 3, 3, 3, 0, 3, 3, 3, 0, 0, 0, 3, 0, 3, 0, 0, 0, 3, 3, 3, 0, 3, 3, 0, 0, 3, 3, 3, 0, 0, 3, 3, 3, 3, 3, 3, 3, 3, 3, 3, 3, 3, 3, 3, 0, 0, 0, 3, 3, 0, 0, 3, 0, 3, 3, 0, 0, 3, 0, 0, 3, 0, 3, 0, 0, 3, 0, 0, 3, 0, 0, 0, 0, 0, 0, 0, 0, 0, 0, 0, 0, 0, 0, 0, 0, 0, 0, 0, 0, 3, 3, 3, 3, 3, 3, 3, 3, 0, 0, 0, 0, 0, 0, 0, 0, 0, 0, 0, 3, 3, 0, 0, 3, 3, 0, 3, 0, 0, 0, 3, 3, 3, 0, 0, 0, 3, 3, 0, 0, 3, 0, 3, 0, 3, 3, 0, 0, 0, 3, 0, 0, 0, 0, 0, 3, 0, 3, 3, 3, 3, 3, 3, 3, 3, 3, 3, 3, 3, 3, 3, 3, 3, 3, 3, 0, 3, 3, 0, 3, 3, 0, 3, 3, 3, 3, 3, 3, 3, 3, 3, 3, 3, 3, 3, 3, 3, 3, 3, 3, 3, 3, 3, 3, 3, 3, 3, 3, 3, 3, 3, 3, 3, 3, 3, 3, 3, 3, 3, 3, 3, 3, 3, 3, 3, 3, 3, 3, 3, 3, 3, 3, 3, 3, 3, 3, 3, 3, 3, 3, 3, 3, 3, 3, 3, 3, 3, 3, 3, 3, 3, 3, 3, 3, 3, 3, 3, 3, 3, 3, 3, 3, 3, 3, 3, 3, 3, 3, 3, 3, 3, 3, 3, 3, 3, 3, 3, 3, 3, 3, 3, 3, 3, 3, 3, 3, 3, 3, 3, 3, 3, 3, 3, 3, 3, 3, 3, 2, 3, 3, 3, 3, 3, 3, 3, 3, 3, 3, 3, 3, 3, 3, 3, 3, 3, 3, 3, 3, 3, 3, 3, 3, 3, 3, 3, 3, 3, 3, 3, 3, 3, 3, 3, 3, 3, 3, 3, 3, 3, 3, 3, 3, 3, 3, 3, 3, 3, 3, 3, 3, 3, 3, 3, 3, 3, 3, 3, 3, 3, 3, 3, 3, 3, 3, 3, 3, 3, 3, 3, 3, 3, 3, 3, 3, 3, 3, 3, 3, 3, 3, 3, 3, 3, 3, 3, 3, 3, 3, 3, 3, 3, 3, 3, 3, 3, 3, 3, 3, 3, 3, 3, 3, 3, 3, 3, 3, 3, 3, 3, 3, 3, 3, 3, 3, 3, 3, 3, 3, 3, 3, 3, 3, 3, 3, 3, 3, 3, 3, 3, 3, 3, 3, 3, 3, 3, 3, 3, 3, 3, 3, 3, 3, 3, 3, 3, 3, 3, 3, 3, 3, 3, 3, 3, 3, 3, 3, 3, 3, 3, 3, 3, 3, 3, 3, 3, 3, 3, 3, 3, 3, 3, 3, 3, 3, 3, 3, 3, 3, 3, 3, 3, 3, 3, 3, 3, 3, 3, 3, 3, 3, 3, 2, 3, 3, 3, 3, 3, 3, 3, 3, 3, 3, 3, 3, 3, 3, 3, 3, 3, 3, 3, 3, 3, 3, 3, 3, 3, 3, 3, 3, 3, 3, 3, 3, 3, 3, 3, 3, 3, 3, 3, 3, 3, 3, 3, 3, 3, 3, 3, 3, 3, 3, 3, 3, 3, 3, 3, 3, 3, 3, 3, 3, 3, 3, 3, 3, 3, 3, 3, 3, 3, 3, 3, 3, 3, 3, 3, 3, 3, 3, 3, 3, 3, 3, 3, 3, 3, 3, 3, 3, 3, 3, 3, 3, 3, 3, 3, 3, 3, 3, 3, 3, 3, 3, 3, 3, 3, 3, 3, 3, 3, 3, 3, 3, 3, 3, 3, 3, 3, 3, 3, 3, 3, 3, 3, 3, 3, 3, 3, 3, 3, 3, 3, 3, 3, 3, 3, 3, 3, 3, 3, 3, 3, 3, 3, 3, 3, 3, 3, 3, 3, 3, 3, 3, 3, 3, 3, 3, 3, 3, 3, 3, 3, 3, 3, 3, 3, 3, 3, 3, 3, 3, 3, 3, 3, 3, 3, 3, 3, 3, 3, 3, 3, 3, 3, 3, 3, 3, 3, 3, 3, 3, 3, 3, 3, 3, 3, 3, 3, 3, 3, 3, 3, 3, 3, 3, 3, 3, 3, 3, 3, 3, 3, 3, 3, 3, 3, 3, 3, 3, 3, 3, 3, 3, 3, 3, 3, 3, 3, 3, 3, 3, 3, 3, 3, 3, 3, 3, 3, 3, 3, 3, 3, 3, 3, 3, 3, 3, 3, 3, 3, 3, 3, 3, 3, 3, 3, 3, 3, 3, 3, 3, 3, 3, 3, 3, 3, 3, 3, 3, 3, 3, 3, 3, 3, 3, 3, 3, 3, 3, 3, 3, 3, 3, 3, 3, 3, 3, 3, 3, 3, 3, 3, 3, 3, 3, 3, 3, 3, 3, 3, 3, 3, 3, 3, 3, 3, 3, 3, 3, 3, 3, 3, 3, 3, 3, 3, 3, 3, 3, 3, 3, 3, 3, 3, 3, 3, 3, 3, 3, 3, 3, 3, 3, 3, 3, 3, 3, 3, 3, 3, 3, 3, 3, 3, 3, 3, 3, 3, 3, 3, 3, 3, 3, 3, 3, 3, 3, 3, 3, 3, 3, 3, 3, 3, 3, 3, 3, 3, 3, 3, 3, 3, 3, 3, 3, 3, 3, 3, 3, 3, 3, 3, 3, 3, 3, 3, 3, 3, 3, 3, 3, 3, 3, 3, 3, 3, 3, 3, 3, 3, 3, 3, 3, 3, 3, 3, 3, 3, 3, 3, 3, 3, 3, 3, 3, 3, 3, 3, 3, 3, 3, 3, 3, 3, 3, 3, 3, 3, 3, 3, 3, 3, 3, 3, 3, 3, 3, 3, 3, 3, 3, 3, 3, 3, 3, 3, 3, 3, 3, 3, 3, 3, 3, 3, 3, 3, 3, 3, 3, 3, 3, 3, 3, 3, 3, 3, 3, 3, 3, 3, 3, 3, 3, 3, 3, 3, 3, 3, 3, 3, 3, 3, 3, 3, 3, 3, 3, 3, 3, 3, 3, 3, 3, 3, 3, 3, 3, 3, 3, 3, 3, 3, 3, 3, 3, 3, 3, 3, 3, 3, 3, 3, 3, 3, 3, 3, 3, 3, 3, 3, 3, 3, 3, 3, 3, 3, 3, 3, 3, 3, 3, 3, 3, 3, 3, 3, 3, 3, 3, 3, 3, 3, 3, 3, 3, 3, 3, 3, 3, 3, 3, 3, 3, 3, 3, 3, 3, 3, 3, 3, 3, 3, 3, 3, 3, 3, 3, 3, 3, 3, 3, 3, 3, 3, 3, 3, 3, 3, 3, 3, 3, 3, 3, 3, 3, 3, 3, 3, 3, 3, 3, 3, 3, 0, 3, 3, 3, 3, 3, 0, 3, 3, 3, 3, 3, 3, 3, 3, 0, 0, 2, 3, 2, 3, 3, 0, 0, 3, 3, 3, 3, 3, 3, 3, 3, 0, 3, 3, 3, 3, 3, 3, 0, 3, 3, 3, 3, 3, 3, 3, 3, 3, 2, 3, 3, 3, 3, 3, 3, 3, 3, 3, 3, 3, 3, 3, 3, 3, 3, 3, 3, 3, 3, 3, 3, 3, 3, 3, 3, 3, 3, 3, 0, 0, 3, 3, 3, 3, 3, 0, 3, 3, 3, 3, 3, 3, 0, 3, 3, 3, 2, 3, 3, 3, 3, 3, 3, 3, 3, 3, 0, 3, 0, 3, 3, 3, 3, 3, 3, 3, 3, 3, 3, 3, 3, 3, 3, 0, 3, 3, 3, 3, 3, 3, 3, 3, 3, 3, 2, 3, 3, 3, 3, 3, 3, 3, 3, 3, 0, 3, 3, 3, 3, 3, 2, 3, 3, 3, 3, 3, 3, 3, 0, 3, 3, 3, 0, 3, 3, 3, 3, 3, 3, 3, 3, 3, 3, 3, 3, 3, 3, 3, 3, 3, 3, 3, 3, 2, 3, 3, 3, 0, 3, 0, 2, 3, 3, 3, 3, 3, 3, 0, 3, 2, 3, 3, 3, 3, 3, 3, 0, 3, 3, 3, 3, 3, 3, 3, 2, 3, 3, 3, 3, 3, 3, 0, 3, 3, 0, 3, 3, 3, 3, 3, 3, 3, 3, 3, 3, 3, 3, 3, 2, 3, 3, 3, 2, 3, 3, 3, 3, 3, 3, 3, 3, 3, 3, 3, 2, 3, 3, 3, 3, 3, 2, 3, 3, 0, 3, 3, 3, 3, 0, 3, 3, 3, 3, 3, 0, 3, 3, 3, 3, 3, 3, 0, 3, 3, 3, 0, 3, 3, 3, 3, 3, 3, 3, 3, 0, 3, 3, 3, 3, 3, 3, 3, 3, 3, 3, 3, 3, 3, 3, 3, 2, 3, 3, 3, 3, 3, 3, 3, 3, 3, 3, 3, 0, 3, 3, 3, 3, 3, 0, 3, 3, 3, 3, 3, 3, 3, 3, 1, 2, 3, 3, 3, 3, 3, 0, 3, 3, 3, 3, 0, 3, 3, 3, 3, 3, 0, 3, 3, 3, 3, 3, 3, 0, 2, 3, 3, 3, 3, 3, 3, 3, 3, 3, 3, 3, 3, 3, 3, 0, 3, 3, 3, 3, 3, 0, 3, 3, 3, 3, 3, 3, 3, 3, 3, 3, 3, 0, 3, 3, 3, 2, 3, 3, 2, 3, 3, 0, 3, 3, 2, 0, 3, 3, 3, 3, 3, 3, 3, 3, 3, 3, 3, 3, 3, 3, 3, 3, 3, 3, 3, 3, 3, 3, 3, 3, 3, 3, 3, 3, 3, 2, 3, 3, 3, 2, 3, 0, 3, 3, 3, 3, 3, 3, 3, 3, 0, 3, 3, 3, 3, 3, 3, 3, 3, 2, 3, 3, 3, 2, 3, 3, 3, 0, 3, 3, 3, 3, 3, 0, 3, 0, 3, 3, 3, 3, 3, 3, 3, 3, 3, 3, 3, 3, 3, 3, 3, 2, 3, 3, 3, 3, 3, 2, 3, 3, 3, 3, 3, 3, 3, 3, 3, 3, 3, 0, 3, 1, 3, 3, 3, 3, 3, 3, 3, 3, 3, 0, 3, 0, 0, 0, 0, 3, 3, 3, 3, 3, 0, 0, 3, 3, 0, 3, 3, 3, 3, 2, 3, 3, 3, 0, 3, 3, 3, 3, 3, 3, 0, 3, 3, 0, 3, 3, 3, 0, 0, 3, 3, 0, 3, 3, 3, 0, 3, 3, 0, 0, 3, 3, 3, 0, 3, 0, 3, 3, 3, 3, 3, 0, 3, 0, 3, 3, 0, 0, 3, 3, 0, 3, 3, 3, 3, 3, 0, 3, 3, 0, 3, 1, 3, 3, 3, 1, 3, 3, 0, 3, 3, 0, 3, 3, 3, 0, 3, 3, 3, 0, 3, 3, 3, 3, 3, 3, 3, 3, 3, 3, 3, 3, 3, 3, 3, 3, 3, 3, 3, 3, 3, 3, 3, 3, 3, 3, 0, 3, 3, 3, 0, 3, 0, 3, 3, 0, 3, 2, 3, 0, 3, 3, 3, 3, 3, 3, 3, 3, 3, 3, 3, 3, 3, 3, 0, 3, 3, 3, 0, 3, 3, 0, 3, 3, 3, 3, 0, 3, 3, 0, 3, 3, 3, 0, 3, 3, 3, 3, 3, 0, 3, 3, 3, 0, 3, 0, 0, 3, 3, 3, 1, 3, 3, 0, 3, 3, 3, 3, 3, 3, 3, 3, 3, 3, 3, 3, 3, 2, 3, 3, 3, 3, 3, 3, 3, 3, 3, 0, 3, 3, 0, 3, 3, 2, 0, 3, 3, 0, 3, 3, 3, 3, 3, 3, 0, 3, 3, 0, 3, 3, 3, 3, 0, 3, 0, 3, 3, 3, 3, 3, 3, 3, 3, 3, 3, 3, 3, 3, 3, 3, 3, 0, 3, 0, 3, 3, 3, 3, 0, 3, 3, 3, 0, 3, 3, 3, 3, 0, 3, 3, 0, 3, 3, 3, 3, 3, 3, 0, 3, 3, 3, 3, 3, 3, 3, 3, 3, 0, 3, 3, 3, 3, 3, 3, 3, 0, 3, 3, 3, 0, 2, 3, 3, 3, 3, 3, 3, 3, 3, 3, 0, 3, 3, 0, 3, 3, 3, 3, 3, 3, 2, 3, 3, 0, 3, 3, 0, 3, 0, 2, 3, 3, 3, 3, 3, 3, 3, 0, 0, 3, 3, 3, 3, 0, 3, 0, 3, 0, 0, 0, 3, 3, 3, 3, 0, 1, 3, 0, 2, 3, 0, 3, 3, 0, 0, 3, 3, 3, 0, 3, 3, 3, 3, 3, 3, 0, 3, 3, 0, 3, 0, 3, 3, 0, 3, 3, 0, 3, 3, 3, 3, 0, 0, 0, 3, 3, 3, 3, 3, 3, 3, 3, 3, 0, 3, 3, 3, 3, 3, 3, 3, 3, 3, 0, 0, 3, 3, 3, 3, 3, 0, 3, 3, 0, 3, 2, 3, 0, 3, 3, 3, 0, 3, 0, 2, 3, 3, 3, 0, 0, 0, 3, 3, 3, 3, 3, 0, 3, 3, 0, 3, 3, 0, 3, 3, 0, 3, 2, 3, 3, 0, 0, 3, 0, 3, 3, 3, 3, 0, 0, 0, 3, 3, 3, 0, 0, 3, 0, 0, 0, 3, 0, 3, 3, 0, 3, 0, 3, 3, 3, 3, 3, 0, 3, 0, 3, 0, 3, 3, 0, 3, 3, 3, 3, 3, 3, 3, 3, 3, 3, 3, 0, 3, 3, 3, 3, 3, 3, 2, 0, 3, 0, 0, 3, 3, 3, 3, 3, 3, 0, 3, 3, 3, 0, 2, 3, 3, 3, 3, 3, 0, 3, 3, 3, 3, 3, 3, 3, 3, 0, 3, 3, 3, 3, 3, 3, 3, 3, 3, 3, 3, 3, 3, 3, 3, 3, 3, 3, 3, 3, 3, 3, 3, 2, 3, 3, 3, 3, 3, 3, 3, 3, 3, 3, 3, 3, 3, 3, 3, 3, 3, 3, 3, 3, 3, 3, 0, 3, 3, 3, 3, 3, 3, 3, 3, 3, 3, 3, 0, 3, 3, 3, 3, 3, 3, 3, 3, 3, 3, 3, 3, 3, 3, 3, 3, 3, 3, 3, 3, 3, 3, 3, 3, 3, 3, 3, 3, 3, 3, 3, 0, 0, 3, 3, 3, 3, 3, 3, 3, 3, 3, 3, 3, 3, 3, 3, 3, 3, 3, 3, 3, 3, 3, 3, 3, 3, 3, 3, 3, 3, 3, 3, 3, 1, 3, 0, 1, 3, 0, 1, 3, 0, 0, 1, 2, 2, 3, 1, 0, 1, 3, 3, 1, 0, 2, 1, 1, 1, 0, 1, 3, 1, 3, 2, 3, 0, 1, 1, 3, 1, 1, 3, 1, 3, 3, 0, 1, 1, 3, 0, 0, 0, 1, 1, 3, 3, 3, 3, 3, 2, 2, 3, 3, 3, 3, 3, 3, 3, 3, 3, 3, 3, 3, 3, 3, 3, 3, 3, 2, 3, 3, 3, 3, 3, 3, 3, 3, 3, 3, 3, 3, 3, 3, 3, 3, 3, 3, 2, 3, 3, 3, 3, 3, 3, 3, 3, 3, 3, 3, 3, 3, 3, 3, 3, 2, 3, 3, 2, 3, 3, 3, 2, 2, 3, 3, 3, 2, 0, 0, 0, 0, 0, 0, 0, 0, 0, 0, 0, 0, 0, 0, 0, 0, 0, 0, 0, 0, 0, 0, 0, 3, 0, 0, 0, 0, 0, 0, 3, 0, 0, 0, 0, 0, 0, 3, 0, 0, 0, 0, 0, 0, 0, 3, 0, 0, 0, 3, 3, 3, 3, 3, 3, 3, 0, 0, 0, 0, 0, 0, 0, 0, 0, 0, 0, 0, 0, 0, 0, 0, 0, 0, 0, 0, 0, 0, 0, 0, 0, 0, 0, 0, 0, 0, 0, 0, 0, 0, 0, 0, 0, 0, 0, 0, 0, 0, 0, 0, 0, 0, 0, 0, 0, 0, 0, 0, 0, 0, 0, 0, 0, 0, 0, 0, 0, 0, 0, 0, 0, 0, 0, 0, 0, 0, 0, 0, 0, 0, 0, 0, 0, 0, 0, 0, 0, 0, 0, 0, 0, 0, 0, 0, 0, 0, 0, 0, 0, 0, 0, 0, 0, 0, 0, 0, 0, 0, 0, 0, 0, 0, 0, 0, 0, 0, 0, 0, 0, 0, 0, 0, 0, 0, 0, 0, 0, 0, 0, 0, 0, 0, 0, 0, 0, 0, 0, 0, 0, 0, 0, 0, 0, 0, 3, 0, 0, 0, 0, 0, 0, 0, 0, 0, 0, 0, 0, 0, 0, 0, 0, 0, 0, 0, 0, 0, 0, 0, 0, 0, 0, 0, 0, 0, 0, 0, 0, 0, 0, 0, 0, 0, 0, 0, 0, 0, 0, 0, 0, 0, 0, 0, 3, 3, 0, 0, 0, 0, 0, 0, 0, 0, 0, 0, 0, 0, 0, 0, 0, 0, 0, 0, 0, 0, 0, 0, 0, 0, 0, 0, 0, 0, 0, 0, 0, 0, 0, 0, 0, 0, 0, 0, 0, 0, 0, 0, 0, 0, 0, 0, 0, 0, 0, 0, 0, 0, 0, 0, 0, 0, 0, 0, 0, 0, 0, 0, 0, 0, 0, 0, 0, 0, 0, 0, 0, 0, 0, 0, 0, 0, 0, 0, 0, 0, 0, 0, 0, 0, 0, 0, 0, 0, 0, 0, 0, 0, 0, 0, 0, 0, 0, 0, 0, 0, 0, 0, 0, 0, 0, 0, 0, 0, 0, 0, 0, 0, 0, 0, 0, 0, 0, 0, 0, 0, 0, 0, 0, 0, 0, 0, 0, 0, 0, 0, 0, 0, 0, 0, 0, 0, 0, 0, 0, 0, 0, 0, 0, 0, 0, 0, 0, 0, 0, 0, 0, 0, 0, 0, 0, 0, 0, 0, 0, 0, 0, 0, 0, 0, 0, 0, 0, 0, 0, 0, 0, 0, 0, 0, 0, 0, 0, 0, 0, 0, 0, 0, 0, 0, 0, 0, 0, 0, 0, 0, 0, 0, 0, 0, 0, 0, 0, 0, 0, 0, 0, 0, 0, 0, 0, 0, 0, 0, 0, 0, 0, 0, 0, 0, 0, 0, 0, 0, 0, 0, 0, 0, 0, 0, 0, 0, 0, 0, 0, 0, 0, 0, 0, 0, 0, 0, 0, 0, 0, 0, 0, 0, 0, 0, 0, 0, 0, 0, 0, 0, 0, 0, 3, 0, 0, 0, 0, 0, 0, 0, 0, 0, 2, 2, 3, 1, 1, 1, 0, 1, 1, 1, 1, 1, 1, 1, 1, 0, 1, 1, 1, 2, 1, 1, 2, 1, 1, 1, 1, 1, 1, 2, 1, 1, 1, 1, 2, 1, 1, 1, 0, 1, 1, 1, 0, 1, 0, 1, 1, 1, 1, 1, 1, 1, 1, 3, 1, 1, 1, 1, 0, 1, 1, 2, 0, 1, 1, 1, 2, 0, 1, 2, 1, 1, 0, 1, 0, 1, 2, 1, 0, 1, 1, 1, 2, 2, 1, 2, 1, 1, 2, 0, 1, 0, 1, 1, 0, 1, 0, 1, 0, 1, 2, 2, 0, 0, 0, 1, 0, 1, 2, 1, 1, 2, 1, 2, 3, 3, 2, 3, 2, 0, 0, 0, 1, 1, 0, 0, 1, 1, 3, 0, 1, 2, 0, 1, 2, 1, 0, 0, 0, 0, 0, 1, 0, 0, 1, 0, 1, 3, 2, 3, 3, 3, 3, 3, 3, 2, 0, 0, 1, 0, 0, 0, 1, 2, 0, 1, 2, 1, 0, 1, 0, 1, 2, 2, 2, 2, 2, 2, 0, 0, 0, 0, 1, 2, 2, 3, 3, 3, 3, 2, 2, 2, 2, 2, 2, 2, 2, 2, 3, 2, 2, 2, 2, 2, 2, 2, 2, 3, 2, 3, 3, 3, 2, 2, 2, 2, 2, 3, 3, 3, 3, 3, 3, 2, 3, 3, 3, 2, 3, 3, 3, 2, 3, 2, 2, 2, 2, 3, 3, 2, 2, 2, 3, 3, 2, 3, 2, 3, 3, 2, 2, 2, 3, 0, 0, 3, 3, 3, 0, 3, 3, 3, 3, 0, 0, 0, 3, 3, 0, 0, 3, 3, 3, 0, 0, 3, 3, 3, 3, 3, 3, 0, 0, 3, 3, 3, 3, 0, 0, 3, 0, 3, 3, 3, 3, 3, 3, 0, 0, 3, 3, 3, 3, 0, 3, 3, 3, 0, 0, 3, 3, 3, 3, 3, 0, 0, 3, 3, 3, 0, 3, 3, 3, 3, 0, 0, 3, 0, 3, 3, 3, 3, 3, 0, 0, 3, 3, 3, 3, 0, 3, 3, 3, 3, 0, 0, 0, 3, 3, 3, 3, 3, 0, 0, 3, 3, 3, 3, 0, 3, 3, 3, 3, 0, 0, 0, 0, 3, 3, 3, 3, 3, 3, 0, 0, 0, 3, 3, 3, 3, 3, 0, 0, 3, 0, 3, 3, 3, 3, 0, 0, 3, 3, 3, 3, 0, 3, 3, 3, 3, 0, 0, 3, 3, 3, 0, 0, 3, 3, 3, 0, 3, 3, 3, 3, 0, 0, 0, 3, 0, 3, 3, 3, 3, 3, 3, 3, 3, 3, 0, 3, 3, 3, 0, 0, 0, 3, 3, 3, 3, 3, 3, 3, 3, 0, 0, 3, 3, 3, 3, 3, 3, 3, 3, 3, 3, 3, 3, 0, 0, 3, 3, 3, 3, 0, 3, 3, 3, 0, 0, 3, 3, 3, 3, 3, 3, 3, 2, 3, 3, 3, 3, 3, 3, 3, 0, 0, 3, 3, 3, 3, 3, 3, 3, 0, 0, 3, 3, 3, 3, 0, 3, 0, 0, 3, 3, 3, 3, 3, 3, 3, 0, 3, 3, 3, 3, 3, 3, 3, 3, 3, 3, 0, 0, 3, 3, 3, 3, 3, 3, 3, 0, 3, 3, 3, 3, 0, 0, 3, 3, 3, 3, 0, 0, 3, 3, 2, 3, 3, 3, 3, 3, 3, 3, 3, 3, 3, 0, 3, 3, 3, 3, 2, 3, 3, 3, 0, 3, 3, 3, 3, 3, 0, 0, 0, 3, 3, 3, 0, 3, 3, 3, 3, 2, 3, 3, 0, 0, 0, 3, 0, 3, 3, 3, 3, 3, 0, 0, 0, 0, 3, 3, 3, 3, 0, 3, 3, 3, 3, 3, 0, 0, 3, 0, 3, 3, 3, 0, 3, 3, 3, 3, 3, 3, 2, 3, 3, 3, 3, 3, 3, 0, 3, 3, 3, 3, 0, 3, 0, 0, 0, 3, 3, 0, 0, 0, 2, 2, 0, 3, 0, 0, 3, 0, 3, 0, 0, 0, 0, 0, 0, 3, 3, 0, 3, 0, 0, 3, 3, 0, 0, 0, 3, 3, 0, 0, 0, 3, 3, 0, 3, 0, 3, 0, 0, 3, 3, 3, 0, 3, 3, 0, 0, 0, 0, 0, 0, 0, 0, 0, 0, 0, 3, 0, 3, 3, 0, 0, 0, 3, 0, 3, 0, 2, 3, 0, 3, 0, 0, 3, 0, 0, 3, 0, 0, 0, 3, 0, 3, 3, 0, 0, 3, 0, 0, 0, 0, 0, 0, 0, 3, 0, 0, 0, 3, 0, 0, 0, 0, 3, 0, 0, 0, 0, 0, 0, 0, 3, 3, 3, 0, 3, 0, 3, 3, 0, 0, 3, 0, 3, 0, 3, 0, 0, 0, 3, 0, 3, 3, 0, 3, 3, 0, 3, 0, 0, 3, 0, 0, 3, 0, 0, 0, 3, 0, 0, 0, 3, 0, 3, 0, 3, 3, 3, 0, 0, 0, 0, 0, 0, 0, 0, 0, 0, 0, 3, 0, 3, 0, 3, 3, 0, 0, 0, 3, 3, 0, 0, 3, 3, 0, 3, 0, 3, 3, 0, 0, 0, 0, 0, 0, 0, 0, 0, 3, 0, 0, 0, 3, 0, 3, 0, 3, 0, 0, 0, 0, 0, 0, 0, 3, 3, 3, 0, 0, 3, 3, 0, 0, 3, 3, 0, 3, 0, 3, 0, 0, 0, 3, 0, 0, 0, 3, 0, 0, 0, 0, 3, 0, 0, 0, 3, 3, 0, 3, 0, 0, 3, 3, 0, 0, 0, 0, 3, 0, 3, 0, 0, 0, 0, 0, 0, 0, 3, 0, 3, 0, 3, 0, 3, 0, 3, 0, 0, 0, 3, 3, 0, 3, 0, 3, 0, 0, 3, 3, 3, 0, 0, 0, 3, 0, 0, 3, 0, 0, 0, 3, 0, 0, 0, 3, 0, 3, 3, 0, 0, 3, 3, 0, 3, 3, 0, 3, 0, 3, 3, 0, 3, 3, 0, 0, 3, 0, 0, 0, 3, 0, 3, 3, 3, 0, 3, 0, 0, 0, 0, 0, 0, 0, 0, 3, 3, 3, 0, 3, 3, 3, 0, 0, 3, 0, 0, 3, 0, 0, 0, 0, 3, 0, 3, 0, 3, 0, 3, 3, 0, 3, 3, 0, 0, 0, 0, 0, 0, 0, 0, 0, 0, 0, 3, 0, 3, 0, 0, 0, 3, 3, 3, 0, 0, 3, 3, 0, 3, 0, 3, 3, 0, 3, 0, 3, 0, 3, 0, 0, 3, 0, 0, 3, 0, 0, 0, 0, 0, 0, 3, 0, 3, 3, 3, 0, 0, 3, 0, 3, 3, 3, 0, 3, 3, 0, 3, 3, 0, 0, 3, 3, 0, 0, 3, 0, 3, 0, 0, 3, 0, 3, 3, 3, 0, 0, 3, 0, 3, 3, 0, 3, 0, 0, 0, 3, 0, 3, 3, 0, 3, 0, 3, 0, 0, 3, 3, 0, 3, 0, 0, 3, 3, 3, 0, 0, 3, 3, 0, 0, 3, 3, 3, 0, 3, 3, 3, 3, 3, 3, 0, 0, 3, 3, 3, 0, 0, 0, 3, 3, 3, 3, 3, 0, 3, 3, 3, 3, 0, 3, 3, 3, 0, 3, 3, 3, 3, 3, 3, 0, 3, 3, 3, 3, 3, 3, 3, 3, 3, 0, 0, 3, 3, 3, 3, 0, 0, 0, 3, 3, 3, 3, 3, 3, 3, 0, 3, 3, 3, 0, 0, 2, 3, 3, 3, 3, 3, 3, 0, 3, 3, 0, 3, 3, 3, 0, 0, 3, 3, 3, 3, 0, 0, 3, 3, 0, 0, 3, 3, 0, 0, 3, 3, 0, 3, 3, 3, 0, 0, 0, 3, 3, 0, 0, 0, 3, 3, 0, 3, 3, 0, 3, 3, 3, 3, 3, 3, 0, 3, 3, 3, 0, 0, 3, 3, 3, 3, 3, 3, 0, 0, 3, 3, 3, 3, 0, 3, 3, 3, 0, 0, 3, 3, 3, 3, 3, 0, 0, 3, 3, 3, 3, 3, 0, 3, 3, 3, 3, 0, 0, 0, 0, 3, 0, 3, 0, 0, 3, 3, 3, 0, 0, 3, 3, 0, 0, 3, 0, 0, 0, 3, 3, 3, 0, 0, 3, 0, 0, 3, 3, 3, 0, 3, 3, 3, 0, 0, 0, 3, 3, 0, 3, 0, 0, 3, 3, 3, 3, 0, 0, 3, 3, 0, 0, 3, 3, 0, 0, 3, 3, 0, 3, 0, 0, 3, 3, 0, 0, 3, 3, 3, 3, 0, 0, 3, 3, 0, 0, 3, 0, 3, 3, 0, 0, 0, 3, 3, 0, 0, 3, 0, 0, 3, 3, 0, 0, 0, 3, 3, 0, 3, 0, 3, 3, 0, 3, 3, 3, 0, 0, 3, 0, 0, 0, 3, 3, 3, 0, 0, 0, 0, 0, 3, 0, 0, 0, 0, 3, 0, 0, 0, 3, 3, 0, 3, 3, 0, 3, 0, 3, 0, 0, 0, 0, 3, 3, 0, 0, 3, 0, 0, 3, 3, 0, 3, 3, 0, 3, 3, 3, 0, 0, 3, 3, 3, 0, 0, 0, 3, 3, 3, 0, 0, 3, 0, 3, 3, 0, 3, 3, 3, 3, 3, 0, 0, 3, 3, 0, 0, 3, 3, 3, 3, 0, 0, 0, 0, 3, 0, 0, 3, 0, 0, 3, 3, 0, 0, 3, 3, 3, 3, 0, 0, 3, 3, 3, 0, 0, 0, 0, 3, 3, 3, 0, 0, 3, 3, 0, 0, 3, 3, 0, 0, 3, 3, 0, 3, 0, 0, 0, 3, 3, 0, 3, 3, 0, 3, 0, 0, 3, 3, 0, 0, 3, 3, 0, 0, 0, 3, 0, 0, 3, 3, 0, 0, 0, 3, 0, 3, 3, 3, 0, 0, 3, 0, 3, 3, 0, 0, 0, 3, 3, 0, 3, 3, 3, 0, 3, 3, 0, 0, 3, 0, 3, 3, 3, 3, 0, 3, 3, 0, 0, 0, 0, 0, 0, 3, 0, 3, 0, 0, 3, 3, 0, 3, 0, 3, 0, 0, 3, 3, 3, 0, 3, 0, 0, 0, 3, 3, 0, 0, 3, 0, 0, 3, 0, 3, 0, 0, 0, 3, 0, 0, 3, 3, 0, 3, 3, 3, 0, 3, 3, 3, 0, 0, 0, 3, 3, 3, 0, 0, 3, 3, 0, 3, 3, 0, 0, 3, 3, 0, 0, 3, 0, 3, 3, 3, 0, 0, 3, 3, 3, 0, 0, 0, 0, 3, 0, 3, 2, 2, 3, 2, 3, 3, 2, 3, 2, 3, 2, 2, 2, 2, 2, 2, 2, 2, 2, 3, 2, 3, 2, 2, 2, 2, 2, 3, 3, 2, 3, 2, 3, 2, 3, 2, 3, 3, 2, 3, 3, 3, 3, 2, 2, 3, 3, 2, 2, 0, 3, 2, 2, 3, 2, 3, 3, 2, 3, 2, 3, 2, 2, 2, 2, 2, 2, 2, 2, 2, 3, 2, 3, 2, 2, 2, 2, 2, 3, 3, 2, 3, 2, 3, 2, 3, 2, 3, 3, 2, 3, 3, 3, 3, 2, 2, 3, 3, 2, 2, 2, 0, 3, 0, 0, 3, 3, 0, 2, 0, 0, 0, 3, 3, 0, 0, 0, 3, 3, 0, 3, 3, 3, 0, 1, 1, 3, 0, 0, 0, 2, 0, 0, 0, 3, 0, 1, 3, 3, 0, 0, 3, 3, 3, 0, 0, 3, 3, 3, 0, 0, 3, 3, 3, 0, 0, 0, 3, 3, 3, 3, 2, 2, 0, 3, 0, 3, 3, 3, 3, 0, 3, 0, 3, 3, 3, 3, 3, 0, 3, 3, 2, 3, 0, 3, 0, 0, 3, 3, 3, 3, 3, 0, 3, 0, 0, 3, 0, 0, 0, 3, 3, 0, 3, 3, 0, 3, 0, 0, 0, 3, 3, 3, 0, 0, 3, 0, 3, 3, 3, 0, 3, 3, 3, 3, 0, 0, 3, 3, 3, 0, 3, 0, 3, 3, 2, 3, 3, 0, 0, 3, 3, 0, 3, 3, 0, 3, 3, 3, 3, 0, 0, 2, 3, 0, 3, 0, 0, 3, 2, 0, 0, 3, 3, 2, 3, 2, 3, 3, 3, 3, 3, 3, 3, 2, 3, 1, 3, 2, 3, 2, 3, 3, 3, 3, 3, 3, 3, 3, 3, 3, 0, 3, 3, 3, 3, 3, 3, 3, 2, 3, 3, 3, 3, 2, 2, 3, 3, 3, 2, 3, 3, 3, 3, 3, 3, 3, 3, 2, 3, 2, 3, 0, 0, 3, 0, 0, 0, 3, 0, 0, 3, 3, 0, 3, 0, 3, 0, 2, 3, 3, 0, 3, 3, 3, 3, 3, 3, 2, 3, 3, 2, 3, 3, 3, 3, 3, 2, 2, 0, 3, 0, 3, 3, 3, 3, 3, 3, 3, 3, 3, 2, 3, 2, 3, 3, 3, 2, 3, 0, 3, 3, 2, 3, 3, 2, 3, 0, 3, 0, 3, 3, 2, 2, 0, 3, 3, 2, 0, 3, 3, 0, 3, 3, 3, 0, 3, 0, 0, 3, 3, 3, 3, 2, 0, 0, 0, 3, 0, 0, 0, 0, 0, 0, 3, 2, 2, 3, 0, 0, 0, 3, 0, 3, 3, 3, 3, 3, 0, 3, 2, 3, 3, 0, 0, 3, 2, 3, 2, 0, 3, 3, 0, 0, 3, 2, 3, 3, 3, 0, 0, 3, 0, 0, 0, 0, 0, 3, 3, 0, 3, 3, 0, 3, 3, 3, 0, 3, 0, 3, 3, 3, 2, 3, 3, 3, 3, 3, 3, 2, 3, 3, 2, 3, 3, 2, 3, 2, 3, 3, 3, 3, 3, 3, 3, 3, 3, 3, 3, 3, 3, 3, 2, 2, 2, 3, 3, 3, 3, 3, 2, 3, 2, 2, 3, 3, 3, 2, 3, 1, 3, 3, 3, 0, 0, 3, 3, 3, 0, 3, 3, 2, 0, 0, 2, 0, 2, 3, 0, 3, 0, 3, 2, 3, 2, 0, 3, 0, 3, 3, 2, 3, 0, 0, 0, 0, 3, 0, 3, 3, 3, 3, 0, 0, 3, 3, 3, 0, 3, 0, 0, 2, 0, 3, 2, 1, 3, 3, 3, 0, 1, 2, 0, 2, 3, 0, 2, 0, 0, 3, 3, 0, 0, 0, 3, 3, 3, 3, 0, 3, 2, 2, 3, 0, 0, 0, 2, 0, 3, 3, 3, 2, 0, 0, 1, 3, 3, 1, 0, 3, 3, 3, 3, 3, 3, 3, 0, 2, 0, 0, 3, 3, 1, 3, 3, 3, 2, 0, 2, 0, 0, 3, 3, 3, 0, 0, 2, 2, 2, 2, 3, 0, 0, 0, 3, 0, 3, 0, 3, 2, 3, 0, 0, 3, 3, 3, 0, 2, 0, 0, 3, 0, 0, 3, 3, 3, 3, 3, 3, 0, 3, 2, 0, 0, 3, 0, 0, 0, 3, 3, 2, 0, 2, 2, 3, 3, 3, 3, 0, 3, 3, 0, 0, 0, 2, 0, 0, 2, 3, 2, 0, 2, 0, 2, 3, 2, 2, 3, 3, 3, 2, 2, 3, 2, 0, 0, 3, 0, 0, 2, 0, 3, 0, 0, 3, 2, 0, 0, 3, 0, 0, 0, 0, 3, 0, 0, 3, 3, 2, 0, 0, 3, 0, 0, 3, 0, 0, 0, 3, 3, 3, 2, 0, 2, 3, 0, 0, 0, 3, 3, 3, 3, 2, 0, 2, 3, 0, 0, 3, 2, 0, 2, 0, 3, 2, 3, 3, 3, 2, 3, 3, 0, 0, 3, 3, 0, 0, 3, 3, 3, 3, 2, 2, 3, 3, 2, 3, 2, 3, 2, 0, 3, 3, 3, 3, 3, 3, 3, 3, 2, 3, 3, 3, 3, 3, 3, 3, 3, 3, 3, 3, 3, 3, 2, 2, 3, 3, 3, 3, 3, 3, 3, 3, 3, 3, 3, 3, 3, 3, 3, 3, 3, 0, 3, 3, 3, 3, 3, 3, 3, 3, 3, 3, 3, 3, 3, 3, 3]\n",
            "Interation:  9\n",
            "Inertia:  143.48282155823824\n",
            "Result: 365 out of 7050 samples were correctly labeled.\n",
            "Accuracy score: 0.05\n"
          ]
        }
      ]
    },
    {
      "cell_type": "markdown",
      "source": [
        "**Scikit Learn model**"
      ],
      "metadata": {
        "id": "2gCqVQBSDepn"
      }
    },
    {
      "cell_type": "code",
      "source": [
        "labelsSK4 = kmeans_print_reusult(X, KModel = KMeans, init=\"k-means++\", n_clusters=4, random_state=0, max_iter = max_iteration)\n",
        "check_labeling(y, labelsSK4)"
      ],
      "metadata": {
        "colab": {
          "base_uri": "https://localhost:8080/"
        },
        "outputId": "0835baff-b0c2-4295-e9a0-1164dc84c90f",
        "id": "_zoQJ01jDepn"
      },
      "execution_count": 225,
      "outputs": [
        {
          "output_type": "stream",
          "name": "stdout",
          "text": [
            "Centroids:  [[9.60808581e-01 3.57662757e-02 2.12257291e-02 2.19584239e-02\n",
            "  3.06011015e-02 3.37134741e-02 2.42034095e-03 6.57701120e-03\n",
            "  6.39034492e-03 4.71095497e-03]\n",
            " [3.29203110e-01 1.88437644e-02 6.48534102e-04 5.23444525e-04\n",
            "  1.83849882e-02 1.88150929e-03 1.98733142e-03 1.12037536e-03\n",
            "  2.85828617e-03 1.52826107e-03]\n",
            " [4.05291005e-01 3.73783574e-01 2.97919644e-03 4.08322207e-03\n",
            "  3.72184814e-01 6.35403832e-03 1.07342697e-02 2.00181984e-03\n",
            "  9.95953937e-04 2.04813108e-04]\n",
            " [1.00000000e+00 3.20218847e-01 1.04084240e-01 1.31991373e-01\n",
            "  2.80984267e-01 2.31378059e-01 7.83065855e-02 5.17393435e-02\n",
            "  3.13725490e-02 4.08602151e-02]]\n",
            "Labels:  [0 1 0 ... 1 1 1]\n",
            "Interation:  13\n",
            "Inertia:  127.31313212987737\n",
            "Result: 4340 out of 7050 samples were correctly labeled.\n",
            "Accuracy score: 0.62\n"
          ]
        }
      ]
    },
    {
      "cell_type": "markdown",
      "source": [
        "We can see the results of Cluster = 4 and have some comments:\n",
        "1. Comparing between our K-Means++ model and the Scikit Learn model, the Scikit Learn model still has higher accuracy (62%) while our model only has 33%.\n",
        "2. Comparing our K-Means++ model and the pure K-Means model, the accuracy of the K-Means++ model has higher accuracy  (33%) while the pure K-Means model is only 5 %.\n",
        "3. So we need more techniques to improve our model."
      ],
      "metadata": {
        "id": "MJ_gBnj4EsY8"
      }
    },
    {
      "cell_type": "markdown",
      "source": [
        "# **Results and conclusion**"
      ],
      "metadata": {
        "id": "Q15K4K38cMcm"
      }
    },
    {
      "cell_type": "markdown",
      "source": [
        "1. In this project, I have implemented the most popular unsupervised clustering technique called K-Means Clustering.\n",
        "\n",
        "2. I have applied the elbow method and find that k=2 (k is number of clusters) can be considered a good number of cluster to cluster this data.\n",
        "\n",
        "3. I have find that the model has very high inertia of 240.06679. So, this is not a good model fit to the data.\n",
        "\n",
        "4. I have achieved a weak classification accuracy of 1% with k=2 by our unsupervised model.\n",
        "\n",
        "5. So, I have changed the value of k and find relatively higher classification accuracy of 62% with k=4.\n",
        "\n",
        "6. Hence, we can conclude that k=4 being the optimal number of clusters.\n",
        "\n",
        "7. The Scikit learning model still has higher accuracy (62%) while our model only has 33%. So we need to use more techniques to improve our model.\n"
      ],
      "metadata": {
        "id": "Bo1Gu5JncEnc"
      }
    },
    {
      "cell_type": "markdown",
      "source": [
        "# **References**"
      ],
      "metadata": {
        "id": "AfWVrvAacS1V"
      }
    },
    {
      "cell_type": "markdown",
      "source": [
        "PRASHANT BANERJEE's kernel: https://www.kaggle.com/code/prashant111/k-means-clustering-with-python/notebook"
      ],
      "metadata": {
        "id": "6KcZlzlScWeb"
      }
    },
    {
      "cell_type": "markdown",
      "source": [
        "Dataset: https://www.kaggle.com/datasets/ashishg21/facebook-live-sellers-in-thailand-uci-ml-repo"
      ],
      "metadata": {
        "id": "MwqopNLWOsSX"
      }
    }
  ]
}