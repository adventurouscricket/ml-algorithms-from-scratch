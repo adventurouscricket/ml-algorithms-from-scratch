{
  "nbformat": 4,
  "nbformat_minor": 0,
  "metadata": {
    "colab": {
      "provenance": []
    },
    "kernelspec": {
      "name": "python3",
      "display_name": "Python 3"
    },
    "language_info": {
      "name": "python"
    }
  },
  "cells": [
    {
      "cell_type": "markdown",
      "source": [
        "# Import Necessary Libraries"
      ],
      "metadata": {
        "id": "eKcXmPPKOi2R"
      }
    },
    {
      "cell_type": "code",
      "execution_count": null,
      "metadata": {
        "colab": {
          "base_uri": "https://localhost:8080/"
        },
        "id": "JvgoQ4lMOait",
        "outputId": "f0f11db7-3d75-4253-dd72-246157525f54"
      },
      "outputs": [
        {
          "output_type": "stream",
          "name": "stdout",
          "text": [
            "(60000, 28, 28) (60000,)\n"
          ]
        }
      ],
      "source": [
        "import keras\n",
        "from keras.datasets import mnist\n",
        "from keras.models import Sequential\n",
        "from keras.layers import Dense, Dropout, Flatten\n",
        "from keras.layers import Conv2D, MaxPooling2D\n",
        "from keras import backend as K\n",
        "import time\n",
        "\n",
        "(x_train, y_train), (x_test, y_test) = mnist.load_data()\n",
        "print(x_train.shape, y_train.shape)"
      ]
    },
    {
      "cell_type": "code",
      "source": [
        "import matplotlib.pyplot as plt"
      ],
      "metadata": {
        "id": "WRCYaFNbknVO"
      },
      "execution_count": null,
      "outputs": []
    },
    {
      "cell_type": "markdown",
      "source": [
        "# Load the Dataset"
      ],
      "metadata": {
        "id": "HDfEOoZGOkoK"
      }
    },
    {
      "cell_type": "code",
      "source": [
        "x_train= x_train.reshape(x_train.shape[0],28,28,1)\n",
        "x_test=  x_test.reshape(x_test.shape[0],28,28,1)\n",
        "input_shape=(28,28,1)\n",
        "y_train=keras.utils.to_categorical(y_train)#,num_classes=)\n",
        "y_test=keras.utils.to_categorical(y_test)#, num_classes)\n",
        "x_train= x_train.astype('float32')\n",
        "x_test= x_test.astype('float32')\n",
        "x_train /= 255\n",
        "x_test /=255"
      ],
      "metadata": {
        "id": "l9LQ_EtzOojG"
      },
      "execution_count": null,
      "outputs": []
    },
    {
      "cell_type": "markdown",
      "source": [
        "**Build the Model**"
      ],
      "metadata": {
        "id": "f3VFQrgWO0Yy"
      }
    },
    {
      "cell_type": "code",
      "source": [
        "batch_size=64\n",
        "\n",
        "num_classes=10\n",
        "\n",
        "epochs=10\n",
        "\n",
        "def build_model(optimizer):\n",
        "\n",
        "  model=Sequential()\n",
        "\n",
        "  model.add(Conv2D(32,kernel_size=(3,3),activation='relu',input_shape=input_shape))\n",
        "\n",
        "  model.add(MaxPooling2D(pool_size=(2,2)))\n",
        "\n",
        "  model.add(Dropout(0.25))\n",
        "\n",
        "  model.add(Flatten())\n",
        "\n",
        "  model.add(Dense(256, activation='relu'))\n",
        "\n",
        "  model.add(Dropout(0.5))\n",
        "\n",
        "  model.add(Dense(num_classes, activation='softmax'))\n",
        "\n",
        "  model.compile(loss=keras.losses.categorical_crossentropy, optimizer= optimizer, metrics=['accuracy'])\n",
        "\n",
        "  return model"
      ],
      "metadata": {
        "id": "t4FkrCFUO20a"
      },
      "execution_count": null,
      "outputs": []
    },
    {
      "cell_type": "markdown",
      "source": [
        "# Train the Model"
      ],
      "metadata": {
        "id": "4p82_ruoO-6S"
      }
    },
    {
      "cell_type": "code",
      "source": [
        "# optimizers = ['Adadelta', 'Adagrad', 'Adam', 'RMSprop', 'SGD']\n",
        "optimizers = ['Adadelta', 'Adagrad', 'Adam', 'RMSprop', 'SGD', 'SGD Momentum']\n",
        "\n",
        "hists = []\n",
        "\n",
        "for i in optimizers:\n",
        "  print(\"---------------------------{0}-------------------------\".format(i))\n",
        "\n",
        "  if i == 'SGD':\n",
        "      # For SGD without Momentum, specify the momentum parameter\n",
        "      momentum = 0.0  # You can adjust this value as needed\n",
        "      optimizer = keras.optimizers.SGD(momentum=momentum)\n",
        "  elif i == 'SGD Momentum':\n",
        "    optimizer = 'SGD'\n",
        "  else:\n",
        "      optimizer = i  # For other optimizers, use the string directly\n",
        "\n",
        "  model = build_model(optimizer)\n",
        "\n",
        "  start_time = time.time()  # Record the start time\n",
        "  print(\"-------------------Start time: \", start_time)\n",
        "\n",
        "  hist = model.fit(x_train, y_train, batch_size=batch_size, epochs=epochs, verbose=1, validation_data=(x_test, y_test))\n",
        "\n",
        "  end_time = time.time()  # Record the end time\n",
        "  print(\"-------------------End time: \", end_time)\n",
        "  duration = end_time - start_time\n",
        "  print(\"Training duration: {:.2f} seconds\".format(duration))\n",
        "\n",
        "  hists.append(hist)"
      ],
      "metadata": {
        "colab": {
          "base_uri": "https://localhost:8080/",
          "height": 1000
        },
        "id": "ikwG7UTOO_qw",
        "outputId": "8e23d093-133b-4fbf-9fcb-b6baf5f341f9"
      },
      "execution_count": null,
      "outputs": [
        {
          "output_type": "stream",
          "name": "stdout",
          "text": [
            "---------------------------Adadelta-------------------------\n",
            "-------------------Start time:  1709951911.7369082\n",
            "Epoch 1/10\n",
            "938/938 [==============================] - 52s 55ms/step - loss: 2.2732 - accuracy: 0.1553 - val_loss: 2.1852 - val_accuracy: 0.4936\n",
            "Epoch 2/10\n",
            "938/938 [==============================] - 50s 54ms/step - loss: 2.1415 - accuracy: 0.3364 - val_loss: 2.0405 - val_accuracy: 0.6502\n",
            "Epoch 3/10\n",
            "938/938 [==============================] - 50s 54ms/step - loss: 2.0024 - accuracy: 0.4836 - val_loss: 1.8815 - val_accuracy: 0.7175\n",
            "Epoch 4/10\n",
            "938/938 [==============================] - 51s 54ms/step - loss: 1.8521 - accuracy: 0.5733 - val_loss: 1.7105 - val_accuracy: 0.7585\n",
            "Epoch 5/10\n",
            "938/938 [==============================] - 51s 54ms/step - loss: 1.6932 - accuracy: 0.6301 - val_loss: 1.5353 - val_accuracy: 0.7818\n",
            "Epoch 6/10\n",
            "938/938 [==============================] - 50s 53ms/step - loss: 1.5339 - accuracy: 0.6692 - val_loss: 1.3671 - val_accuracy: 0.7991\n",
            "Epoch 7/10\n",
            "938/938 [==============================] - 50s 54ms/step - loss: 1.3880 - accuracy: 0.6935 - val_loss: 1.2153 - val_accuracy: 0.8139\n",
            "Epoch 8/10\n",
            "938/938 [==============================] - 50s 53ms/step - loss: 1.2579 - accuracy: 0.7153 - val_loss: 1.0834 - val_accuracy: 0.8239\n",
            "Epoch 9/10\n",
            "938/938 [==============================] - 49s 53ms/step - loss: 1.1466 - accuracy: 0.7283 - val_loss: 0.9725 - val_accuracy: 0.8322\n",
            "Epoch 10/10\n",
            "938/938 [==============================] - 49s 52ms/step - loss: 1.0536 - accuracy: 0.7443 - val_loss: 0.8802 - val_accuracy: 0.8392\n",
            "-------------------End time:  1709952413.8154652\n",
            "Training duration: 502.08 seconds\n",
            "---------------------------Adagrad-------------------------\n",
            "-------------------Start time:  1709952413.8976903\n",
            "Epoch 1/10\n",
            "938/938 [==============================] - 45s 47ms/step - loss: 1.5615 - accuracy: 0.5549 - val_loss: 0.7462 - val_accuracy: 0.8383\n",
            "Epoch 2/10\n",
            "938/938 [==============================] - 43s 45ms/step - loss: 0.7265 - accuracy: 0.7905 - val_loss: 0.4609 - val_accuracy: 0.8855\n",
            "Epoch 3/10\n",
            "938/938 [==============================] - 43s 45ms/step - loss: 0.5567 - accuracy: 0.8358 - val_loss: 0.3798 - val_accuracy: 0.9009\n",
            "Epoch 4/10\n",
            "938/938 [==============================] - 43s 46ms/step - loss: 0.4885 - accuracy: 0.8547 - val_loss: 0.3417 - val_accuracy: 0.9067\n",
            "Epoch 5/10\n",
            "938/938 [==============================] - 42s 45ms/step - loss: 0.4485 - accuracy: 0.8665 - val_loss: 0.3157 - val_accuracy: 0.9144\n",
            "Epoch 6/10\n",
            "938/938 [==============================] - 45s 48ms/step - loss: 0.4202 - accuracy: 0.8756 - val_loss: 0.2967 - val_accuracy: 0.9183\n",
            "Epoch 7/10\n",
            "938/938 [==============================] - 42s 45ms/step - loss: 0.3984 - accuracy: 0.8811 - val_loss: 0.2828 - val_accuracy: 0.9197\n",
            "Epoch 8/10\n",
            "938/938 [==============================] - 42s 44ms/step - loss: 0.3789 - accuracy: 0.8868 - val_loss: 0.2690 - val_accuracy: 0.9239\n",
            "Epoch 9/10\n",
            "938/938 [==============================] - 44s 46ms/step - loss: 0.3637 - accuracy: 0.8921 - val_loss: 0.2579 - val_accuracy: 0.9254\n",
            "Epoch 10/10\n",
            "938/938 [==============================] - 43s 45ms/step - loss: 0.3541 - accuracy: 0.8940 - val_loss: 0.2501 - val_accuracy: 0.9277\n",
            "-------------------End time:  1709952856.8436136\n",
            "Training duration: 442.95 seconds\n",
            "---------------------------Adam-------------------------\n",
            "-------------------Start time:  1709952856.925287\n",
            "Epoch 1/10\n",
            "938/938 [==============================] - 46s 49ms/step - loss: 0.2355 - accuracy: 0.9295 - val_loss: 0.0688 - val_accuracy: 0.9777\n",
            "Epoch 2/10\n",
            "938/938 [==============================] - 44s 47ms/step - loss: 0.0946 - accuracy: 0.9717 - val_loss: 0.0504 - val_accuracy: 0.9830\n",
            "Epoch 3/10\n",
            "938/938 [==============================] - 46s 49ms/step - loss: 0.0691 - accuracy: 0.9787 - val_loss: 0.0405 - val_accuracy: 0.9863\n",
            "Epoch 4/10\n",
            "938/938 [==============================] - 45s 48ms/step - loss: 0.0585 - accuracy: 0.9816 - val_loss: 0.0348 - val_accuracy: 0.9876\n",
            "Epoch 5/10\n",
            "938/938 [==============================] - 45s 48ms/step - loss: 0.0504 - accuracy: 0.9838 - val_loss: 0.0367 - val_accuracy: 0.9873\n",
            "Epoch 6/10\n",
            "938/938 [==============================] - 46s 49ms/step - loss: 0.0411 - accuracy: 0.9868 - val_loss: 0.0337 - val_accuracy: 0.9884\n",
            "Epoch 7/10\n",
            "938/938 [==============================] - 45s 48ms/step - loss: 0.0384 - accuracy: 0.9875 - val_loss: 0.0357 - val_accuracy: 0.9877\n",
            "Epoch 8/10\n",
            "938/938 [==============================] - 46s 49ms/step - loss: 0.0360 - accuracy: 0.9881 - val_loss: 0.0329 - val_accuracy: 0.9880\n",
            "Epoch 9/10\n",
            "938/938 [==============================] - 45s 48ms/step - loss: 0.0306 - accuracy: 0.9897 - val_loss: 0.0335 - val_accuracy: 0.9893\n",
            "Epoch 10/10\n",
            "938/938 [==============================] - 46s 49ms/step - loss: 0.0272 - accuracy: 0.9907 - val_loss: 0.0322 - val_accuracy: 0.9896\n",
            "-------------------End time:  1709953359.925521\n",
            "Training duration: 503.00 seconds\n",
            "---------------------------RMSprop-------------------------\n",
            "-------------------Start time:  1709953360.0161383\n",
            "Epoch 1/10\n",
            "938/938 [==============================] - 47s 49ms/step - loss: 0.2344 - accuracy: 0.9297 - val_loss: 0.0704 - val_accuracy: 0.9774\n",
            "Epoch 2/10\n",
            "938/938 [==============================] - 43s 46ms/step - loss: 0.0921 - accuracy: 0.9719 - val_loss: 0.0561 - val_accuracy: 0.9823\n",
            "Epoch 3/10\n",
            "938/938 [==============================] - 43s 46ms/step - loss: 0.0688 - accuracy: 0.9792 - val_loss: 0.0444 - val_accuracy: 0.9854\n",
            "Epoch 4/10\n",
            "938/938 [==============================] - 43s 46ms/step - loss: 0.0579 - accuracy: 0.9826 - val_loss: 0.0423 - val_accuracy: 0.9849\n",
            "Epoch 5/10\n",
            "938/938 [==============================] - 42s 45ms/step - loss: 0.0515 - accuracy: 0.9844 - val_loss: 0.0415 - val_accuracy: 0.9867\n",
            "Epoch 6/10\n",
            "938/938 [==============================] - 45s 48ms/step - loss: 0.0437 - accuracy: 0.9863 - val_loss: 0.0394 - val_accuracy: 0.9872\n",
            "Epoch 7/10\n",
            "938/938 [==============================] - 42s 45ms/step - loss: 0.0426 - accuracy: 0.9868 - val_loss: 0.0348 - val_accuracy: 0.9883\n",
            "Epoch 8/10\n",
            "938/938 [==============================] - 43s 45ms/step - loss: 0.0388 - accuracy: 0.9884 - val_loss: 0.0339 - val_accuracy: 0.9890\n",
            "Epoch 9/10\n",
            "938/938 [==============================] - 44s 47ms/step - loss: 0.0350 - accuracy: 0.9895 - val_loss: 0.0337 - val_accuracy: 0.9889\n",
            "Epoch 10/10\n",
            "938/938 [==============================] - 43s 46ms/step - loss: 0.0347 - accuracy: 0.9890 - val_loss: 0.0326 - val_accuracy: 0.9894\n",
            "-------------------End time:  1709953802.8345113\n",
            "Training duration: 442.82 seconds\n",
            "---------------------------SGD-------------------------\n",
            "-------------------Start time:  1709953802.9163496\n",
            "Epoch 1/10\n",
            "938/938 [==============================] - 40s 43ms/step - loss: 0.7991 - accuracy: 0.7605 - val_loss: 0.3011 - val_accuracy: 0.9146\n",
            "Epoch 2/10\n",
            "938/938 [==============================] - 41s 43ms/step - loss: 0.3755 - accuracy: 0.8875 - val_loss: 0.2256 - val_accuracy: 0.9343\n",
            "Epoch 3/10\n",
            "938/938 [==============================] - 41s 43ms/step - loss: 0.3074 - accuracy: 0.9070 - val_loss: 0.1883 - val_accuracy: 0.9458\n",
            "Epoch 4/10\n",
            "938/938 [==============================] - 40s 43ms/step - loss: 0.2707 - accuracy: 0.9195 - val_loss: 0.1637 - val_accuracy: 0.9530\n",
            "Epoch 5/10\n",
            "938/938 [==============================] - 40s 43ms/step - loss: 0.2426 - accuracy: 0.9280 - val_loss: 0.1486 - val_accuracy: 0.9558\n",
            "Epoch 6/10\n",
            "938/938 [==============================] - 40s 43ms/step - loss: 0.2231 - accuracy: 0.9332 - val_loss: 0.1338 - val_accuracy: 0.9606\n",
            "Epoch 7/10\n",
            "938/938 [==============================] - 40s 43ms/step - loss: 0.2078 - accuracy: 0.9371 - val_loss: 0.1262 - val_accuracy: 0.9611\n",
            "Epoch 8/10\n",
            "938/938 [==============================] - 39s 42ms/step - loss: 0.1983 - accuracy: 0.9410 - val_loss: 0.1179 - val_accuracy: 0.9642\n",
            "Epoch 9/10\n",
            "938/938 [==============================] - 40s 43ms/step - loss: 0.1870 - accuracy: 0.9435 - val_loss: 0.1107 - val_accuracy: 0.9668\n",
            "Epoch 10/10\n",
            "938/938 [==============================] - 40s 43ms/step - loss: 0.1767 - accuracy: 0.9466 - val_loss: 0.1079 - val_accuracy: 0.9666\n",
            "-------------------End time:  1709954245.6935117\n",
            "Training duration: 442.78 seconds\n",
            "---------------------------SGD Momentum-------------------------\n"
          ]
        },
        {
          "output_type": "error",
          "ename": "ValueError",
          "evalue": "Unknown optimizer: 'SGD Momentum'. Please ensure you are using a `keras.utils.custom_object_scope` and that this object is included in the scope. See https://www.tensorflow.org/guide/keras/save_and_serialize#registering_the_custom_object for details.",
          "traceback": [
            "\u001b[0;31m---------------------------------------------------------------------------\u001b[0m",
            "\u001b[0;31mValueError\u001b[0m                                Traceback (most recent call last)",
            "\u001b[0;32m<ipython-input-14-0a30fb8876c5>\u001b[0m in \u001b[0;36m<cell line: 6>\u001b[0;34m()\u001b[0m\n\u001b[1;32m     14\u001b[0m       \u001b[0moptimizer\u001b[0m \u001b[0;34m=\u001b[0m \u001b[0mi\u001b[0m  \u001b[0;31m# For other optimizers, use the string directly\u001b[0m\u001b[0;34m\u001b[0m\u001b[0;34m\u001b[0m\u001b[0m\n\u001b[1;32m     15\u001b[0m \u001b[0;34m\u001b[0m\u001b[0m\n\u001b[0;32m---> 16\u001b[0;31m   \u001b[0mmodel\u001b[0m \u001b[0;34m=\u001b[0m \u001b[0mbuild_model\u001b[0m\u001b[0;34m(\u001b[0m\u001b[0moptimizer\u001b[0m\u001b[0;34m)\u001b[0m\u001b[0;34m\u001b[0m\u001b[0;34m\u001b[0m\u001b[0m\n\u001b[0m\u001b[1;32m     17\u001b[0m \u001b[0;34m\u001b[0m\u001b[0m\n\u001b[1;32m     18\u001b[0m   \u001b[0mstart_time\u001b[0m \u001b[0;34m=\u001b[0m \u001b[0mtime\u001b[0m\u001b[0;34m.\u001b[0m\u001b[0mtime\u001b[0m\u001b[0;34m(\u001b[0m\u001b[0;34m)\u001b[0m  \u001b[0;31m# Record the start time\u001b[0m\u001b[0;34m\u001b[0m\u001b[0;34m\u001b[0m\u001b[0m\n",
            "\u001b[0;32m<ipython-input-13-1f76f83903d8>\u001b[0m in \u001b[0;36mbuild_model\u001b[0;34m(optimizer)\u001b[0m\n\u001b[1;32m     23\u001b[0m   \u001b[0mmodel\u001b[0m\u001b[0;34m.\u001b[0m\u001b[0madd\u001b[0m\u001b[0;34m(\u001b[0m\u001b[0mDense\u001b[0m\u001b[0;34m(\u001b[0m\u001b[0mnum_classes\u001b[0m\u001b[0;34m,\u001b[0m \u001b[0mactivation\u001b[0m\u001b[0;34m=\u001b[0m\u001b[0;34m'softmax'\u001b[0m\u001b[0;34m)\u001b[0m\u001b[0;34m)\u001b[0m\u001b[0;34m\u001b[0m\u001b[0;34m\u001b[0m\u001b[0m\n\u001b[1;32m     24\u001b[0m \u001b[0;34m\u001b[0m\u001b[0m\n\u001b[0;32m---> 25\u001b[0;31m   \u001b[0mmodel\u001b[0m\u001b[0;34m.\u001b[0m\u001b[0mcompile\u001b[0m\u001b[0;34m(\u001b[0m\u001b[0mloss\u001b[0m\u001b[0;34m=\u001b[0m\u001b[0mkeras\u001b[0m\u001b[0;34m.\u001b[0m\u001b[0mlosses\u001b[0m\u001b[0;34m.\u001b[0m\u001b[0mcategorical_crossentropy\u001b[0m\u001b[0;34m,\u001b[0m \u001b[0moptimizer\u001b[0m\u001b[0;34m=\u001b[0m \u001b[0moptimizer\u001b[0m\u001b[0;34m,\u001b[0m \u001b[0mmetrics\u001b[0m\u001b[0;34m=\u001b[0m\u001b[0;34m[\u001b[0m\u001b[0;34m'accuracy'\u001b[0m\u001b[0;34m]\u001b[0m\u001b[0;34m)\u001b[0m\u001b[0;34m\u001b[0m\u001b[0;34m\u001b[0m\u001b[0m\n\u001b[0m\u001b[1;32m     26\u001b[0m \u001b[0;34m\u001b[0m\u001b[0m\n\u001b[1;32m     27\u001b[0m   \u001b[0;32mreturn\u001b[0m \u001b[0mmodel\u001b[0m\u001b[0;34m\u001b[0m\u001b[0;34m\u001b[0m\u001b[0m\n",
            "\u001b[0;32m/usr/local/lib/python3.10/dist-packages/keras/src/utils/traceback_utils.py\u001b[0m in \u001b[0;36merror_handler\u001b[0;34m(*args, **kwargs)\u001b[0m\n\u001b[1;32m     68\u001b[0m             \u001b[0;31m# To get the full stack trace, call:\u001b[0m\u001b[0;34m\u001b[0m\u001b[0;34m\u001b[0m\u001b[0m\n\u001b[1;32m     69\u001b[0m             \u001b[0;31m# `tf.debugging.disable_traceback_filtering()`\u001b[0m\u001b[0;34m\u001b[0m\u001b[0;34m\u001b[0m\u001b[0m\n\u001b[0;32m---> 70\u001b[0;31m             \u001b[0;32mraise\u001b[0m \u001b[0me\u001b[0m\u001b[0;34m.\u001b[0m\u001b[0mwith_traceback\u001b[0m\u001b[0;34m(\u001b[0m\u001b[0mfiltered_tb\u001b[0m\u001b[0;34m)\u001b[0m \u001b[0;32mfrom\u001b[0m \u001b[0;32mNone\u001b[0m\u001b[0;34m\u001b[0m\u001b[0;34m\u001b[0m\u001b[0m\n\u001b[0m\u001b[1;32m     71\u001b[0m         \u001b[0;32mfinally\u001b[0m\u001b[0;34m:\u001b[0m\u001b[0;34m\u001b[0m\u001b[0;34m\u001b[0m\u001b[0m\n\u001b[1;32m     72\u001b[0m             \u001b[0;32mdel\u001b[0m \u001b[0mfiltered_tb\u001b[0m\u001b[0;34m\u001b[0m\u001b[0;34m\u001b[0m\u001b[0m\n",
            "\u001b[0;32m/usr/local/lib/python3.10/dist-packages/keras/src/saving/legacy/serialization.py\u001b[0m in \u001b[0;36mclass_and_config_for_serialized_keras_object\u001b[0;34m(config, module_objects, custom_objects, printable_module_name)\u001b[0m\n\u001b[1;32m    363\u001b[0m     )\n\u001b[1;32m    364\u001b[0m     \u001b[0;32mif\u001b[0m \u001b[0mcls\u001b[0m \u001b[0;32mis\u001b[0m \u001b[0;32mNone\u001b[0m\u001b[0;34m:\u001b[0m\u001b[0;34m\u001b[0m\u001b[0;34m\u001b[0m\u001b[0m\n\u001b[0;32m--> 365\u001b[0;31m         raise ValueError(\n\u001b[0m\u001b[1;32m    366\u001b[0m             \u001b[0;34mf\"Unknown {printable_module_name}: '{class_name}'. \"\u001b[0m\u001b[0;34m\u001b[0m\u001b[0;34m\u001b[0m\u001b[0m\n\u001b[1;32m    367\u001b[0m             \u001b[0;34m\"Please ensure you are using a `keras.utils.custom_object_scope` \"\u001b[0m\u001b[0;34m\u001b[0m\u001b[0;34m\u001b[0m\u001b[0m\n",
            "\u001b[0;31mValueError\u001b[0m: Unknown optimizer: 'SGD Momentum'. Please ensure you are using a `keras.utils.custom_object_scope` and that this object is included in the scope. See https://www.tensorflow.org/guide/keras/save_and_serialize#registering_the_custom_object for details."
          ]
        }
      ]
    },
    {
      "cell_type": "code",
      "source": [
        "# optimizers = ['Adadelta', 'Adagrad', 'Adam', 'RMSprop', 'SGD']\n",
        "optimizers = ['Adadelta', 'Adagrad', 'Adam', 'RMSprop', 'SGD', 'SGD Momentum']\n",
        "print(\"---------------------------{0}-------------------------\".format(\"SGD Momentum\"))\n",
        "# SGD with Momentum\n",
        "model = build_model('SGD')\n",
        "start_time = time.time()  # Record the start time\n",
        "print(\"-------------------Start time: \", start_time)\n",
        "\n",
        "hist = model.fit(x_train, y_train, batch_size=batch_size, epochs=epochs, verbose=1, validation_data=(x_test, y_test))\n",
        "end_time = time.time()  # Record the end time\n",
        "print(\"-------------------End time: \", end_time)\n",
        "duration = end_time - start_time\n",
        "print(\"Training duration: {:.2f} seconds\".format(duration))\n",
        "hists.append(hist)"
      ],
      "metadata": {
        "colab": {
          "base_uri": "https://localhost:8080/"
        },
        "id": "L6mSI93ZN8aO",
        "outputId": "0b1b24c7-c516-482a-dc5c-1e449a5153c1"
      },
      "execution_count": null,
      "outputs": [
        {
          "output_type": "stream",
          "name": "stdout",
          "text": [
            "---------------------------SGD Momentum-------------------------\n",
            "-------------------Start time:  1709954436.2539537\n",
            "Epoch 1/10\n",
            "938/938 [==============================] - 49s 52ms/step - loss: 0.8254 - accuracy: 0.7541 - val_loss: 0.3000 - val_accuracy: 0.9144\n",
            "Epoch 2/10\n",
            "938/938 [==============================] - 50s 54ms/step - loss: 0.3832 - accuracy: 0.8832 - val_loss: 0.2276 - val_accuracy: 0.9347\n",
            "Epoch 3/10\n",
            "938/938 [==============================] - 41s 44ms/step - loss: 0.3086 - accuracy: 0.9069 - val_loss: 0.1840 - val_accuracy: 0.9463\n",
            "Epoch 4/10\n",
            "938/938 [==============================] - 45s 48ms/step - loss: 0.2697 - accuracy: 0.9198 - val_loss: 0.1595 - val_accuracy: 0.9533\n",
            "Epoch 5/10\n",
            "938/938 [==============================] - 40s 43ms/step - loss: 0.2409 - accuracy: 0.9276 - val_loss: 0.1421 - val_accuracy: 0.9588\n",
            "Epoch 6/10\n",
            "938/938 [==============================] - 41s 44ms/step - loss: 0.2219 - accuracy: 0.9334 - val_loss: 0.1307 - val_accuracy: 0.9609\n",
            "Epoch 7/10\n",
            "938/938 [==============================] - 39s 42ms/step - loss: 0.2072 - accuracy: 0.9376 - val_loss: 0.1233 - val_accuracy: 0.9627\n",
            "Epoch 8/10\n",
            "938/938 [==============================] - 39s 42ms/step - loss: 0.1927 - accuracy: 0.9428 - val_loss: 0.1108 - val_accuracy: 0.9666\n",
            "Epoch 9/10\n",
            "938/938 [==============================] - 40s 43ms/step - loss: 0.1850 - accuracy: 0.9447 - val_loss: 0.1063 - val_accuracy: 0.9676\n",
            "Epoch 10/10\n",
            "938/938 [==============================] - 39s 42ms/step - loss: 0.1733 - accuracy: 0.9493 - val_loss: 0.1014 - val_accuracy: 0.9698\n",
            "-------------------End time:  1709954862.1385293\n",
            "Training duration: 425.88 seconds\n"
          ]
        }
      ]
    },
    {
      "cell_type": "code",
      "source": [
        "print(hists[0].history)"
      ],
      "metadata": {
        "colab": {
          "base_uri": "https://localhost:8080/"
        },
        "id": "7wqYPUanfyOs",
        "outputId": "c45df8e0-8970-4547-f77c-a08b0a6f70e6"
      },
      "execution_count": null,
      "outputs": [
        {
          "output_type": "stream",
          "name": "stdout",
          "text": [
            "{'loss': [2.2344789505004883, 2.098952054977417, 1.9491976499557495, 1.7902525663375854, 1.6278421878814697, 1.4757716655731201, 1.3386008739471436, 1.217502474784851, 1.1122583150863647, 1.0253850221633911], 'accuracy': [0.20755000412464142, 0.3857666552066803, 0.5163499712944031, 0.592033326625824, 0.6420333385467529, 0.6724166870117188, 0.6970999836921692, 0.7143166661262512, 0.7319499850273132, 0.7451000213623047], 'val_loss': [2.1461219787597656, 1.9867066144943237, 1.8134769201278687, 1.6348806619644165, 1.4614969491958618, 1.3012800216674805, 1.158607840538025, 1.0360639095306396, 0.9329088926315308, 0.8477174639701843], 'val_accuracy': [0.5128999948501587, 0.6607000231742859, 0.7303000092506409, 0.7653999924659729, 0.7889999747276306, 0.8080000281333923, 0.8188999891281128, 0.8292999863624573, 0.8375999927520752, 0.8431000113487244]}\n"
          ]
        }
      ]
    },
    {
      "cell_type": "code",
      "source": [
        "# # Create the data\n",
        "# optimizers = [\"SGD\", \"SGD mom\", \"RMSprop\", \"Adam\", \"Adagrad\", \"Adadelta\"]\n",
        "# losses = [0.6, 0.65, 0.7, 0.75, 0.8, 0.85, 0.9, 0.95, 1]\n",
        "\n",
        "# # Create the plot\n",
        "# plt.figure(figsize=(10, 6))\n",
        "\n",
        "# for hist in hists:\n",
        "#   plt.plot(hist.history[\"accuracy\"], marker='o', linestyle='-')\n",
        "\n",
        "\n",
        "\n",
        "\n",
        "# # Set the axis labels\n",
        "# plt.xlabel(\"Epoch\")\n",
        "# plt.ylabel(\"Accuracy\")\n",
        "\n",
        "# # Set the title of the plot\n",
        "# plt.title(\"Comparison of Optimizers\")\n",
        "\n",
        "# # Show the plot\n",
        "# plt.grid(True)\n",
        "# plt.show()"
      ],
      "metadata": {
        "id": "n8A_wIh5kkeV"
      },
      "execution_count": null,
      "outputs": []
    },
    {
      "cell_type": "code",
      "source": [
        "# summarize history for accuracy\n",
        "plt.figure(figsize=(15, 10))\n",
        "\n",
        "for hist in hists:\n",
        "  plt.plot(hist.history['accuracy'])\n",
        "\n",
        "plt.title('Model accuracy')\n",
        "plt.ylabel('Accuracy')\n",
        "plt.xlabel('Epoch')\n",
        "plt.legend(optimizers, loc='lower right')\n",
        "plt.show()"
      ],
      "metadata": {
        "colab": {
          "base_uri": "https://localhost:8080/",
          "height": 872
        },
        "id": "Ue9RYBG3k7EV",
        "outputId": "07408cdd-56c1-434d-84d9-f280bd3d24da"
      },
      "execution_count": null,
      "outputs": [
        {
          "output_type": "display_data",
          "data": {
            "text/plain": [
              "<Figure size 1500x1000 with 1 Axes>"
            ],
            "image/png": "[encoded data removed]"
          },
          "metadata": {}
        }
      ]
    },
    {
      "cell_type": "code",
      "source": [
        "len(hists)"
      ],
      "metadata": {
        "colab": {
          "base_uri": "https://localhost:8080/"
        },
        "id": "ipIpYMPSTCwy",
        "outputId": "e9d559a1-466b-4c48-abee-8bfcc59ea536"
      },
      "execution_count": null,
      "outputs": [
        {
          "output_type": "execute_result",
          "data": {
            "text/plain": [
              "6"
            ]
          },
          "metadata": {},
          "execution_count": 21
        }
      ]
    },
    {
      "cell_type": "code",
      "source": [
        "# optimizers = ['Adadelta', 'Adagrad', 'Adam', 'RMSprop', 'SGD']\n",
        "optimizers1 = ['Adam', 'RMSprop']\n",
        "\n",
        "hists1 = []\n",
        "\n",
        "for i in optimizers1:\n",
        "  print(\"---------------------------{0}-------------------------\".format(i))\n",
        "\n",
        "  optimizer = i  # For other optimizers, use the string directly\n",
        "\n",
        "  model = build_model(optimizer)\n",
        "\n",
        "  start_time = time.time()  # Record the start time\n",
        "  print(\"-------------------Start time: \", start_time)\n",
        "\n",
        "  hist = model.fit(x_train, y_train, batch_size=batch_size, epochs=epochs, verbose=1, validation_data=(x_test, y_test))\n",
        "\n",
        "  end_time = time.time()  # Record the end time\n",
        "  print(\"-------------------End time: \", end_time)\n",
        "  duration = end_time - start_time\n",
        "  print(\"Training duration: {:.2f} seconds\".format(duration))\n",
        "\n",
        "  hists1.append(hist)"
      ],
      "metadata": {
        "colab": {
          "base_uri": "https://localhost:8080/"
        },
        "id": "qSxeen0HSvjE",
        "outputId": "e790220c-06c7-4cdc-ed2b-d56fc29f027d"
      },
      "execution_count": null,
      "outputs": [
        {
          "output_type": "stream",
          "name": "stdout",
          "text": [
            "---------------------------Adam-------------------------\n",
            "-------------------Start time:  1709955836.3650637\n",
            "Epoch 1/10\n",
            "938/938 [==============================] - 50s 52ms/step - loss: 0.2293 - accuracy: 0.9308 - val_loss: 0.0693 - val_accuracy: 0.9793\n",
            "Epoch 2/10\n",
            "938/938 [==============================] - 49s 52ms/step - loss: 0.0911 - accuracy: 0.9722 - val_loss: 0.0493 - val_accuracy: 0.9838\n",
            "Epoch 3/10\n",
            "938/938 [==============================] - 46s 50ms/step - loss: 0.0707 - accuracy: 0.9783 - val_loss: 0.0420 - val_accuracy: 0.9859\n",
            "Epoch 4/10\n",
            "938/938 [==============================] - 46s 49ms/step - loss: 0.0571 - accuracy: 0.9816 - val_loss: 0.0349 - val_accuracy: 0.9884\n",
            "Epoch 5/10\n",
            "938/938 [==============================] - 47s 50ms/step - loss: 0.0488 - accuracy: 0.9845 - val_loss: 0.0350 - val_accuracy: 0.9883\n",
            "Epoch 6/10\n",
            "938/938 [==============================] - 46s 49ms/step - loss: 0.0425 - accuracy: 0.9864 - val_loss: 0.0365 - val_accuracy: 0.9878\n",
            "Epoch 7/10\n",
            "938/938 [==============================] - 47s 50ms/step - loss: 0.0354 - accuracy: 0.9884 - val_loss: 0.0352 - val_accuracy: 0.9881\n",
            "Epoch 8/10\n",
            "938/938 [==============================] - 46s 49ms/step - loss: 0.0323 - accuracy: 0.9893 - val_loss: 0.0332 - val_accuracy: 0.9893\n",
            "Epoch 9/10\n",
            "938/938 [==============================] - 45s 48ms/step - loss: 0.0282 - accuracy: 0.9907 - val_loss: 0.0330 - val_accuracy: 0.9896\n",
            "Epoch 10/10\n",
            "938/938 [==============================] - 46s 49ms/step - loss: 0.0266 - accuracy: 0.9911 - val_loss: 0.0316 - val_accuracy: 0.9895\n",
            "-------------------End time:  1709956304.5732222\n",
            "Training duration: 468.21 seconds\n",
            "---------------------------RMSprop-------------------------\n",
            "-------------------Start time:  1709956304.663886\n",
            "Epoch 1/10\n",
            "938/938 [==============================] - 45s 48ms/step - loss: 0.2439 - accuracy: 0.9272 - val_loss: 0.0762 - val_accuracy: 0.9761\n",
            "Epoch 2/10\n",
            "938/938 [==============================] - 44s 47ms/step - loss: 0.0940 - accuracy: 0.9711 - val_loss: 0.0520 - val_accuracy: 0.9822\n",
            "Epoch 3/10\n",
            "938/938 [==============================] - 44s 47ms/step - loss: 0.0724 - accuracy: 0.9781 - val_loss: 0.0478 - val_accuracy: 0.9841\n",
            "Epoch 4/10\n",
            "938/938 [==============================] - 45s 47ms/step - loss: 0.0626 - accuracy: 0.9807 - val_loss: 0.0426 - val_accuracy: 0.9862\n",
            "Epoch 5/10\n",
            "938/938 [==============================] - 44s 47ms/step - loss: 0.0549 - accuracy: 0.9836 - val_loss: 0.0360 - val_accuracy: 0.9870\n",
            "Epoch 6/10\n",
            "938/938 [==============================] - 44s 47ms/step - loss: 0.0518 - accuracy: 0.9844 - val_loss: 0.0395 - val_accuracy: 0.9870\n",
            "Epoch 7/10\n",
            "938/938 [==============================] - 44s 47ms/step - loss: 0.0467 - accuracy: 0.9862 - val_loss: 0.0379 - val_accuracy: 0.9874\n",
            "Epoch 8/10\n",
            "938/938 [==============================] - 44s 47ms/step - loss: 0.0437 - accuracy: 0.9865 - val_loss: 0.0399 - val_accuracy: 0.9865\n",
            "Epoch 9/10\n",
            "938/938 [==============================] - 44s 46ms/step - loss: 0.0403 - accuracy: 0.9875 - val_loss: 0.0392 - val_accuracy: 0.9872\n",
            "Epoch 10/10\n",
            "938/938 [==============================] - 44s 47ms/step - loss: 0.0385 - accuracy: 0.9880 - val_loss: 0.0357 - val_accuracy: 0.9897\n",
            "-------------------End time:  1709956747.6300054\n",
            "Training duration: 442.97 seconds\n"
          ]
        }
      ]
    },
    {
      "cell_type": "code",
      "source": [],
      "metadata": {
        "id": "yiqGhZhuTrGE"
      },
      "execution_count": null,
      "outputs": []
    }
  ]
}